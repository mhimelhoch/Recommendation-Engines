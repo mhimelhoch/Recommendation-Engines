{
 "cells": [
  {
   "cell_type": "code",
   "execution_count": 317,
   "metadata": {},
   "outputs": [],
   "source": [
    "import pandas as pd"
   ]
  },
  {
   "cell_type": "code",
   "execution_count": null,
   "metadata": {},
   "outputs": [],
   "source": []
  },
  {
   "cell_type": "code",
   "execution_count": 318,
   "metadata": {},
   "outputs": [],
   "source": [
    "import gzip\n",
    "path = '/Users/marcushimelhoch/Downloads/'\n",
    "\n",
    "def parse(path):\n",
    "  g = gzip.open(path, 'rb')\n",
    "  for l in g:\n",
    "    yield eval(l)\n",
    "\n",
    "def getDF(path):\n",
    "  i = 0\n",
    "  df = {}\n",
    "  for d in parse(path):\n",
    "    df[i] = d\n",
    "    i += 1\n",
    "  return pd.DataFrame.from_dict(df, orient='index')\n",
    "\n",
    "df = getDF('reviews_Grocery_and_Gourmet_Food_5.json.gz')"
   ]
  },
  {
   "cell_type": "code",
   "execution_count": 319,
   "metadata": {},
   "outputs": [
    {
     "data": {
      "text/html": [
       "<div>\n",
       "<style scoped>\n",
       "    .dataframe tbody tr th:only-of-type {\n",
       "        vertical-align: middle;\n",
       "    }\n",
       "\n",
       "    .dataframe tbody tr th {\n",
       "        vertical-align: top;\n",
       "    }\n",
       "\n",
       "    .dataframe thead th {\n",
       "        text-align: right;\n",
       "    }\n",
       "</style>\n",
       "<table border=\"1\" class=\"dataframe\">\n",
       "  <thead>\n",
       "    <tr style=\"text-align: right;\">\n",
       "      <th></th>\n",
       "      <th>reviewerID</th>\n",
       "      <th>asin</th>\n",
       "      <th>reviewerName</th>\n",
       "      <th>helpful</th>\n",
       "      <th>reviewText</th>\n",
       "      <th>overall</th>\n",
       "      <th>summary</th>\n",
       "      <th>unixReviewTime</th>\n",
       "      <th>reviewTime</th>\n",
       "    </tr>\n",
       "  </thead>\n",
       "  <tbody>\n",
       "    <tr>\n",
       "      <th>0</th>\n",
       "      <td>A1VEELTKS8NLZB</td>\n",
       "      <td>616719923X</td>\n",
       "      <td>Amazon Customer</td>\n",
       "      <td>[0, 0]</td>\n",
       "      <td>Just another flavor of Kit Kat but the taste i...</td>\n",
       "      <td>4.0</td>\n",
       "      <td>Good Taste</td>\n",
       "      <td>1370044800</td>\n",
       "      <td>06 1, 2013</td>\n",
       "    </tr>\n",
       "    <tr>\n",
       "      <th>1</th>\n",
       "      <td>A14R9XMZVJ6INB</td>\n",
       "      <td>616719923X</td>\n",
       "      <td>amf0001</td>\n",
       "      <td>[0, 1]</td>\n",
       "      <td>I bought this on impulse and it comes from Jap...</td>\n",
       "      <td>3.0</td>\n",
       "      <td>3.5 stars,  sadly not as wonderful as I had hoped</td>\n",
       "      <td>1400457600</td>\n",
       "      <td>05 19, 2014</td>\n",
       "    </tr>\n",
       "    <tr>\n",
       "      <th>2</th>\n",
       "      <td>A27IQHDZFQFNGG</td>\n",
       "      <td>616719923X</td>\n",
       "      <td>Caitlin</td>\n",
       "      <td>[3, 4]</td>\n",
       "      <td>Really good. Great gift for any fan of green t...</td>\n",
       "      <td>4.0</td>\n",
       "      <td>Yum!</td>\n",
       "      <td>1381190400</td>\n",
       "      <td>10 8, 2013</td>\n",
       "    </tr>\n",
       "    <tr>\n",
       "      <th>3</th>\n",
       "      <td>A31QY5TASILE89</td>\n",
       "      <td>616719923X</td>\n",
       "      <td>DebraDownSth</td>\n",
       "      <td>[0, 0]</td>\n",
       "      <td>I had never had it before, was curious to see ...</td>\n",
       "      <td>5.0</td>\n",
       "      <td>Unexpected flavor meld</td>\n",
       "      <td>1369008000</td>\n",
       "      <td>05 20, 2013</td>\n",
       "    </tr>\n",
       "    <tr>\n",
       "      <th>4</th>\n",
       "      <td>A2LWK003FFMCI5</td>\n",
       "      <td>616719923X</td>\n",
       "      <td>Diana X.</td>\n",
       "      <td>[1, 2]</td>\n",
       "      <td>I've been looking forward to trying these afte...</td>\n",
       "      <td>4.0</td>\n",
       "      <td>Not a very strong tea flavor, but still yummy ...</td>\n",
       "      <td>1369526400</td>\n",
       "      <td>05 26, 2013</td>\n",
       "    </tr>\n",
       "  </tbody>\n",
       "</table>\n",
       "</div>"
      ],
      "text/plain": [
       "       reviewerID        asin     reviewerName helpful  \\\n",
       "0  A1VEELTKS8NLZB  616719923X  Amazon Customer  [0, 0]   \n",
       "1  A14R9XMZVJ6INB  616719923X          amf0001  [0, 1]   \n",
       "2  A27IQHDZFQFNGG  616719923X          Caitlin  [3, 4]   \n",
       "3  A31QY5TASILE89  616719923X     DebraDownSth  [0, 0]   \n",
       "4  A2LWK003FFMCI5  616719923X         Diana X.  [1, 2]   \n",
       "\n",
       "                                          reviewText  overall  \\\n",
       "0  Just another flavor of Kit Kat but the taste i...      4.0   \n",
       "1  I bought this on impulse and it comes from Jap...      3.0   \n",
       "2  Really good. Great gift for any fan of green t...      4.0   \n",
       "3  I had never had it before, was curious to see ...      5.0   \n",
       "4  I've been looking forward to trying these afte...      4.0   \n",
       "\n",
       "                                             summary  unixReviewTime  \\\n",
       "0                                         Good Taste      1370044800   \n",
       "1  3.5 stars,  sadly not as wonderful as I had hoped      1400457600   \n",
       "2                                               Yum!      1381190400   \n",
       "3                             Unexpected flavor meld      1369008000   \n",
       "4  Not a very strong tea flavor, but still yummy ...      1369526400   \n",
       "\n",
       "    reviewTime  \n",
       "0   06 1, 2013  \n",
       "1  05 19, 2014  \n",
       "2   10 8, 2013  \n",
       "3  05 20, 2013  \n",
       "4  05 26, 2013  "
      ]
     },
     "execution_count": 319,
     "metadata": {},
     "output_type": "execute_result"
    }
   ],
   "source": [
    "df.head()"
   ]
  },
  {
   "cell_type": "code",
   "execution_count": 320,
   "metadata": {},
   "outputs": [],
   "source": [
    "df= df.drop(columns = [ 'reviewerName','helpful', 'unixReviewTime', 'reviewTime'])"
   ]
  },
  {
   "cell_type": "code",
   "execution_count": null,
   "metadata": {},
   "outputs": [],
   "source": [
    "\n"
   ]
  },
  {
   "cell_type": "code",
   "execution_count": 370,
   "metadata": {
    "scrolled": true
   },
   "outputs": [],
   "source": [
    "df = df.drop(columns = ['reviewText','summary'])"
   ]
  },
  {
   "cell_type": "code",
   "execution_count": 371,
   "metadata": {},
   "outputs": [
    {
     "data": {
      "text/html": [
       "<div>\n",
       "<style scoped>\n",
       "    .dataframe tbody tr th:only-of-type {\n",
       "        vertical-align: middle;\n",
       "    }\n",
       "\n",
       "    .dataframe tbody tr th {\n",
       "        vertical-align: top;\n",
       "    }\n",
       "\n",
       "    .dataframe thead th {\n",
       "        text-align: right;\n",
       "    }\n",
       "</style>\n",
       "<table border=\"1\" class=\"dataframe\">\n",
       "  <thead>\n",
       "    <tr style=\"text-align: right;\">\n",
       "      <th></th>\n",
       "      <th>reviewerID</th>\n",
       "      <th>asin</th>\n",
       "      <th>overall</th>\n",
       "    </tr>\n",
       "  </thead>\n",
       "  <tbody>\n",
       "    <tr>\n",
       "      <th>0</th>\n",
       "      <td>A1VEELTKS8NLZB</td>\n",
       "      <td>616719923X</td>\n",
       "      <td>4.0</td>\n",
       "    </tr>\n",
       "    <tr>\n",
       "      <th>1</th>\n",
       "      <td>A14R9XMZVJ6INB</td>\n",
       "      <td>616719923X</td>\n",
       "      <td>3.0</td>\n",
       "    </tr>\n",
       "    <tr>\n",
       "      <th>2</th>\n",
       "      <td>A27IQHDZFQFNGG</td>\n",
       "      <td>616719923X</td>\n",
       "      <td>4.0</td>\n",
       "    </tr>\n",
       "    <tr>\n",
       "      <th>3</th>\n",
       "      <td>A31QY5TASILE89</td>\n",
       "      <td>616719923X</td>\n",
       "      <td>5.0</td>\n",
       "    </tr>\n",
       "    <tr>\n",
       "      <th>4</th>\n",
       "      <td>A2LWK003FFMCI5</td>\n",
       "      <td>616719923X</td>\n",
       "      <td>4.0</td>\n",
       "    </tr>\n",
       "  </tbody>\n",
       "</table>\n",
       "</div>"
      ],
      "text/plain": [
       "       reviewerID        asin  overall\n",
       "0  A1VEELTKS8NLZB  616719923X      4.0\n",
       "1  A14R9XMZVJ6INB  616719923X      3.0\n",
       "2  A27IQHDZFQFNGG  616719923X      4.0\n",
       "3  A31QY5TASILE89  616719923X      5.0\n",
       "4  A2LWK003FFMCI5  616719923X      4.0"
      ]
     },
     "execution_count": 371,
     "metadata": {},
     "output_type": "execute_result"
    }
   ],
   "source": [
    "df.head()"
   ]
  },
  {
   "cell_type": "code",
   "execution_count": 373,
   "metadata": {},
   "outputs": [],
   "source": [
    "n_users = df.reviewerID.unique().shape[0]"
   ]
  },
  {
   "cell_type": "code",
   "execution_count": 377,
   "metadata": {},
   "outputs": [],
   "source": [
    "import numpy as np"
   ]
  },
  {
   "cell_type": "code",
   "execution_count": 374,
   "metadata": {},
   "outputs": [],
   "source": [
    "n_items = df.asin.unique().shape[0]"
   ]
  },
  {
   "cell_type": "code",
   "execution_count": 380,
   "metadata": {},
   "outputs": [
    {
     "data": {
      "text/plain": [
       "8713"
      ]
     },
     "execution_count": 380,
     "metadata": {},
     "output_type": "execute_result"
    }
   ],
   "source": [
    "n_items"
   ]
  },
  {
   "cell_type": "code",
   "execution_count": 381,
   "metadata": {},
   "outputs": [],
   "source": [
    "data_matrix = np.zeros((n_users, n_items))"
   ]
  },
  {
   "cell_type": "code",
   "execution_count": 385,
   "metadata": {},
   "outputs": [
    {
     "data": {
      "text/plain": [
       "<bound method DataFrame.itertuples of             reviewerID        asin  overall\n",
       "0       A1VEELTKS8NLZB  616719923X      4.0\n",
       "1       A14R9XMZVJ6INB  616719923X      3.0\n",
       "2       A27IQHDZFQFNGG  616719923X      4.0\n",
       "3       A31QY5TASILE89  616719923X      5.0\n",
       "4       A2LWK003FFMCI5  616719923X      4.0\n",
       "...                ...         ...      ...\n",
       "151249  A2L6QS8SVHT9RG  B00KCJRVO2      4.0\n",
       "151250   AFJFXN42RZ3G2  B00KCJRVO2      4.0\n",
       "151251   ASEBX8TBYWQWA  B00KCJRVO2      5.0\n",
       "151252   ANKQGTXHREOI5  B00KCJRVO2      4.0\n",
       "151253  A2CF66KIQ3RKX3  B00KCJRVO2      4.0\n",
       "\n",
       "[151254 rows x 3 columns]>"
      ]
     },
     "execution_count": 385,
     "metadata": {},
     "output_type": "execute_result"
    }
   ],
   "source": [
    "df.itertuples"
   ]
  },
  {
   "cell_type": "code",
   "execution_count": null,
   "metadata": {},
   "outputs": [],
   "source": []
  },
  {
   "cell_type": "markdown",
   "metadata": {},
   "source": [
    "# Popularity & CF model using Turicreate"
   ]
  },
  {
   "cell_type": "code",
   "execution_count": 386,
   "metadata": {},
   "outputs": [],
   "source": [
    "import turicreate\n",
    "tu_data = turicreate.SFrame(df)"
   ]
  },
  {
   "cell_type": "code",
   "execution_count": 387,
   "metadata": {},
   "outputs": [
    {
     "data": {
      "text/html": [
       "<pre>Preparing data set.</pre>"
      ],
      "text/plain": [
       "Preparing data set."
      ]
     },
     "metadata": {},
     "output_type": "display_data"
    },
    {
     "data": {
      "text/html": [
       "<pre>    Data has 151254 observations with 14681 users and 8713 items.</pre>"
      ],
      "text/plain": [
       "    Data has 151254 observations with 14681 users and 8713 items."
      ]
     },
     "metadata": {},
     "output_type": "display_data"
    },
    {
     "data": {
      "text/html": [
       "<pre>    Data prepared in: 0.384025s</pre>"
      ],
      "text/plain": [
       "    Data prepared in: 0.384025s"
      ]
     },
     "metadata": {},
     "output_type": "display_data"
    },
    {
     "data": {
      "text/html": [
       "<pre>151254 observations to process; with 8713 unique items.</pre>"
      ],
      "text/plain": [
       "151254 observations to process; with 8713 unique items."
      ]
     },
     "metadata": {},
     "output_type": "display_data"
    }
   ],
   "source": [
    "popularity_model = turicreate.popularity_recommender.create(tu_data, user_id = 'reviewerID', item_id = 'asin', target = 'overall')"
   ]
  },
  {
   "cell_type": "code",
   "execution_count": 388,
   "metadata": {},
   "outputs": [
    {
     "name": "stdout",
     "output_type": "stream",
     "text": [
      "+------------+------------+-------+------+\n",
      "| reviewerID |    asin    | score | rank |\n",
      "+------------+------------+-------+------+\n",
      "|     1      | B0000CNU15 |  5.0  |  1   |\n",
      "|     1      | B0000CFLIL |  5.0  |  2   |\n",
      "|     1      | B0000CFLCT |  5.0  |  3   |\n",
      "|     1      | B0000CDBQN |  5.0  |  4   |\n",
      "|     1      | B00005C2M2 |  5.0  |  5   |\n",
      "|     2      | B0000CNU15 |  5.0  |  1   |\n",
      "|     2      | B0000CFLIL |  5.0  |  2   |\n",
      "|     2      | B0000CFLCT |  5.0  |  3   |\n",
      "|     2      | B0000CDBQN |  5.0  |  4   |\n",
      "|     2      | B00005C2M2 |  5.0  |  5   |\n",
      "|     3      | B0000CNU15 |  5.0  |  1   |\n",
      "|     3      | B0000CFLIL |  5.0  |  2   |\n",
      "|     3      | B0000CFLCT |  5.0  |  3   |\n",
      "|     3      | B0000CDBQN |  5.0  |  4   |\n",
      "|     3      | B00005C2M2 |  5.0  |  5   |\n",
      "|     4      | B0000CNU15 |  5.0  |  1   |\n",
      "|     4      | B0000CFLIL |  5.0  |  2   |\n",
      "|     4      | B0000CFLCT |  5.0  |  3   |\n",
      "|     4      | B0000CDBQN |  5.0  |  4   |\n",
      "|     4      | B00005C2M2 |  5.0  |  5   |\n",
      "|     5      | B0000CNU15 |  5.0  |  1   |\n",
      "|     5      | B0000CFLIL |  5.0  |  2   |\n",
      "|     5      | B0000CFLCT |  5.0  |  3   |\n",
      "|     5      | B0000CDBQN |  5.0  |  4   |\n",
      "|     5      | B00005C2M2 |  5.0  |  5   |\n",
      "+------------+------------+-------+------+\n",
      "[25 rows x 4 columns]\n",
      "\n"
     ]
    }
   ],
   "source": [
    "popularity_recomm = popularity_model.recommend(users = [1,2,3,4,5], k = 5)\n",
    "popularity_recomm.print_rows(num_rows = 25)"
   ]
  },
  {
   "cell_type": "code",
   "execution_count": 390,
   "metadata": {},
   "outputs": [
    {
     "data": {
      "text/html": [
       "<pre>Preparing data set.</pre>"
      ],
      "text/plain": [
       "Preparing data set."
      ]
     },
     "metadata": {},
     "output_type": "display_data"
    },
    {
     "data": {
      "text/html": [
       "<pre>    Data has 151254 observations with 14681 users and 8713 items.</pre>"
      ],
      "text/plain": [
       "    Data has 151254 observations with 14681 users and 8713 items."
      ]
     },
     "metadata": {},
     "output_type": "display_data"
    },
    {
     "data": {
      "text/html": [
       "<pre>    Data prepared in: 0.328294s</pre>"
      ],
      "text/plain": [
       "    Data prepared in: 0.328294s"
      ]
     },
     "metadata": {},
     "output_type": "display_data"
    },
    {
     "data": {
      "text/html": [
       "<pre>Training model from provided data.</pre>"
      ],
      "text/plain": [
       "Training model from provided data."
      ]
     },
     "metadata": {},
     "output_type": "display_data"
    },
    {
     "data": {
      "text/html": [
       "<pre>Gathering per-item and per-user statistics.</pre>"
      ],
      "text/plain": [
       "Gathering per-item and per-user statistics."
      ]
     },
     "metadata": {},
     "output_type": "display_data"
    },
    {
     "data": {
      "text/html": [
       "<pre>+--------------------------------+------------+</pre>"
      ],
      "text/plain": [
       "+--------------------------------+------------+"
      ]
     },
     "metadata": {},
     "output_type": "display_data"
    },
    {
     "data": {
      "text/html": [
       "<pre>| Elapsed Time (Item Statistics) | % Complete |</pre>"
      ],
      "text/plain": [
       "| Elapsed Time (Item Statistics) | % Complete |"
      ]
     },
     "metadata": {},
     "output_type": "display_data"
    },
    {
     "data": {
      "text/html": [
       "<pre>+--------------------------------+------------+</pre>"
      ],
      "text/plain": [
       "+--------------------------------+------------+"
      ]
     },
     "metadata": {},
     "output_type": "display_data"
    },
    {
     "data": {
      "text/html": [
       "<pre>| 6.067ms                        | 6.75       |</pre>"
      ],
      "text/plain": [
       "| 6.067ms                        | 6.75       |"
      ]
     },
     "metadata": {},
     "output_type": "display_data"
    },
    {
     "data": {
      "text/html": [
       "<pre>| 18.757ms                       | 100        |</pre>"
      ],
      "text/plain": [
       "| 18.757ms                       | 100        |"
      ]
     },
     "metadata": {},
     "output_type": "display_data"
    },
    {
     "data": {
      "text/html": [
       "<pre>+--------------------------------+------------+</pre>"
      ],
      "text/plain": [
       "+--------------------------------+------------+"
      ]
     },
     "metadata": {},
     "output_type": "display_data"
    },
    {
     "data": {
      "text/html": [
       "<pre>Setting up lookup tables.</pre>"
      ],
      "text/plain": [
       "Setting up lookup tables."
      ]
     },
     "metadata": {},
     "output_type": "display_data"
    },
    {
     "data": {
      "text/html": [
       "<pre>Processing data in one pass using dense lookup tables.</pre>"
      ],
      "text/plain": [
       "Processing data in one pass using dense lookup tables."
      ]
     },
     "metadata": {},
     "output_type": "display_data"
    },
    {
     "data": {
      "text/html": [
       "<pre>+-------------------------------------+------------------+-----------------+</pre>"
      ],
      "text/plain": [
       "+-------------------------------------+------------------+-----------------+"
      ]
     },
     "metadata": {},
     "output_type": "display_data"
    },
    {
     "data": {
      "text/html": [
       "<pre>| Elapsed Time (Constructing Lookups) | Total % Complete | Items Processed |</pre>"
      ],
      "text/plain": [
       "| Elapsed Time (Constructing Lookups) | Total % Complete | Items Processed |"
      ]
     },
     "metadata": {},
     "output_type": "display_data"
    },
    {
     "data": {
      "text/html": [
       "<pre>+-------------------------------------+------------------+-----------------+</pre>"
      ],
      "text/plain": [
       "+-------------------------------------+------------------+-----------------+"
      ]
     },
     "metadata": {},
     "output_type": "display_data"
    },
    {
     "data": {
      "text/html": [
       "<pre>| 458.946ms                           | 0.25             | 25              |</pre>"
      ],
      "text/plain": [
       "| 458.946ms                           | 0.25             | 25              |"
      ]
     },
     "metadata": {},
     "output_type": "display_data"
    },
    {
     "data": {
      "text/html": [
       "<pre>| 1.13s                               | 100              | 8713            |</pre>"
      ],
      "text/plain": [
       "| 1.13s                               | 100              | 8713            |"
      ]
     },
     "metadata": {},
     "output_type": "display_data"
    },
    {
     "data": {
      "text/html": [
       "<pre>+-------------------------------------+------------------+-----------------+</pre>"
      ],
      "text/plain": [
       "+-------------------------------------+------------------+-----------------+"
      ]
     },
     "metadata": {},
     "output_type": "display_data"
    },
    {
     "data": {
      "text/html": [
       "<pre>Finalizing lookup tables.</pre>"
      ],
      "text/plain": [
       "Finalizing lookup tables."
      ]
     },
     "metadata": {},
     "output_type": "display_data"
    },
    {
     "data": {
      "text/html": [
       "<pre>Generating candidate set for working with new users.</pre>"
      ],
      "text/plain": [
       "Generating candidate set for working with new users."
      ]
     },
     "metadata": {},
     "output_type": "display_data"
    },
    {
     "data": {
      "text/html": [
       "<pre>Finished training in 2.19751s</pre>"
      ],
      "text/plain": [
       "Finished training in 2.19751s"
      ]
     },
     "metadata": {},
     "output_type": "display_data"
    }
   ],
   "source": [
    "item_sim_model = turicreate.item_similarity_recommender.create(tu_data, user_id = 'reviewerID', item_id = 'asin', target = 'overall', similarity_type = 'cosine')"
   ]
  },
  {
   "cell_type": "code",
   "execution_count": 391,
   "metadata": {},
   "outputs": [
    {
     "name": "stdout",
     "output_type": "stream",
     "text": [
      "+------------+------------+---------------------+------+\n",
      "| reviewerID |    asin    |        score        | rank |\n",
      "+------------+------------+---------------------+------+\n",
      "|     1      | B002IEVJRY | 0.12219961762428283 |  1   |\n",
      "|     1      | B00934WBRO | 0.11122578859329224 |  2   |\n",
      "|     1      | B006MONQMC |  0.1016530978679657 |  3   |\n",
      "|     1      | B0041NYV8E | 0.10069480538368225 |  4   |\n",
      "|     1      | B005HG9ERW | 0.09588055968284608 |  5   |\n",
      "|     2      | B002IEVJRY | 0.12219961762428283 |  1   |\n",
      "|     2      | B00934WBRO | 0.11122578859329224 |  2   |\n",
      "|     2      | B006MONQMC |  0.1016530978679657 |  3   |\n",
      "|     2      | B0041NYV8E | 0.10069480538368225 |  4   |\n",
      "|     2      | B005HG9ERW | 0.09588055968284608 |  5   |\n",
      "|     3      | B002IEVJRY | 0.12219961762428283 |  1   |\n",
      "|     3      | B00934WBRO | 0.11122578859329224 |  2   |\n",
      "|     3      | B006MONQMC |  0.1016530978679657 |  3   |\n",
      "|     3      | B0041NYV8E | 0.10069480538368225 |  4   |\n",
      "|     3      | B005HG9ERW | 0.09588055968284608 |  5   |\n",
      "|     4      | B002IEVJRY | 0.12219961762428283 |  1   |\n",
      "|     4      | B00934WBRO | 0.11122578859329224 |  2   |\n",
      "|     4      | B006MONQMC |  0.1016530978679657 |  3   |\n",
      "|     4      | B0041NYV8E | 0.10069480538368225 |  4   |\n",
      "|     4      | B005HG9ERW | 0.09588055968284608 |  5   |\n",
      "|     5      | B002IEVJRY | 0.12219961762428283 |  1   |\n",
      "|     5      | B00934WBRO | 0.11122578859329224 |  2   |\n",
      "|     5      | B006MONQMC |  0.1016530978679657 |  3   |\n",
      "|     5      | B0041NYV8E | 0.10069480538368225 |  4   |\n",
      "|     5      | B005HG9ERW | 0.09588055968284608 |  5   |\n",
      "+------------+------------+---------------------+------+\n",
      "[25 rows x 4 columns]\n",
      "\n"
     ]
    }
   ],
   "source": [
    "item_sim_recomm = item_sim_model.recommend(users = [1,2,3,4,5], k = 5)\n",
    "item_sim_recomm.print_rows(num_rows = 25)"
   ]
  },
  {
   "cell_type": "code",
   "execution_count": 392,
   "metadata": {},
   "outputs": [
    {
     "data": {
      "text/html": [
       "<div>\n",
       "<style scoped>\n",
       "    .dataframe tbody tr th:only-of-type {\n",
       "        vertical-align: middle;\n",
       "    }\n",
       "\n",
       "    .dataframe tbody tr th {\n",
       "        vertical-align: top;\n",
       "    }\n",
       "\n",
       "    .dataframe thead th {\n",
       "        text-align: right;\n",
       "    }\n",
       "</style>\n",
       "<table border=\"1\" class=\"dataframe\">\n",
       "  <thead>\n",
       "    <tr style=\"text-align: right;\">\n",
       "      <th></th>\n",
       "      <th>reviewerID</th>\n",
       "      <th>asin</th>\n",
       "      <th>overall</th>\n",
       "    </tr>\n",
       "  </thead>\n",
       "  <tbody>\n",
       "    <tr>\n",
       "      <th>0</th>\n",
       "      <td>A1VEELTKS8NLZB</td>\n",
       "      <td>616719923X</td>\n",
       "      <td>4.0</td>\n",
       "    </tr>\n",
       "    <tr>\n",
       "      <th>1</th>\n",
       "      <td>A14R9XMZVJ6INB</td>\n",
       "      <td>616719923X</td>\n",
       "      <td>3.0</td>\n",
       "    </tr>\n",
       "    <tr>\n",
       "      <th>2</th>\n",
       "      <td>A27IQHDZFQFNGG</td>\n",
       "      <td>616719923X</td>\n",
       "      <td>4.0</td>\n",
       "    </tr>\n",
       "    <tr>\n",
       "      <th>3</th>\n",
       "      <td>A31QY5TASILE89</td>\n",
       "      <td>616719923X</td>\n",
       "      <td>5.0</td>\n",
       "    </tr>\n",
       "    <tr>\n",
       "      <th>4</th>\n",
       "      <td>A2LWK003FFMCI5</td>\n",
       "      <td>616719923X</td>\n",
       "      <td>4.0</td>\n",
       "    </tr>\n",
       "  </tbody>\n",
       "</table>\n",
       "</div>"
      ],
      "text/plain": [
       "       reviewerID        asin  overall\n",
       "0  A1VEELTKS8NLZB  616719923X      4.0\n",
       "1  A14R9XMZVJ6INB  616719923X      3.0\n",
       "2  A27IQHDZFQFNGG  616719923X      4.0\n",
       "3  A31QY5TASILE89  616719923X      5.0\n",
       "4  A2LWK003FFMCI5  616719923X      4.0"
      ]
     },
     "execution_count": 392,
     "metadata": {},
     "output_type": "execute_result"
    }
   ],
   "source": [
    "df.head()"
   ]
  },
  {
   "cell_type": "code",
   "execution_count": null,
   "metadata": {},
   "outputs": [],
   "source": []
  },
  {
   "cell_type": "code",
   "execution_count": null,
   "metadata": {},
   "outputs": [],
   "source": []
  },
  {
   "cell_type": "code",
   "execution_count": null,
   "metadata": {},
   "outputs": [],
   "source": []
  },
  {
   "cell_type": "markdown",
   "metadata": {},
   "source": [
    "# Matrix Factorization & Predicting User Ratings that are currently NaN"
   ]
  },
  {
   "cell_type": "code",
   "execution_count": 327,
   "metadata": {},
   "outputs": [],
   "source": [
    "rating = pd.pivot_table(df, values = 'overall', index = ['reviewerID'], columns = ['asin'])"
   ]
  },
  {
   "cell_type": "code",
   "execution_count": 328,
   "metadata": {},
   "outputs": [],
   "source": [
    "rating.sort_index(axis = 1, inplace = True)"
   ]
  },
  {
   "cell_type": "code",
   "execution_count": 393,
   "metadata": {},
   "outputs": [
    {
     "data": {
      "text/html": [
       "<div>\n",
       "<style scoped>\n",
       "    .dataframe tbody tr th:only-of-type {\n",
       "        vertical-align: middle;\n",
       "    }\n",
       "\n",
       "    .dataframe tbody tr th {\n",
       "        vertical-align: top;\n",
       "    }\n",
       "\n",
       "    .dataframe thead th {\n",
       "        text-align: right;\n",
       "    }\n",
       "</style>\n",
       "<table border=\"1\" class=\"dataframe\">\n",
       "  <thead>\n",
       "    <tr style=\"text-align: right;\">\n",
       "      <th>asin</th>\n",
       "      <th>616719923X</th>\n",
       "      <th>9742356831</th>\n",
       "      <th>B00004S1C5</th>\n",
       "      <th>B0000531B7</th>\n",
       "      <th>B00005344V</th>\n",
       "      <th>B0000537AF</th>\n",
       "      <th>B00005C2M2</th>\n",
       "      <th>B00006IUTN</th>\n",
       "      <th>B0000CCZYY</th>\n",
       "      <th>B0000CD06J</th>\n",
       "      <th>...</th>\n",
       "      <th>B00IVT3LLW</th>\n",
       "      <th>B00IWBMCMS</th>\n",
       "      <th>B00J9IUCHA</th>\n",
       "      <th>B00JAXNMRG</th>\n",
       "      <th>B00JEL3N1E</th>\n",
       "      <th>B00JGPG60I</th>\n",
       "      <th>B00JL6LTMW</th>\n",
       "      <th>B00K00H9I6</th>\n",
       "      <th>B00KC0LGI8</th>\n",
       "      <th>B00KCJRVO2</th>\n",
       "    </tr>\n",
       "    <tr>\n",
       "      <th>reviewerID</th>\n",
       "      <th></th>\n",
       "      <th></th>\n",
       "      <th></th>\n",
       "      <th></th>\n",
       "      <th></th>\n",
       "      <th></th>\n",
       "      <th></th>\n",
       "      <th></th>\n",
       "      <th></th>\n",
       "      <th></th>\n",
       "      <th></th>\n",
       "      <th></th>\n",
       "      <th></th>\n",
       "      <th></th>\n",
       "      <th></th>\n",
       "      <th></th>\n",
       "      <th></th>\n",
       "      <th></th>\n",
       "      <th></th>\n",
       "      <th></th>\n",
       "      <th></th>\n",
       "    </tr>\n",
       "  </thead>\n",
       "  <tbody>\n",
       "    <tr>\n",
       "      <th>A00177463W0XWB16A9O05</th>\n",
       "      <td>NaN</td>\n",
       "      <td>NaN</td>\n",
       "      <td>NaN</td>\n",
       "      <td>NaN</td>\n",
       "      <td>NaN</td>\n",
       "      <td>NaN</td>\n",
       "      <td>NaN</td>\n",
       "      <td>NaN</td>\n",
       "      <td>NaN</td>\n",
       "      <td>NaN</td>\n",
       "      <td>...</td>\n",
       "      <td>NaN</td>\n",
       "      <td>NaN</td>\n",
       "      <td>NaN</td>\n",
       "      <td>NaN</td>\n",
       "      <td>NaN</td>\n",
       "      <td>NaN</td>\n",
       "      <td>NaN</td>\n",
       "      <td>NaN</td>\n",
       "      <td>NaN</td>\n",
       "      <td>NaN</td>\n",
       "    </tr>\n",
       "    <tr>\n",
       "      <th>A022899328A0QROR32DCT</th>\n",
       "      <td>NaN</td>\n",
       "      <td>NaN</td>\n",
       "      <td>NaN</td>\n",
       "      <td>NaN</td>\n",
       "      <td>NaN</td>\n",
       "      <td>NaN</td>\n",
       "      <td>NaN</td>\n",
       "      <td>NaN</td>\n",
       "      <td>NaN</td>\n",
       "      <td>NaN</td>\n",
       "      <td>...</td>\n",
       "      <td>NaN</td>\n",
       "      <td>NaN</td>\n",
       "      <td>NaN</td>\n",
       "      <td>NaN</td>\n",
       "      <td>NaN</td>\n",
       "      <td>NaN</td>\n",
       "      <td>NaN</td>\n",
       "      <td>NaN</td>\n",
       "      <td>NaN</td>\n",
       "      <td>NaN</td>\n",
       "    </tr>\n",
       "    <tr>\n",
       "      <th>A04309042SDSL8YX2HRR7</th>\n",
       "      <td>NaN</td>\n",
       "      <td>NaN</td>\n",
       "      <td>NaN</td>\n",
       "      <td>NaN</td>\n",
       "      <td>NaN</td>\n",
       "      <td>NaN</td>\n",
       "      <td>NaN</td>\n",
       "      <td>NaN</td>\n",
       "      <td>NaN</td>\n",
       "      <td>NaN</td>\n",
       "      <td>...</td>\n",
       "      <td>NaN</td>\n",
       "      <td>NaN</td>\n",
       "      <td>NaN</td>\n",
       "      <td>NaN</td>\n",
       "      <td>NaN</td>\n",
       "      <td>NaN</td>\n",
       "      <td>NaN</td>\n",
       "      <td>NaN</td>\n",
       "      <td>NaN</td>\n",
       "      <td>NaN</td>\n",
       "    </tr>\n",
       "    <tr>\n",
       "      <th>A068255029AHTHDXZURNU</th>\n",
       "      <td>NaN</td>\n",
       "      <td>NaN</td>\n",
       "      <td>NaN</td>\n",
       "      <td>NaN</td>\n",
       "      <td>NaN</td>\n",
       "      <td>NaN</td>\n",
       "      <td>NaN</td>\n",
       "      <td>NaN</td>\n",
       "      <td>NaN</td>\n",
       "      <td>NaN</td>\n",
       "      <td>...</td>\n",
       "      <td>NaN</td>\n",
       "      <td>NaN</td>\n",
       "      <td>NaN</td>\n",
       "      <td>NaN</td>\n",
       "      <td>NaN</td>\n",
       "      <td>NaN</td>\n",
       "      <td>NaN</td>\n",
       "      <td>NaN</td>\n",
       "      <td>NaN</td>\n",
       "      <td>NaN</td>\n",
       "    </tr>\n",
       "    <tr>\n",
       "      <th>A06944662TFWOKKV4GJKX</th>\n",
       "      <td>NaN</td>\n",
       "      <td>NaN</td>\n",
       "      <td>NaN</td>\n",
       "      <td>NaN</td>\n",
       "      <td>NaN</td>\n",
       "      <td>NaN</td>\n",
       "      <td>NaN</td>\n",
       "      <td>NaN</td>\n",
       "      <td>NaN</td>\n",
       "      <td>NaN</td>\n",
       "      <td>...</td>\n",
       "      <td>NaN</td>\n",
       "      <td>NaN</td>\n",
       "      <td>NaN</td>\n",
       "      <td>NaN</td>\n",
       "      <td>NaN</td>\n",
       "      <td>NaN</td>\n",
       "      <td>NaN</td>\n",
       "      <td>NaN</td>\n",
       "      <td>NaN</td>\n",
       "      <td>NaN</td>\n",
       "    </tr>\n",
       "  </tbody>\n",
       "</table>\n",
       "<p>5 rows × 8713 columns</p>\n",
       "</div>"
      ],
      "text/plain": [
       "asin                   616719923X  9742356831  B00004S1C5  B0000531B7  \\\n",
       "reviewerID                                                              \n",
       "A00177463W0XWB16A9O05         NaN         NaN         NaN         NaN   \n",
       "A022899328A0QROR32DCT         NaN         NaN         NaN         NaN   \n",
       "A04309042SDSL8YX2HRR7         NaN         NaN         NaN         NaN   \n",
       "A068255029AHTHDXZURNU         NaN         NaN         NaN         NaN   \n",
       "A06944662TFWOKKV4GJKX         NaN         NaN         NaN         NaN   \n",
       "\n",
       "asin                   B00005344V  B0000537AF  B00005C2M2  B00006IUTN  \\\n",
       "reviewerID                                                              \n",
       "A00177463W0XWB16A9O05         NaN         NaN         NaN         NaN   \n",
       "A022899328A0QROR32DCT         NaN         NaN         NaN         NaN   \n",
       "A04309042SDSL8YX2HRR7         NaN         NaN         NaN         NaN   \n",
       "A068255029AHTHDXZURNU         NaN         NaN         NaN         NaN   \n",
       "A06944662TFWOKKV4GJKX         NaN         NaN         NaN         NaN   \n",
       "\n",
       "asin                   B0000CCZYY  B0000CD06J  ...  B00IVT3LLW  B00IWBMCMS  \\\n",
       "reviewerID                                     ...                           \n",
       "A00177463W0XWB16A9O05         NaN         NaN  ...         NaN         NaN   \n",
       "A022899328A0QROR32DCT         NaN         NaN  ...         NaN         NaN   \n",
       "A04309042SDSL8YX2HRR7         NaN         NaN  ...         NaN         NaN   \n",
       "A068255029AHTHDXZURNU         NaN         NaN  ...         NaN         NaN   \n",
       "A06944662TFWOKKV4GJKX         NaN         NaN  ...         NaN         NaN   \n",
       "\n",
       "asin                   B00J9IUCHA  B00JAXNMRG  B00JEL3N1E  B00JGPG60I  \\\n",
       "reviewerID                                                              \n",
       "A00177463W0XWB16A9O05         NaN         NaN         NaN         NaN   \n",
       "A022899328A0QROR32DCT         NaN         NaN         NaN         NaN   \n",
       "A04309042SDSL8YX2HRR7         NaN         NaN         NaN         NaN   \n",
       "A068255029AHTHDXZURNU         NaN         NaN         NaN         NaN   \n",
       "A06944662TFWOKKV4GJKX         NaN         NaN         NaN         NaN   \n",
       "\n",
       "asin                   B00JL6LTMW  B00K00H9I6  B00KC0LGI8  B00KCJRVO2  \n",
       "reviewerID                                                             \n",
       "A00177463W0XWB16A9O05         NaN         NaN         NaN         NaN  \n",
       "A022899328A0QROR32DCT         NaN         NaN         NaN         NaN  \n",
       "A04309042SDSL8YX2HRR7         NaN         NaN         NaN         NaN  \n",
       "A068255029AHTHDXZURNU         NaN         NaN         NaN         NaN  \n",
       "A06944662TFWOKKV4GJKX         NaN         NaN         NaN         NaN  \n",
       "\n",
       "[5 rows x 8713 columns]"
      ]
     },
     "execution_count": 393,
     "metadata": {},
     "output_type": "execute_result"
    }
   ],
   "source": [
    "rating.head()"
   ]
  },
  {
   "cell_type": "code",
   "execution_count": 398,
   "metadata": {},
   "outputs": [],
   "source": [
    "#because the lowest rating is 1, i can fill all NaN values with 0 to represent no rating"
   ]
  },
  {
   "cell_type": "code",
   "execution_count": 394,
   "metadata": {},
   "outputs": [],
   "source": [
    "ratings = rating.fillna(0)"
   ]
  },
  {
   "cell_type": "code",
   "execution_count": 395,
   "metadata": {},
   "outputs": [
    {
     "data": {
      "text/html": [
       "<div>\n",
       "<style scoped>\n",
       "    .dataframe tbody tr th:only-of-type {\n",
       "        vertical-align: middle;\n",
       "    }\n",
       "\n",
       "    .dataframe tbody tr th {\n",
       "        vertical-align: top;\n",
       "    }\n",
       "\n",
       "    .dataframe thead th {\n",
       "        text-align: right;\n",
       "    }\n",
       "</style>\n",
       "<table border=\"1\" class=\"dataframe\">\n",
       "  <thead>\n",
       "    <tr style=\"text-align: right;\">\n",
       "      <th>asin</th>\n",
       "      <th>616719923X</th>\n",
       "      <th>9742356831</th>\n",
       "      <th>B00004S1C5</th>\n",
       "      <th>B0000531B7</th>\n",
       "      <th>B00005344V</th>\n",
       "      <th>B0000537AF</th>\n",
       "      <th>B00005C2M2</th>\n",
       "      <th>B00006IUTN</th>\n",
       "      <th>B0000CCZYY</th>\n",
       "      <th>B0000CD06J</th>\n",
       "      <th>...</th>\n",
       "      <th>B00IVT3LLW</th>\n",
       "      <th>B00IWBMCMS</th>\n",
       "      <th>B00J9IUCHA</th>\n",
       "      <th>B00JAXNMRG</th>\n",
       "      <th>B00JEL3N1E</th>\n",
       "      <th>B00JGPG60I</th>\n",
       "      <th>B00JL6LTMW</th>\n",
       "      <th>B00K00H9I6</th>\n",
       "      <th>B00KC0LGI8</th>\n",
       "      <th>B00KCJRVO2</th>\n",
       "    </tr>\n",
       "    <tr>\n",
       "      <th>reviewerID</th>\n",
       "      <th></th>\n",
       "      <th></th>\n",
       "      <th></th>\n",
       "      <th></th>\n",
       "      <th></th>\n",
       "      <th></th>\n",
       "      <th></th>\n",
       "      <th></th>\n",
       "      <th></th>\n",
       "      <th></th>\n",
       "      <th></th>\n",
       "      <th></th>\n",
       "      <th></th>\n",
       "      <th></th>\n",
       "      <th></th>\n",
       "      <th></th>\n",
       "      <th></th>\n",
       "      <th></th>\n",
       "      <th></th>\n",
       "      <th></th>\n",
       "      <th></th>\n",
       "    </tr>\n",
       "  </thead>\n",
       "  <tbody>\n",
       "    <tr>\n",
       "      <th>A00177463W0XWB16A9O05</th>\n",
       "      <td>0.0</td>\n",
       "      <td>0.0</td>\n",
       "      <td>0.0</td>\n",
       "      <td>0.0</td>\n",
       "      <td>0.0</td>\n",
       "      <td>0.0</td>\n",
       "      <td>0.0</td>\n",
       "      <td>0.0</td>\n",
       "      <td>0.0</td>\n",
       "      <td>0.0</td>\n",
       "      <td>...</td>\n",
       "      <td>0.0</td>\n",
       "      <td>0.0</td>\n",
       "      <td>0.0</td>\n",
       "      <td>0.0</td>\n",
       "      <td>0.0</td>\n",
       "      <td>0.0</td>\n",
       "      <td>0.0</td>\n",
       "      <td>0.0</td>\n",
       "      <td>0.0</td>\n",
       "      <td>0.0</td>\n",
       "    </tr>\n",
       "    <tr>\n",
       "      <th>A022899328A0QROR32DCT</th>\n",
       "      <td>0.0</td>\n",
       "      <td>0.0</td>\n",
       "      <td>0.0</td>\n",
       "      <td>0.0</td>\n",
       "      <td>0.0</td>\n",
       "      <td>0.0</td>\n",
       "      <td>0.0</td>\n",
       "      <td>0.0</td>\n",
       "      <td>0.0</td>\n",
       "      <td>0.0</td>\n",
       "      <td>...</td>\n",
       "      <td>0.0</td>\n",
       "      <td>0.0</td>\n",
       "      <td>0.0</td>\n",
       "      <td>0.0</td>\n",
       "      <td>0.0</td>\n",
       "      <td>0.0</td>\n",
       "      <td>0.0</td>\n",
       "      <td>0.0</td>\n",
       "      <td>0.0</td>\n",
       "      <td>0.0</td>\n",
       "    </tr>\n",
       "    <tr>\n",
       "      <th>A04309042SDSL8YX2HRR7</th>\n",
       "      <td>0.0</td>\n",
       "      <td>0.0</td>\n",
       "      <td>0.0</td>\n",
       "      <td>0.0</td>\n",
       "      <td>0.0</td>\n",
       "      <td>0.0</td>\n",
       "      <td>0.0</td>\n",
       "      <td>0.0</td>\n",
       "      <td>0.0</td>\n",
       "      <td>0.0</td>\n",
       "      <td>...</td>\n",
       "      <td>0.0</td>\n",
       "      <td>0.0</td>\n",
       "      <td>0.0</td>\n",
       "      <td>0.0</td>\n",
       "      <td>0.0</td>\n",
       "      <td>0.0</td>\n",
       "      <td>0.0</td>\n",
       "      <td>0.0</td>\n",
       "      <td>0.0</td>\n",
       "      <td>0.0</td>\n",
       "    </tr>\n",
       "    <tr>\n",
       "      <th>A068255029AHTHDXZURNU</th>\n",
       "      <td>0.0</td>\n",
       "      <td>0.0</td>\n",
       "      <td>0.0</td>\n",
       "      <td>0.0</td>\n",
       "      <td>0.0</td>\n",
       "      <td>0.0</td>\n",
       "      <td>0.0</td>\n",
       "      <td>0.0</td>\n",
       "      <td>0.0</td>\n",
       "      <td>0.0</td>\n",
       "      <td>...</td>\n",
       "      <td>0.0</td>\n",
       "      <td>0.0</td>\n",
       "      <td>0.0</td>\n",
       "      <td>0.0</td>\n",
       "      <td>0.0</td>\n",
       "      <td>0.0</td>\n",
       "      <td>0.0</td>\n",
       "      <td>0.0</td>\n",
       "      <td>0.0</td>\n",
       "      <td>0.0</td>\n",
       "    </tr>\n",
       "    <tr>\n",
       "      <th>A06944662TFWOKKV4GJKX</th>\n",
       "      <td>0.0</td>\n",
       "      <td>0.0</td>\n",
       "      <td>0.0</td>\n",
       "      <td>0.0</td>\n",
       "      <td>0.0</td>\n",
       "      <td>0.0</td>\n",
       "      <td>0.0</td>\n",
       "      <td>0.0</td>\n",
       "      <td>0.0</td>\n",
       "      <td>0.0</td>\n",
       "      <td>...</td>\n",
       "      <td>0.0</td>\n",
       "      <td>0.0</td>\n",
       "      <td>0.0</td>\n",
       "      <td>0.0</td>\n",
       "      <td>0.0</td>\n",
       "      <td>0.0</td>\n",
       "      <td>0.0</td>\n",
       "      <td>0.0</td>\n",
       "      <td>0.0</td>\n",
       "      <td>0.0</td>\n",
       "    </tr>\n",
       "  </tbody>\n",
       "</table>\n",
       "<p>5 rows × 8713 columns</p>\n",
       "</div>"
      ],
      "text/plain": [
       "asin                   616719923X  9742356831  B00004S1C5  B0000531B7  \\\n",
       "reviewerID                                                              \n",
       "A00177463W0XWB16A9O05         0.0         0.0         0.0         0.0   \n",
       "A022899328A0QROR32DCT         0.0         0.0         0.0         0.0   \n",
       "A04309042SDSL8YX2HRR7         0.0         0.0         0.0         0.0   \n",
       "A068255029AHTHDXZURNU         0.0         0.0         0.0         0.0   \n",
       "A06944662TFWOKKV4GJKX         0.0         0.0         0.0         0.0   \n",
       "\n",
       "asin                   B00005344V  B0000537AF  B00005C2M2  B00006IUTN  \\\n",
       "reviewerID                                                              \n",
       "A00177463W0XWB16A9O05         0.0         0.0         0.0         0.0   \n",
       "A022899328A0QROR32DCT         0.0         0.0         0.0         0.0   \n",
       "A04309042SDSL8YX2HRR7         0.0         0.0         0.0         0.0   \n",
       "A068255029AHTHDXZURNU         0.0         0.0         0.0         0.0   \n",
       "A06944662TFWOKKV4GJKX         0.0         0.0         0.0         0.0   \n",
       "\n",
       "asin                   B0000CCZYY  B0000CD06J  ...  B00IVT3LLW  B00IWBMCMS  \\\n",
       "reviewerID                                     ...                           \n",
       "A00177463W0XWB16A9O05         0.0         0.0  ...         0.0         0.0   \n",
       "A022899328A0QROR32DCT         0.0         0.0  ...         0.0         0.0   \n",
       "A04309042SDSL8YX2HRR7         0.0         0.0  ...         0.0         0.0   \n",
       "A068255029AHTHDXZURNU         0.0         0.0  ...         0.0         0.0   \n",
       "A06944662TFWOKKV4GJKX         0.0         0.0  ...         0.0         0.0   \n",
       "\n",
       "asin                   B00J9IUCHA  B00JAXNMRG  B00JEL3N1E  B00JGPG60I  \\\n",
       "reviewerID                                                              \n",
       "A00177463W0XWB16A9O05         0.0         0.0         0.0         0.0   \n",
       "A022899328A0QROR32DCT         0.0         0.0         0.0         0.0   \n",
       "A04309042SDSL8YX2HRR7         0.0         0.0         0.0         0.0   \n",
       "A068255029AHTHDXZURNU         0.0         0.0         0.0         0.0   \n",
       "A06944662TFWOKKV4GJKX         0.0         0.0         0.0         0.0   \n",
       "\n",
       "asin                   B00JL6LTMW  B00K00H9I6  B00KC0LGI8  B00KCJRVO2  \n",
       "reviewerID                                                             \n",
       "A00177463W0XWB16A9O05         0.0         0.0         0.0         0.0  \n",
       "A022899328A0QROR32DCT         0.0         0.0         0.0         0.0  \n",
       "A04309042SDSL8YX2HRR7         0.0         0.0         0.0         0.0  \n",
       "A068255029AHTHDXZURNU         0.0         0.0         0.0         0.0  \n",
       "A06944662TFWOKKV4GJKX         0.0         0.0         0.0         0.0  \n",
       "\n",
       "[5 rows x 8713 columns]"
      ]
     },
     "execution_count": 395,
     "metadata": {},
     "output_type": "execute_result"
    }
   ],
   "source": [
    "ratings.head()"
   ]
  },
  {
   "cell_type": "code",
   "execution_count": 402,
   "metadata": {},
   "outputs": [],
   "source": [
    "class MF():\n",
    "\n",
    "    # Initializing the user-movie rating matrix, no. of latent features, alpha and beta.\n",
    "    def __init__(self, R, K, alpha, beta, iterations):\n",
    "        self.R = R\n",
    "        self.num_users, self.num_items = R.shape\n",
    "        self.K = K\n",
    "        self.alpha = alpha\n",
    "        self.beta = beta\n",
    "        self.iterations = iterations\n",
    "\n",
    "    # Initializing user-feature and movie-feature matrix \n",
    "    def train(self):\n",
    "        self.P = np.random.normal(scale=1./self.K, size=(self.num_users, self.K))\n",
    "        self.Q = np.random.normal(scale=1./self.K, size=(self.num_items, self.K))\n",
    "\n",
    "        # Initializing the bias terms\n",
    "        self.b_u = np.zeros(self.num_users)\n",
    "        self.b_i = np.zeros(self.num_items)\n",
    "        self.b = np.mean(self.R[np.where(self.R != 0)])\n",
    "\n",
    "        # List of training samples\n",
    "        self.samples = [\n",
    "        (i, j, self.R[i, j])\n",
    "        for i in range(self.num_users)\n",
    "        for j in range(self.num_items)\n",
    "        if self.R[i, j] > 0\n",
    "        ]\n",
    "\n",
    "        # Stochastic gradient descent for given number of iterations\n",
    "        training_process = []\n",
    "        for i in range(self.iterations):\n",
    "            np.random.shuffle(self.samples)\n",
    "            self.sgd()\n",
    "            mse = self.mse()\n",
    "            training_process.append((i, mse))\n",
    "            if (i+1) % 20 == 0:\n",
    "                print(\"Iteration: %d ; error = %.4f\" % (i+1, mse))\n",
    "\n",
    "        return training_process\n",
    "\n",
    "    # Computing total mean squared error\n",
    "    def mse(self):\n",
    "        xs, ys = self.R.nonzero()\n",
    "        predicted = self.full_matrix()\n",
    "        error = 0\n",
    "        for x, y in zip(xs, ys):\n",
    "            error += pow(self.R[x, y] - predicted[x, y], 2)\n",
    "        return np.sqrt(error)\n",
    "\n",
    "    # Stochastic gradient descent to get optimized P and Q matrix\n",
    "    def sgd(self):\n",
    "        for i, j, r in self.samples:\n",
    "            prediction = self.get_rating(i, j)\n",
    "            e = (r - prediction)\n",
    "\n",
    "            self.b_u[i] += self.alpha * (e - self.beta * self.b_u[i])\n",
    "            self.b_i[j] += self.alpha * (e - self.beta * self.b_i[j])\n",
    "\n",
    "            self.P[i, :] += self.alpha * (e * self.Q[j, :] - self.beta * self.P[i,:])\n",
    "            self.Q[j, :] += self.alpha * (e * self.P[i, :] - self.beta * self.Q[j,:])\n",
    "\n",
    "    # Ratings for user i and moive j\n",
    "    def get_rating(self, i, j):\n",
    "        prediction = self.b + self.b_u[i] + self.b_i[j] + self.P[i, :].dot(self.Q[j, :].T)\n",
    "        return prediction\n",
    "\n",
    "    # Full user-movie rating matrix\n",
    "    def full_matrix(self):\n",
    "        return mf.b + mf.b_u[:,np.newaxis] + mf.b_i[np.newaxis:,] + mf.P.dot(mf.Q.T)"
   ]
  },
  {
   "cell_type": "code",
   "execution_count": 403,
   "metadata": {},
   "outputs": [],
   "source": [
    "R = np.array(ratings)"
   ]
  },
  {
   "cell_type": "code",
   "execution_count": 407,
   "metadata": {},
   "outputs": [
    {
     "name": "stdout",
     "output_type": "stream",
     "text": [
      "Iteration: 20 ; error = 379.5982\n",
      "Iteration: 40 ; error = 364.6512\n",
      "Iteration: 60 ; error = 355.0153\n",
      "Iteration: 80 ; error = 347.6986\n",
      "Iteration: 100 ; error = 341.2795\n",
      "\n",
      "P x Q:\n",
      "[[4.19416718 4.68168383 4.27092143 ... 4.67948643 3.99989421 4.44777709]\n",
      " [3.48442614 4.02689956 3.6109085  ... 3.98100734 3.34345949 3.79389303]\n",
      " [3.86041338 4.4076995  4.02039345 ... 4.38876794 3.71067567 4.19191041]\n",
      " ...\n",
      " [4.36964002 4.8626674  4.4913279  ... 4.86629689 4.22978787 4.6842897 ]\n",
      " [4.50183423 5.00473647 4.65328508 ... 5.00375832 4.3171197  4.80932307]\n",
      " [3.83587924 4.34607603 3.95011198 ... 4.36916864 3.69791207 4.14307216]]\n",
      "\n"
     ]
    }
   ],
   "source": [
    "mf = MF(R, K = 20, alpha=0.001, beta = 0.01, iterations = 100)\n",
    "training_process = mf.train()\n",
    "print()\n",
    "print(\"P x Q:\")\n",
    "print(mf.full_matrix())\n",
    "print()"
   ]
  },
  {
   "cell_type": "code",
   "execution_count": 1,
   "metadata": {},
   "outputs": [
    {
     "ename": "NameError",
     "evalue": "name 'mf' is not defined",
     "output_type": "error",
     "traceback": [
      "\u001b[0;31m---------------------------------------------------------------------------\u001b[0m",
      "\u001b[0;31mNameError\u001b[0m                                 Traceback (most recent call last)",
      "\u001b[0;32m<ipython-input-1-37b294355928>\u001b[0m in \u001b[0;36m<module>\u001b[0;34m\u001b[0m\n\u001b[0;32m----> 1\u001b[0;31m \u001b[0mmf\u001b[0m\u001b[0;34m.\u001b[0m\u001b[0mfull_matrix\u001b[0m\u001b[0;34m(\u001b[0m\u001b[0;34m)\u001b[0m\u001b[0;34m\u001b[0m\u001b[0;34m\u001b[0m\u001b[0m\n\u001b[0m",
      "\u001b[0;31mNameError\u001b[0m: name 'mf' is not defined"
     ]
    }
   ],
   "source": [
    "mf.full_matrix()"
   ]
  },
  {
   "cell_type": "code",
   "execution_count": null,
   "metadata": {},
   "outputs": [],
   "source": []
  },
  {
   "cell_type": "code",
   "execution_count": null,
   "metadata": {},
   "outputs": [],
   "source": []
  },
  {
   "cell_type": "code",
   "execution_count": null,
   "metadata": {},
   "outputs": [],
   "source": []
  },
  {
   "cell_type": "code",
   "execution_count": null,
   "metadata": {},
   "outputs": [],
   "source": []
  },
  {
   "cell_type": "code",
   "execution_count": null,
   "metadata": {},
   "outputs": [],
   "source": []
  },
  {
   "cell_type": "code",
   "execution_count": 344,
   "metadata": {},
   "outputs": [],
   "source": [
    "from scipy import sparse"
   ]
  },
  {
   "cell_type": "code",
   "execution_count": 330,
   "metadata": {
    "scrolled": true
   },
   "outputs": [
    {
     "name": "stderr",
     "output_type": "stream",
     "text": [
      "/Users/marcushimelhoch/anaconda3/lib/python3.7/site-packages/lightfm/_lightfm_fast.py:9: UserWarning: LightFM was compiled without OpenMP support. Only a single thread will be used.\n",
      "  warnings.warn('LightFM was compiled without OpenMP support. '\n"
     ]
    }
   ],
   "source": [
    "from lightfm import LightFM"
   ]
  },
  {
   "cell_type": "code",
   "execution_count": 342,
   "metadata": {},
   "outputs": [],
   "source": [
    "#create a sparse matrix from the data\n",
    "copy_ratings = rating.copy()"
   ]
  },
  {
   "cell_type": "code",
   "execution_count": 351,
   "metadata": {},
   "outputs": [
    {
     "name": "stderr",
     "output_type": "stream",
     "text": [
      "/Users/marcushimelhoch/anaconda3/lib/python3.7/site-packages/ipykernel_launcher.py:1: FutureWarning: Method .as_matrix will be removed in a future version. Use .values instead.\n",
      "  \"\"\"Entry point for launching an IPython kernel.\n"
     ]
    }
   ],
   "source": [
    "matrix = copy_ratings.applymap(lambda x: 1 if x>2 else 0).as_matrix()"
   ]
  },
  {
   "cell_type": "code",
   "execution_count": 356,
   "metadata": {},
   "outputs": [
    {
     "data": {
      "text/plain": [
       "array([[0, 0, 0, ..., 0, 0, 0],\n",
       "       [0, 0, 0, ..., 0, 0, 0],\n",
       "       [0, 0, 0, ..., 0, 0, 0],\n",
       "       ...,\n",
       "       [0, 0, 0, ..., 0, 0, 0],\n",
       "       [0, 0, 0, ..., 0, 0, 0],\n",
       "       [0, 0, 0, ..., 0, 0, 0]])"
      ]
     },
     "execution_count": 356,
     "metadata": {},
     "output_type": "execute_result"
    }
   ],
   "source": [
    "matrix"
   ]
  },
  {
   "cell_type": "code",
   "execution_count": 357,
   "metadata": {},
   "outputs": [],
   "source": [
    "csr_matrix = sparse.csr_matrix(matrix)"
   ]
  },
  {
   "cell_type": "code",
   "execution_count": 362,
   "metadata": {},
   "outputs": [
    {
     "data": {
      "text/plain": [
       "(14681, 8713)"
      ]
     },
     "execution_count": 362,
     "metadata": {},
     "output_type": "execute_result"
    }
   ],
   "source": [
    "csr_matrix.shape"
   ]
  },
  {
   "cell_type": "code",
   "execution_count": null,
   "metadata": {},
   "outputs": [],
   "source": []
  },
  {
   "cell_type": "code",
   "execution_count": null,
   "metadata": {},
   "outputs": [],
   "source": []
  },
  {
   "cell_type": "code",
   "execution_count": null,
   "metadata": {},
   "outputs": [],
   "source": []
  },
  {
   "cell_type": "code",
   "execution_count": 363,
   "metadata": {},
   "outputs": [],
   "source": [
    "from lightfm.evaluation import precision_at_k\n",
    "from lightfm.evaluation import auc_score"
   ]
  },
  {
   "cell_type": "code",
   "execution_count": 348,
   "metadata": {},
   "outputs": [],
   "source": [
    "model = LightFM(no_components = 30, loss = 'warp')"
   ]
  },
  {
   "cell_type": "code",
   "execution_count": 358,
   "metadata": {},
   "outputs": [
    {
     "data": {
      "text/plain": [
       "<lightfm.lightfm.LightFM at 0x148946780>"
      ]
     },
     "execution_count": 358,
     "metadata": {},
     "output_type": "execute_result"
    }
   ],
   "source": [
    "#gradient descent, content + collaborative = hybrid\n",
    "\n",
    "model.fit(csr_matrix)"
   ]
  },
  {
   "cell_type": "code",
   "execution_count": 364,
   "metadata": {},
   "outputs": [],
   "source": [
    "precision = precision_at_k(model, csr_matrix, k = 10).mean()"
   ]
  },
  {
   "cell_type": "code",
   "execution_count": 366,
   "metadata": {},
   "outputs": [],
   "source": [
    "auc = auc_score(model, csr_matrix).mean()"
   ]
  },
  {
   "cell_type": "code",
   "execution_count": 367,
   "metadata": {},
   "outputs": [
    {
     "name": "stdout",
     "output_type": "stream",
     "text": [
      "Precision: train 0.05\n",
      "AUC: train 0.74\n"
     ]
    }
   ],
   "source": [
    "print('Precision: train %.2f' % (precision))\n",
    "print('AUC: train %.2f' % (auc))"
   ]
  },
  {
   "cell_type": "code",
   "execution_count": null,
   "metadata": {},
   "outputs": [],
   "source": [
    "predictions = model.predict()"
   ]
  },
  {
   "cell_type": "code",
   "execution_count": null,
   "metadata": {},
   "outputs": [],
   "source": []
  },
  {
   "cell_type": "code",
   "execution_count": 360,
   "metadata": {},
   "outputs": [],
   "source": [
    "movielens = fetch_movielens()"
   ]
  },
  {
   "cell_type": "code",
   "execution_count": 361,
   "metadata": {},
   "outputs": [
    {
     "name": "stdout",
     "output_type": "stream",
     "text": [
      "train <class 'scipy.sparse.coo.coo_matrix'> (943, 1682)\n",
      "test <class 'scipy.sparse.coo.coo_matrix'> (943, 1682)\n",
      "item_features <class 'scipy.sparse.csr.csr_matrix'> (1682, 1682)\n",
      "item_feature_labels <class 'numpy.ndarray'> (1682,)\n",
      "item_labels <class 'numpy.ndarray'> (1682,)\n"
     ]
    }
   ],
   "source": [
    "for key,value in movielens.items():\n",
    "    print(key, type(value), value.shape)"
   ]
  },
  {
   "cell_type": "code",
   "execution_count": null,
   "metadata": {},
   "outputs": [],
   "source": []
  },
  {
   "cell_type": "code",
   "execution_count": null,
   "metadata": {},
   "outputs": [],
   "source": []
  },
  {
   "cell_type": "code",
   "execution_count": null,
   "metadata": {},
   "outputs": [],
   "source": []
  },
  {
   "cell_type": "code",
   "execution_count": null,
   "metadata": {},
   "outputs": [],
   "source": []
  },
  {
   "cell_type": "code",
   "execution_count": null,
   "metadata": {},
   "outputs": [],
   "source": []
  },
  {
   "cell_type": "code",
   "execution_count": null,
   "metadata": {},
   "outputs": [],
   "source": []
  },
  {
   "cell_type": "code",
   "execution_count": 268,
   "metadata": {},
   "outputs": [],
   "source": [
    "users_no = rating.columns"
   ]
  },
  {
   "cell_type": "code",
   "execution_count": 299,
   "metadata": {},
   "outputs": [],
   "source": [
    "categories = pd.DataFrame(meta.categories.value_counts().keys())"
   ]
  },
  {
   "cell_type": "code",
   "execution_count": null,
   "metadata": {},
   "outputs": [],
   "source": []
  },
  {
   "cell_type": "code",
   "execution_count": 293,
   "metadata": {},
   "outputs": [],
   "source": [
    "df_categories = pd.DataFrame(columns = categories)"
   ]
  },
  {
   "cell_type": "code",
   "execution_count": 294,
   "metadata": {},
   "outputs": [],
   "source": [
    "df_users = pd.DataFrame(columns = df)"
   ]
  },
  {
   "cell_type": "code",
   "execution_count": null,
   "metadata": {},
   "outputs": [],
   "source": []
  },
  {
   "cell_type": "code",
   "execution_count": null,
   "metadata": {},
   "outputs": [],
   "source": []
  },
  {
   "cell_type": "code",
   "execution_count": null,
   "metadata": {},
   "outputs": [],
   "source": []
  },
  {
   "cell_type": "code",
   "execution_count": 13,
   "metadata": {},
   "outputs": [],
   "source": []
  },
  {
   "cell_type": "code",
   "execution_count": 26,
   "metadata": {},
   "outputs": [],
   "source": []
  },
  {
   "cell_type": "code",
   "execution_count": null,
   "metadata": {},
   "outputs": [],
   "source": []
  },
  {
   "cell_type": "code",
   "execution_count": null,
   "metadata": {},
   "outputs": [],
   "source": []
  },
  {
   "cell_type": "markdown",
   "metadata": {},
   "source": [
    "# Meta Data"
   ]
  },
  {
   "cell_type": "code",
   "execution_count": 104,
   "metadata": {},
   "outputs": [],
   "source": [
    "\n",
    "meta = pd.read_csv('/Users/marcushimelhoch/Downloads/meta_filtered.csv')"
   ]
  },
  {
   "cell_type": "code",
   "execution_count": 105,
   "metadata": {},
   "outputs": [
    {
     "data": {
      "text/html": [
       "<div>\n",
       "<style scoped>\n",
       "    .dataframe tbody tr th:only-of-type {\n",
       "        vertical-align: middle;\n",
       "    }\n",
       "\n",
       "    .dataframe tbody tr th {\n",
       "        vertical-align: top;\n",
       "    }\n",
       "\n",
       "    .dataframe thead th {\n",
       "        text-align: right;\n",
       "    }\n",
       "</style>\n",
       "<table border=\"1\" class=\"dataframe\">\n",
       "  <thead>\n",
       "    <tr style=\"text-align: right;\">\n",
       "      <th></th>\n",
       "      <th>asin</th>\n",
       "      <th>salesRank</th>\n",
       "      <th>imUrl</th>\n",
       "      <th>categories</th>\n",
       "      <th>title</th>\n",
       "      <th>description</th>\n",
       "      <th>price</th>\n",
       "      <th>related</th>\n",
       "      <th>brand</th>\n",
       "    </tr>\n",
       "  </thead>\n",
       "  <tbody>\n",
       "    <tr>\n",
       "      <th>0</th>\n",
       "      <td>616719923X</td>\n",
       "      <td>{'Grocery &amp; Gourmet Food': 37305}</td>\n",
       "      <td>http://ecx.images-amazon.com/images/I/51LdEao6...</td>\n",
       "      <td>[['Grocery &amp; Gourmet Food']]</td>\n",
       "      <td>Japanese Kit Kat Maccha Green Tea Flavor (5 Ba...</td>\n",
       "      <td>Green Tea Flavor Kit Kat have quickly become t...</td>\n",
       "      <td>NaN</td>\n",
       "      <td>{'also_bought': ['B00FD63L5W', 'B0047YG5UY', '...</td>\n",
       "      <td>NaN</td>\n",
       "    </tr>\n",
       "    <tr>\n",
       "      <th>1</th>\n",
       "      <td>9742356831</td>\n",
       "      <td>{'Grocery &amp; Gourmet Food': 3434}</td>\n",
       "      <td>http://ecx.images-amazon.com/images/I/41pQp67A...</td>\n",
       "      <td>[['Grocery &amp; Gourmet Food']]</td>\n",
       "      <td>Mae Ploy Thai Green Curry Paste - 14 oz jar</td>\n",
       "      <td>Used to make various curry soups and stir fry ...</td>\n",
       "      <td>7.23</td>\n",
       "      <td>{'also_bought': ['B000EI2LLO', 'B000EICISA', '...</td>\n",
       "      <td>Mae Ploy</td>\n",
       "    </tr>\n",
       "    <tr>\n",
       "      <th>2</th>\n",
       "      <td>B00004S1C5</td>\n",
       "      <td>{'Kitchen &amp; Dining': 4494}</td>\n",
       "      <td>http://ecx.images-amazon.com/images/I/41F75K9F...</td>\n",
       "      <td>[['Grocery &amp; Gourmet Food', 'Cooking &amp; Baking'...</td>\n",
       "      <td>Ateco Food Coloring Kit, 6 colors</td>\n",
       "      <td>From Easter eggs to colorful cookies, Spectrum...</td>\n",
       "      <td>9.76</td>\n",
       "      <td>{'also_bought': ['B0000CFMLT', 'B002PO3KBK', '...</td>\n",
       "      <td>HIC Harold Import Co.</td>\n",
       "    </tr>\n",
       "    <tr>\n",
       "      <th>3</th>\n",
       "      <td>B0000531B7</td>\n",
       "      <td>{'Grocery &amp; Gourmet Food': 2858}</td>\n",
       "      <td>http://ecx.images-amazon.com/images/I/519SuVj1...</td>\n",
       "      <td>[['Grocery &amp; Gourmet Food']]</td>\n",
       "      <td>PowerBar Harvest Energy Bars, Double Chocolate...</td>\n",
       "      <td>NaN</td>\n",
       "      <td>24.75</td>\n",
       "      <td>{'also_bought': ['B000EC63PU', 'B00DZGEY44', '...</td>\n",
       "      <td>Powerbar</td>\n",
       "    </tr>\n",
       "    <tr>\n",
       "      <th>4</th>\n",
       "      <td>B00005344V</td>\n",
       "      <td>{'Grocery &amp; Gourmet Food': 5034}</td>\n",
       "      <td>http://ecx.images-amazon.com/images/I/51H54cd-...</td>\n",
       "      <td>[['Grocery &amp; Gourmet Food']]</td>\n",
       "      <td>Traditional Medicinals Breathe Easy, 16-Count ...</td>\n",
       "      <td>For nearly forty years, we&amp;#x2019;ve been pass...</td>\n",
       "      <td>21.74</td>\n",
       "      <td>{'also_bought': ['B0009F3POE', 'B0009F3POO', '...</td>\n",
       "      <td>Traditional Medicinals</td>\n",
       "    </tr>\n",
       "  </tbody>\n",
       "</table>\n",
       "</div>"
      ],
      "text/plain": [
       "         asin                          salesRank  \\\n",
       "0  616719923X  {'Grocery & Gourmet Food': 37305}   \n",
       "1  9742356831   {'Grocery & Gourmet Food': 3434}   \n",
       "2  B00004S1C5         {'Kitchen & Dining': 4494}   \n",
       "3  B0000531B7   {'Grocery & Gourmet Food': 2858}   \n",
       "4  B00005344V   {'Grocery & Gourmet Food': 5034}   \n",
       "\n",
       "                                               imUrl  \\\n",
       "0  http://ecx.images-amazon.com/images/I/51LdEao6...   \n",
       "1  http://ecx.images-amazon.com/images/I/41pQp67A...   \n",
       "2  http://ecx.images-amazon.com/images/I/41F75K9F...   \n",
       "3  http://ecx.images-amazon.com/images/I/519SuVj1...   \n",
       "4  http://ecx.images-amazon.com/images/I/51H54cd-...   \n",
       "\n",
       "                                          categories  \\\n",
       "0                       [['Grocery & Gourmet Food']]   \n",
       "1                       [['Grocery & Gourmet Food']]   \n",
       "2  [['Grocery & Gourmet Food', 'Cooking & Baking'...   \n",
       "3                       [['Grocery & Gourmet Food']]   \n",
       "4                       [['Grocery & Gourmet Food']]   \n",
       "\n",
       "                                               title  \\\n",
       "0  Japanese Kit Kat Maccha Green Tea Flavor (5 Ba...   \n",
       "1        Mae Ploy Thai Green Curry Paste - 14 oz jar   \n",
       "2                  Ateco Food Coloring Kit, 6 colors   \n",
       "3  PowerBar Harvest Energy Bars, Double Chocolate...   \n",
       "4  Traditional Medicinals Breathe Easy, 16-Count ...   \n",
       "\n",
       "                                         description  price  \\\n",
       "0  Green Tea Flavor Kit Kat have quickly become t...    NaN   \n",
       "1  Used to make various curry soups and stir fry ...   7.23   \n",
       "2  From Easter eggs to colorful cookies, Spectrum...   9.76   \n",
       "3                                                NaN  24.75   \n",
       "4  For nearly forty years, we&#x2019;ve been pass...  21.74   \n",
       "\n",
       "                                             related                   brand  \n",
       "0  {'also_bought': ['B00FD63L5W', 'B0047YG5UY', '...                     NaN  \n",
       "1  {'also_bought': ['B000EI2LLO', 'B000EICISA', '...                Mae Ploy  \n",
       "2  {'also_bought': ['B0000CFMLT', 'B002PO3KBK', '...   HIC Harold Import Co.  \n",
       "3  {'also_bought': ['B000EC63PU', 'B00DZGEY44', '...                Powerbar  \n",
       "4  {'also_bought': ['B0009F3POE', 'B0009F3POO', '...  Traditional Medicinals  "
      ]
     },
     "execution_count": 105,
     "metadata": {},
     "output_type": "execute_result"
    }
   ],
   "source": [
    "meta.head()"
   ]
  },
  {
   "cell_type": "code",
   "execution_count": 106,
   "metadata": {},
   "outputs": [],
   "source": [
    "meta['categories'] = meta['categories'].map(lambda x: x.lower().split('&'))"
   ]
  },
  {
   "cell_type": "code",
   "execution_count": 107,
   "metadata": {},
   "outputs": [
    {
     "data": {
      "text/html": [
       "<div>\n",
       "<style scoped>\n",
       "    .dataframe tbody tr th:only-of-type {\n",
       "        vertical-align: middle;\n",
       "    }\n",
       "\n",
       "    .dataframe tbody tr th {\n",
       "        vertical-align: top;\n",
       "    }\n",
       "\n",
       "    .dataframe thead th {\n",
       "        text-align: right;\n",
       "    }\n",
       "</style>\n",
       "<table border=\"1\" class=\"dataframe\">\n",
       "  <thead>\n",
       "    <tr style=\"text-align: right;\">\n",
       "      <th></th>\n",
       "      <th>asin</th>\n",
       "      <th>salesRank</th>\n",
       "      <th>imUrl</th>\n",
       "      <th>categories</th>\n",
       "      <th>title</th>\n",
       "      <th>description</th>\n",
       "      <th>price</th>\n",
       "      <th>related</th>\n",
       "      <th>brand</th>\n",
       "    </tr>\n",
       "  </thead>\n",
       "  <tbody>\n",
       "    <tr>\n",
       "      <th>0</th>\n",
       "      <td>616719923X</td>\n",
       "      <td>{'Grocery &amp; Gourmet Food': 37305}</td>\n",
       "      <td>http://ecx.images-amazon.com/images/I/51LdEao6...</td>\n",
       "      <td>[[['grocery ,  gourmet food']]]</td>\n",
       "      <td>Japanese Kit Kat Maccha Green Tea Flavor (5 Ba...</td>\n",
       "      <td>Green Tea Flavor Kit Kat have quickly become t...</td>\n",
       "      <td>NaN</td>\n",
       "      <td>{'also_bought': ['B00FD63L5W', 'B0047YG5UY', '...</td>\n",
       "      <td>NaN</td>\n",
       "    </tr>\n",
       "    <tr>\n",
       "      <th>1</th>\n",
       "      <td>9742356831</td>\n",
       "      <td>{'Grocery &amp; Gourmet Food': 3434}</td>\n",
       "      <td>http://ecx.images-amazon.com/images/I/41pQp67A...</td>\n",
       "      <td>[[['grocery ,  gourmet food']]]</td>\n",
       "      <td>Mae Ploy Thai Green Curry Paste - 14 oz jar</td>\n",
       "      <td>Used to make various curry soups and stir fry ...</td>\n",
       "      <td>7.23</td>\n",
       "      <td>{'also_bought': ['B000EI2LLO', 'B000EICISA', '...</td>\n",
       "      <td>Mae Ploy</td>\n",
       "    </tr>\n",
       "    <tr>\n",
       "      <th>2</th>\n",
       "      <td>B00004S1C5</td>\n",
       "      <td>{'Kitchen &amp; Dining': 4494}</td>\n",
       "      <td>http://ecx.images-amazon.com/images/I/41F75K9F...</td>\n",
       "      <td>[[['grocery ,  gourmet food', 'cooking ,  baki...</td>\n",
       "      <td>Ateco Food Coloring Kit, 6 colors</td>\n",
       "      <td>From Easter eggs to colorful cookies, Spectrum...</td>\n",
       "      <td>9.76</td>\n",
       "      <td>{'also_bought': ['B0000CFMLT', 'B002PO3KBK', '...</td>\n",
       "      <td>HIC Harold Import Co.</td>\n",
       "    </tr>\n",
       "    <tr>\n",
       "      <th>3</th>\n",
       "      <td>B0000531B7</td>\n",
       "      <td>{'Grocery &amp; Gourmet Food': 2858}</td>\n",
       "      <td>http://ecx.images-amazon.com/images/I/519SuVj1...</td>\n",
       "      <td>[[['grocery ,  gourmet food']]]</td>\n",
       "      <td>PowerBar Harvest Energy Bars, Double Chocolate...</td>\n",
       "      <td>NaN</td>\n",
       "      <td>24.75</td>\n",
       "      <td>{'also_bought': ['B000EC63PU', 'B00DZGEY44', '...</td>\n",
       "      <td>Powerbar</td>\n",
       "    </tr>\n",
       "    <tr>\n",
       "      <th>4</th>\n",
       "      <td>B00005344V</td>\n",
       "      <td>{'Grocery &amp; Gourmet Food': 5034}</td>\n",
       "      <td>http://ecx.images-amazon.com/images/I/51H54cd-...</td>\n",
       "      <td>[[['grocery ,  gourmet food']]]</td>\n",
       "      <td>Traditional Medicinals Breathe Easy, 16-Count ...</td>\n",
       "      <td>For nearly forty years, we&amp;#x2019;ve been pass...</td>\n",
       "      <td>21.74</td>\n",
       "      <td>{'also_bought': ['B0009F3POE', 'B0009F3POO', '...</td>\n",
       "      <td>Traditional Medicinals</td>\n",
       "    </tr>\n",
       "  </tbody>\n",
       "</table>\n",
       "</div>"
      ],
      "text/plain": [
       "         asin                          salesRank  \\\n",
       "0  616719923X  {'Grocery & Gourmet Food': 37305}   \n",
       "1  9742356831   {'Grocery & Gourmet Food': 3434}   \n",
       "2  B00004S1C5         {'Kitchen & Dining': 4494}   \n",
       "3  B0000531B7   {'Grocery & Gourmet Food': 2858}   \n",
       "4  B00005344V   {'Grocery & Gourmet Food': 5034}   \n",
       "\n",
       "                                               imUrl  \\\n",
       "0  http://ecx.images-amazon.com/images/I/51LdEao6...   \n",
       "1  http://ecx.images-amazon.com/images/I/41pQp67A...   \n",
       "2  http://ecx.images-amazon.com/images/I/41F75K9F...   \n",
       "3  http://ecx.images-amazon.com/images/I/519SuVj1...   \n",
       "4  http://ecx.images-amazon.com/images/I/51H54cd-...   \n",
       "\n",
       "                                          categories  \\\n",
       "0                    [[['grocery ,  gourmet food']]]   \n",
       "1                    [[['grocery ,  gourmet food']]]   \n",
       "2  [[['grocery ,  gourmet food', 'cooking ,  baki...   \n",
       "3                    [[['grocery ,  gourmet food']]]   \n",
       "4                    [[['grocery ,  gourmet food']]]   \n",
       "\n",
       "                                               title  \\\n",
       "0  Japanese Kit Kat Maccha Green Tea Flavor (5 Ba...   \n",
       "1        Mae Ploy Thai Green Curry Paste - 14 oz jar   \n",
       "2                  Ateco Food Coloring Kit, 6 colors   \n",
       "3  PowerBar Harvest Energy Bars, Double Chocolate...   \n",
       "4  Traditional Medicinals Breathe Easy, 16-Count ...   \n",
       "\n",
       "                                         description  price  \\\n",
       "0  Green Tea Flavor Kit Kat have quickly become t...    NaN   \n",
       "1  Used to make various curry soups and stir fry ...   7.23   \n",
       "2  From Easter eggs to colorful cookies, Spectrum...   9.76   \n",
       "3                                                NaN  24.75   \n",
       "4  For nearly forty years, we&#x2019;ve been pass...  21.74   \n",
       "\n",
       "                                             related                   brand  \n",
       "0  {'also_bought': ['B00FD63L5W', 'B0047YG5UY', '...                     NaN  \n",
       "1  {'also_bought': ['B000EI2LLO', 'B000EICISA', '...                Mae Ploy  \n",
       "2  {'also_bought': ['B0000CFMLT', 'B002PO3KBK', '...   HIC Harold Import Co.  \n",
       "3  {'also_bought': ['B000EC63PU', 'B00DZGEY44', '...                Powerbar  \n",
       "4  {'also_bought': ['B0009F3POE', 'B0009F3POO', '...  Traditional Medicinals  "
      ]
     },
     "execution_count": 107,
     "metadata": {},
     "output_type": "execute_result"
    }
   ],
   "source": [
    "meta.head()"
   ]
  },
  {
   "cell_type": "code",
   "execution_count": 108,
   "metadata": {},
   "outputs": [
    {
     "data": {
      "text/plain": [
       "asin              0\n",
       "salesRank       402\n",
       "imUrl            13\n",
       "categories        0\n",
       "title            13\n",
       "description    1204\n",
       "price          1347\n",
       "related         257\n",
       "brand          2764\n",
       "dtype: int64"
      ]
     },
     "execution_count": 108,
     "metadata": {},
     "output_type": "execute_result"
    }
   ],
   "source": [
    "meta.isnull().sum()"
   ]
  },
  {
   "cell_type": "markdown",
   "metadata": {},
   "source": []
  },
  {
   "cell_type": "code",
   "execution_count": 110,
   "metadata": {},
   "outputs": [],
   "source": [
    "meta = meta.dropna(subset = ['description'])"
   ]
  },
  {
   "cell_type": "code",
   "execution_count": 112,
   "metadata": {},
   "outputs": [
    {
     "data": {
      "text/html": [
       "<div>\n",
       "<style scoped>\n",
       "    .dataframe tbody tr th:only-of-type {\n",
       "        vertical-align: middle;\n",
       "    }\n",
       "\n",
       "    .dataframe tbody tr th {\n",
       "        vertical-align: top;\n",
       "    }\n",
       "\n",
       "    .dataframe thead th {\n",
       "        text-align: right;\n",
       "    }\n",
       "</style>\n",
       "<table border=\"1\" class=\"dataframe\">\n",
       "  <thead>\n",
       "    <tr style=\"text-align: right;\">\n",
       "      <th></th>\n",
       "      <th>asin</th>\n",
       "      <th>salesRank</th>\n",
       "      <th>imUrl</th>\n",
       "      <th>categories</th>\n",
       "      <th>title</th>\n",
       "      <th>description</th>\n",
       "      <th>price</th>\n",
       "      <th>related</th>\n",
       "      <th>brand</th>\n",
       "    </tr>\n",
       "  </thead>\n",
       "  <tbody>\n",
       "    <tr>\n",
       "      <th>0</th>\n",
       "      <td>616719923X</td>\n",
       "      <td>{'Grocery &amp; Gourmet Food': 37305}</td>\n",
       "      <td>http://ecx.images-amazon.com/images/I/51LdEao6...</td>\n",
       "      <td>[[['grocery ,  gourmet food']]]</td>\n",
       "      <td>Japanese Kit Kat Maccha Green Tea Flavor (5 Ba...</td>\n",
       "      <td>Green Tea Flavor Kit Kat have quickly become t...</td>\n",
       "      <td>NaN</td>\n",
       "      <td>{'also_bought': ['B00FD63L5W', 'B0047YG5UY', '...</td>\n",
       "      <td>NaN</td>\n",
       "    </tr>\n",
       "    <tr>\n",
       "      <th>1</th>\n",
       "      <td>9742356831</td>\n",
       "      <td>{'Grocery &amp; Gourmet Food': 3434}</td>\n",
       "      <td>http://ecx.images-amazon.com/images/I/41pQp67A...</td>\n",
       "      <td>[[['grocery ,  gourmet food']]]</td>\n",
       "      <td>Mae Ploy Thai Green Curry Paste - 14 oz jar</td>\n",
       "      <td>Used to make various curry soups and stir fry ...</td>\n",
       "      <td>7.23</td>\n",
       "      <td>{'also_bought': ['B000EI2LLO', 'B000EICISA', '...</td>\n",
       "      <td>Mae Ploy</td>\n",
       "    </tr>\n",
       "    <tr>\n",
       "      <th>2</th>\n",
       "      <td>B00004S1C5</td>\n",
       "      <td>{'Kitchen &amp; Dining': 4494}</td>\n",
       "      <td>http://ecx.images-amazon.com/images/I/41F75K9F...</td>\n",
       "      <td>[[['grocery ,  gourmet food', 'cooking ,  baki...</td>\n",
       "      <td>Ateco Food Coloring Kit, 6 colors</td>\n",
       "      <td>From Easter eggs to colorful cookies, Spectrum...</td>\n",
       "      <td>9.76</td>\n",
       "      <td>{'also_bought': ['B0000CFMLT', 'B002PO3KBK', '...</td>\n",
       "      <td>HIC Harold Import Co.</td>\n",
       "    </tr>\n",
       "    <tr>\n",
       "      <th>4</th>\n",
       "      <td>B00005344V</td>\n",
       "      <td>{'Grocery &amp; Gourmet Food': 5034}</td>\n",
       "      <td>http://ecx.images-amazon.com/images/I/51H54cd-...</td>\n",
       "      <td>[[['grocery ,  gourmet food']]]</td>\n",
       "      <td>Traditional Medicinals Breathe Easy, 16-Count ...</td>\n",
       "      <td>For nearly forty years, we&amp;#x2019;ve been pass...</td>\n",
       "      <td>21.74</td>\n",
       "      <td>{'also_bought': ['B0009F3POE', 'B0009F3POO', '...</td>\n",
       "      <td>Traditional Medicinals</td>\n",
       "    </tr>\n",
       "    <tr>\n",
       "      <th>5</th>\n",
       "      <td>B0000537AF</td>\n",
       "      <td>{'Health &amp; Personal Care': 132146}</td>\n",
       "      <td>http://ecx.images-amazon.com/images/I/41pmuVri...</td>\n",
       "      <td>[[['grocery ,  gourmet food']]]</td>\n",
       "      <td>PowerBar ProteinPlus High Protein Bar, Vanilla...</td>\n",
       "      <td>The PowerBar ProteinPlus Protein Bar is a grea...</td>\n",
       "      <td>NaN</td>\n",
       "      <td>{'also_bought': ['B001U89ITK', 'B009VV7G60', '...</td>\n",
       "      <td>NaN</td>\n",
       "    </tr>\n",
       "  </tbody>\n",
       "</table>\n",
       "</div>"
      ],
      "text/plain": [
       "         asin                           salesRank  \\\n",
       "0  616719923X   {'Grocery & Gourmet Food': 37305}   \n",
       "1  9742356831    {'Grocery & Gourmet Food': 3434}   \n",
       "2  B00004S1C5          {'Kitchen & Dining': 4494}   \n",
       "4  B00005344V    {'Grocery & Gourmet Food': 5034}   \n",
       "5  B0000537AF  {'Health & Personal Care': 132146}   \n",
       "\n",
       "                                               imUrl  \\\n",
       "0  http://ecx.images-amazon.com/images/I/51LdEao6...   \n",
       "1  http://ecx.images-amazon.com/images/I/41pQp67A...   \n",
       "2  http://ecx.images-amazon.com/images/I/41F75K9F...   \n",
       "4  http://ecx.images-amazon.com/images/I/51H54cd-...   \n",
       "5  http://ecx.images-amazon.com/images/I/41pmuVri...   \n",
       "\n",
       "                                          categories  \\\n",
       "0                    [[['grocery ,  gourmet food']]]   \n",
       "1                    [[['grocery ,  gourmet food']]]   \n",
       "2  [[['grocery ,  gourmet food', 'cooking ,  baki...   \n",
       "4                    [[['grocery ,  gourmet food']]]   \n",
       "5                    [[['grocery ,  gourmet food']]]   \n",
       "\n",
       "                                               title  \\\n",
       "0  Japanese Kit Kat Maccha Green Tea Flavor (5 Ba...   \n",
       "1        Mae Ploy Thai Green Curry Paste - 14 oz jar   \n",
       "2                  Ateco Food Coloring Kit, 6 colors   \n",
       "4  Traditional Medicinals Breathe Easy, 16-Count ...   \n",
       "5  PowerBar ProteinPlus High Protein Bar, Vanilla...   \n",
       "\n",
       "                                         description  price  \\\n",
       "0  Green Tea Flavor Kit Kat have quickly become t...    NaN   \n",
       "1  Used to make various curry soups and stir fry ...   7.23   \n",
       "2  From Easter eggs to colorful cookies, Spectrum...   9.76   \n",
       "4  For nearly forty years, we&#x2019;ve been pass...  21.74   \n",
       "5  The PowerBar ProteinPlus Protein Bar is a grea...    NaN   \n",
       "\n",
       "                                             related                   brand  \n",
       "0  {'also_bought': ['B00FD63L5W', 'B0047YG5UY', '...                     NaN  \n",
       "1  {'also_bought': ['B000EI2LLO', 'B000EICISA', '...                Mae Ploy  \n",
       "2  {'also_bought': ['B0000CFMLT', 'B002PO3KBK', '...   HIC Harold Import Co.  \n",
       "4  {'also_bought': ['B0009F3POE', 'B0009F3POO', '...  Traditional Medicinals  \n",
       "5  {'also_bought': ['B001U89ITK', 'B009VV7G60', '...                     NaN  "
      ]
     },
     "execution_count": 112,
     "metadata": {},
     "output_type": "execute_result"
    }
   ],
   "source": [
    "meta.head()"
   ]
  },
  {
   "cell_type": "code",
   "execution_count": 113,
   "metadata": {},
   "outputs": [
    {
     "data": {
      "text/plain": [
       "asin              0\n",
       "salesRank       330\n",
       "imUrl             0\n",
       "categories        0\n",
       "title             0\n",
       "description       0\n",
       "price          1079\n",
       "related         190\n",
       "brand          2323\n",
       "dtype: int64"
      ]
     },
     "execution_count": 113,
     "metadata": {},
     "output_type": "execute_result"
    }
   ],
   "source": [
    "meta.isnull().sum()"
   ]
  },
  {
   "cell_type": "markdown",
   "metadata": {},
   "source": [
    "# Using Rake"
   ]
  },
  {
   "cell_type": "code",
   "execution_count": null,
   "metadata": {},
   "outputs": [],
   "source": []
  },
  {
   "cell_type": "code",
   "execution_count": null,
   "metadata": {},
   "outputs": [],
   "source": []
  },
  {
   "cell_type": "code",
   "execution_count": null,
   "metadata": {},
   "outputs": [],
   "source": []
  },
  {
   "cell_type": "code",
   "execution_count": 192,
   "metadata": {},
   "outputs": [],
   "source": [
    "text = meta.description.values"
   ]
  },
  {
   "cell_type": "code",
   "execution_count": 193,
   "metadata": {},
   "outputs": [
    {
     "data": {
      "text/plain": [
       "array([\"Green Tea Flavor Kit Kat have quickly become the most sought after snack from Japan. Here are a limited supply of Maccha Green Tea flavored Kit Kat that you would not want to miss. These epic snacks have a sweet maccha green tea flavor mixed with creamy white chocolate, on a crispy wafer that Nestle's has perfected. Each bag contains 12 individually wrapped bars.\",\n",
       "       'Used to make various curry soups and stir fry dishes. Mae Ploy Brand is recognized in Thailand as a high quality export product with rich taste and authentic flavor. Packed in convenient plastic tub with tighly sealed lid. All natural.',\n",
       "       \"From Easter eggs to colorful cookies, Spectrum's gel food colorings provide a wide range of decorative touches, with gorgeous colors and an enormous range of depth. Each color--black, blue, yellow, green, pink, and red--comes in a soft-sided plastic squeeze bottle that allows you to add a drop of color at a time to frostings and fillings. Paste colors are much more intense than more common liquid colors, and these will last through hundreds of fanciful cookies, providing stunning, professional-looking results.--Jill Lightner\",\n",
       "       ...,\n",
       "       'The street corners of big cities are sprinkled with vendors selling warm, cinnamon-coated nuts and our cinnamon nut is reminiscent of this delicious treat. Almonds, pecans, and cashews are mixed with sunflower seeds, pumpkin seeds, and raisins, and we toss it all together with cinnamon and smooth vanilla extract for a true taste of downtown.',\n",
       "       \"Harvested from the iconic snowy woods of Quebec, Canadian Finest is the gold standard of 100% pure certified organic maple syrup.Loaded with antioxidants and essential vitamins and minerals - use this healthy and nutritious sweetener often in your tea, coffee, as a sweet topping or a flavorful ingredient in your baking and cooking. Our premium, rich & dark amber maple syrup is 100% natural with absolutely no chemicals, preservatives or additives. Taste the Canadian difference - undoubtedly unique and the most delicious worldwide.THE BEST MAPLE SYRUP YOU'VE EVER TASTED OR WE'LL BUY THE BOTTLE BACK FROM YOU- If you aren't thrilled with Canadian Finest for any reason, we don't want you to keep it. We're proud of our maple syrup and stand behind it, but your well-being and happiness is our top priority. So if you're not satisfied simply return the product (even the empty bottle) to Amazon for 100% of your money back. Fair?\",\n",
       "       \"Enjoy your gluten freedom. Chex Gluten Free Oatmeal gives you what you value most. Great taste and variety: With Apple Cinnamon, Maple Brown Sugar and Original flavored oatmeal, there's a variety of ways to enjoy a warm, gluten-free breakfast. Simplicity of ingredients: Like Chex cereal, it's made only with wholesome and nutritious ingredients. There are no artificial flavors, colors or preservatives. Goes beyond breakfast: If you like it for breakfast, you'll love how well Chex Gluten Free Oatmeal mixes into recipes. Check 'em out at chex.com/recipes.\"],\n",
       "      dtype=object)"
      ]
     },
     "execution_count": 193,
     "metadata": {},
     "output_type": "execute_result"
    }
   ],
   "source": [
    "text"
   ]
  },
  {
   "cell_type": "code",
   "execution_count": null,
   "metadata": {},
   "outputs": [],
   "source": []
  },
  {
   "cell_type": "code",
   "execution_count": 195,
   "metadata": {},
   "outputs": [],
   "source": []
  },
  {
   "cell_type": "code",
   "execution_count": 196,
   "metadata": {},
   "outputs": [],
   "source": [
    "r = Rake()"
   ]
  },
  {
   "cell_type": "markdown",
   "metadata": {},
   "source": [
    "Unable to use extract_keywords_from_text on a full column"
   ]
  },
  {
   "cell_type": "code",
   "execution_count": 197,
   "metadata": {},
   "outputs": [
    {
     "ename": "TypeError",
     "evalue": "cannot use a string pattern on a bytes-like object",
     "output_type": "error",
     "traceback": [
      "\u001b[0;31m---------------------------------------------------------------------------\u001b[0m",
      "\u001b[0;31mTypeError\u001b[0m                                 Traceback (most recent call last)",
      "\u001b[0;32m<ipython-input-197-f1104f956055>\u001b[0m in \u001b[0;36m<module>\u001b[0;34m\u001b[0m\n\u001b[0;32m----> 1\u001b[0;31m \u001b[0mr\u001b[0m\u001b[0;34m.\u001b[0m\u001b[0mextract_keywords_from_text\u001b[0m\u001b[0;34m(\u001b[0m\u001b[0mtext\u001b[0m\u001b[0;34m)\u001b[0m\u001b[0;34m\u001b[0m\u001b[0;34m\u001b[0m\u001b[0m\n\u001b[0m",
      "\u001b[0;32m~/anaconda3/lib/python3.7/site-packages/rake_nltk/rake.py\u001b[0m in \u001b[0;36mextract_keywords_from_text\u001b[0;34m(self, text)\u001b[0m\n\u001b[1;32m     79\u001b[0m         \u001b[0;34m:\u001b[0m\u001b[0mparam\u001b[0m \u001b[0mtext\u001b[0m\u001b[0;34m:\u001b[0m \u001b[0mText\u001b[0m \u001b[0mto\u001b[0m \u001b[0mextract\u001b[0m \u001b[0mkeywords\u001b[0m \u001b[0;32mfrom\u001b[0m\u001b[0;34m,\u001b[0m \u001b[0mprovided\u001b[0m \u001b[0;32mas\u001b[0m \u001b[0ma\u001b[0m \u001b[0mstring\u001b[0m\u001b[0;34m.\u001b[0m\u001b[0;34m\u001b[0m\u001b[0;34m\u001b[0m\u001b[0m\n\u001b[1;32m     80\u001b[0m         \"\"\"\n\u001b[0;32m---> 81\u001b[0;31m         \u001b[0msentences\u001b[0m \u001b[0;34m=\u001b[0m \u001b[0mnltk\u001b[0m\u001b[0;34m.\u001b[0m\u001b[0mtokenize\u001b[0m\u001b[0;34m.\u001b[0m\u001b[0msent_tokenize\u001b[0m\u001b[0;34m(\u001b[0m\u001b[0mtext\u001b[0m\u001b[0;34m)\u001b[0m\u001b[0;34m\u001b[0m\u001b[0;34m\u001b[0m\u001b[0m\n\u001b[0m\u001b[1;32m     82\u001b[0m         \u001b[0mself\u001b[0m\u001b[0;34m.\u001b[0m\u001b[0mextract_keywords_from_sentences\u001b[0m\u001b[0;34m(\u001b[0m\u001b[0msentences\u001b[0m\u001b[0;34m)\u001b[0m\u001b[0;34m\u001b[0m\u001b[0;34m\u001b[0m\u001b[0m\n\u001b[1;32m     83\u001b[0m \u001b[0;34m\u001b[0m\u001b[0m\n",
      "\u001b[0;32m~/anaconda3/lib/python3.7/site-packages/nltk/tokenize/__init__.py\u001b[0m in \u001b[0;36msent_tokenize\u001b[0;34m(text, language)\u001b[0m\n\u001b[1;32m    103\u001b[0m     \"\"\"\n\u001b[1;32m    104\u001b[0m     \u001b[0mtokenizer\u001b[0m \u001b[0;34m=\u001b[0m \u001b[0mload\u001b[0m\u001b[0;34m(\u001b[0m\u001b[0;34m'tokenizers/punkt/{0}.pickle'\u001b[0m\u001b[0;34m.\u001b[0m\u001b[0mformat\u001b[0m\u001b[0;34m(\u001b[0m\u001b[0mlanguage\u001b[0m\u001b[0;34m)\u001b[0m\u001b[0;34m)\u001b[0m\u001b[0;34m\u001b[0m\u001b[0;34m\u001b[0m\u001b[0m\n\u001b[0;32m--> 105\u001b[0;31m     \u001b[0;32mreturn\u001b[0m \u001b[0mtokenizer\u001b[0m\u001b[0;34m.\u001b[0m\u001b[0mtokenize\u001b[0m\u001b[0;34m(\u001b[0m\u001b[0mtext\u001b[0m\u001b[0;34m)\u001b[0m\u001b[0;34m\u001b[0m\u001b[0;34m\u001b[0m\u001b[0m\n\u001b[0m\u001b[1;32m    106\u001b[0m \u001b[0;34m\u001b[0m\u001b[0m\n\u001b[1;32m    107\u001b[0m \u001b[0;34m\u001b[0m\u001b[0m\n",
      "\u001b[0;32m~/anaconda3/lib/python3.7/site-packages/nltk/tokenize/punkt.py\u001b[0m in \u001b[0;36mtokenize\u001b[0;34m(self, text, realign_boundaries)\u001b[0m\n\u001b[1;32m   1267\u001b[0m         \u001b[0mGiven\u001b[0m \u001b[0ma\u001b[0m \u001b[0mtext\u001b[0m\u001b[0;34m,\u001b[0m \u001b[0mreturns\u001b[0m \u001b[0ma\u001b[0m \u001b[0mlist\u001b[0m \u001b[0mof\u001b[0m \u001b[0mthe\u001b[0m \u001b[0msentences\u001b[0m \u001b[0;32min\u001b[0m \u001b[0mthat\u001b[0m \u001b[0mtext\u001b[0m\u001b[0;34m.\u001b[0m\u001b[0;34m\u001b[0m\u001b[0;34m\u001b[0m\u001b[0m\n\u001b[1;32m   1268\u001b[0m         \"\"\"\n\u001b[0;32m-> 1269\u001b[0;31m         \u001b[0;32mreturn\u001b[0m \u001b[0mlist\u001b[0m\u001b[0;34m(\u001b[0m\u001b[0mself\u001b[0m\u001b[0;34m.\u001b[0m\u001b[0msentences_from_text\u001b[0m\u001b[0;34m(\u001b[0m\u001b[0mtext\u001b[0m\u001b[0;34m,\u001b[0m \u001b[0mrealign_boundaries\u001b[0m\u001b[0;34m)\u001b[0m\u001b[0;34m)\u001b[0m\u001b[0;34m\u001b[0m\u001b[0;34m\u001b[0m\u001b[0m\n\u001b[0m\u001b[1;32m   1270\u001b[0m \u001b[0;34m\u001b[0m\u001b[0m\n\u001b[1;32m   1271\u001b[0m     \u001b[0;32mdef\u001b[0m \u001b[0mdebug_decisions\u001b[0m\u001b[0;34m(\u001b[0m\u001b[0mself\u001b[0m\u001b[0;34m,\u001b[0m \u001b[0mtext\u001b[0m\u001b[0;34m)\u001b[0m\u001b[0;34m:\u001b[0m\u001b[0;34m\u001b[0m\u001b[0;34m\u001b[0m\u001b[0m\n",
      "\u001b[0;32m~/anaconda3/lib/python3.7/site-packages/nltk/tokenize/punkt.py\u001b[0m in \u001b[0;36msentences_from_text\u001b[0;34m(self, text, realign_boundaries)\u001b[0m\n\u001b[1;32m   1321\u001b[0m         \u001b[0mfollows\u001b[0m \u001b[0mthe\u001b[0m \u001b[0mperiod\u001b[0m\u001b[0;34m.\u001b[0m\u001b[0;34m\u001b[0m\u001b[0;34m\u001b[0m\u001b[0m\n\u001b[1;32m   1322\u001b[0m         \"\"\"\n\u001b[0;32m-> 1323\u001b[0;31m         \u001b[0;32mreturn\u001b[0m \u001b[0;34m[\u001b[0m\u001b[0mtext\u001b[0m\u001b[0;34m[\u001b[0m\u001b[0ms\u001b[0m\u001b[0;34m:\u001b[0m\u001b[0me\u001b[0m\u001b[0;34m]\u001b[0m \u001b[0;32mfor\u001b[0m \u001b[0ms\u001b[0m\u001b[0;34m,\u001b[0m \u001b[0me\u001b[0m \u001b[0;32min\u001b[0m \u001b[0mself\u001b[0m\u001b[0;34m.\u001b[0m\u001b[0mspan_tokenize\u001b[0m\u001b[0;34m(\u001b[0m\u001b[0mtext\u001b[0m\u001b[0;34m,\u001b[0m \u001b[0mrealign_boundaries\u001b[0m\u001b[0;34m)\u001b[0m\u001b[0;34m]\u001b[0m\u001b[0;34m\u001b[0m\u001b[0;34m\u001b[0m\u001b[0m\n\u001b[0m\u001b[1;32m   1324\u001b[0m \u001b[0;34m\u001b[0m\u001b[0m\n\u001b[1;32m   1325\u001b[0m     \u001b[0;32mdef\u001b[0m \u001b[0m_slices_from_text\u001b[0m\u001b[0;34m(\u001b[0m\u001b[0mself\u001b[0m\u001b[0;34m,\u001b[0m \u001b[0mtext\u001b[0m\u001b[0;34m)\u001b[0m\u001b[0;34m:\u001b[0m\u001b[0;34m\u001b[0m\u001b[0;34m\u001b[0m\u001b[0m\n",
      "\u001b[0;32m~/anaconda3/lib/python3.7/site-packages/nltk/tokenize/punkt.py\u001b[0m in \u001b[0;36m<listcomp>\u001b[0;34m(.0)\u001b[0m\n\u001b[1;32m   1321\u001b[0m         \u001b[0mfollows\u001b[0m \u001b[0mthe\u001b[0m \u001b[0mperiod\u001b[0m\u001b[0;34m.\u001b[0m\u001b[0;34m\u001b[0m\u001b[0;34m\u001b[0m\u001b[0m\n\u001b[1;32m   1322\u001b[0m         \"\"\"\n\u001b[0;32m-> 1323\u001b[0;31m         \u001b[0;32mreturn\u001b[0m \u001b[0;34m[\u001b[0m\u001b[0mtext\u001b[0m\u001b[0;34m[\u001b[0m\u001b[0ms\u001b[0m\u001b[0;34m:\u001b[0m\u001b[0me\u001b[0m\u001b[0;34m]\u001b[0m \u001b[0;32mfor\u001b[0m \u001b[0ms\u001b[0m\u001b[0;34m,\u001b[0m \u001b[0me\u001b[0m \u001b[0;32min\u001b[0m \u001b[0mself\u001b[0m\u001b[0;34m.\u001b[0m\u001b[0mspan_tokenize\u001b[0m\u001b[0;34m(\u001b[0m\u001b[0mtext\u001b[0m\u001b[0;34m,\u001b[0m \u001b[0mrealign_boundaries\u001b[0m\u001b[0;34m)\u001b[0m\u001b[0;34m]\u001b[0m\u001b[0;34m\u001b[0m\u001b[0;34m\u001b[0m\u001b[0m\n\u001b[0m\u001b[1;32m   1324\u001b[0m \u001b[0;34m\u001b[0m\u001b[0m\n\u001b[1;32m   1325\u001b[0m     \u001b[0;32mdef\u001b[0m \u001b[0m_slices_from_text\u001b[0m\u001b[0;34m(\u001b[0m\u001b[0mself\u001b[0m\u001b[0;34m,\u001b[0m \u001b[0mtext\u001b[0m\u001b[0;34m)\u001b[0m\u001b[0;34m:\u001b[0m\u001b[0;34m\u001b[0m\u001b[0;34m\u001b[0m\u001b[0m\n",
      "\u001b[0;32m~/anaconda3/lib/python3.7/site-packages/nltk/tokenize/punkt.py\u001b[0m in \u001b[0;36mspan_tokenize\u001b[0;34m(self, text, realign_boundaries)\u001b[0m\n\u001b[1;32m   1311\u001b[0m         \u001b[0;32mif\u001b[0m \u001b[0mrealign_boundaries\u001b[0m\u001b[0;34m:\u001b[0m\u001b[0;34m\u001b[0m\u001b[0;34m\u001b[0m\u001b[0m\n\u001b[1;32m   1312\u001b[0m             \u001b[0mslices\u001b[0m \u001b[0;34m=\u001b[0m \u001b[0mself\u001b[0m\u001b[0;34m.\u001b[0m\u001b[0m_realign_boundaries\u001b[0m\u001b[0;34m(\u001b[0m\u001b[0mtext\u001b[0m\u001b[0;34m,\u001b[0m \u001b[0mslices\u001b[0m\u001b[0;34m)\u001b[0m\u001b[0;34m\u001b[0m\u001b[0;34m\u001b[0m\u001b[0m\n\u001b[0;32m-> 1313\u001b[0;31m         \u001b[0;32mfor\u001b[0m \u001b[0msl\u001b[0m \u001b[0;32min\u001b[0m \u001b[0mslices\u001b[0m\u001b[0;34m:\u001b[0m\u001b[0;34m\u001b[0m\u001b[0;34m\u001b[0m\u001b[0m\n\u001b[0m\u001b[1;32m   1314\u001b[0m             \u001b[0;32myield\u001b[0m \u001b[0;34m(\u001b[0m\u001b[0msl\u001b[0m\u001b[0;34m.\u001b[0m\u001b[0mstart\u001b[0m\u001b[0;34m,\u001b[0m \u001b[0msl\u001b[0m\u001b[0;34m.\u001b[0m\u001b[0mstop\u001b[0m\u001b[0;34m)\u001b[0m\u001b[0;34m\u001b[0m\u001b[0;34m\u001b[0m\u001b[0m\n\u001b[1;32m   1315\u001b[0m \u001b[0;34m\u001b[0m\u001b[0m\n",
      "\u001b[0;32m~/anaconda3/lib/python3.7/site-packages/nltk/tokenize/punkt.py\u001b[0m in \u001b[0;36m_realign_boundaries\u001b[0;34m(self, text, slices)\u001b[0m\n\u001b[1;32m   1352\u001b[0m         \"\"\"\n\u001b[1;32m   1353\u001b[0m         \u001b[0mrealign\u001b[0m \u001b[0;34m=\u001b[0m \u001b[0;36m0\u001b[0m\u001b[0;34m\u001b[0m\u001b[0;34m\u001b[0m\u001b[0m\n\u001b[0;32m-> 1354\u001b[0;31m         \u001b[0;32mfor\u001b[0m \u001b[0msl1\u001b[0m\u001b[0;34m,\u001b[0m \u001b[0msl2\u001b[0m \u001b[0;32min\u001b[0m \u001b[0m_pair_iter\u001b[0m\u001b[0;34m(\u001b[0m\u001b[0mslices\u001b[0m\u001b[0;34m)\u001b[0m\u001b[0;34m:\u001b[0m\u001b[0;34m\u001b[0m\u001b[0;34m\u001b[0m\u001b[0m\n\u001b[0m\u001b[1;32m   1355\u001b[0m             \u001b[0msl1\u001b[0m \u001b[0;34m=\u001b[0m \u001b[0mslice\u001b[0m\u001b[0;34m(\u001b[0m\u001b[0msl1\u001b[0m\u001b[0;34m.\u001b[0m\u001b[0mstart\u001b[0m \u001b[0;34m+\u001b[0m \u001b[0mrealign\u001b[0m\u001b[0;34m,\u001b[0m \u001b[0msl1\u001b[0m\u001b[0;34m.\u001b[0m\u001b[0mstop\u001b[0m\u001b[0;34m)\u001b[0m\u001b[0;34m\u001b[0m\u001b[0;34m\u001b[0m\u001b[0m\n\u001b[1;32m   1356\u001b[0m             \u001b[0;32mif\u001b[0m \u001b[0;32mnot\u001b[0m \u001b[0msl2\u001b[0m\u001b[0;34m:\u001b[0m\u001b[0;34m\u001b[0m\u001b[0;34m\u001b[0m\u001b[0m\n",
      "\u001b[0;32m~/anaconda3/lib/python3.7/site-packages/nltk/tokenize/punkt.py\u001b[0m in \u001b[0;36m_pair_iter\u001b[0;34m(it)\u001b[0m\n\u001b[1;32m    315\u001b[0m     \"\"\"\n\u001b[1;32m    316\u001b[0m     \u001b[0mit\u001b[0m \u001b[0;34m=\u001b[0m \u001b[0miter\u001b[0m\u001b[0;34m(\u001b[0m\u001b[0mit\u001b[0m\u001b[0;34m)\u001b[0m\u001b[0;34m\u001b[0m\u001b[0;34m\u001b[0m\u001b[0m\n\u001b[0;32m--> 317\u001b[0;31m     \u001b[0mprev\u001b[0m \u001b[0;34m=\u001b[0m \u001b[0mnext\u001b[0m\u001b[0;34m(\u001b[0m\u001b[0mit\u001b[0m\u001b[0;34m)\u001b[0m\u001b[0;34m\u001b[0m\u001b[0;34m\u001b[0m\u001b[0m\n\u001b[0m\u001b[1;32m    318\u001b[0m     \u001b[0;32mfor\u001b[0m \u001b[0mel\u001b[0m \u001b[0;32min\u001b[0m \u001b[0mit\u001b[0m\u001b[0;34m:\u001b[0m\u001b[0;34m\u001b[0m\u001b[0;34m\u001b[0m\u001b[0m\n\u001b[1;32m    319\u001b[0m         \u001b[0;32myield\u001b[0m \u001b[0;34m(\u001b[0m\u001b[0mprev\u001b[0m\u001b[0;34m,\u001b[0m \u001b[0mel\u001b[0m\u001b[0;34m)\u001b[0m\u001b[0;34m\u001b[0m\u001b[0;34m\u001b[0m\u001b[0m\n",
      "\u001b[0;32m~/anaconda3/lib/python3.7/site-packages/nltk/tokenize/punkt.py\u001b[0m in \u001b[0;36m_slices_from_text\u001b[0;34m(self, text)\u001b[0m\n\u001b[1;32m   1325\u001b[0m     \u001b[0;32mdef\u001b[0m \u001b[0m_slices_from_text\u001b[0m\u001b[0;34m(\u001b[0m\u001b[0mself\u001b[0m\u001b[0;34m,\u001b[0m \u001b[0mtext\u001b[0m\u001b[0;34m)\u001b[0m\u001b[0;34m:\u001b[0m\u001b[0;34m\u001b[0m\u001b[0;34m\u001b[0m\u001b[0m\n\u001b[1;32m   1326\u001b[0m         \u001b[0mlast_break\u001b[0m \u001b[0;34m=\u001b[0m \u001b[0;36m0\u001b[0m\u001b[0;34m\u001b[0m\u001b[0;34m\u001b[0m\u001b[0m\n\u001b[0;32m-> 1327\u001b[0;31m         \u001b[0;32mfor\u001b[0m \u001b[0mmatch\u001b[0m \u001b[0;32min\u001b[0m \u001b[0mself\u001b[0m\u001b[0;34m.\u001b[0m\u001b[0m_lang_vars\u001b[0m\u001b[0;34m.\u001b[0m\u001b[0mperiod_context_re\u001b[0m\u001b[0;34m(\u001b[0m\u001b[0;34m)\u001b[0m\u001b[0;34m.\u001b[0m\u001b[0mfinditer\u001b[0m\u001b[0;34m(\u001b[0m\u001b[0mtext\u001b[0m\u001b[0;34m)\u001b[0m\u001b[0;34m:\u001b[0m\u001b[0;34m\u001b[0m\u001b[0;34m\u001b[0m\u001b[0m\n\u001b[0m\u001b[1;32m   1328\u001b[0m             \u001b[0mcontext\u001b[0m \u001b[0;34m=\u001b[0m \u001b[0mmatch\u001b[0m\u001b[0;34m.\u001b[0m\u001b[0mgroup\u001b[0m\u001b[0;34m(\u001b[0m\u001b[0;34m)\u001b[0m \u001b[0;34m+\u001b[0m \u001b[0mmatch\u001b[0m\u001b[0;34m.\u001b[0m\u001b[0mgroup\u001b[0m\u001b[0;34m(\u001b[0m\u001b[0;34m'after_tok'\u001b[0m\u001b[0;34m)\u001b[0m\u001b[0;34m\u001b[0m\u001b[0;34m\u001b[0m\u001b[0m\n\u001b[1;32m   1329\u001b[0m             \u001b[0;32mif\u001b[0m \u001b[0mself\u001b[0m\u001b[0;34m.\u001b[0m\u001b[0mtext_contains_sentbreak\u001b[0m\u001b[0;34m(\u001b[0m\u001b[0mcontext\u001b[0m\u001b[0;34m)\u001b[0m\u001b[0;34m:\u001b[0m\u001b[0;34m\u001b[0m\u001b[0;34m\u001b[0m\u001b[0m\n",
      "\u001b[0;31mTypeError\u001b[0m: cannot use a string pattern on a bytes-like object"
     ]
    }
   ],
   "source": [
    "r.extract_keywords_from_text(text)"
   ]
  },
  {
   "cell_type": "code",
   "execution_count": 198,
   "metadata": {},
   "outputs": [],
   "source": []
  },
  {
   "cell_type": "markdown",
   "metadata": {},
   "source": [
    "when i try to perform in an iterating function, does not populate my new column with the information i want"
   ]
  },
  {
   "cell_type": "code",
   "execution_count": 204,
   "metadata": {},
   "outputs": [],
   "source": [
    "meta['key_words'] = \"\"\n",
    "\n",
    "for index, row in meta.iterrows():\n",
    "    description = row['description']\n",
    "    \n",
    "    r = Rake()\n",
    "    \n",
    "    r.extract_keywords_from_text(description)\n",
    "    \n",
    "    key_words_dict_scores = r.get_word_degrees()\n",
    " \n",
    "    row['key_words2'] = list(key_words_dict_scores.keys())"
   ]
  },
  {
   "cell_type": "code",
   "execution_count": 210,
   "metadata": {
    "scrolled": true
   },
   "outputs": [
    {
     "data": {
      "text/html": [
       "<div>\n",
       "<style scoped>\n",
       "    .dataframe tbody tr th:only-of-type {\n",
       "        vertical-align: middle;\n",
       "    }\n",
       "\n",
       "    .dataframe tbody tr th {\n",
       "        vertical-align: top;\n",
       "    }\n",
       "\n",
       "    .dataframe thead th {\n",
       "        text-align: right;\n",
       "    }\n",
       "</style>\n",
       "<table border=\"1\" class=\"dataframe\">\n",
       "  <thead>\n",
       "    <tr style=\"text-align: right;\">\n",
       "      <th></th>\n",
       "      <th>asin</th>\n",
       "      <th>salesRank</th>\n",
       "      <th>imUrl</th>\n",
       "      <th>categories</th>\n",
       "      <th>title</th>\n",
       "      <th>description</th>\n",
       "      <th>price</th>\n",
       "      <th>related</th>\n",
       "      <th>brand</th>\n",
       "      <th>Key_words</th>\n",
       "      <th>key_words2</th>\n",
       "      <th>key_words</th>\n",
       "    </tr>\n",
       "  </thead>\n",
       "  <tbody>\n",
       "    <tr>\n",
       "      <th>0</th>\n",
       "      <td>616719923X</td>\n",
       "      <td>{'Grocery &amp; Gourmet Food': 37305}</td>\n",
       "      <td>http://ecx.images-amazon.com/images/I/51LdEao6...</td>\n",
       "      <td>[[['grocery ,  gourmet food']]]</td>\n",
       "      <td>Japanese Kit Kat Maccha Green Tea Flavor (5 Ba...</td>\n",
       "      <td>Green Tea Flavor Kit Kat have quickly become t...</td>\n",
       "      <td>NaN</td>\n",
       "      <td>{'also_bought': ['B00FD63L5W', 'B0047YG5UY', '...</td>\n",
       "      <td>NaN</td>\n",
       "      <td></td>\n",
       "      <td></td>\n",
       "      <td></td>\n",
       "    </tr>\n",
       "    <tr>\n",
       "      <th>1</th>\n",
       "      <td>9742356831</td>\n",
       "      <td>{'Grocery &amp; Gourmet Food': 3434}</td>\n",
       "      <td>http://ecx.images-amazon.com/images/I/41pQp67A...</td>\n",
       "      <td>[[['grocery ,  gourmet food']]]</td>\n",
       "      <td>Mae Ploy Thai Green Curry Paste - 14 oz jar</td>\n",
       "      <td>Used to make various curry soups and stir fry ...</td>\n",
       "      <td>7.23</td>\n",
       "      <td>{'also_bought': ['B000EI2LLO', 'B000EICISA', '...</td>\n",
       "      <td>Mae Ploy</td>\n",
       "      <td></td>\n",
       "      <td></td>\n",
       "      <td></td>\n",
       "    </tr>\n",
       "    <tr>\n",
       "      <th>2</th>\n",
       "      <td>B00004S1C5</td>\n",
       "      <td>{'Kitchen &amp; Dining': 4494}</td>\n",
       "      <td>http://ecx.images-amazon.com/images/I/41F75K9F...</td>\n",
       "      <td>[[['grocery ,  gourmet food', 'cooking ,  baki...</td>\n",
       "      <td>Ateco Food Coloring Kit, 6 colors</td>\n",
       "      <td>From Easter eggs to colorful cookies, Spectrum...</td>\n",
       "      <td>9.76</td>\n",
       "      <td>{'also_bought': ['B0000CFMLT', 'B002PO3KBK', '...</td>\n",
       "      <td>HIC Harold Import Co.</td>\n",
       "      <td></td>\n",
       "      <td></td>\n",
       "      <td></td>\n",
       "    </tr>\n",
       "    <tr>\n",
       "      <th>4</th>\n",
       "      <td>B00005344V</td>\n",
       "      <td>{'Grocery &amp; Gourmet Food': 5034}</td>\n",
       "      <td>http://ecx.images-amazon.com/images/I/51H54cd-...</td>\n",
       "      <td>[[['grocery ,  gourmet food']]]</td>\n",
       "      <td>Traditional Medicinals Breathe Easy, 16-Count ...</td>\n",
       "      <td>For nearly forty years, we&amp;#x2019;ve been pass...</td>\n",
       "      <td>21.74</td>\n",
       "      <td>{'also_bought': ['B0009F3POE', 'B0009F3POO', '...</td>\n",
       "      <td>Traditional Medicinals</td>\n",
       "      <td></td>\n",
       "      <td></td>\n",
       "      <td></td>\n",
       "    </tr>\n",
       "    <tr>\n",
       "      <th>5</th>\n",
       "      <td>B0000537AF</td>\n",
       "      <td>{'Health &amp; Personal Care': 132146}</td>\n",
       "      <td>http://ecx.images-amazon.com/images/I/41pmuVri...</td>\n",
       "      <td>[[['grocery ,  gourmet food']]]</td>\n",
       "      <td>PowerBar ProteinPlus High Protein Bar, Vanilla...</td>\n",
       "      <td>The PowerBar ProteinPlus Protein Bar is a grea...</td>\n",
       "      <td>NaN</td>\n",
       "      <td>{'also_bought': ['B001U89ITK', 'B009VV7G60', '...</td>\n",
       "      <td>NaN</td>\n",
       "      <td></td>\n",
       "      <td></td>\n",
       "      <td></td>\n",
       "    </tr>\n",
       "  </tbody>\n",
       "</table>\n",
       "</div>"
      ],
      "text/plain": [
       "         asin                           salesRank  \\\n",
       "0  616719923X   {'Grocery & Gourmet Food': 37305}   \n",
       "1  9742356831    {'Grocery & Gourmet Food': 3434}   \n",
       "2  B00004S1C5          {'Kitchen & Dining': 4494}   \n",
       "4  B00005344V    {'Grocery & Gourmet Food': 5034}   \n",
       "5  B0000537AF  {'Health & Personal Care': 132146}   \n",
       "\n",
       "                                               imUrl  \\\n",
       "0  http://ecx.images-amazon.com/images/I/51LdEao6...   \n",
       "1  http://ecx.images-amazon.com/images/I/41pQp67A...   \n",
       "2  http://ecx.images-amazon.com/images/I/41F75K9F...   \n",
       "4  http://ecx.images-amazon.com/images/I/51H54cd-...   \n",
       "5  http://ecx.images-amazon.com/images/I/41pmuVri...   \n",
       "\n",
       "                                          categories  \\\n",
       "0                    [[['grocery ,  gourmet food']]]   \n",
       "1                    [[['grocery ,  gourmet food']]]   \n",
       "2  [[['grocery ,  gourmet food', 'cooking ,  baki...   \n",
       "4                    [[['grocery ,  gourmet food']]]   \n",
       "5                    [[['grocery ,  gourmet food']]]   \n",
       "\n",
       "                                               title  \\\n",
       "0  Japanese Kit Kat Maccha Green Tea Flavor (5 Ba...   \n",
       "1        Mae Ploy Thai Green Curry Paste - 14 oz jar   \n",
       "2                  Ateco Food Coloring Kit, 6 colors   \n",
       "4  Traditional Medicinals Breathe Easy, 16-Count ...   \n",
       "5  PowerBar ProteinPlus High Protein Bar, Vanilla...   \n",
       "\n",
       "                                         description  price  \\\n",
       "0  Green Tea Flavor Kit Kat have quickly become t...    NaN   \n",
       "1  Used to make various curry soups and stir fry ...   7.23   \n",
       "2  From Easter eggs to colorful cookies, Spectrum...   9.76   \n",
       "4  For nearly forty years, we&#x2019;ve been pass...  21.74   \n",
       "5  The PowerBar ProteinPlus Protein Bar is a grea...    NaN   \n",
       "\n",
       "                                             related                   brand  \\\n",
       "0  {'also_bought': ['B00FD63L5W', 'B0047YG5UY', '...                     NaN   \n",
       "1  {'also_bought': ['B000EI2LLO', 'B000EICISA', '...                Mae Ploy   \n",
       "2  {'also_bought': ['B0000CFMLT', 'B002PO3KBK', '...   HIC Harold Import Co.   \n",
       "4  {'also_bought': ['B0009F3POE', 'B0009F3POO', '...  Traditional Medicinals   \n",
       "5  {'also_bought': ['B001U89ITK', 'B009VV7G60', '...                     NaN   \n",
       "\n",
       "  Key_words key_words2 key_words  \n",
       "0                                 \n",
       "1                                 \n",
       "2                                 \n",
       "4                                 \n",
       "5                                 "
      ]
     },
     "execution_count": 210,
     "metadata": {},
     "output_type": "execute_result"
    }
   ],
   "source": [
    "meta.head()"
   ]
  },
  {
   "cell_type": "code",
   "execution_count": null,
   "metadata": {},
   "outputs": [],
   "source": []
  },
  {
   "cell_type": "markdown",
   "metadata": {},
   "source": [
    "when i try on one string of text, it works"
   ]
  },
  {
   "cell_type": "code",
   "execution_count": 200,
   "metadata": {},
   "outputs": [],
   "source": [
    "r.extract_keywords_from_text(text[0])"
   ]
  },
  {
   "cell_type": "code",
   "execution_count": 201,
   "metadata": {},
   "outputs": [
    {
     "data": {
      "text/plain": [
       "defaultdict(<function rake_nltk.rake.Rake._build_word_co_occurance_graph.<locals>.<lambda>()>,\n",
       "            {'snack': 1,\n",
       "             'sweet': 6,\n",
       "             'maccha': 12,\n",
       "             'green': 17,\n",
       "             'tea': 17,\n",
       "             'flavor': 11,\n",
       "             'mixed': 6,\n",
       "             'want': 1,\n",
       "             'would': 1,\n",
       "             'limited': 2,\n",
       "             'supply': 2,\n",
       "             'miss': 1,\n",
       "             'japan': 1,\n",
       "             'crispy': 2,\n",
       "             'wafer': 2,\n",
       "             'perfected': 1,\n",
       "             'bag': 6,\n",
       "             'contains': 6,\n",
       "             '12': 6,\n",
       "             'individually': 6,\n",
       "             'wrapped': 6,\n",
       "             'bars': 6,\n",
       "             'creamy': 3,\n",
       "             'white': 3,\n",
       "             'chocolate': 3,\n",
       "             'nestle': 1,\n",
       "             'flavored': 6,\n",
       "             'kit': 11,\n",
       "             'kat': 11,\n",
       "             'quickly': 2,\n",
       "             'become': 2,\n",
       "             'sought': 1,\n",
       "             'epic': 2,\n",
       "             'snacks': 2})"
      ]
     },
     "execution_count": 201,
     "metadata": {},
     "output_type": "execute_result"
    }
   ],
   "source": [
    "r.get_word_degrees()"
   ]
  },
  {
   "cell_type": "code",
   "execution_count": null,
   "metadata": {},
   "outputs": [],
   "source": []
  },
  {
   "cell_type": "code",
   "execution_count": null,
   "metadata": {},
   "outputs": [],
   "source": []
  },
  {
   "cell_type": "code",
   "execution_count": null,
   "metadata": {},
   "outputs": [],
   "source": []
  },
  {
   "cell_type": "markdown",
   "metadata": {},
   "source": [
    "# TFIDF , Truncated SVD and KMeans"
   ]
  },
  {
   "cell_type": "code",
   "execution_count": 224,
   "metadata": {},
   "outputs": [
    {
     "data": {
      "text/html": [
       "<div>\n",
       "<style scoped>\n",
       "    .dataframe tbody tr th:only-of-type {\n",
       "        vertical-align: middle;\n",
       "    }\n",
       "\n",
       "    .dataframe tbody tr th {\n",
       "        vertical-align: top;\n",
       "    }\n",
       "\n",
       "    .dataframe thead th {\n",
       "        text-align: right;\n",
       "    }\n",
       "</style>\n",
       "<table border=\"1\" class=\"dataframe\">\n",
       "  <thead>\n",
       "    <tr style=\"text-align: right;\">\n",
       "      <th></th>\n",
       "      <th>asin</th>\n",
       "      <th>salesRank</th>\n",
       "      <th>imUrl</th>\n",
       "      <th>categories</th>\n",
       "      <th>title</th>\n",
       "      <th>description</th>\n",
       "      <th>price</th>\n",
       "      <th>related</th>\n",
       "      <th>brand</th>\n",
       "      <th>Key_words</th>\n",
       "      <th>key_words2</th>\n",
       "      <th>key_words</th>\n",
       "    </tr>\n",
       "  </thead>\n",
       "  <tbody>\n",
       "    <tr>\n",
       "      <th>0</th>\n",
       "      <td>616719923X</td>\n",
       "      <td>{'Grocery &amp; Gourmet Food': 37305}</td>\n",
       "      <td>http://ecx.images-amazon.com/images/I/51LdEao6...</td>\n",
       "      <td>[[['grocery ,  gourmet food']]]</td>\n",
       "      <td>Japanese Kit Kat Maccha Green Tea Flavor (5 Ba...</td>\n",
       "      <td>Green Tea Flavor Kit Kat have quickly become t...</td>\n",
       "      <td>NaN</td>\n",
       "      <td>{'also_bought': ['B00FD63L5W', 'B0047YG5UY', '...</td>\n",
       "      <td>NaN</td>\n",
       "      <td></td>\n",
       "      <td></td>\n",
       "      <td></td>\n",
       "    </tr>\n",
       "    <tr>\n",
       "      <th>1</th>\n",
       "      <td>9742356831</td>\n",
       "      <td>{'Grocery &amp; Gourmet Food': 3434}</td>\n",
       "      <td>http://ecx.images-amazon.com/images/I/41pQp67A...</td>\n",
       "      <td>[[['grocery ,  gourmet food']]]</td>\n",
       "      <td>Mae Ploy Thai Green Curry Paste - 14 oz jar</td>\n",
       "      <td>Used to make various curry soups and stir fry ...</td>\n",
       "      <td>7.23</td>\n",
       "      <td>{'also_bought': ['B000EI2LLO', 'B000EICISA', '...</td>\n",
       "      <td>Mae Ploy</td>\n",
       "      <td></td>\n",
       "      <td></td>\n",
       "      <td></td>\n",
       "    </tr>\n",
       "    <tr>\n",
       "      <th>2</th>\n",
       "      <td>B00004S1C5</td>\n",
       "      <td>{'Kitchen &amp; Dining': 4494}</td>\n",
       "      <td>http://ecx.images-amazon.com/images/I/41F75K9F...</td>\n",
       "      <td>[[['grocery ,  gourmet food', 'cooking ,  baki...</td>\n",
       "      <td>Ateco Food Coloring Kit, 6 colors</td>\n",
       "      <td>From Easter eggs to colorful cookies, Spectrum...</td>\n",
       "      <td>9.76</td>\n",
       "      <td>{'also_bought': ['B0000CFMLT', 'B002PO3KBK', '...</td>\n",
       "      <td>HIC Harold Import Co.</td>\n",
       "      <td></td>\n",
       "      <td></td>\n",
       "      <td></td>\n",
       "    </tr>\n",
       "    <tr>\n",
       "      <th>4</th>\n",
       "      <td>B00005344V</td>\n",
       "      <td>{'Grocery &amp; Gourmet Food': 5034}</td>\n",
       "      <td>http://ecx.images-amazon.com/images/I/51H54cd-...</td>\n",
       "      <td>[[['grocery ,  gourmet food']]]</td>\n",
       "      <td>Traditional Medicinals Breathe Easy, 16-Count ...</td>\n",
       "      <td>For nearly forty years, we&amp;#x2019;ve been pass...</td>\n",
       "      <td>21.74</td>\n",
       "      <td>{'also_bought': ['B0009F3POE', 'B0009F3POO', '...</td>\n",
       "      <td>Traditional Medicinals</td>\n",
       "      <td></td>\n",
       "      <td></td>\n",
       "      <td></td>\n",
       "    </tr>\n",
       "    <tr>\n",
       "      <th>5</th>\n",
       "      <td>B0000537AF</td>\n",
       "      <td>{'Health &amp; Personal Care': 132146}</td>\n",
       "      <td>http://ecx.images-amazon.com/images/I/41pmuVri...</td>\n",
       "      <td>[[['grocery ,  gourmet food']]]</td>\n",
       "      <td>PowerBar ProteinPlus High Protein Bar, Vanilla...</td>\n",
       "      <td>The PowerBar ProteinPlus Protein Bar is a grea...</td>\n",
       "      <td>NaN</td>\n",
       "      <td>{'also_bought': ['B001U89ITK', 'B009VV7G60', '...</td>\n",
       "      <td>NaN</td>\n",
       "      <td></td>\n",
       "      <td></td>\n",
       "      <td></td>\n",
       "    </tr>\n",
       "  </tbody>\n",
       "</table>\n",
       "</div>"
      ],
      "text/plain": [
       "         asin                           salesRank  \\\n",
       "0  616719923X   {'Grocery & Gourmet Food': 37305}   \n",
       "1  9742356831    {'Grocery & Gourmet Food': 3434}   \n",
       "2  B00004S1C5          {'Kitchen & Dining': 4494}   \n",
       "4  B00005344V    {'Grocery & Gourmet Food': 5034}   \n",
       "5  B0000537AF  {'Health & Personal Care': 132146}   \n",
       "\n",
       "                                               imUrl  \\\n",
       "0  http://ecx.images-amazon.com/images/I/51LdEao6...   \n",
       "1  http://ecx.images-amazon.com/images/I/41pQp67A...   \n",
       "2  http://ecx.images-amazon.com/images/I/41F75K9F...   \n",
       "4  http://ecx.images-amazon.com/images/I/51H54cd-...   \n",
       "5  http://ecx.images-amazon.com/images/I/41pmuVri...   \n",
       "\n",
       "                                          categories  \\\n",
       "0                    [[['grocery ,  gourmet food']]]   \n",
       "1                    [[['grocery ,  gourmet food']]]   \n",
       "2  [[['grocery ,  gourmet food', 'cooking ,  baki...   \n",
       "4                    [[['grocery ,  gourmet food']]]   \n",
       "5                    [[['grocery ,  gourmet food']]]   \n",
       "\n",
       "                                               title  \\\n",
       "0  Japanese Kit Kat Maccha Green Tea Flavor (5 Ba...   \n",
       "1        Mae Ploy Thai Green Curry Paste - 14 oz jar   \n",
       "2                  Ateco Food Coloring Kit, 6 colors   \n",
       "4  Traditional Medicinals Breathe Easy, 16-Count ...   \n",
       "5  PowerBar ProteinPlus High Protein Bar, Vanilla...   \n",
       "\n",
       "                                         description  price  \\\n",
       "0  Green Tea Flavor Kit Kat have quickly become t...    NaN   \n",
       "1  Used to make various curry soups and stir fry ...   7.23   \n",
       "2  From Easter eggs to colorful cookies, Spectrum...   9.76   \n",
       "4  For nearly forty years, we&#x2019;ve been pass...  21.74   \n",
       "5  The PowerBar ProteinPlus Protein Bar is a grea...    NaN   \n",
       "\n",
       "                                             related                   brand  \\\n",
       "0  {'also_bought': ['B00FD63L5W', 'B0047YG5UY', '...                     NaN   \n",
       "1  {'also_bought': ['B000EI2LLO', 'B000EICISA', '...                Mae Ploy   \n",
       "2  {'also_bought': ['B0000CFMLT', 'B002PO3KBK', '...   HIC Harold Import Co.   \n",
       "4  {'also_bought': ['B0009F3POE', 'B0009F3POO', '...  Traditional Medicinals   \n",
       "5  {'also_bought': ['B001U89ITK', 'B009VV7G60', '...                     NaN   \n",
       "\n",
       "  Key_words key_words2 key_words  \n",
       "0                                 \n",
       "1                                 \n",
       "2                                 \n",
       "4                                 \n",
       "5                                 "
      ]
     },
     "execution_count": 224,
     "metadata": {},
     "output_type": "execute_result"
    }
   ],
   "source": [
    "meta.head()"
   ]
  },
  {
   "cell_type": "code",
   "execution_count": 225,
   "metadata": {},
   "outputs": [],
   "source": [
    "text = meta.description.values"
   ]
  },
  {
   "cell_type": "code",
   "execution_count": 226,
   "metadata": {},
   "outputs": [],
   "source": [
    "titles = meta.title.values"
   ]
  },
  {
   "cell_type": "code",
   "execution_count": 227,
   "metadata": {},
   "outputs": [
    {
     "name": "stdout",
     "output_type": "stream",
     "text": [
      "[[0. 0. 0. ... 0. 0. 0.]\n",
      " [0. 0. 0. ... 0. 0. 0.]\n",
      " [0. 0. 0. ... 0. 0. 0.]\n",
      " ...\n",
      " [0. 0. 0. ... 0. 0. 0.]\n",
      " [0. 0. 0. ... 0. 0. 0.]\n",
      " [0. 0. 0. ... 0. 0. 0.]]\n",
      "['00', '000', '000g', '000mg', '007810', '01', '0153', '0174', '02', '033617000187', '036192122848', '04', '041', '041508300360', '05', '0550', '05mg', '071998000013', '075779311107', '076808001464', '076808001471', '076808001785', '076808001792', '076808002515', '077330530057', '089836', '089836001917', '089836002624', '089836007810', '089836023056', '08lb', '08oz', '09', '094776078813', '094776078820', '096619181674item', '0cm', '0fat', '0g', '0gcholesterol', '0gnutritional', '0mg', '0mgprotein', '0oz', '0px', '0ysdarri', '0z', '10', '100', '1000', '1000s', '1005', '100c', '100ct', '100fat', '100g', '100mg', '100percent', '100th', '101', '1015', '102', '104', '1041', '105f', '107', '107g', '1090', '10g', '10mg', '10oz', '10px', '10x', '11', '110', '110288', '111', '111775', '112', '113', '1139', '113g', '114', '114f', '115', '116', '1160', '117', '118', '11g', '12', '120', '1200', '1200s', '120curcumin', '120mg', '121', '12356and', '12365and', '12372and', '12414and', '12452and', '12459and', '12469and', '12474', '12489and', '125', '12516', '126', '128', '12g', '12lb', '12oz', '12pack', '12px', '12th', '12x', '12x1', '13', '130', '1300', '1300mg', '130mg', '131', '13162', '133', '1350', '1392', '13g', '13mg', '13mm', '13oz', '13th', '14', '140', '1400', '1440', '1441', '145', '146', '148', '149', '14g', '14oz', '14sodium', '14th', '15', '150', '1500', '150mg', '151', '1519', '153', '1552', '157', '15g', '15mg', '15oz', '15x', '16', '160', '160ct', '161', '1632', '165', '1679', '168', '16g', '16oz', '16th', '16to12', '17', '170', '1700', '1700s', '1706', '170g', '173', '174', '175', '1753', '1760', '1765', '176f', '1770s', '1777', '1780', '179g', '17g', '17mg', '17th', '18', '180', '1800', '1800s', '1804', '180g', '1813', '1814', '181679', '1830', '1830s', '1837', '1839', '1840', '1842', '1845', '1849', '1850s', '1851', '1859', '1860', '1860s', '1861', '1865', '1866', '1867', '1868', '1869', '1872', '1876', '1877', '1878', '1880', '1882', '1884', '1886', '1887', '1888', '1889', '1890', '1890s', '1891', '1892', '1893', '1894', '1895', '1896', '1897', '1898', '1899', '18g', '18mg', '18oz', '18rabbits', '18s', '18th', '19', '190', '1900', '1900s', '1901', '1902', '1903', '1904', '1906', '1908', '1909', '1910', '1912', '1913', '1914', '1915', '1916', '1917', '1918', '1919', '1920', '1920s', '1922', '1923', '1924', '1925', '1926', '1927', '1928', '1929', '1930', '1930s', '1931', '1932', '1933', '1934', '1935', '1936', '1937', '1938', '1939', '1940', '1940s', '1941', '1943', '1944', '1945', '1946', '1948', '1949', '1949obici', '1950', '1952', '1954', '1958', '1959', '196', '1960', '1961', '1962', '1963', '1964', '1965', '1966', '1967', '1968', '1969', '1970', '1970s', '1971', '1972', '1973', '1974', '1975', '1976', '1977', '1978', '1979', '198', '1980', '1980s', '1981', '1982', '1983', '1984', '1985', '1986', '1987', '1988', '1989', '1990', '1990s', '1991', '1992', '1993', '1994', '1995', '1996', '1997', '1998', '1999', '19g', '19th', '1g', '1gprotein', '1gsodium', '1gsugar', '1gsugars', '1kg', '1lb', '1mm', '1oz', '1px', '1replace', '1st', '1x', '1x1lb', '20', '200', '2000', '2001', '2002', '2003', '2004', '2005', '2006', '2007', '2008', '2009', '200g', '200mg', '2010', '2011', '2012', '2013', '2014', '20351and', '20820and', '20ct', '20g', '20mg', '20px', '21', '210', '210mg', '212', '213', '21g', '21st', '22', '220', '224613', '225', '226g', '227', '227977', '227g', '228', '22823and', '22825and', '22902and', '22g', '23', '230', '233', '236', '236ml', '23831r', '23g', '24', '240', '2400', '240bags', '247', '24ct', '24oz', '25', '250', '2500', '250g', '250mg', '250px', '252', '253', '25g', '25mg', '25oz', '26', '2600mg', '265', '27', '270', '275', '27833', '27g', '28', '280', '280mg', '285g', '28982and', '28g', '29', '290', '290mg', '296', '29992', '29g', '29oz', '2g', '2gr', '2gtrans', '2in1', '2l', '2lb', '2lbs', '2master', '2nd', '2oz', '2px', '2x', '30', '300', '3000', '303', '30333and', '30g', '30mg', '30oz', '30s', '31', '310mg', '31958', '31g', '32', '325', '32600', '32993and', '32g', '32oz', '33', '330', '33g', '34', '340', '34146', '34g', '35', '350', '350f', '354', '355', '35ct', '35th', '36', '360', '363', '3671', '36g', '37', '370', '3708', '375', '375g', '38', '380', '380ct', '380ingredients', '39', '390', '39978004000', '3all', '3g', '3gsugar', '3lb', '3lbs', '3mm', '3oz', '3pc', '3rd', '3s', '3serving', '3x', '40', '400', '4000', '4000mg', '400g', '400mg', '402', '40635', '40635and', '407', '4094', '4097', '40g', '41', '410mg', '41389', '414', '41403', '42', '420', '420mg', '425', '425mg', '427', '428', '42g', '43', '437', '44', '440', '440mg', '44oz', '45', '450', '4500', '453', '454', '454g', '45mg', '45oz', '46', '46403', '465g', '47', '473ml', '475', '48', '485', '485f', '48g', '49', '498', '49g', '4g', '4lb', '4ml', '4oz', '4pack', '4th', '4x', '50', '500', '5000', '500g', '500ml', '50g', '50pkts', '51', '52', '520', '521', '53', '533', '535', '538g', '539', '54', '544', '55', '550', '5539', '55g', '56', '566', '567', '56fl', '56oz', '57', '570', '5719', '5737', '575', '5752', '577', '58', '580', '588', '59', '590', '595', '596', '5cm', '5em', '5g', '5gfiber', '5gsodium', '5gtrans', '5km', '5lb', '5lbs', '5mg', '5mgcarbohydrate', '5oz', '5th', '5x', '60', '600', '609722798808', '60ml', '6137343', '615', '6194435', '6194443', '62', '6203921', '6208904', '6215305', '622', '6222', '626412', '63', '630mg', '631', '64', '640476', '640616', '65', '650', '65g', '65oz', '66', '667803001957', '66oz', '67', '678', '68', '680', '6800', '69', '690', '696', '6dinty', '6g', '6gsaturated', '6lb', '6oz', '6pk', '6s', '6th', '6x', '6x1', '6x10oz', '6x12oz', '6x16oz', '70', '700', '70mg', '71', '71g', '72', '721661458312', '721661458336', '72oz', '73', '73490180026', '73oz', '74', '75', '750', '750g', '750ml', '75amount', '75ct', '75oz', '75th', '76', '760', '76g', '77', '772', '7733053005', '77g', '78', '788mg', '79', '79126714009', '7g', '7gfiber', '7oz', '80', '800', '800g', '80c', '80ct', '80f', '80g', '80mg', '80mgm', '81', '810', '82', '8211', '8212', '8216', '8217', '8220', '8221', '8230', '82g', '84', '8482', '85', '855', '85f', '85gms', '85oz', '86', '860', '8618', '8619', '87', '8722', '877', '88', '885g', '889', '89', '89177', '8calories', '8g', '8oz', '8th', '90', '900', '900g', '907', '90s', '90total', '9120', '9160', '92', '920', '92673', '93', '930', '931', '935', '94', '943g', '946', '949', '95', '950', '96', '97', '98', '98f', '99', '991', '999', '999999', '9dc4d8', '9fl', '9g', '9grams', '9greenbox', '9lbs', '9oz', '_new', 'a0', 'a1', 'a150', 'a16', 'aa', 'aaa', 'aah', 'aai', 'ab', 'abadir', 'abandoned', 'abbey', 'abbreviated', 'abd', 'abdominal', 'aberlour', 'abian', 'abians', 'abilities', 'ability', 'able', 'aboard', 'abounding', 'about', 'above', 'abraham', 'abrasive', 'abreast', 'abruzzo', 'absence', 'absent', 'absolute', 'absolutely', 'absorb', 'absorbed', 'absorber', 'absorbs', 'absorption', 'abundance', 'abundant', 'abundantly', 'abuse', 'acacia', 'academic', 'academy', 'acai', 'accent', 'accented', 'accents', 'accentuate', 'accentuated', 'accentuates', 'accept', 'acceptable', 'acceptance', 'accepted', 'access', 'accessible', 'accident', 'acclaimed', 'accolade', 'accolades', 'accommodate', 'accompanied', 'accompanies', 'accompaniment', 'accompaniments', 'accompany', 'accompanying', 'accompanyment', 'accomplished', 'accordance', 'according', 'account', 'accountability', 'accounts', 'accrued', 'accumulated', 'accumulates', 'accurate', 'accurately', 'accustomed', 'aceh', 'aceite', 'acerola', 'acesulfame', 'acetate', 'aches', 'achieve', 'achieved', 'achievement', 'achieves', 'achieving', 'achievone', 'aching', 'achva', 'aci', 'acid', 'acidallergy', 'acidexcellent', 'acidic', 'acidity', 'acids', 'acidy', 'acknowledged', 'acme', 'acquired', 'acquiring', 'acquisition', 'acre', 'acreage', 'acres', 'acrid', 'acronym', 'across', 'acrylic', 'act', 'acted', 'acting', 'action', 'actions', 'activate', 'activated', 'activating', 'activators', 'active', 'actively', 'actives', 'activism', 'activities', 'activity', 'actonel', 'acts', 'actual', 'actually', 'acute', 'ad', 'adagio', 'adapt', 'adaptability', 'adapted', 'adaptive', 'adaptogen', 'adaptogenic', 'adapts', 'add', 'added', 'addicted', 'addicting', 'addictive', 'addictively', 'addictives', 'adding', 'addition', 'additional', 'additionally', 'additions', 'additive', 'additives', 'additivesmake', 'address', 'addressed', 'adds', 'ade', 'adequate', 'adequately', 'adhere', 'adherence', 'adheres', 'adhering', 'adipose', 'adjust', 'adjustable', 'adjusted', 'adjusting', 'administration', 'admire', 'admit', 'admittedly', 'ado', 'adobo', 'adolph', 'adopt', 'adopted', 'adored', 'adornment', 'aduki', 'adult', 'adults', 'advance', 'advanced', 'advancement', 'advancements', 'advances', 'advantage', 'advantages', 'advent', 'adventure', 'adventurer', 'adventures', 'adventurous', 'adverse', 'adversely', 'advertise', 'advertised', 'advertisements', 'advertising', 'advice', 'advisable', 'advise', 'advocate', 'advocates', 'adzuki', 'ae', 'aegean', 'aerated', 'aeration', 'aereus', 'aeries', 'aesthetics', 'aestvum', 'af', 'afa', 'affair', 'affairs', 'affect', 'affected', 'affecting', 'affectionately', 'affects', 'affiliated', 'affiliation', 'affinity', 'afford', 'affordable', 'aficionado', 'aficionados', 'afield', 'afiyet', 'afraid', 'africa', 'african', 'africans', 'after', 'afterburner', 'afternoo', 'afternoon', 'afternoons', 'aftertaste', 'aftertaste4', 'afterwards', 'again', 'against', 'agar', 'agarophyte', 'agave', 'age', 'aged', 'agen', 'agencies', 'agency', 'agent', 'agents', 'ages', 'aggravate', 'aggressive', 'aggressively', 'agin', 'aging', 'aglut', 'ago', 'agradvel', 'agree', 'agreeable', 'agreed', 'agrees', 'agribusiness', 'agricultural', 'agriculture', 'agriculturists', 'agro', 'agua', 'aguas', 'agung', 'ah', 'ahead', 'ahem', 'ahmad', 'ahmed', 'ahoy', 'ahumado', 'ai', 'aichi', 'aid', 'aides', 'aiding', 'aids', 'ailments', 'aim', 'aimed', 'ain', 'air', 'airborne', 'aires', 'airheads', 'airports', 'airtight', 'airy', 'aisle', 'aisles', 'ajawan', 'aji', 'ajinomoto', 'ajmera', 'ajo', 'ajwain', 'ak', 'aka', 'aker', 'akin', 'al', 'ala', 'alabama', 'alacer', 'alae', 'alaea', 'alan', 'alanine', 'alaotra', 'alarm', 'alaska', 'alaskan', 'alba', 'albacore', 'albanese', 'alberts', 'albizia', 'alcaline', 'alchemist', 'alchemy', 'alcohol', 'alcohol5', 'alcoholic', 'alcohols', 'aldente', 'alder', 'alderwood', 'ale', 'alert', 'alertness', 'alessi', 'alexander', 'alexia', 'alfalfa', 'alfred', 'alfredo', 'alga', 'algae', 'algal', 'algerian', 'alginate', 'algnic', 'alias', 'align', 'aligning', 'alike', 'alive', 'alkali', 'alkaline', 'alkalinity', 'alkalinized', 'alkalized', 'alkalizes', 'alkalizing', 'alkaloid', 'alkaloids', 'all', 'allegro', 'allens', 'allergen', 'allergens', 'allergic', 'allergies', 'allergy', 'allergyfor', 'alleviate', 'alleviates', 'alley', 'alliance', 'allium', 'allocate', 'allow', 'allowance', 'allowed', 'allowing', 'allows', 'allsorts', 'allspice', 'alluring', 'ally', 'alma', 'almond', 'almondmilk', 'almonds', 'almost', 'alo', 'aloe', 'aloha', 'alone', 'along', 'alongside', 'alpen', 'alpha', 'alphabet', 'alpine', 'alpo', 'alps', 'already', 'alright', 'also', 'alter', 'altered', 'altering', 'alternate', 'alternative', 'alternativelow', 'alternatives', 'although', 'altiplano', 'altitude', 'altitudes', 'alto', 'altogether', 'altoids', 'altura', 'aluminate', 'aluminum', 'alvin', 'always', 'am', 'amalaki', 'amalgamation', 'amansii', 'amaranth', 'amarena', 'amaretti', 'amaretto', 'amateur', 'amaze', 'amazed', 'amazing', 'amazingly', 'amazon', 'amazonian', 'amber', 'ambernew', 'ambiance', 'ambient', 'ambition', 'ambitions', 'ambrosia', 'ambrosial', 'amedeo', 'america', 'american', 'americana', 'americanized', 'americano', 'americans', 'americas', 'americastevia', 'americolor', 'amfissa', 'amiable', 'amid', 'amino', 'aminobutyric', 'aminos', 'aminoswhen', 'amish', 'amke', 'among', 'amongst', 'amore', 'amoretti', 'amorettiblog', 'amos', 'amount', 'amounted', 'amounts', 'amp', 'ample', 'amplify', 'amplifying', 'amsterdam', 'amt', 'amy', 'an', 'anaheim', 'analogous', 'analysis', 'analyzed', 'anandamide', 'anandamine', 'ancestors', 'ancestral', 'ancho', 'anchovies', 'anchovy', 'ancie', 'ancient', 'ancients', 'and', 'and32', 'andean', 'anderson', 'andes', 'andice', 'andnbsp', 'ando', 'andre', 'andrew', 'andrus', 'andseeds', 'andy', 'anellini', 'anesthesia', 'angel', 'angeles', 'anhydrous', 'ania', 'animal', 'animals', 'anise', 'aniseed', 'anit', 'anita', 'anitoxidant', 'anko', 'ann', 'anna', 'annatto', 'anne', 'annie', 'anniversary', 'announcement', 'announces', 'annual', 'annually', 'annuum', 'anorexia', 'another', 'ans', 'answer', 'answered', 'answering', 'answers', 'anthocyanins', 'anthon', 'anthony', 'anti', 'antiangiogenesis', 'antibacterial', 'antibiotic', 'antibiotics', 'anticarcinogen', 'anticarcinogens', 'anticipate', 'anticipating', 'anticipation', 'antidepressants', 'antidote', 'antigua', 'antimo', 'antioxidant', 'antioxidants', 'antioxidantsnatural', 'antioxident', 'antioxidents', 'antipasto', 'antique', 'antiquity', 'antiseptic', 'antonio', 'anxi', 'anxiety', 'any', 'anybody', 'anymore', 'anyone', 'anything', 'anytime', 'anytimebrew', 'anytimegreen', 'anytimethis', 'anyway', 'anywhere', 'apache', 'apart', 'apartment', 'apathy', 'aperitif', 'apes', 'aphrodisiac', 'apistan', 'apitherapy', 'apium', 'apocalypseaccording', 'apocalypsemaking', 'apollo', 'apologize', 'app', 'appassionato', 'appeal', 'appealing', 'appealingly', 'appeals', 'appear', 'appearance', 'appeared', 'appearence', 'appearing', 'appears', 'appease', 'appel', 'appetite', 'appetites', 'appetito', 'appetizer', 'appetizeropo', 'appetizers', 'appetizing', 'appetizingpackage', 'apple', 'apples', 'applesauce', 'appletini', 'applewood', 'application', 'applications', 'applied', 'applies', 'apply', 'applying', 'appointed', 'appreciate', 'appreciated', 'appreciation', 'apprenticed', 'approach', 'approachable', 'approached', 'appropriate', 'approval', 'approve', 'approved', 'approx', 'approximately', 'apprx', 'apres', 'apricot', 'apricots', 'apricotsdried', 'april', 'apron', 'aprox', 'apt', 'aptly', 'aqua', 'aquas', 'aquatic', 'aquifer', 'ar', 'ara', 'arabic', 'arabica', 'arabicas', 'arabs', 'ararat', 'arava', 'arbol', 'arbor', 'arborio', 'arcade', 'archeologists', 'archipelago', 'archives', 'arcor', 'arctic', 'ardent', 'are', 'are100', 'area', 'areas', 'aren', 'arenas', 'arereal', 'argencert', 'argentina', 'argentine', 'arginine', 'arguably', 'argue', 'arial', 'ariel', 'aristocratic', 'aristotelia', 'arizona', 'ark', 'arkansas', 'arm', 'arma', 'armed', 'armenian', 'armies', 'armour', 'arms', 'army', 'arnoldwhat', 'aroma', 'aromas', 'aromatic', 'aromatics', 'aromaticum', 'aromaticus', 'aromatized', 'aromen', 'arose', 'around', 'aroy', 'arpeggio', 'arran', 'arrange', 'arranged', 'arrangement', 'array', 'arriba', 'arrival', 'arrive', 'arrived', 'arrives', 'arriving', 'arrowhead', 'arrowroot', 'art', 'arterial', 'arteries', 'artesian', 'artful', 'artfully', 'arthritic', 'arthritis', 'arthur', 'arthurian', 'artic', 'artichoke', 'articificial', 'article', 'artifacts', 'artifical', 'artificia', 'artificial', 'artificial5', 'artificially', 'artificialthe', 'artillary', 'artisan', 'artisana', 'artisanal', 'artisanatm', 'artisans', 'artisanship', 'artist', 'artistic', 'artisticphilosophically', 'artistry', 'artists', 'arts', 'artwork', 'as', 'asafetida', 'asafoetida', 'asain', 'asaro', 'asbach', 'ascaractersticas', 'ascophyllum', 'ascorbic', 'ascorbyl', 'aseptic', 'aseptically', 'ash', 'ashamed', 'ashhas', 'ashwagandha', 'asia', 'asiago', 'asian', 'aside', 'ask', 'asked', 'asking', 'asks', 'asleep', 'asmuch', 'asnd', 'asociation', 'asoprocar', 'asparagus', 'aspartame', 'aspartic', 'aspca', 'aspect', 'aspects', 'aspen', 'aspirations', 'aspire', 'assam', 'assay', 'assembled', 'assertive', 'asset', 'assigned', 'assimilable', 'assimilate', 'assimilated', 'assimilation', 'assist', 'assistance', 'assisting', 'assists', 'associate', 'associated', 'associates', 'association', 'associationoregon', 'assorted', 'assortment', 'assortments', 'assumed', 'assurance', 'assurances', 'assure', 'assured', 'assures', 'assuring', 'aster', 'asters', 'asthma', 'astonishing', 'astonishingly', 'astound', 'astounding', 'astrigency', 'astringency', 'astringent', 'astronaut', 'astronauts', 'asymmetrically', 'at', 'atalanti', 'ate', 'atha', 'atheletes', 'athlete', 'athletes', 'athletic', 'atkins', 'atlanta', 'atlantic', 'atlas', 'atmosphere', 'atoc', 'atomic', 'atoms', 'atop', 'attached', 'attack', 'attacked', 'attain', 'attainable', 'attempting', 'attending', 'attention', 'attentive', 'attitude', 'attract', 'attracted', 'attracting', 'attractive', 'attractively', 'attractiveness', 'attracts', 'attributable', 'attribute', 'attributed', 'attributes', 'au', 'audience', 'audiences', 'audit', 'audited', 'augmented', 'augments', 'auguri', 'august', 'auml', 'aunt', 'aureus', 'aussie', 'austin', 'australia', 'australian', 'austria', 'austrian', 'authenic', 'authenically', 'authentic', 'authentically', 'authenticity', 'author', 'authored', 'authority', 'authors', 'auto', 'autodrip', 'autolyzed', 'automatically', 'automobiles', 'autumn', 'avaialble', 'availability', 'available', 'availavle', 'average', 'averages', 'avery', 'avid', 'avis', 'avitae', 'avo', 'avocado', 'avocados', 'avoid', 'avoiding', 'avt', 'avt40635', 'await', 'awaited', 'awaiting', 'awaits', 'awake', 'awaken', 'awakens', 'award', 'awarded', 'awards', 'aware', 'awareness', 'away', 'awesome', 'awesomeness', 'awful', 'awhile', 'awkward', 'ayala', 'aymara', 'ayurveda', 'ayurvedic', 'azar', 'aztec', 'azteca', 'aztecs', 'aztex', 'azuki', 'b000ltidr2', 'b1', 'b12', 'b2', 'b3', 'b5', 'b6', 'b70', 'b9', 'baba', 'babaghanoush', 'babies', 'babiesfor', 'babka', 'baby', 'babys', 'bacardi', 'back', 'backbone', 'backed', 'background', 'backpack', 'backpackers', 'backpacking', 'backpacks', 'backs', 'backseat', 'backwoods', 'backyard', 'bacon', 'baconnaise', 'bacony', 'bacteria', 'bacterial', 'bacteriological', 'bacterium', 'bad', 'bada', 'baden', 'badia', 'bag', 'bagasse', 'bagbay', 'bagel', 'bagels', 'bagged', 'baggie', 'bagpipe', 'bags', 'bags3', 'bags30', 'bagsfrontier', 'bagsyellow', 'bagthis', 'bagto', 'bai', 'baileys', 'baja', 'bake', 'bakeable', 'baked', 'baker', 'bakeries', 'bakers', 'bakery', 'bakes', 'baking', 'bakingdiscover', 'baklava', 'bakto', 'balance', 'balanced', 'balances', 'balancing', 'bali', 'ball', 'balloons', 'ballpark', 'balls', 'balm', 'balsa', 'balsamic', 'bam', 'bamba', 'bamboo', 'banahaw', 'banan', 'banana', 'bananalemoncolatrademark', 'bananas', 'band', 'bands', 'bang', 'bangers', 'bangkok', 'banish', 'bank', 'banks', 'banned', 'banner', 'banning', 'banquets', 'bantai', 'bantaicivetcoffee', 'bar', 'barat', 'barbados', 'barbara', 'barbarum', 'barbecue', 'barbecues', 'barbecuing', 'barbeque', 'barbequers', 'barbeques', 'barbera', 'barbq', 'barcode', 'bare', 'barely', 'bargain', 'bariani', 'barilla', 'barista', 'bark', 'barley', 'barn', 'barney', 'barnie', 'barnies', 'baron', 'baronet', 'barr', 'barre', 'barrel', 'barreled', 'barrell', 'barrels', 'barren', 'barrier', 'barriers', 'barrios', 'barry', 'barrys', 'bars', 'barschocolate', 'barstrademark', 'bartender', 'bartlett', 'base', 'baseball', 'based', 'basedtoddler', 'basement', 'bases', 'basic', 'basically', 'basics', 'basil', 'basilicious', 'basin', 'basis', 'basket', 'basketball', 'baskets', 'basking', 'basmati', 'basque', 'bassett', 'bassetts', 'basswood', 'bast', 'baste', 'basting', 'batavia', 'batavian', 'batch', 'batches', 'bath', 'bathed', 'bathroom', 'battenberg', 'batter', 'batteries', 'batters', 'battle', 'bauducco', 'baumaniere', 'bavarian', 'bawls', 'bay', 'bays', 'bazooka', 'bbq', 'bbqing', 'bbqs', 'bc', 'bdz', 'be', 'beach', 'beaches', 'beads', 'beam', 'beams', 'bean', 'beanfields', 'beanilla', 'beanitos', 'beans', 'beans100', 'beansbut', 'beanstm', 'bear', 'beard', 'bearer', 'bearing', 'bearitos', 'bears', 'beat', 'beaten', 'beaters', 'beats', 'beau', 'beautician', 'beauties', 'beautiful', 'beautifully', 'beauty', 'beaverton', 'became', 'because', 'beckonings', 'beckons', 'become', 'becomes', 'becoming', 'bed', 'bedelia', 'bedrock', 'beds', 'bedtime', 'bee', 'beef', 'beefs', 'beefto', 'beefy', 'beehives', 'beekeeper', 'beekeepers', 'beekeeping', 'been', 'beer', 'bees', 'beeswax', 'beet', 'beetles', 'beets', 'befefits', 'before', 'beg', 'began', 'begat', 'begging', 'begin', 'beginner', 'beginners', 'beginning', 'beginnings', 'begins', 'begs', 'beguiling', 'begun', 'behalf', 'behaves', 'behavior', 'behaviors', 'behemoths', 'behind', 'behold', 'beige', 'beignets', 'being', 'beit', 'bekir', 'belgian', 'belgium', 'belice', 'belief', 'believe', 'believed', 'believers', 'believes', 'believing', 'belize', 'bell', 'bella', 'bellagio', 'belle', 'bellies', 'bellingham', 'bellinis', 'bellino', 'bells', 'belly', 'belonging', 'belongings', 'belongs', 'beloved', 'below', 'belt', 'belts', 'belvita', 'ben', 'bend', 'bene', 'beneficial', 'benefit', 'benefiting', 'benefits', 'benficial', 'benfits', 'bengal', 'benifits', 'benoids', 'bent', 'bentley', 'bento', 'benzoate', 'berbere', 'berg', 'bergamia', 'bergamont', 'bergamot', 'bergin', 'berio', 'berkeley', 'berkley', 'berlin', 'bernard', 'berried', 'berries', 'berry', 'bertholletia', 'bertie', 'bertolli', 'bertoni', 'bes', 'besides', 'best', 'bestfoods', 'bestsellers', 'bestselling', 'bet', 'beta', 'beth', 'better', 'bettertm', 'betty', 'between', 'bev', 'beverage', 'beverages', 'beverages4', 'beverly', 'bevy', 'beware', 'bewitching', 'bewley', 'beyond', 'bg', 'bgh', 'bha', 'bhajan', 'bht', 'bhut', 'bi', 'bianca', 'biancolilla', 'bib', 'bible', 'biblical', 'bicarbonate', 'biennial', 'bieri', 'bifidobacteria', 'big', 'bigelow', 'bigger', 'biggest', 'biggi', 'bigs', 'bike', 'biking', 'bile', 'bilingual', 'bill', 'billboards', 'billing', 'billington', 'billion', 'billions', 'bills', 'biltong', 'bin', 'binder', 'binders', 'binding', 'binds', 'bing', 'bins', 'bio', 'bioactive', 'bioavailability', 'bioavailable', 'bioavailablethe', 'biochemist', 'biodegradable', 'biodiesel', 'biodiversity', 'biodynamic', 'bioengineered', 'bioflavonoids', 'biological', 'biologically', 'biologici', 'biologique', 'biomass', 'biomedical', 'bionatur', 'bionaturae', 'bioperine', 'biopsy', 'biotics', 'bipo', 'birch', 'bird', 'birds', 'birmingham', 'birth', 'birthday', 'birthdays', 'birthplace', 'biryani', 'biscay', 'biscoff', 'biscoffee', 'biscotti', 'biscuit', 'biscuiterie', 'biscuits', 'bison', 'bisphenol', 'bisque', 'bisques', 'bisquick', 'bissli', 'bisto', 'bisulfite', 'bit', 'bite', 'bites', 'bitestotally', 'biting', 'bitingly', 'bits', 'bitten', 'bitter', 'bitterness', 'bitters', 'bittersweet', 'bitty', 'black', 'blackberries', 'blackberry', 'blackened', 'blackstrap', 'bladder', 'blame', 'blanch', 'blanched', 'bland', 'blanket', 'blast', 'blastfueling', 'blasts', 'blastsgel', 'blaze', 'blbry', 'bleach', 'bleached', 'bleaches', 'bleaching', 'bleary', 'bleeding', 'blen', 'blend', 'blended', 'blender', 'blenders', 'blendhelps', 'blending', 'blendmaster', 'blends', 'bless', 'blessed', 'bleu', 'blind', 'blindfold', 'bliss', 'blissful', 'blister', 'blistered', 'blk', 'bloating', 'block', 'blocker', 'blocking', 'blocks', 'blog', 'blonde', 'blood', 'bloodstream', 'bloody', 'bloom', 'blooms', 'blossom', 'blossomed', 'blossoms', 'blow', 'blowing', 'blox', 'blt', 'blu', 'blue', 'blueberries', 'blueberry', 'blues', 'blunt', 'blushes', 'boar', 'board', 'boast', 'boasting', 'boasts', 'boat', 'boatloads', 'boats', 'bob', 'bobs', 'bodacious', 'bodice', 'bodied', 'bodies', 'bodily', 'body', 'bodying', 'bogs', 'boiardi', 'boil', 'boiled', 'boiling', 'boils', 'bold', 'boldblack', 'bolder', 'boldest', 'boldly', 'boldness', 'boletus', 'bolger', 'boliva', 'bolivia', 'bolivian', 'bologna', 'bolognese', 'bolstering', 'bombay', 'bon', 'bonavita', 'bonding', 'bone', 'boneless', 'bones', 'bonito', 'bonitofish', 'bonn', 'bonne', 'bonnie', 'bonomo', 'bonsai', 'bonus', 'booger', 'book', 'bookbinders', 'books', 'boom', 'boomers', 'boomi', 'boost', 'booster', 'boosteradaptogenic', 'boosting', 'boosts', 'boot', 'booths', 'boots', 'booty', 'borbone', 'borden', 'border', 'bordering', 'borders', 'bore', 'bored', 'boredom', 'borghetti', 'boring', 'borlotti', 'born', 'borne', 'borracho', 'borrowed', 'borsari', 'boschi', 'boss', 'boston', 'botan', 'botanic', 'botanical', 'botanicals', 'boterham', 'both', 'bott', 'bottle', 'bottled', 'bottlenet', 'bottles', 'bottling', 'bottom', 'botts', 'bottura', 'bouckville', 'bought', 'bouillon', 'bouillons', 'boulder', 'boulevard', 'bound', 'bountiful', 'bountifully', 'bounty', 'bouquet', 'bourbon', 'boutique', 'bovee', 'bovine', 'bowel', 'bowl', 'bowlful', 'bowls', 'bowlslower', 'box', 'box40', 'box50', 'box6', 'boxas', 'boxed', 'boxenfagrow', 'boxes', 'boxpowerbar', 'boy', 'boyardee', 'boys', 'bpa', 'br', 'brace', 'brach', 'brad', 'brag', 'braga', 'bragg', 'brags', 'brahmaputra', 'brahmi', 'braided', 'brain', 'brainchild', 'brained', 'brainer', 'brainy', 'braised', 'braises', 'bran', 'branches', 'branching', 'brand', 'branded', 'brandenburger', 'brandgluten', 'branding', 'brandnumi', 'brandour', 'brands', 'brands1', 'brandt', 'brandweek', 'brandy', 'brans', 'branston', 'brasil', 'brass', 'brattleboro', 'brauner', 'brave', 'brazen', 'brazil', 'brazilian', 'brazils', 'brc', 'bre', 'bread', 'breadcrumbs', 'breaded', 'breading', 'breadings', 'breads', 'breadsticks', 'breadth', 'break', 'breakage', 'breakdown', 'breakers', 'breakfast', 'breakfastbob', 'breakfasts', 'breaking', 'breakouts', 'breakrooms', 'breaks', 'breaksfast', 'breakstone', 'breakthrough', 'breakthroughs', 'breast', 'breastfeed', 'breasts', 'breath', 'breathe', 'breathmint', 'bred', 'breeding', 'breeze', 'breezes', 'bremner', 'brendan', 'bret', 'brethren', 'breton', 'breville', 'brew', 'brewed', 'brewer', 'brewers', 'brewing', 'brewingfrom', 'brews', 'brian', 'brick', 'bricks', 'bridal', 'bridge', 'bridges', 'bridgford', 'brief', 'briefcase', 'brien', 'bright', 'brighten', 'brightened', 'brightens', 'brighter', 'brightest', 'brightly', 'brightness', 'brigitte', 'briki', 'brilhante', 'brilliant', 'brilliantly', 'brim', 'brimming', 'brine', 'bring', 'bringers', 'bringing', 'brings', 'brining', 'brink', 'brisk', 'briskly', 'brisling', 'britain', 'brite', 'british', 'britt', 'brittany', 'brittle', 'brle', 'broad', 'broaden', 'broadened', 'broader', 'broadest', 'broadly', 'broccoli', 'brocoli', 'brodie', 'brodo', 'broe', 'broiled', 'broiling', 'broke', 'broken', 'bronchitis', 'bronco', 'bronner', 'bronze', 'broodbeleg', 'brook', 'brooklyn', 'brookside', 'bros', 'broth', 'brother', 'brothers', 'broths', 'brought', 'brown', 'browned', 'brownie', 'brownieholic', 'brownies', 'browning', 'brownish', 'browse', 'bru', 'bruise', 'bruises', 'brul', 'brulee', 'brun', 'brunch', 'brunero', 'brunswick', 'bruschetta', 'brush', 'brushing', 'brussels', 'bst', 'bubble', 'bubblegum', 'bubblemint', 'bubbles', 'bubbly', 'buccaneers', 'buck', 'buckets', 'bucks', 'buckwheat', 'bud', 'buddies', 'budding', 'buddy', 'budget', 'buds', 'buenaventura', 'buenos', 'buff', 'buffalo', 'buffet', 'bug', 'buggers', 'bugs', 'buhr', 'build', 'builder', 'builders', 'building', 'buildings', 'builds', 'buildup', 'built', 'buiscuits', 'bulang', 'bulb', 'bulgaria', 'bulge', 'bulgur', 'bulk', 'bulking', 'bull', 'bum', 'bumble', 'bumblebar', 'bumblebars', 'bumper', 'bumps', 'bun', 'bunch', 'bunches', 'bundles', 'bundt', 'bunn', 'bunnery', 'bunnies', 'bunny', 'buns', 'buon', 'buoyant', 'bur', 'burdock', 'burg', 'burger', 'burgers', 'burgundy', 'burke', 'burma', 'burmannii', 'burmese', 'burn', 'burned', 'burnham', 'burning', 'burns', 'burnt', 'burrito', 'burritos', 'burst', 'bursting', 'bursts', 'bus', 'bush', 'bushes', 'bushland', 'business', 'businesses', 'bustelo', 'busy', 'but', 'butcher', 'butler', 'butt', 'butter', 'butterball', 'buttercream', 'buttercrunch', 'buttered', 'butterfat', 'butterfinger', 'butterflies', 'buttermilk', 'buttermilk1', 'butternut', 'butters', 'butterscotch', 'butterwaffle', 'butterworth', 'buttery', 'button', 'buttondesigned', 'buttonyour', 'buy', 'buyers', 'buying', 'buys', 'buzz', 'buzzing', 'bvk', 'by', 'bye', 'bygone', 'byproducts', 'byron', 'byzantine', 'c0', 'c2max', 'c2maxpackaged', 'c2o', 'c2p', 'c3', 'ca', 'cabbage', 'cabin', 'cabinet', 'cacao', 'cacoa', 'cactus', 'cadbury', 'cadburys', 'caddy', 'cadilettante', 'cadillac', 'caesar', 'caf', 'cafe', 'cafecito', 'cafeffein', 'cafes', 'cafeterias', 'caff', 'caffe', 'caffeic', 'caffeinate', 'caffeinated', 'caffeinatedbody', 'caffeine', 'caffeineusage', 'cafix', 'caft', 'cage', 'cajohns', 'cajun', 'cake', 'cakes', 'caking', 'cal', 'calamity', 'calbee', 'calcium', 'calcium2', 'calciumsimilar', 'calculated', 'calculations', 'calcutta', 'cale', 'calendar', 'calfifornia', 'caliber', 'calibrated', 'calif', 'california', 'californian', 'californians', 'calimyrna', 'call', 'calle', 'called', 'callender', 'calling', 'callister', 'callout', 'calls', 'calm', 'calmative', 'calming', 'calms', 'calnaturale', 'caloric', 'calorically', 'calorie', 'calories', 'calorieskosher', 'caloriesno', 'calrose', 'calsicum', 'calzones', 'camacho', 'camano', 'camargue', 'camarillo', 'cambodia', 'camden', 'came', 'camel', 'camelia', 'camellia', 'cameron', 'camomile', 'camp', 'campaign', 'campaigns', 'campbell', 'campers', 'campestris', 'camphor', 'camping', 'camps', 'campus', 'camu', 'can', 'canada', 'canadian', 'canadians', 'canard', 'cancer', 'cancers', 'candida', 'candied', 'candies', 'candle', 'candles', 'candy', 'candycane', 'candyfloss', 'candywelcome', 'cane', 'canes', 'canfields', 'canister', 'canisters', 'cannabis', 'canned', 'cannellini', 'canneries', 'cannery', 'canning', 'cannister', 'cannisters', 'cannot', 'canoes', 'canola', 'canopy', 'cans', 'cant', 'cantaloupe', 'cantina', 'cap', 'cap100', 'capacity', 'cape', 'capelin', 'caper', 'caperberries', 'capers', 'capillaries', 'capita', 'capital', 'capouto', 'capp', 'capped', 'cappuccino', 'cappuccinos', 'capriccio', 'caps', 'capsaicin', 'capsicum', 'capsule', 'capsules', 'capsuleservings', 'captain', 'caption', 'captivating', 'captivatingly', 'capture', 'captured', 'captures', 'capturing', 'caputo', 'car', 'caractersticasprincipais', 'carafes', 'caramalized', 'caramel', 'caramelicious', 'caramelised', 'caramelize', 'caramelized', 'caramelly', 'caramels', 'caramely', 'caravan', 'caravans', 'caraway', 'carb', 'carbalose', 'carbohydrartes', 'carbohydrate', 'carbohydrate23', 'carbohydrates', 'carbon', 'carbonated', 'carbonation', 'carbquik', 'carbs', 'carbsabsolutely', 'carbsmart', 'carbsstart', 'card', 'cardamom', 'cardamon', 'cardboard', 'cardini', 'cardiovascular', 'cards', 'care', 'cared', 'career', 'careers', 'careful', 'carefully', 'carelight', 'cares', 'caress', 'caresses', 'caretakers', 'caribbean', 'caribou', 'caries', 'caring', 'carl', 'carmalizes', 'carmative', 'carmelina', 'carmelization', 'carmelized', 'carmichael', 'carminative', 'carnation', 'carnations', 'carne', 'carnes', 'carob', 'carolina', 'carotene', 'carotenes', 'carotenoids', 'carousel', 'carpenter', 'carr', 'carrageenan', 'carrbridge', 'carried', 'carrier', 'carriers', 'carries', 'carrington', 'carroll', 'carrot', 'carrotrecommended', 'carrots', 'carry', 'carrying', 'cars', 'cart', 'cartilage', 'carton', 'cartons', 'cartoon', 'cartridges', 'carts', 'carum', 'carved', 'carvi', 'caryaphyllus', 'casbah', 'cascade', 'cascadian', 'case', 'casein', 'caseinate', 'casera', 'cases', 'cash', 'cashew', 'cashews', 'casina', 'casing', 'casks', 'cassava', 'casserole', 'casseroles', 'cassia', 'caster', 'castile', 'castles', 'castor', 'casual', 'cat', 'catalano', 'catalog', 'catalogue', 'catalyst', 'catalyze', 'catch', 'catching', 'catchy', 'catechin', 'catechins', 'categories', 'category', 'catered', 'caterers', 'catering', 'catherine', 'cats', 'cattle', 'caucasian', 'caucasus', 'caught', 'cauliflower', 'cause', 'caused', 'causes', 'causing', 'caution', 'cavatappi', 'caveat', 'caveman', 'cavemen', 'cavender', 'caviar', 'cavitation', 'cavities', 'cavity', 'cay', 'cayenne', 'cayman', 'caza', 'cba', 'cbd', 'ccof', 'cdm', 'cdual', 'ce', 'ceasar', 'cebolla', 'cebu', 'cecco', 'ceci', 'cedarberg', 'cedarhouse', 'cederberg', 'cederburg', 'cedil', 'celebrate', 'celebrated', 'celebrates', 'celebrating', 'celebration', 'celebrations', 'celebratory', 'celebrities', 'celebrity', 'celery', 'celestial', 'celiac', 'celiacs', 'cell', 'cella', 'cellar', 'cellas', 'celle', 'cello', 'cellophane', 'cells', 'cellulose', 'celsius', 'celtic', 'celticvariety', 'celts', 'centennial', 'center', 'centerpiece', 'centerprovide', 'centers', 'cento', 'central', 'centre', 'centrifuge', 'centrifuged', 'cents', 'centuries', 'century', 'ceo', 'cepa', 'ceral', 'ceramic', 'cerasus', 'cereal', 'cerealif', 'cereals', 'ceremonial', 'ceremonies', 'ceremony', 'ceres', 'cerevisiae', 'cert', 'certain', 'certainly', 'certifed', 'certificate', 'certificates', 'certification', 'certified', 'certifiedapproved', 'certifiedcelestial', 'certifiedfreshness', 'certifiedtake', 'certifiedtm', 'certifiedwholesome', 'certifiers', 'ceviches', 'ceyln', 'ceylon', 'cezve', 'cfr', 'cgmp', 'ch', 'cha', 'chaat', 'chaats', 'chachere', 'chacheres', 'chahan', 'chai', 'chain', 'chains', 'chair', 'chairman', 'chalky', 'challah', 'challenge', 'challenges', 'challenging', 'chamber', 'chambord', 'chametz', 'chamomile', 'chamomint', 'chamonile', 'champ', 'champagne', 'champignon', 'champignons', 'champion', 'champions', 'championship', 'chance', 'chances', 'chandler', 'change', 'changeable', 'changecontinuous', 'changed', 'changemakers', 'changer', 'changes', 'changing', 'channa', 'channel', 'channels', 'chantea', 'chaokoh', 'chapter', 'char', 'character', 'characteristic', 'characteristics', 'characterize', 'characterized', 'characterizing', 'characters', 'charcoal', 'charge', 'charging', 'charitable', 'charities', 'charles', 'charleston', 'charlie', 'charm', 'charmin', 'charming', 'charms', 'charred', 'chart', 'chartreuse', 'charts', 'chase', 'chased', 'chat', 'chateau', 'chatfield', 'chatham', 'chcolate', 'chcoolate', 'cheap', 'cheaper', 'chebe', 'check', 'checking', 'checkout', 'checks', 'cheddar', 'cheddarspecificationsmade', 'cheddary', 'chee', 'cheeks', 'cheeky', 'cheerios', 'cheerleaders', 'cheery', 'cheese', 'cheeseburger', 'cheesecake', 'cheesecakes', 'cheesecrisps', 'cheesemakers', 'cheesemaking', 'cheeses', 'cheesy', 'cheetah', 'cheetos', 'cheez', 'cheezy', 'chef', 'chefs', 'chefshop', 'chemcials', 'chemical', 'chemically', 'chemicals', 'chemicalsnon', 'chemist', 'chemistry', 'chemotherapy', 'cheng', 'cherish', 'cherished', 'cherries', 'cherry', 'cherrybrook', 'cherrylishousness', 'cherrymint', 'cherrywood', 'chesapeake', 'chest', 'chestnut', 'chestnuts', 'chestnutsgefen', 'chests', 'chew', 'chewable', 'chewed', 'chewiness', 'chewing', 'chews', 'chewsat', 'chewsraspberrystrawberry', 'chewy', 'chex', 'chhole', 'chi', 'chia', 'chiapas', 'chicago', 'chick', 'chicken', 'chickens', 'chickpea', 'chickpeas', 'chicle', 'chicory', 'chief', 'chiefly', 'chifferi', 'child', 'childcare', 'childhood', 'childlike', 'children', 'childrenbecause', 'chile', 'chilean', 'chileheads', 'chilensis', 'chiles', 'chili', 'chilies', 'chilis', 'chill', 'chilled', 'chilli', 'chills', 'chimes', 'chimp', 'chimpanzee', 'china', 'chinese', 'ching', 'chip', 'chipinga', 'chipotle', 'chipotles', 'chipped', 'chips', 'chiquita', 'chitin', 'chiu', 'chive', 'chives', 'chlorella', 'chloride', 'chlorination', 'chlorine', 'chlorofluorocarbons', 'chlorogenic', 'chlorophyll', 'cho', 'choc', 'chocagave', 'chock', 'chocked', 'chockful', 'chockfull', 'choclate', 'choclolate', 'choco', 'chocoadehagel', 'chococonut', 'chocodream', 'chocofudge', 'chocoholic', 'chocola', 'chocoladehagel', 'chocolat', 'chocolate', 'chocolatebonus', 'chocolately', 'chocolatemaltedbiscuit', 'chocolatemint', 'chocolates', 'chocolatey', 'chocolatier', 'chocolatiers', 'chocolatiest', 'chocolatl', 'chocolaty', 'chocolcate', 'chocolove', 'choconut', 'choice', 'choice1', 'choices', 'choicest', 'cholera', 'cholesteral', 'cholesterol', 'cholesterol0', 'cholesterolno', 'cholestrol', 'choley', 'choline', 'cholula', 'choo', 'chooing', 'choose', 'chooses', 'choosey', 'choosing', 'chop', 'chopped', 'chops', 'chore', 'chose', 'chosen', 'chow', 'chowder', 'chowders', 'chowmein', 'choy', 'chraged', 'chreese', 'christened', 'christmas', 'christopher', 'chrome', 'chromium', 'chronic', 'chronicles', 'chrysanthmum', 'chu', 'chukazanmal', 'chun', 'chunk', 'chunked', 'chunks', 'chunky', 'church', 'churches', 'churned', 'churning', 'churros', 'chutney', 'chutneys', 'ciabatta', 'ciao', 'ciban', 'cider', 'cidermaking', 'cif', 'cigarette', 'cigarettes', 'cilantro', 'cincinnati', 'cinn', 'cinnabon', 'cinnamania', 'cinnamic', 'cinnamomum', 'cinnamon', 'cinnamony', 'cioccolati', 'circa', 'circle', 'circulate', 'circulation', 'circulatory', 'circumstances', 'circus', 'cities', 'citizen', 'citizens', 'citrate', 'citric', 'citron', 'citrus', 'citrusy', 'city', 'civet', 'civets', 'civilization', 'civilizations', 'cj', 'cl', 'cla', 'claim', 'claimed', 'claims', 'clam', 'clams', 'clarification', 'clarified', 'clarify', 'clarifying', 'clarity', 'clark', 'clasico', 'class', 'classes', 'classic', 'classically', 'classics', 'classified', 'classy', 'claw', 'claxton', 'clay', 'clayton', 'clean', 'cleaned', 'cleaner', 'cleaners', 'cleanest', 'cleaning', 'cleanliness', 'cleanly', 'cleans', 'cleanse', 'cleanser', 'cleanses', 'cleansing', 'cleanup', 'clear', 'cleared', 'clearer', 'clearjel', 'clearly', 'clemente', 'clementine', 'clemetine', 'cleveland', 'clever', 'cleverly', 'click', 'clicking', 'clientele', 'clients', 'clif', 'cliffs', 'clight', 'climate', 'climates', 'climatized', 'climb', 'climbing', 'cling', 'clings', 'clingstone', 'clinical', 'clinically', 'clip', 'clipper', 'clock', 'clocks', 'clog', 'clogging', 'close', 'closeable', 'closed', 'closely', 'closer', 'closes', 'closest', 'closet', 'closure', 'clothes', 'clotted', 'cloud', 'cloudberries', 'cloudiness', 'clouds', 'cloudy', 'clove', 'clover', 'cloverhill', 'cloves', 'cloying', 'cloyingly', 'club', 'clubs', 'clue', 'clump', 'cluster', 'clusters', 'clutter', 'cm', 'cm2', 'cm6', 'co', 'co2', 'coach', 'coagulant', 'coantains', 'coarse', 'coarsely', 'coarser', 'coast', 'coastal', 'coaster', 'coastline', 'coastlines', 'coat', 'coated', 'coatepec', 'coating', 'coatings', 'coats', 'coax', 'coaxes', 'cob', 'cobalamin', 'cobbler', 'cobblers', 'coc', 'coca', 'cock', 'cocktail', 'cocktails', 'coco', 'cocoa', 'cocoade', 'cocoas', 'cococrystals', 'cocohydro', 'cocomama', 'coconut', 'coconuts', 'coconutscold', 'coconuttastes', 'coconutty', 'cocos', 'cocowater', 'cod', 'code', 'coded', 'codeine', 'coeliacs', 'coexist', 'cofactors', 'coffe', 'coffee', 'coffeeartisan', 'coffeediedrich', 'coffeeexplore', 'coffeehouse', 'coffeehouses', 'coffeemaker', 'coffeemakers', 'coffeepackaging', 'coffeepot', 'coffees', 'coffeesfor', 'coffeewe', 'cofounders', 'cognitive', 'cohen', 'coho', 'coin', 'coined', 'cointreau', 'coke', 'cokes', 'cola', 'colada', 'coladas', 'colander', 'colas', 'cold', 'colder', 'colds', 'coleslaw', 'colgin', 'colic', 'collaborating', 'collaboration', 'collagen', 'collapse', 'collect', 'collected', 'collectible', 'collecting', 'collection', 'collections', 'collectiontm', 'collector', 'college', 'collins', 'collision', 'colman', 'colo', 'colombia', 'colombian', 'colon', 'colonial', 'colonies', 'colonists', 'colony', 'color', 'colorado', 'colorants', 'coloration', 'colored', 'colorful', 'coloring', 'coloringencourages', 'colorings', 'colorit', 'colors', 'colorssuitable', 'colour', 'coloured', 'colours', 'columbia', 'columbian', 'columbus', 'columela', 'com', 'comb', 'combat', 'combatants', 'combating', 'combed', 'combination', 'combinations', 'combine', 'combined', 'combines', 'combining', 'combo', 'combopr', 'combos', 'come', 'comeback', 'comer', 'comes', 'comfort', 'comfortable', 'comforted', 'comforting', 'comforts', 'comfy', 'cominations', 'comined', 'coming', 'comma', 'commands', 'commemorate', 'comment', 'comments', 'commerce', 'commercial', 'commercially', 'commercials', 'commi', 'commissioned', 'commit', 'commitment', 'commitments', 'committed', 'committee', 'committment', 'commodities', 'commodity', 'common', 'commonly', 'commonplace', 'communicate', 'communication', 'communitea', 'communities', 'community', 'commute', 'commuting', 'comorothis', 'compact', 'companies', 'companion', 'companions', 'company', 'companyarnott', 'comparable', 'comparably', 'comparative', 'comparatively', 'compare', 'compared', 'compares', 'comparison', 'comparisons', 'compartment', 'compassion', 'compassionate', 'compassioncaf', 'compatible', 'compelling', 'compete', 'competed', 'competing', 'competition', 'competition8', 'competitive', 'competitively', 'competitor', 'competitors', 'compiled', 'complaint', 'compleats', 'complement', 'complemented', 'complementing', 'complements', 'complete', 'completed', 'completely', 'completeness', 'complex', 'complexion', 'complexities', 'complexity', 'compliance', 'complicated', 'complications', 'complies', 'compliment', 'complimentary', 'compliments', 'comply', 'component', 'components', 'compose', 'composed', 'compositae', 'composite', 'composition', 'compost', 'compostable', 'composting', 'compotes', 'compound', 'compounded', 'compounds', 'comprehensive', 'compressed', 'comprised', 'comprises', 'comprising', 'compromise', 'compromised', 'compromises', 'compromising', 'computer', 'con', 'conacado', 'conagra', 'conagraandy', 'conagradavid', 'conagrahealthy', 'conagraslim', 'conceivable', 'conceived', 'concentrate', 'concentrated', 'concentrates', 'concentrating', 'concentration', 'concentrations', 'concept', 'concepts', 'concern', 'concerned', 'concerning', 'concerns', 'concert', 'concerto', 'concession', 'concessions', 'conching', 'concluded', 'conclusion', 'conclusive', 'concoct', 'concoction', 'concord', 'condense', 'condensed', 'condiment', 'condimento', 'condimentos', 'condiments', 'condition', 'conditioned', 'conditioner', 'conditioning', 'conditions', 'conduct', 'conducted', 'conduit', 'cone', 'cones', 'coney', 'confection', 'confectionary', 'confectioner', 'confectioners', 'confectionery', 'confections', 'confer', 'conferences', 'conferred', 'conferring', 'confidence', 'confident', 'confines', 'confirm', 'confirmed', 'confirms', 'confits', 'conforms', 'confucius', 'confused', 'confusion', 'congestion', 'congregations', 'conjugated', 'conjunction', 'conjure', 'conjures', 'conn', 'connaisseurs', 'connect', 'connected', 'connecticut', 'connecting', 'connection', 'connections', 'connective', 'connector', 'connects', 'connoisseur', 'connoisseurs', 'conquered', 'conquering', 'conquest', 'conquests', 'conquistadors', 'conrad', 'conscience', 'conscientious', 'conscientiously', 'conscious', 'consciousness', 'consensus', 'consequence', 'consequences', 'consequently', 'conservancy', 'conservation', 'conservative', 'conserve', 'conserves', 'conserving', 'consider', 'considerably', 'consideration', 'considerationsstudies', 'considered', 'considering', 'consignment', 'consist', 'consisted', 'consistency', 'consistent', 'consistently', 'consisting', 'consists', 'consorzio', 'constant', 'constantly', 'constipation', 'constitute', 'construction', 'consult', 'consultation', 'consumable', 'consume', 'consumed', 'consumer', 'consumers', 'consumes', 'consuming', 'consummate', 'consumption', 'contact', 'contacted', 'contacts', 'contadina', 'contain', 'contained', 'container', 'containers', 'containerthis', 'containing', 'contains', 'contaminants', 'contaminated', 'contamination', 'conte', 'contemplative', 'contemporaries', 'contemporary', 'content', 'contents', 'contest', 'contests', 'context', 'continent', 'continents', 'continually', 'continue', 'continued', 'continues', 'continuing', 'continuous', 'continuously', 'contm', 'contracting', 'contractions', 'contradiction', 'contraindications', 'contrast', 'contrasting', 'contribute', 'contributed', 'contributes', 'contributing', 'contribution', 'contributions', 'contributor', 'control', 'controlled', 'controllers', 'controllo', 'controls', 'convection', 'conveient', 'convenience', 'convenient', 'conveniently', 'conventional', 'conversation', 'conversion', 'conversions', 'convert', 'converted', 'converting', 'convey', 'conviction', 'convince', 'convinced', 'convincing', 'cook', 'cookbook', 'cookbooks', 'cooked', 'cooker', 'cookers', 'cookie', 'cookiemint', 'cookies', 'cookietrademark', 'cookin', 'cooking', 'cookoff', 'cooks', 'cookware', 'cool', 'cooled', 'cooler', 'coolers', 'coolest', 'cooling', 'cools', 'coombs', 'coooked', 'cooperative', 'cooperatives', 'coops', 'copied', 'copies', 'copper', 'coppery', 'coppola', 'copra', 'copracold', 'copyright', 'coq10', 'corazon', 'corazonas', 'cord', 'cordial', 'cordials', 'cordillera', 'core', 'cored', 'coriander', 'coring', 'corkscrews', 'corn', 'cornbread', 'corned', 'corner', 'corners', 'cornerstone', 'cornflowers', 'cornmeal', 'cornnuts', 'corns', 'cornstarch', 'cornucopia', 'cornuts', 'coronary', 'corp', 'corporate', 'corporation', 'corps', 'correct', 'correctly', 'correlation', 'corresponding', 'cortez', 'cosmetic', 'cosmetics', 'cosmopolitan', 'cost', 'costa', 'costly', 'costs', 'costuma', 'cottage', 'cotton', 'cottonseed', 'cough', 'coughs', 'could', 'couldn', 'council', 'councils', 'count', 'counter', 'counterbalances', 'countered', 'counterpart', 'counterparts', 'counters', 'countertop', 'counting', 'countless', 'countries', 'country', 'countryside', 'countrywild', 'counts', 'county', 'couple', 'coupled', 'coupling', 'coupons', 'courage', 'course', 'courses', 'court', 'courts', 'cous', 'couscous', 'cousin', 'cousins', 'cove', 'cover', 'covered', 'covering', 'coverts', 'coveted', 'cow', 'cowbell', 'cowboy', 'coworkers', 'cows', 'cozy', 'cozying', 'cp', 'cr', 'cr3', 'crab', 'craberries', 'crabs', 'crack', 'cracked', 'cracker', 'crackerfuls', 'crackers', 'crackerssimply', 'crackerstm', 'cracking', 'cracklebred', 'cradle', 'craft', 'crafted', 'crafters', 'crafting', 'crafts', 'craftsman', 'craftsmanship', 'craftsmen', 'craisins', 'cramping', 'cramps', 'cran', 'cranberries', 'cranberry', 'cranberyraz', 'crash', 'crashed', 'crated', 'crater', 'crave', 'craveable', 'craveably', 'craved', 'craves', 'craving', 'cravings', 'crawfish', 'crawfords', 'crawl', 'crawler', 'crawls', 'crazy', 'cream', 'creamed', 'creamer', 'creamers', 'creamery', 'creamier', 'creamies', 'creamiest', 'creaminess', 'creamish', 'creams', 'creamy', 'crear', 'creased', 'creat', 'create', 'created', 'createing', 'creates', 'creating', 'creation', 'creations', 'creative', 'creativity', 'creator', 'creatures', 'credible', 'credit', 'credited', 'creek', 'creep', 'creepy', 'crema', 'creme', 'cremes', 'cremona', 'creole', 'crepe', 'crepes', 'crescent', 'crescents', 'crest', 'cries', 'crimp', 'crimson', 'crio', 'criollo', 'cripsy', 'crisco', 'crisis', 'crisp', 'crispbread', 'crispbreads', 'crispdouble', 'crisped', 'crisper', 'crispibread', 'crispie', 'crispier', 'crispies', 'crispiness', 'crispness', 'crisps', 'crispum', 'crispy', 'criteria', 'critical', 'crizette', 'crme', 'crmes', 'crocante', 'crocin', 'crocker', 'crocus', 'croissants', 'cronat', 'crop', 'cropland', 'cropped', 'cropping', 'crops', 'cross', 'crossed', 'crosta', 'crouton', 'croutons', 'crowd', 'crown', 'cruchy', 'crucial', 'crude', 'crumb', 'crumble', 'crumbled', 'crumbliest', 'crumbly', 'crumbs', 'crumbskinnikinnick', 'crunch', 'cruncha', 'cruncherstm', 'crunches', 'crunchfrench', 'crunchie', 'crunchies', 'crunchin', 'crunchiness', 'crunching', 'crunchmaster', 'crunchy', 'crusader', 'crusading', 'crush', 'crushed', 'crushing', 'crust', 'crusts', 'crusty', 'cruz', 'cry', 'crystal', 'crystalizes', 'crystalline', 'crystallised', 'crystallization', 'crystallized', 'crystallizes', 'crystallizing', 'crystals', 'csa', 'ct', 'ctc', 'ctl', 'cub', 'cuban', 'cube', 'cubes', 'cucumber', 'cucumbers', 'cue', 'cuervo', 'cues', 'cuisinart', 'cuisine', 'cuisines', 'culinary', 'culininary', 'culmination', 'cultists', 'cultivate', 'cultivated', 'cultivating', 'cultivation', 'cultural', 'culturally', 'culture', 'cultured', 'cultures', 'culturing', 'cumin', 'cuminum', 'cunningham', 'cunninghams', 'cup', 'cupboard', 'cupboards', 'cupcakes', 'cupful', 'cupfuls', 'cuphas', 'cuppa', 'cups', 'cupsclassic', 'cupservings', 'cur', 'curative', 'curb', 'curbs', 'curcum', 'curcuma', 'curcumin', 'curcuminoid', 'curcuminoids', 'curd', 'curdle', 'curds', 'cure', 'cured', 'cures', 'curing', 'curiosity', 'curious', 'curl', 'curled', 'curlicue', 'curling', 'curls', 'curly', 'currant', 'currants', 'current', 'currently', 'currents', 'curried', 'curries', 'curry', 'currywurst', 'curved', 'curves', 'custard', 'custards', 'custom', 'customary', 'customer', 'customers', 'customerservice', 'customizing', 'cut', 'cute', 'cutout', 'cuts', 'cutters', 'cutting', 'cutty', 'cyanocobalamin', 'cycle', 'cycles', 'cylinders', 'cyminum', 'cyphoids', 'cyprus', 'cyril', 'cyrus', 'cytokines', 'czar', 'czech', 'd2', 'd3', 'da', 'dab', 'dabbled', 'dad', 'daddy', 'dads', 'dahi', 'dai', 'daidzein', 'daifuku', 'daikon', 'daily', 'dainty', 'dairies', 'dairy', 'dairying', 'daisy', 'daiya', 'dak', 'dakota', 'dal', 'dal1', 'dale', 'dales', 'dalfour', 'dally', 'damage', 'damaging', 'damp', 'dan', 'dana', 'dance', 'dancers', 'dances', 'dancing', 'dandelion', 'dandelions', 'dandies', 'dandy', 'danes', 'danforth', 'dang', 'dangerous', 'dangerously', 'dangle', 'daniel', 'danielle', 'danish', 'danishes', 'danny', 'dansk', 'dante', 'danzka', 'daprano', 'dare', 'darien', 'darjeeling', 'dark', 'darken', 'darker', 'darkest', 'darkness', 'darlings', 'darn', 'darned', 'darrell', 'dash', 'dashi', 'dassant', 'data', 'date', 'dated', 'dates', 'dating', 'datzhang', 'daughter', 'dave', 'david', 'davidson', 'davinci', 'davis', 'dawn', 'day', 'day54', 'daycare', 'daydream', 'days', 'dazzle', 'dazzling', 'dd', 'de', 'dead', 'deal', 'dealing', 'dean', 'dear', 'death', 'deathly', 'debate', 'debauchery', 'deboles', 'debri', 'debut', 'debuted', 'debuts', 'decade', 'decadence', 'decadent', 'decades', 'decaf', 'decaffeinate', 'decaffeinated', 'decaffeination', 'decaffeinato', 'decaffinated', 'decaflo', 'decafs', 'decanted', 'decay', 'decedent', 'december', 'deceptively', 'decide', 'decided', 'decidedly', 'decision', 'decisions', 'decisive', 'decker', 'declare', 'decline', 'deco', 'decolonise', 'decompose', 'decomposing', 'decorate', 'decorated', 'decorating', 'decoration', 'decorative', 'decorators', 'decorticated', 'decrease', 'decreases', 'decriptions', 'dedicated', 'dedication', 'dee', 'deed', 'deep', 'deepened', 'deeper', 'deepest', 'deeply', 'deer', 'defatted', 'defect', 'defects', 'defend', 'defense', 'defenses', 'deficiencies', 'deficiency', 'define', 'defined', 'defines', 'defining', 'definite', 'definitely', 'definition', 'definitive', 'deg', 'degenerative', 'deglazing', 'deglet', 'degrease', 'degree', 'degrees', 'dehydrate', 'dehydrated', 'dehydrating', 'dehydration', 'dehydrator', 'dehydrators', 'dei', 'dejaco', 'del', 'delallo', 'delaware', 'delay', 'delectable', 'delectably', 'delhi', 'deli', 'delicacies', 'delicacy', 'delicate', 'delicately', 'deliciious', 'deliciosa', 'delicious', 'deliciouskosher', 'deliciously', 'deliciousness', 'delicisios', 'delicous', 'delighful', 'delight', 'delighted', 'delightful', 'delightfully', 'delighting', 'delightly', 'delights', 'delightssay', 'delites', 'deliver', 'delivered', 'delivering', 'delivers', 'delivery', 'dells', 'delmonte', 'delta', 'deluxe', 'delved', 'demand', 'demanded', 'demanding', 'demands', 'demeanor', 'dementhoxycurcumin', 'demi', 'demo', 'democratically', 'demonstrate', 'demonstrated', 'demonstrates', 'demonstrating', 'demonstrator', 'dendrobium', 'denhay', 'denied', 'denigrates', 'denmark', 'denote', 'dense', 'densely', 'denser', 'density', 'dent', 'dental', 'dente', 'dentist', 'dentists', 'dentyne', 'denver', 'denying', 'deodorized', 'deodorizers', 'deodorizes', 'department', 'departments', 'depend', 'dependable', 'dependent', 'depending', 'depends', 'depictions', 'depleted', 'depletion', 'deposits', 'depression', 'depth', 'depths', 'der', 'derivative', 'derivatives', 'derive', 'derived', 'derives', 'dermatology', 'derossi', 'deruyter', 'descended', 'descends', 'describe', 'described', 'describes', 'describing', 'description', 'descriptiona', 'descriptional', 'descriptions', 'descriptive', 'desert', 'deserts', 'deserve', 'deserved', 'deserves', 'deserving', 'desi', 'desiccated', 'design', 'designation', 'designed', 'designer', 'designing', 'designs', 'desirable', 'desire', 'desired', 'desires', 'desiring', 'desk', 'desperately', 'desperation', 'despite', 'dessert', 'desserts', 'desteproduto', 'destination', 'destinations', 'destined', 'destrooper', 'destroy', 'destroyed', 'destructive', 'detail', 'detailed', 'details', 'detect', 'detectable', 'detection', 'detergent', 'deteriorate', 'deterioration', 'determination', 'determine', 'determined', 'determining', 'detox', 'detoxifying', 'develop', 'developed', 'developing', 'development', 'developmenthelps', 'developments', 'develops', 'device', 'devices', 'devil', 'deviled', 'devils', 'devon', 'devote', 'devoted', 'devotees', 'devotion', 'devour', 'devoured', 'dextrose', 'dha', 'di', 'diabetes', 'diabetic', 'diabetics', 'diabeticscan', 'diabolo', 'diagnose', 'diagnosed', 'diagnosis', 'dialysis', 'diameter', 'diamond', 'diaper', 'diarrhea', 'diarrhoeic', 'diary', 'diastatic', 'dice', 'diced', 'dices', 'dicing', 'did', 'didn', 'didnt', 'die', 'died', 'diedrich', 'diego', 'dies', 'diese', 'diet', 'dietary', 'dieter', 'dieters', 'dietetic', 'dieticians', 'dieting', 'dietitian', 'dietno', 'dietrich', 'diets', 'diff', 'differ', 'difference', 'differencechia', 'differences', 'differenceto', 'differenceviva', 'different', 'differentiate', 'differentiation', 'differing', 'differs', 'difficult', 'difficulty', 'dig', 'digest', 'digestable', 'digested', 'digestible', 'digesting', 'digestion', 'digestion5', 'digestive', 'digestives', 'digging', 'digital', 'diglycerides', 'dijon', 'dilettante', 'dilhan', 'diligent', 'dill', 'dilly', 'dilmah', 'dilute', 'diluted', 'dim', 'dime', 'dimension', 'dimensionality', 'dimensions', 'diminish', 'diminished', 'diminishes', 'dine', 'dined', 'diner', 'diners', 'dining', 'dinner', 'dinners', 'dinnertime', 'dinstinct', 'dinty', 'dioscorides', 'dioxide', 'dip', 'dipotassium', 'dipped', 'dipping', 'dips', 'direct', 'directe', 'directed', 'direction', 'directions', 'directly', 'director', 'directs', 'dirt', 'dirty', 'dis', 'disabilities', 'disappear', 'disappeared', 'disappears', 'disappoint', 'disappointed', 'disappointing', 'disassembles', 'disaster', 'disc', 'discard', 'discarded', 'discarding', 'discernible', 'discerning', 'discharge', 'disclaimer', 'disclaimeractual', 'discoloration', 'discomfort', 'discontinued', 'discount', 'discourage', 'discouraged', 'discover', 'discovered', 'discovering', 'discovery', 'discriminating', 'discriminatingly', 'discriminatory', 'discs', 'discuss', 'disease', 'diseases', 'disguise', 'dish', 'dishes', 'disheskosher', 'dishspicy', 'dishwasher', 'disinfectant', 'disks', 'dismissive', 'dismutase', 'disodium', 'disorder', 'disorders', 'dispel', 'dispels', 'dispense', 'dispenser', 'dispensers', 'dispenses', 'dispensing', 'dispersion', 'dispirito', 'display', 'displayed', 'displaying', 'displays', 'disposable', 'disposacup', 'disposacups', 'disposal', 'disposition', 'disrupt', 'disrupting', 'dissipation', 'dissolve', 'dissolves', 'dissolving', 'distance', 'distant', 'distill', 'distillation', 'distilled', 'distillers', 'distillery', 'distinct', 'distinction', 'distinctive', 'distinctively', 'distinctiveness', 'distinctly', 'distinctlywoodsy', 'distinguish', 'distinguished', 'distinguishes', 'distressed', 'distribute', 'distributed', 'distributes', 'distributing', 'distribution', 'distributor', 'distributors', 'distributorships', 'district', 'disturbing', 'ditali', 'ditch', 'div', 'dive', 'diverse', 'diversity', 'divider', 'divina', 'divine', 'divinely', 'diving', 'divinity', 'division', 'diy', 'dizzying', 'do', 'dock', 'docks', 'doctor', 'doctoroz', 'doctors', 'dodge', 'doerr', 'does', 'doesn', 'dog', 'dogs', 'doing', 'dolcetto', 'dollar', 'dollars', 'dollop', 'dolmas', 'dolphin', 'domatcha', 'domestic', 'domestically', 'domesticated', 'dominant', 'dominates', 'domingo', 'dominican', 'dominique', 'domino', 'dominoes', 'don', 'donate', 'donated', 'donates', 'done', 'donut', 'donuts', 'doodles', 'doone', 'door', 'doors', 'doorstep', 'dopamine', 'dophin', 'dorado', 'dorchester', 'dorm', 'dormant', 'dorrance', 'dorset', 'dosage', 'dosages', 'dose', 'dosed', 'dota', 'dots', 'dotting', 'double', 'doubled', 'doubt', 'doubts', 'douchi', 'dough', 'doughnuts', 'doughs', 'doused', 'douwe', 'dove', 'down', 'down5', 'download', 'downright', 'downside', 'downtime', 'downtown', 'downy', 'dozen', 'dozens', 'dpuf', 'dq', 'dr', 'drag', 'dragon', 'dragonfruit', 'dragonwell', 'drain', 'drainage', 'drained', 'draining', 'dramatic', 'dramatically', 'drambuie', 'drank', 'draw', 'drawer', 'drawing', 'drawn', 'draws', 'drazil', 'dream', 'dreamed', 'dreamfields', 'dreamfieldstm', 'dreamily', 'dreaming', 'dreams', 'dreamy', 'dreary', 'drenched', 'dress', 'dressed', 'dressier', 'dressing', 'dressings', 'drew', 'dried', 'dries', 'drift', 'drifted', 'drilling', 'drink', 'drinkable', 'drinker', 'drinkers', 'drinkget', 'drinking', 'drinks', 'drinkssay', 'drinkwaikoko', 'drip', 'dripping', 'drive', 'driven', 'drivers', 'drives', 'driving', 'drizzle', 'drizzled', 'drizzles', 'drizzling', 'drl', 'drop', 'droplets', 'dropped', 'dropping', 'drops', 'drought', 'drove', 'drowning', 'drug', 'drugs', 'drum', 'drumgray', 'drums', 'drunk', 'dry', 'dryers', 'drying', 'dryness', 'dryservings', 'ds', 'du', 'dual', 'dubbed', 'dubble', 'dublin', 'duchenne', 'duck', 'dude', 'due', 'duende', 'duffy', 'duh', 'duke', 'dukes', 'dulce', 'dulcificum', 'dull', 'dump', 'dumped', 'dumpling', 'dumplings', 'duncan', 'dunked', 'dunkin', 'dunking', 'duo', 'duper', 'duplicate', 'duplicated', 'durable', 'during', 'durkee', 'durum', 'dust', 'dusted', 'dusting', 'dusty', 'dutch', 'dutched', 'duty', 'dv', 'dvcalories110calories', 'dwarf', 'dwellers', 'dye', 'dyed', 'dyes', 'dynamic', 'dynasty', 'dyrdek', 'dyspepsia', 'dystrophy', 'dzieduszycki', 'e322', 'e415', 'e500', 'e503', 'ea', 'each', 'eachingredients', 'eacute', 'eager', 'eagle', 'ear', 'earl', 'earlier', 'earliest', 'early', 'earlyshield', 'earn', 'earned', 'earning', 'earnings', 'earomade', 'earth', 'earthier', 'earthquake', 'earthwise', 'earthworm', 'earthy', 'earwax', 'ease', 'eased', 'easier', 'easiest', 'easily', 'easilydesigned', 'easiness', 'east', 'eastblufftrading', 'easter', 'eastern', 'easy', 'eat', 'eaten', 'eater', 'eaters', 'eatin', 'eating', 'eatos', 'eats', 'ebenso', 'ebers', 'ebi', 'ebook', 'eboost', 'echinacea', 'eclair', 'eclairs', 'eclipse', 'eco', 'ecocert', 'ecocertan', 'ecolier', 'ecological', 'ecologically', 'ecology', 'ecomom', 'economic', 'economical', 'economically', 'economy', 'ecosystem', 'ecosystems', 'ecs', 'ecuador', 'ecuadorian', 'eczema', 'ed', 'edamame', 'edamames', 'edamane', 'eddie', 'eden', 'edensoy', 'edge', 'edges', 'edible', 'edibles', 'edinburgh', 'edistin', 'edition', 'edmond', 'edradour', 'educate', 'educating', 'education', 'educational', 'educator', 'edulis', 'edward', 'ee', 'een', 'eespecialmentecomuma', 'efa', 'efas', 'effect', 'effective', 'effectively', 'effectiveness', 'effects', 'effervescence', 'effervescent', 'efficacy', 'efficiency', 'efficient', 'efficiently', 'effort', 'effortless', 'effortlessly', 'efforts', 'egberts', 'egcg', 'egcgs', 'egg', 'egg3', 'egg5', 'eggbeaters', 'eggnog', 'eggo', 'eggplant', 'eggroll', 'eggs', 'egrave', 'egypt', 'egyptian', 'egyptians', 'ehlen', 'eight', 'eighth', 'einer', 'einkorn', 'either', 'ekcocups', 'ekobrew', 'ekocups', 'ekojava', 'el', 'elaeis', 'elana', 'elastic', 'elasticity', 'elasticity6', 'elbow', 'elbows', 'elder', 'elderly', 'elders', 'electric', 'electricity', 'electrifying', 'electrolyte', 'electrolytes', 'electrolyzed', 'electromagnetically', 'electronic', 'electronics', 'elegance', 'elegant', 'elegantly', 'element', 'elemental', 'elements', 'elephant', 'elettaria', 'elevated', 'elevates', 'elevation', 'elevations', 'elevator', 'eleven', 'elfin', 'elgin', 'eliminate', 'eliminated', 'eliminates', 'eliminating', 'elimination', 'elisa', 'elisha', 'elite', 'elixer', 'elixir', 'elizabeth', 'ellagic', 'elm', 'else', 'elusive', 'em', 'emade', 'email', 'emailed', 'emanates', 'embarrassed', 'embellished', 'embodies', 'embody', 'embodying', 'embrace', 'embraced', 'embraces', 'emerald', 'emeraldforestxylitol', 'emerge', 'emergen', 'emergency', 'emerging', 'emeril', 'emerils', 'emile', 'emilia', 'emissions', 'emitted', 'emma', 'emmenthal', 'emollient', 'emperor', 'emphasis', 'emphasize', 'emphasizes', 'empire', 'empires', 'employ', 'employed', 'employee', 'employees', 'employer', 'employing', 'employment', 'employs', 'empower', 'empowering', 'empowers', 'empty', 'emptying', 'emulate', 'emulsfiers', 'emulsifier', 'emulsifiers', 'en', 'enable', 'enables', 'enabling', 'enacted', 'enamel', 'encapsulated', 'encased', 'encases', 'enchanted', 'enchanting', 'enchilada', 'enchiladas', 'encircle', 'enclosed', 'encoded', 'encompasses', 'encontrado', 'encou', 'encounters', 'encourage', 'encouraged', 'encouragement', 'encourages', 'encouraging', 'encrusting', 'end', 'endangered', 'endearing', 'endeavor', 'endeavored', 'endemic', 'ending', 'endive', 'endless', 'endlessly', 'endocrine', 'endorphin', 'endorsed', 'endosperm', 'ends', 'endurace', 'endurance', 'endure', 'endured', 'enduring', 'ener', 'energetic', 'energising', 'energize', 'energized', 'energizer', 'energizes', 'energizing', 'energy', 'energy3', 'energynew', 'energyno', 'energytangy', 'enery', 'enfagrow', 'enfamil', 'enflora', 'enforced', 'eng', 'engage', 'engaging', 'engine', 'engineer', 'engineered', 'engineering', 'england', 'englewood', 'english', 'engulfed', 'enhance', 'enhanced', 'enhancement', 'enhancements', 'enhancer', 'enhancerbonus', 'enhancers', 'enhances', 'enhancing', 'enig', 'enigma', 'enjoy', 'enjoyable', 'enjoyably', 'enjoyed', 'enjoying', 'enjoyment', 'enjoymentall', 'enjoys', 'enlarged', 'enlarges', 'enlightenment', 'enliven', 'enlivened', 'enlivening', 'eno', 'enormous', 'enough', 'enoyed', 'enrich', 'enriched', 'enriches', 'enriching', 'enrichment', 'enrobe', 'enrobed', 'enrobes', 'ensemble', 'ensure', 'ensured', 'ensures', 'ensuring', 'ent', 'enter', 'entered', 'entering', 'enterprise', 'enterprises', 'enterprising', 'entertain', 'entertaining', 'enthalten', 'enthusiasm', 'enthusiast', 'enthusiastic', 'enthusiasts', 'entice', 'entices', 'enticing', 'entire', 'entirely', 'entirety', 'entr', 'entrant', 'entree', 'entrees', 'entrepreneur', 'entrepreneurial', 'entrepreneurs', 'entries', 'entry', 'envelope', 'enveloped', 'envelopes', 'envirobox', 'environment', 'environmental', 'environmentally', 'environments', 'environmetal', 'environn', 'enzymatic', 'enzymatically', 'enzyme', 'enzymes', 'eorbit', 'epa', 'ephedra', 'epic', 'epicurean', 'epicureans', 'epigallocatechin', 'epiphyllum', 'epitomizes', 'equal', 'equality', 'equally', 'equals', 'equator', 'equatorial', 'equinox', 'equipment', 'equitable', 'equity', 'equivalency', 'equivalent', 'equivalents', 'era', 'eradication', 'ere', 'erewhon', 'erfected', 'ergonomic', 'erh', 'eric', 'erin', 'erinbakers', 'erode', 'erosion', 'error', 'eruption', 'erwachsene', 'erythrina', 'erythritol', 'es', 'escabeche', 'escape', 'escaped', 'escapes', 'escaping', 'escoffier', 'escondido', 'espagnole', 'especiaise', 'especially', 'espresso', 'essence', 'essences', 'essentia', 'essential', 'essentially', 'essentials', 'essex', 'essn', 'establish', 'established', 'establishing', 'establishment', 'establishments', 'estancia', 'estate', 'estates', 'esters', 'estimated', 'et', 'etc', 'ethereal', 'ethic', 'ethical', 'ethically', 'ethiopia', 'ethiopian', 'ethnic', 'ethos', 'ethyl', 'etna', 'etouffe', 'ettes', 'eu', 'eucalypt', 'eucalyptus', 'euchema', 'eugene', 'eugenia', 'euro', 'europa', 'europe', 'european', 'europeans', 'evaluate', 'evaluated', 'evaluating', 'evamor', 'evaporate', 'evaporated', 'evaporates', 'evaporating', 'evaporation', 'even', 'evening', 'evenly', 'event', 'events', 'eventually', 'ever', 'everett', 'everglades', 'evergreen', 'every', 'everybody', 'everyday', 'everydays', 'everyone', 'everyones', 'everything', 'everywhere', 'evidence', 'evidenced', 'evident', 'evil', 'evokes', 'evoking', 'evolution', 'evolve', 'evolved', 'evolves', 'evolving', 'ex', 'exact', 'exacting', 'exactly', 'exam', 'examiners', 'examining', 'example', 'examples', 'excavation', 'exceed', 'exceeded', 'exceeding', 'exceedingly', 'exceeds', 'excellence', 'excellent', 'excelsa', 'except', 'exception', 'exceptional', 'exceptionally', 'excercise', 'excess', 'excessive', 'exchange', 'exchanges', 'excipients', 'excite', 'excited', 'excitedly', 'excitement', 'excites', 'exciting', 'exclusive', 'exclusively', 'excreted', 'excursion', 'excuse', 'executive', 'executives', 'exempt', 'exercise', 'exercised', 'exerciseonce', 'exercising', 'exertion', 'exerts', 'exhaustion', 'exhibit', 'exhibited', 'exhibits', 'exhilarating', 'exhilaration', 'exigehabilidades', 'exist', 'existence', 'existing', 'exists', 'exotic', 'expand', 'expanded', 'expanding', 'expands', 'expanses', 'expansion', 'expect', 'expectations', 'expected', 'expecting', 'expedited', 'expeditions', 'expeller', 'expenditure', 'expense', 'expensive', 'experience', 'experienced', 'experiences', 'experiencing', 'experiment', 'experimentation', 'experimented', 'experimenting', 'experiments', 'expert', 'expertise', 'expertly', 'experts', 'expiration', 'expires', 'explained', 'explains', 'explanation', 'exploding', 'exploration', 'explore', 'explorers', 'exploring', 'explosion', 'explosive', 'explosively', 'expo', 'exponentially', 'export', 'exported', 'exporter', 'exporters', 'exporting', 'expose', 'exposed', 'exposing', 'exposition', 'exposure', 'express', 'expressed', 'expresses', 'expressing', 'expression', 'expressly', 'expulsion', 'exquisite', 'exquisitely', 'extact', 'extend', 'extended', 'extenders', 'extending', 'extends', 'extension', 'extensive', 'extensively', 'extent', 'exterior', 'external', 'externally', 'extra', 'extract', 'extract5', 'extracted', 'extracted4', 'extractedfrom', 'extracting', 'extraction', 'extractives', 'extractmix', 'extracts', 'extracts2', 'extraordinarily', 'extraordinary', 'extras', 'extration', 'extravaganza', 'extravirgin', 'extreme', 'extremely', 'extrude', 'exudes', 'eye', 'eyed', 'eyelids', 'eyes', 'eyesight', 'eyrthritol', 'ez', 'ezekiel', 'ezilda', 'ezsweetz', 'fa', 'fab', 'fabled', 'fabrica', 'fabrics', 'fabulous', 'fabulously', 'face', 'facebook', 'faced', 'faces', 'faceted', 'facets', 'facial', 'facilitate', 'facilitates', 'facilities', 'facility', 'facilitysee', 'facing', 'fact', 'factor', 'factories', 'factors', 'factory', 'facts', 'factsper', 'factsserving', 'fade', 'faded', 'fahrenheit', 'failure', 'faily', 'faint', 'fair', 'fairgrounds', 'fairly', 'fairs', 'fairtrade', 'fairtradecertified', 'fairy', 'faithfully', 'fajita', 'fake', 'falafel', 'fall', 'fallen', 'fallow', 'falls', 'falvoured', 'fame', 'famed', 'familia', 'familiar', 'families', 'family', 'familyessential', 'famous', 'famously', 'fan', 'fanatic', 'fanatical', 'fanatics', 'fanciers', 'fanciful', 'fancy', 'fangfrisch', 'fans', 'fantastic', 'fantastically', 'faq', 'faqs1', 'far', 'fara', 'faraway', 'fare', 'fargo', 'farina', 'farine', 'farm', 'farmed', 'farmer', 'farmerfleur', 'farmers', 'farmhouse', 'farming', 'farmis', 'farms', 'farmsall', 'farmstead', 'farrarapan', 'farro', 'fascinating', 'fascination', 'fashion', 'fashioned', 'fast', 'faster', 'fasterwhether', 'fastest', 'fat', 'fat0', 'fat1', 'fat2', 'fat5total', 'fatamerica', 'father', 'fathers', 'fatigue', 'fatigued', 'fats', 'fatsugar', 'fatted', 'fattening', 'fatty', 'fatvariety', 'fatwhen', 'fau', 'fava', 'favoite', 'favor', 'favorable', 'favorably', 'favored', 'favorite', 'favorites', 'favors', 'favour', 'favoured', 'favourite', 'fazer', 'fcc', 'fcil', 'fd', 'fda', 'fdas', 'fe', 'fear', 'feast', 'feasts', 'featherweight', 'feature', 'featured', 'features', 'featuring', 'feb11', 'february', 'fectly', 'fed', 'federal', 'federally', 'federation', 'fee', 'feed', 'feeding', 'feedinggluten', 'feeds', 'feel', 'feeling', 'feelings', 'feels', 'feet', 'feldkamp', 'fell', 'fellow', 'felt', 'female', 'feminine', 'fence', 'fending', 'feng', 'fennel', 'fenugreek', 'ferment', 'fermentable', 'fermentation', 'fermented', 'fermenting', 'fernando', 'ferocious', 'ferrara', 'ferrero', 'fertile', 'fertilisers', 'fertility', 'fertilize', 'fertilized', 'fertilizer', 'fertilizers', 'festive', 'festively', 'feta', 'fettuccine', 'fettuccini', 'fever', 'fevers', 'few', 'fewer', 'ffffff', 'fiber', 'fiber4', 'fibercan', 'fibergourmet', 'fiberrich', 'fibers', 'fibersealed', 'fibre', 'fibrous', 'ficus', 'fiddlesticks', 'fiddyment', 'field', 'fields', 'fiercely', 'fieri', 'fiery', 'fiesta', 'fifteen', 'fifth', 'fifty', 'fig', 'fight', 'fighters', 'fightin', 'fighting', 'fights', 'figlets', 'figs', 'figure', 'figures', 'fijian', 'filbert', 'filberts', 'filet', 'filipino', 'filippo', 'filipstad', 'fill', 'filled', 'filler', 'fillers', 'fillers5', 'fillersrecipe', 'fillet', 'filleted', 'fillets', 'filling', 'fillings', 'fills', 'film', 'filter', 'filtered', 'filtering', 'filters', 'filtersmelitta', 'filtration', 'filtro', 'final', 'finalists', 'finally', 'finals', 'financial', 'financially', 'fincan', 'find', 'finding', 'finds', 'findwhat', 'fine', 'finely', 'finer', 'finest', 'finger', 'fingernails', 'fingers', 'fingertips', 'finish', 'finished', 'finishes', 'finishing', 'finland', 'finn', 'finnish', 'fino', 'finocchio', 'finrse', 'fire', 'fireballs', 'fired', 'firenze', 'fireplace', 'fires', 'firestorm', 'fireweed', 'firework', 'fireworks', 'firing', 'firm', 'firmest', 'firmly', 'first', 'firsthand', 'firsts', 'fischer', 'fish', 'fished', 'fisher', 'fishermen', 'fishery', 'fishing', 'fishy', 'fist', 'fit', 'fitness', 'fits', 'fittest', 'fitting', 'five', 'fiver', 'fix', 'fixing', 'fixings', 'fizz', 'fizzy', 'fjords', 'fl', 'flackers', 'flageolet', 'flagship', 'flahavan', 'flair', 'flake', 'flaked', 'flakes', 'flakey', 'flakiest', 'flaky', 'flambe', 'flame', 'flamin', 'flaming', 'flange', 'flannel', 'flapjack', 'flapjacks', 'flare', 'flash', 'flat', 'flatbread', 'flatbreads', 'flathau', 'flatley', 'flats', 'flattened', 'flatulence', 'flavacol', 'flavanols', 'flaver', 'flavonoid', 'flavonoids', 'flavonols', 'flavor', 'flavorbob', 'flavorclassic', 'flavored', 'flavorful', 'flavorfulbonus', 'flavorfulmake', 'flavorgood', 'flavoring', 'flavorings', 'flavorkosher38', 'flavorless', 'flavorno', 'flavors', 'flavors100', 'flavorsbut', 'flavorsfeature', 'flavorsome', 'flavorspackaging', 'flavorswalden', 'flavorthat', 'flavour', 'flavoured', 'flavourful', 'flavouring', 'flavourings', 'flavours', 'flawed', 'flawless', 'flawlessly', 'flax', 'flaxseed', 'flaxseeds', 'flaxusa', 'fleet', 'fleischmann', 'flesh', 'fleshtone', 'fleshy', 'fleur', 'flexibility', 'flexible', 'flin', 'flint', 'flintstone', 'flintstones', 'flip', 'float', 'floats', 'flon', 'flood', 'flooded', 'floor', 'flop', 'flops', 'flor', 'flora', 'floral', 'florence', 'florentine', 'floressence', 'florets', 'florette', 'florida', 'floss', 'flour', 'flourish', 'flourished', 'flourishing', 'flourless', 'flourlow', 'flourmake', 'flourmill', 'flours', 'flow', 'flower', 'flower1', 'flowering', 'flowers', 'flowersit', 'flowery', 'flowing', 'flown', 'flows', 'fluent', 'fluffiest', 'fluffiness', 'fluffly', 'fluffy', 'fluid', 'fluids', 'fluoride', 'flurry', 'flush', 'flushed', 'flushes', 'flushing', 'fluten', 'fly', 'flyer', 'flying', 'fo', 'foah', 'foam', 'foamy', 'focaccia', 'focus', 'focused', 'focuses', 'focusing', 'fodmaps', 'fog', 'foglifter', 'foie', 'foil', 'foils', 'folate', 'folates', 'fold', 'folded', 'folger', 'folgers', 'foliage', 'foliate', 'folic', 'folk', 'folklore', 'folks', 'follow', 'followed', 'following', 'follows', 'fond', 'fondant', 'fondarific', 'fondue', 'fondues', 'fong', 'font', 'food', 'foodie', 'foodies', 'foods', 'foodscrunchmaster', 'foodservice', 'foodsfrontier', 'foodsin', 'foojoy', 'fool', 'fooled', 'foot', 'football', 'foothills', 'footprint', 'for', 'forage', 'force', 'forced', 'forcefully', 'forces', 'ford', 'forefathers', 'forefinger', 'forefront', 'foreign', 'foremost', 'forerunner', 'forest', 'forester', 'forestrade', 'forestry', 'forests', 'forever', 'forewarned', 'forge', 'forged', 'forget', 'forgotten', 'fork', 'forklift', 'form', 'formal', 'formaldehyde', 'formally', 'format', 'formation', 'formations', 'formats', 'formed', 'former', 'formerly', 'forming', 'formosa', 'forms', 'formula', 'formulas', 'formulated', 'formulating', 'formulation', 'formulations', 'forsaturday', 'forth', 'fortified', 'fortunate', 'fortunately', 'fortune', 'forty', 'forward', 'fos', 'foster', 'fostered', 'fostering', 'fosters', 'foulbrood', 'found', 'foundation', 'founded', 'founder', 'founders', 'founding', 'fountain', 'fountains', 'four', 'fourteen', 'fourteenth', 'fourth', 'fowl', 'fowler', 'fox', 'fraction', 'fragile', 'fragility', 'fragrance', 'fragrancemade', 'fragrant', 'fraiche', 'fraise', 'francaise', 'france', 'francesco', 'francis', 'francisco', 'franco', 'frank', 'frankly', 'frantic', 'frantoia', 'frapp', 'frappes', 'fraying', 'freckled', 'fred', 'frederick', 'fredericksburg', 'free', 'free16', 'freeall', 'freeby', 'freecertified', 'freecholesterol', 'freecrunchmaster', 'freedom', 'freegluten', 'freehelps', 'freekeh', 'freeland', 'freely', 'freeno', 'freerich', 'freesia', 'freeswiss', 'freeunfermented', 'freevegan', 'freezable', 'freeze', 'freezer', 'freezero', 'freezing', 'french', 'frenchmen', 'frenchtown', 'frequent', 'frequented', 'frequently', 'fres', 'fresca', 'frescas', 'fresh', 'freshen', 'freshener', 'fresheners', 'freshening', 'freshens', 'fresher', 'freshest', 'freshlock', 'freshly', 'freshness', 'freshnesseat', 'freshnesswe', 'freshpak', 'fresno', 'friber', 'friction', 'friday', 'fridge', 'fried', 'friend', 'friendly', 'friendlynut', 'friends', 'friendship', 'fries', 'frighteningly', 'frilly', 'fritos', 'frm', 'fro', 'frogs', 'froh', 'from', 'fronds', 'front', 'frontera', 'frontier', 'frontiers', 'froot', 'frootie', 'frooties', 'frosted', 'frosting', 'frostings', 'froth', 'frothy', 'frounceen', 'frown', 'frozen', 'frrrozen', 'frucci', 'fructooligosaccharides', 'fructose', 'fruit', 'fruitables', 'fruitastic', 'fruitcake', 'fruitcakes', 'fruitiness', 'fruits', 'fruitti', 'fruity', 'fruitzio', 'frustrated', 'frustration', 'frutti', 'fry', 'frying', 'frys', 'fsc', 'fsis', 'ft', 'fu', 'fudge', 'fudges', 'fudgy', 'fuel', 'fueled', 'fueling', 'fuelled', 'fuels', 'fuh', 'fuit', 'fuji', 'fujian', 'ful', 'fulfill', 'fulfilled', 'fulfilling', 'fulfills', 'full', 'fullbodied', 'fuller', 'fullfil', 'fullness', 'fully', 'fulvic', 'fumi', 'fumigant', 'fun', 'function', 'functional', 'functionality', 'functioning', 'functions', 'fund', 'fundamental', 'funded', 'fundido', 'funds', 'fungal', 'funghi', 'fungi', 'fungicides', 'funky', 'funkyfoodshop', 'funny', 'funsize', 'furaro', 'furikake', 'furikakekatsuo', 'furikakenori', 'furikakenoritamago', 'furikakesalmon', 'furikakeseto', 'furikakeshiso', 'furikakewasabi', 'further', 'furthering', 'fuse', 'fused', 'fuses', 'fushia', 'fusilli', 'fusing', 'fusion', 'fusions', 'fuss', 'fussiness', 'future', 'futurethe', 'fuzzy', 'g0', 'g1', 'g15', 'g8', 'gaar', 'gaba', 'gai', 'gain', 'gained', 'gaining', 'gains', 'galactose', 'galanga', 'galangal', 'galaxy', 'galberry', 'galicia', 'galil', 'galilee', 'gall', 'gallate', 'gallberry', 'gallego', 'galliano', 'gallon', 'gallonno', 'gallons', 'galore', 'gamble', 'gambletwo', 'game', 'gamma', 'ganaches', 'ganesha', 'gang', 'ganoderma', 'gap', 'garage', 'garam', 'garantie', 'garantiebio', 'garb', 'garbage', 'garbanzo', 'garbanzos', 'garcia', 'garden', 'gardeners', 'gardening', 'gardens', 'gardettos', 'gardiner', 'gardiners', 'gardstar', 'garibaldi', 'garland', 'garlic', 'garlicbotanical', 'garnered', 'garners', 'garni', 'garnish', 'garnishes', 'garnishment', 'garvey', 'gas', 'gasenfagrow', 'gasenfamil', 'gases', 'gastric', 'gastritis', 'gastroenterology', 'gastrointestinal', 'gate', 'gatepath', 'gates', 'gathered', 'gathering', 'gatherings', 'gathers', 'gatorade', 'gava', 'gave', 'gavi', 'gavina', 'gayle', 'gaylord', 'gayoland', 'gc', 'ge', 'geangelt', 'gear', 'geared', 'gefen', 'gel', 'gelatin', 'gelatine', 'gelatinized', 'gelatinous', 'gelatins', 'gelato', 'gelidium', 'gellan', 'gelling', 'gels', 'gem', 'gems', 'gen', 'gender', 'gene', 'genera', 'general', 'generally', 'generate', 'generated', 'generates', 'generation', 'generations', 'generic', 'generous', 'generously', 'genetic', 'genetically', 'genial', 'genisoy', 'genistein', 'genius', 'genmai', 'genreation', 'gent', 'gentile', 'gentle', 'gentlease', 'gentleaseat', 'gentleasefor', 'gentleman', 'gentlemen', 'gentleness', 'gentler', 'gently', 'genuine', 'genuinely', 'genus', 'george', 'georgia', 'geraldine', 'gerber', 'germ', 'german', 'germany', 'germanykeep', 'germinate', 'germination', 'germplasm', 'germs', 'gerner', 'gerrit', 'gest', 'get', 'getaway', 'gets', 'getting', 'gevalia', 'gewurz', 'gf', 'gfco', 'gg', 'ghana', 'ghannough', 'ghee', 'gheepurity', 'ghirardelli', 'ghnf', 'ghost', 'gi', 'giant', 'giardino', 'gibney', 'gift', 'gifting', 'gifts', 'giftwrap', 'gig', 'gigantic', 'gigartina', 'giggles', 'gilbert', 'gim', 'gimmicks', 'gin', 'gind', 'ginger', 'gingerbread', 'gingery', 'ginkgo', 'gins', 'ginseng', 'giorgio', 'giraffe', 'girl', 'girls', 'giusto', 'give', 'giveaway', 'given', 'gives', 'giving', 'gizzard', 'gj', 'gjetost', 'gla', 'glace', 'glacial', 'glad', 'gladly', 'glamorize', 'glance', 'glass', 'glasses', 'glaze', 'glazed', 'glazes', 'glee', 'glen', 'glendale', 'glenny', 'glico', 'glide', 'glimmering', 'glimpse', 'glitter', 'global', 'globalization', 'globalizing', 'globally', 'globe', 'globetrotter', 'gloria', 'glorious', 'glory', 'gloss', 'glossy', 'glove', 'glow', 'glowing', 'glten', 'gltuten', 'glucomanan', 'glucomannan', 'glucono', 'glucosamine', 'glucose', 'glucosylstevioside', 'glucuronolactone', 'glukosesirup', 'glutafin', 'glutamate', 'glutamic', 'glutamine', 'gluten', 'glutenfreeda', 'glutenfreeyouandme', 'glutens', 'glutino', 'glutinosa', 'glutinous', 'gluttony', 'glycemic', 'glycemix', 'glycerin', 'glycerine', 'glycerinpure', 'glycine', 'glycogen', 'glycol', 'glycoprotein', 'glycosides', 'gm', 'gmcr', 'gmo', 'gmodiabetic', 'gmofree', 'gmomade', 'gmopackaged', 'gmos', 'gmp', 'gnot', 'gnp', 'gnu', 'go', 'goal', 'goals', 'goat', 'gobble', 'god', 'goddess', 'godiva', 'gods', 'goes', 'goetze', 'gogo', 'going', 'goji', 'gold', 'golden', 'goldenberries', 'goldenrod', 'goldfish', 'goldy', 'golean', 'golf', 'golfer', 'golightly', 'goma', 'gomega', 'gomiti', 'gonaturally', 'gone', 'gonna', 'goo', 'good', 'goodall', 'goodberrymint', 'goodbye', 'goodie', 'goodies', 'goodiesnow', 'goodkarmafoods', 'goodness', 'goodnessfounded', 'goodrich', 'goods', 'goody', 'gooey', 'google', 'googly', 'gooseberries', 'gooseberry', 'gopicnic', 'goreng', 'gorgeous', 'gospel', 'got', 'gothic', 'gotta', 'gouda', 'goumet', 'gourment', 'gourmet', 'gourmets', 'gout', 'government', 'goya', 'gprotein3', 'gr', 'grab', 'grabbing', 'graceful', 'gracefully', 'gracilaria', 'gracious', 'grade', 'graded', 'grades', 'grading', 'gradual', 'gradually', 'graduate', 'graduated', 'graduates', 'graduating', 'grafika', 'grafton', 'graham', 'grahams', 'grain', 'grain30', 'graina', 'grained', 'graino', 'grains', 'grainssaturated', 'grainssupport', 'grainy', 'graisse', 'gram', 'grammy', 'grams', 'gramso', 'gran', 'grana', 'grand', 'grandchildren', 'granddad', 'grandest', 'grandfather', 'grandiose', 'grandma', 'grandmas', 'grandmother', 'grandpa', 'grandparents', 'grandson', 'granitas', 'granny', 'granola', 'granolas', 'grant', 'granted', 'granular', 'granularand', 'granulate', 'granulated', 'granulation', 'granulator', 'granule', 'granules', 'granulespackaging', 'grape', 'grapefruit', 'grapefruits', 'grapes', 'grapeseed', 'grapeseeds', 'graphic', 'graphics', 'gras', 'grass', 'grasses', 'grassroots', 'grassy', 'grated', 'grateful', 'gratification', 'grating', 'gratitude', 'graveolens', 'gravies', 'gravity', 'gravy', 'gray', 'grayish', 'graze', 'grazing', 'grease', 'greaseproof', 'greasing', 'greasy', 'great', 'greater', 'greatest', 'greatly', 'greatness', 'greats', 'greece', 'greek', 'greekcoffee', 'greekinternetmarket', 'greeks', 'green', 'greener', 'greenhouse', 'greenish', 'greens', 'greenville', 'greeted', 'greetings', 'grenadine', 'gretna', 'grew', 'grey', 'griddle', 'griffin', 'grill', 'grilled', 'griller', 'grilling', 'grills', 'grim', 'grind', 'grinded', 'grinder', 'grinders', 'grinding', 'grinds', 'grindstone', 'gringa', 'grips', 'gripz', 'gris', 'grissini', 'grissol', 'gristle', 'grit', 'grits', 'grittiness', 'gritty', 'grizzly', 'groat', 'groats', 'grocer', 'groceries', 'grocers', 'grocery', 'ground', 'ground1', 'groundbreaking', 'grounded', 'grounds', 'groundsalt', 'groundwater', 'group', 'grouped', 'groups', 'grove', 'grover', 'groves', 'grow', 'grower', 'growers', 'growing', 'grown', 'grows', 'growth', 'growths', 'growwing', 'grub', 'grunge', 'gruyere', 'gt', 'guacamole', 'guacamoles', 'guadalupe', 'guan', 'guar', 'guarana', 'guarantee', 'guaranteeat', 'guaranteed', 'guaranteedevery', 'guaranteeing', 'guarantees', 'guaranteetodd', 'guaranty', 'guard', 'guarded', 'guardenfagrow', 'guarentees', 'guatemala', 'guatemalan', 'guava', 'guayaki', 'guayusa', 'guerande', 'guess', 'guessed', 'guessing', 'guest', 'guests', 'guidance', 'guide', 'guided', 'guidelines', 'guides', 'guiding', 'guilt', 'guiltless', 'guiltlessly', 'guilty', 'guinea', 'guineensis', 'guinness', 'guitar', 'gulden', 'gulf', 'gum', 'gumamela', 'gumball', 'gumballs', 'gumbo', 'gumdrops', 'gummi', 'gummies', 'gummis', 'gummy', 'gums', 'gunpowder', 'gunung', 'guo', 'gurande', 'guru', 'gush', 'gusseted', 'gustaf', 'gustav', 'gusto', 'gusty', 'gut', 'gutsy', 'gutted', 'guy', 'guylian', 'guys', 'guzzling', 'gvitamin', 'gwhy', 'gym', 'gynostemma', 'gypsy', 'h5', 'habaero', 'habanera', 'habanero', 'habaneros', 'habit', 'habitant', 'habitat', 'habitats', 'habits', 'haccp', 'haci', 'hacienda', 'hackensack', 'had', 'hadiklaim', 'hadley', 'haemorrhagic', 'hagen', 'haiku', 'hail', 'hailed', 'hails', 'hain', 'hair', 'hairs', 'haitian', 'hakashrus', 'halacha', 'halal', 'halalpak', 'halava', 'halawa', 'halawi', 'haldi', 'haley', 'half', 'hall', 'hallmark', 'hallmarks', 'halloween', 'hallows', 'halo', 'halocaf', 'halt', 'halted', 'halva', 'halvah', 'halves', 'halwa', 'ham', 'hamar', 'hamburger', 'hamburgers', 'hamilton', 'hamlin', 'hammer', 'hammons', 'hamot', 'hampshire', 'hams', 'han', 'hand', 'handbags', 'handcooked', 'handcrafted', 'handcrafting', 'handed', 'handful', 'handfuls', 'handi', 'handiwork', 'handle', 'handled', 'handles', 'handling', 'handmade', 'handouts', 'handpicked', 'hands', 'handstirred', 'handwritten', 'handy', 'hang', 'hangin', 'hanging', 'hangover', 'hanna', 'hannah', 'hannon', 'hanout', 'hanouth', 'hanover', 'hans', 'hansen', 'hanukkah', 'hapi', 'happen', 'happens', 'happier', 'happily', 'happiness', 'happy', 'happybaby', 'happymorning', 'happymunchies', 'happytimes', 'happytot', 'harbor', 'hard', 'harden', 'hardening', 'harder', 'hardly', 'hardware', 'hardwood', 'hardwoods', 'hardy', 'hare', 'haribo', 'haricot', 'harina', 'harissa', 'harlap', 'harlem', 'harm', 'harmful', 'harming', 'harmonic', 'harmonious', 'harmony', 'harnessing', 'harnev', 'harney', 'harper', 'harrar', 'harris', 'harrogate', 'harry', 'harsh', 'harshest', 'harshness', 'hart', 'harvest', 'harvested', 'harvesting', 'harvests', 'harvey', 'has', 'hash', 'hashbrown', 'hashbrowns', 'hasn', 'hasnuts', 'hassle', 'hat', 'hatch', 'hate', 'hats', 'hauser', 'haut', 'haute', 'hav', 'have', 'haven', 'having', 'havoc', 'hawaii', 'hawaiian', 'hawaiians', 'hawthorn', 'hay', 'hazard', 'hazel', 'hazelnut', 'hazelnuts', 'hazelnutshas', 'hcg', 'hcl', 'hdl', 'hdpe', 'he', 'head', 'headaches', 'headed', 'headquartered', 'headquarters', 'heads', 'heady', 'heahtly', 'heal', 'healed', 'healer', 'healers', 'healing', 'health', 'healthadd', 'healthcare', 'healtheach', 'healthful', 'healthfully', 'healthfulness', 'healthier', 'healthies', 'healthiest', 'healthily', 'healthingredientsyacon', 'healthmulti', 'healthwater6', 'healthworks', 'healthworksllc', 'healthy', 'healthycanadians', 'healthyway', 'heaping', 'hear', 'heard', 'heart', 'heartache', 'heartburn', 'heartfelt', 'heartier', 'heartiest', 'heartiness', 'heartland', 'hearts', 'heartwarming', 'hearty', 'heary', 'heat', 'heated', 'heath', 'heather', 'heating', 'heats', 'heaven', 'heavenly', 'heavens', 'heavier', 'heavily', 'heaviness', 'heavy', 'hebrew', 'heck', 'hectare', 'hectares', 'hectic', 'hector', 'heels', 'hefty', 'heidelberg', 'heidi', 'height', 'heighten', 'heightened', 'heightens', 'heights', 'heinz', 'heirloom', 'heirlooms', 'hela', 'helava', 'held', 'helen', 'hell', 'hellip', 'hellmann', 'hello', 'helm', 'help', 'helped', 'helper', 'helpful', 'helping', 'helpings', 'helps', 'helva', 'helvetica', 'hemi', 'hemingway', 'hemisphere', 'hemp', 'hempmilk', 'hemppro', 'hempseed', 'hempseeds', 'hempshakes', 'hence', 'henri', 'henry', 'her', 'heralded', 'heralds', 'herb', 'herbaceous', 'herbal', 'herbalists', 'herbamare', 'herbedian', 'herbert', 'herbicide', 'herbicides', 'herbl', 'herbology', 'herbox', 'herbs', 'herd', 'herdez', 'here', 'heres', 'heringe', 'heritage', 'herman', 'hermetically', 'hermitage', 'hero', 'heroes', 'herr', 'herring', 'hers', 'herself', 'hershey', 'hesketh', 'hester', 'hetic', 'hexane', 'hey', 'hfcs', 'hi', 'hiatus', 'hibiscus', 'hickory', 'hidden', 'hide', 'hieght', 'higgins', 'high', 'highchair', 'higher', 'highest', 'highland', 'highlands', 'highlight', 'highlighting', 'highlights', 'highly', 'highs', 'hightest', 'hike', 'hikes', 'hiking', 'hilden', 'hill', 'hills', 'hillshire', 'hillside', 'hillson', 'hilo', 'hilton', 'him', 'himalania', 'himalasalt', 'himalayan', 'himalayas', 'himlayan', 'himself', 'hindering', 'hindu', 'hines', 'hing', 'hinge', 'hinged', 'hint', 'hints', 'hippie', 'hippocrates', 'hips', 'hire', 'hired', 'his', 'hispanic', 'hispanica', 'hissing', 'histidine', 'historic', 'historical', 'historically', 'history', 'hit', 'hits', 'hitting', 'hiv', 'hive', 'hives', 'hob', 'hobby', 'hobnobs', 'hoboken', 'hodgson', 'hoffman', 'hoisin', 'hokkaid', 'hokkien', 'hold', 'holder', 'holding', 'holds', 'hole', 'holes', 'holiday', 'holidays', 'holistic', 'holland', 'hollandaise', 'hollering', 'hollow', 'holly', 'hollywood', 'holmes', 'holster', 'holy', 'hom', 'homage', 'home', 'homebake', 'homegrown', 'homegrownafter', 'homeland', 'homeless', 'homemade', 'homemakers', 'homes', 'homestyle', 'hometown', 'homogenized', 'hon', 'hondashi', 'honduras', 'honees', 'honest', 'honestly', 'honesty', 'honey', 'honeybees', 'honeybush', 'honeycomb', 'honeydew', 'honeyed', 'honeys', 'honeytree', 'honeyville', 'honeywinter', 'honolulu', 'honor', 'honored', 'honoring', 'honors', 'honoured', 'hoo', 'hoofs', 'hooked', 'hoosier', 'hope', 'hoped', 'hoppin', 'horehound', 'horizon', 'horizons', 'horlicks', 'hormel', 'hormonal', 'hormone', 'hormones', 'horn', 'hors', 'horse', 'horseradish', 'horton', 'hortons', 'hospitable', 'hospital', 'hospitality', 'host', 'hostess', 'hosting', 'hot', 'hotel', 'hotels', 'hotline', 'hotness', 'hotter', 'hottest', 'hour', 'hours', 'house', 'housed', 'household', 'households', 'householdsessential', 'housekeeping', 'houses', 'housework', 'housing', 'houtte', 'how', 'however', 'hp', 'hplc', 'href', 'hrydrated', 'ht', 'hte', 'html', 'http', 'hu', 'hubert', 'hue', 'hued', 'hues', 'huey', 'huge', 'hugely', 'hugger', 'hui', 'hull', 'hulled', 'hulless', 'hulling', 'hulls', 'human', 'humanely', 'humanitarian', 'humanity', 'humanly', 'humans', 'humbe', 'humble', 'humbles', 'humbugs', 'humid', 'humidification', 'humidified', 'humidity', 'hummus', 'humorously', 'hums', 'hunch', 'hundred', 'hundreds', 'hung', 'hungarian', 'hunger', 'hungry', 'hunk', 'hunt', 'hunter', 'hunting', 'hunts', 'hurricane', 'hurried', 'hurry', 'husband', 'husk', 'husks', 'huy', 'hybrid', 'hydrate', 'hydrated', 'hydrating', 'hydration', 'hydrator', 'hydrogen', 'hydrogenated', 'hydrogenatedsoybean', 'hydrogenation', 'hydrolysate', 'hydrolyzed', 'hydroxide', 'hydroxyl', 'hygiene', 'hyperlipidemia', 'hypertension', 'hyperuricemia', 'hypoglycemics', 'i4concerns', 'iams', 'ibarra', 'ibs', 'ice', 'icebox', 'iced', 'iceenjoy', 'icehealthy', 'iceland', 'ichiban', 'icing', 'icings', 'icon', 'iconic', 'icy', 'id', 'idaho', 'idahoan', 'idahoans', 'idea', 'ideal', 'ideally', 'ideals', 'ideas', 'ideasstart', 'identical', 'identified', 'identify', 'identifying', 'identity', 'ie', 'if', 'ifugao', 'ignited', 'ignites', 'ii', 'iii', 'il', 'ill', 'illegal', 'illinois', 'illness', 'illustrated', 'illy', 'image', 'imagery', 'images', 'imaginable', 'imagination', 'imaginations', 'imaginative', 'imagine', 'imagined', 'imbue', 'imitated', 'imitation', 'imitations', 'imitators', 'immaculate', 'immature', 'immediate', 'immediately', 'immediatly', 'immense', 'immensely', 'immerse', 'immersed', 'immigrant', 'immigrated', 'immortal', 'immune', 'immunity', 'immunologic', 'impact', 'impactful', 'impactible', 'impart', 'imparting', 'imparts', 'impeccable', 'impeccably', 'imperial', 'impermeable', 'implement', 'implies', 'imploring', 'imply', 'import', 'importance', 'important', 'importantly', 'importations', 'imported', 'importedpecorino', 'importer', 'importers', 'importfood', 'importing', 'imports', 'impossibility', 'impossible', 'impoverished', 'impractical', 'impress', 'impressed', 'impression', 'impressionable', 'impressive', 'improve', 'improved', 'improvement', 'improvementnever', 'improvements', 'improves', 'improving', 'impurities', 'imsi', 'in', 'in16oz', 'inactive', 'inaugurated', 'inc', 'inca', 'incan', 'incas', 'incentive', 'inception', 'inch', 'inches', 'incidence', 'incinerated', 'incisive', 'inclucing', 'include', 'included', 'includes', 'including', 'inclusion', 'inclusive', 'income', 'incoming', 'incomparable', 'incomparably', 'inconsistent', 'inconvenience', 'incorporate', 'incorporated', 'incorporating', 'incorporation', 'increase', 'increased', 'increases', 'increasing', 'increasingly', 'incrediable', 'incredible', 'incredibly', 'incredients', 'incredulous', 'incubated', 'incubation', 'indeed', 'indefinitely', 'indent', 'independence', 'independent', 'independently', 'index', 'indexes', 'india', 'indiahave', 'indian', 'indiana', 'indianapolis', 'indians', 'indicate', 'indicated', 'indicates', 'indicating', 'indications', 'indicationshealthy', 'indies', 'indigenous', 'indigestible', 'indigestion', 'indigo', 'indispensable', 'indisputable', 'indistinguishable', 'individual', 'individuality', 'individually', 'individuals', 'indivually', 'indomie', 'indonesia', 'indonesian', 'indonesians', 'indoor', 'indoors', 'induced', 'inducing', 'indulge', 'indulgence', 'indulgences', 'indulgencespice', 'indulgent', 'indulging', 'indus', 'industrial', 'industrialized', 'industrially', 'industries', 'industry', 'inebriated', 'inedible', 'inert', 'inexpensive', 'infamous', 'infant', 'infantenfamil', 'infants', 'infantsfor', 'infection', 'infections', 'inferior', 'infinitely', 'inflammation', 'inflammatory', 'influence', 'influences', 'info', 'infogleegum', 'inform', 'information', 'informational', 'informed', 'infuse', 'infused', 'infuser', 'infusers', 'infuses', 'infusing', 'infusion', 'infusions', 'ing', 'ingenious', 'ingenuity', 'ingest', 'ingested', 'ingestible', 'ingesting', 'inglehoffer', 'ingrediants', 'ingredie', 'ingredien', 'ingredient', 'ingredientesbsicos', 'ingredients', 'ingredients1', 'ingredientssea', 'ingreidents', 'inhabitants', 'inhale', 'inhaling', 'inherent', 'inhibit', 'inhospitable', 'inimitable', 'initial', 'initially', 'initiating', 'initiatives', 'ink', 'inka', 'inks', 'inland', 'inlet', 'inn', 'innate', 'inner', 'innocent', 'innovate', 'innovateso', 'innovating', 'innovation', 'innovations', 'innovative', 'innovator', 'innovators', 'innoviati', 'inns', 'inosinate', 'input', 'inquiries', 'insanely', 'insanity', 'insecticides', 'insects', 'insert', 'inshell', 'inside', 'insides', 'insight', 'insights', 'insist', 'insisted', 'insoluble', 'inspect', 'inspected', 'inspection', 'inspections', 'inspector', 'inspiration', 'inspirational', 'inspirations', 'inspire', 'inspired', 'inspires', 'inspiring', 'inspiringin', 'installation', 'installed', 'instance', 'instant', 'instantly', 'instead', 'instilled', 'instinct', 'instincts', 'institute', 'institutional', 'institutionally', 'instructions', 'insulated', 'insulating', 'insulin', 'insurance', 'insure', 'insures', 'insuring', 'intact', 'intake', 'intakes', 'inteak', 'integral', 'integrate', 'integrated', 'integration', 'integrity', 'integrityhoosier', 'intellectual', 'intellibrew', 'intelligence', 'intended', 'intense', 'intensely', 'intensifies', 'intensify', 'intensity', 'intensive', 'intensively', 'intention', 'intentionally', 'intentions', 'interchangeably', 'interest', 'interested', 'interesting', 'interestingly', 'interfere', 'interior', 'internal', 'internally', 'international', 'internationally', 'internatural', 'internet', 'internist', 'internship', 'interplay', 'interpretation', 'intertwined', 'intervals', 'intestinal', 'intestine', 'intestines', 'intimate', 'into', 'intolerance', 'intolerances', 'intolerant', 'intorduce', 'intoxicating', 'intr', 'intricacies', 'intricate', 'intrigue', 'intrigued', 'intriguing', 'introduce', 'introduced', 'introduces', 'introducing', 'introducting', 'introduction', 'introductions', 'intuitive', 'inulin', 'invaders', 'invasive', 'invented', 'inventing', 'invention', 'inventions', 'inventor', 'inverted', 'inves', 'invest', 'invested', 'investing', 'investment', 'investors', 'invigerating', 'invigorate', 'invigorated', 'invigorates', 'invigorating', 'invitation', 'invite', 'invited', 'invites', 'inviting', 'invokes', 'involve', 'involved', 'involves', 'involving', 'iodide', 'iodine', 'iodized', 'ionian', 'iowa', 'iran', 'ireland', 'irie', 'irish', 'irishmen', 'irn', 'iron', 'iron8', 'irondirectionstake', 'ironically', 'ironman', 'irradiated', 'irradiation', 'irregular', 'irresistable', 'irresistible', 'irresistibly', 'irrespective', 'irrestistable', 'irrigation', 'irritable', 'irritates', 'irritating', 'irritation', 'irritations', 'is', 'isan', 'ish', 'isinglass', 'island', 'islands', 'isles', 'isn', 'isoflavones', 'isolate', 'isolated', 'isolation', 'isoleucine', 'isomalt', 'isomaltulose', 'isotonic', 'isotonics', 'isotopes', 'israel', 'israeli', 'israelies', 'israelis', 'issue', 'issues', 'isthe', 'it', 'italia', 'italian', 'italians', 'italic', 'italy', 'itcacao', 'item', 'items', 'ito', 'its', 'itself', 'iu', 'iv2lj15hdb0', 'izze', 'jack', 'jackle', 'jacks', 'jackson', 'jacob', 'jacobs', 'jacobson', 'jacqueline', 'jade', 'jaffa', 'jaffe', 'jaffna', 'jagged', 'jahe', 'jaipur', 'jake', 'jalape', 'jalapeno', 'jalapenos', 'jalapeos', 'jalisco', 'jam', 'jamaica', 'jamaican', 'jamba', 'jambalaya', 'james', 'jameson', 'jammin', 'jammy', 'jams', 'jan', 'jane', 'janes', 'jang', 'jangled', 'jansal', 'january', 'japan', 'japanese', 'japenese', 'japonica', 'jar', 'jarae', 'jarorville', 'jarred', 'jars', 'jarspecificationsas', 'jarsuperior', 'jas', 'jasmati', 'jasmine', 'java', 'javajig', 'jaw', 'jawbreakers', 'jaws', 'jayone', 'jazz', 'jazzed', 'jealous', 'jean', 'jeans', 'jeff', 'jel', 'jell', 'jellies', 'jelly', 'jellybean', 'jen', 'jennie', 'jennies', 'jennifer', 'jensen', 'jeremy', 'jerk', 'jerkee', 'jerking', 'jerks', 'jerky', 'jerquee', 'jerry', 'jersey', 'jerusalem', 'jet', 'jew', 'jewel', 'jewell', 'jewish', 'jfc', 'jfg', 'jiang', 'jif', 'jill', 'jillian', 'jills', 'jim', 'jimmies', 'jingles', 'jitters', 'jkgourmet', 'joan', 'job', 'jobs', 'joe', 'joel', 'joes', 'jogging', 'john', 'johnny', 'johnson', 'join', 'joined', 'joining', 'joint', 'joints', 'joked', 'jokes', 'jolly', 'jolokia', 'jolt', 'jona', 'jonah', 'jonathan', 'jones', 'jordan', 'jos', 'jose', 'joseph', 'josh', 'journal', 'journey', 'journeyed', 'journeyin', 'journeying', 'journeys', 'jovial', 'joy', 'joyfuel', 'joyva', 'jr', 'juan', 'juast', 'jubilee', 'judee', 'judge', 'judges', 'jug', 'juggle', 'juggling', 'jugs', 'juice', 'juiced', 'juices', 'juiciest', 'juiciness', 'juicing', 'juicy', 'juka', 'julekake', 'jules', 'julia', 'july', 'jumbo', 'jump', 'jumpstart', 'june', 'jungle', 'jungles', 'junior', 'juniper', 'junk', 'junkie', 'junky', 'jurassic', 'jus', 'just', 'justice', 'justin', 'justlikesugar', 'justlikesugarinc', 'jyoti', 'k2o', 'k2v', 'ka', 'kabobs', 'kadoya', 'kaempferol', 'kaffe', 'kaffir', 'kahl', 'kahlua', 'kala', 'kalajeera', 'kalamata', 'kale', 'kali', 'kalua', 'kama', 'kamp', 'kamut', 'kann', 'kansas', 'kanten', 'kap', 'karee', 'karen', 'karhi', 'karma', 'kashi', 'kashiin', 'kashrut', 'kashruth', 'kasilof', 'kasmati', 'kass', 'kasugai', 'kat', 'katjes', 'katrina', 'katsobushi', 'katsuo', 'katsuobushi', 'kava', 'kavli', 'kay', 'kcal', 'kcup', 'kcups', 'kee', 'keebler', 'keemun', 'keen', 'keenan', 'keep', 'keepers', 'keeping', 'keeps', 'keepsake', 'kefir', 'kellogg', 'kelloggin', 'kelly', 'kelp', 'ken', 'kennedy', 'kenneth', 'kenney', 'kenny', 'kentucky', 'kenya', 'kenyan', 'keoke', 'kept', 'kernal', 'kernel', 'kernels', 'kerry', 'kerrygold', 'ketchikan', 'ketchup', 'ketosis', 'kettle', 'kettles', 'keurig', 'kevala', 'kevin', 'kewpie', 'key', 'keysands', 'keystone', 'kg', 'kgproduct', 'kha', 'khorasan', 'kibbutzim', 'kick', 'kicked', 'kicking', 'kicks', 'kid', 'kidney', 'kidneys', 'kids', 'kiev', 'kikkoman', 'kiko', 'kili', 'kill', 'killer', 'killing', 'kills', 'kiln', 'kilo', 'kilograms', 'kim', 'kimchi', 'kind', 'kinda', 'kinded', 'kinder', 'kindle', 'kindly', 'kindness', 'kinds', 'king', 'kingdom', 'kings', 'kinnikinnick', 'kinnikritters', 'kinnitoos', 'kintamani', 'kipling', 'kipper', 'kippered', 'kippers', 'kirishima', 'kirk', 'kirkland', 'kiss', 'kissed', 'kisses', 'kit', 'kitchen', 'kitchenaid', 'kitchens', 'kits', 'kiwi', 'klassic', 'klein', 'knead', 'kneaded', 'kneading', 'knee', 'knees', 'knew', 'knight', 'knights', 'knock', 'knocks', 'knorr', 'knotty', 'know', 'knowing', 'knowingly', 'knowk', 'knowledge', 'known', 'knows', 'knox', 'knoxville', 'knuckle', 'knudsen', 'kochujang', 'kodiak', 'kof', 'koji', 'koko', 'kola', 'koloharena', 'kombu', 'kombucha', 'komen', 'kona', 'konbu', 'konjac', 'kookaburra', 'kool', 'koose', 'kopi', 'kopiko', 'korea', 'korean', 'korintje', 'korintji', 'korn', 'kosher', 'kosherno', 'kosherthe', 'koshihikari', 'koyo', 'kr', 'kracie', 'kracker', 'kraft', 'kraftkraft', 'krave', 'krinkle', 'krishna', 'krispies', 'kristin', 'kroenung', 'kronung', 'krunch', 'krusteaz', 'ksa', 'ku001', 'kudos', 'kuerig', 'kukicha', 'kulfi', 'kum', 'kundalini', 'kung', 'kushi', 'kuzu', 'kwan', 'kyoto', 'la', 'lab', 'label', 'labeled', 'labeling', 'labels', 'labor', 'laboratories', 'laboratory', 'labored', 'laborious', 'laboriously', 'labs', 'lac', 'lace', 'laced', 'lacey', 'laci', 'lack', 'lacking', 'lacks', 'lactase', 'lactee', 'lactic', 'lactitol', 'lactobacillus', 'lactone', 'lactose', 'lactosefrei', 'laden', 'ladies', 'lady', 'ladyfinger', 'lafayette', 'laffy', 'lahu', 'laid', 'lait', 'lakanto', 'lake', 'lakes', 'lakewood', 'lakota', 'lakritz', 'lamb', 'lambada', 'lancaster', 'land', 'landfill', 'landfills', 'landing', 'landmark', 'lands', 'landscape', 'lane', 'lange', 'language', 'languages', 'languid', 'lanka', 'lankan', 'lankans', 'laos', 'lapsang', 'laptop', 'lara', 'larabar', 'large', 'largely', 'larger', 'largest', 'larry', 'las', 'lasagna', 'lasagne', 'laser', 'lashings', 'last', 'lasting', 'lasts', 'late', 'later', 'latest', 'lather', 'lathered', 'latin', 'latino', 'latte', 'latter', 'lattes', 'lattet', 'laughing', 'laughter', 'launch', 'launched', 'laundry', 'laura', 'laurel', 'lauric', 'laurus', 'lava', 'lavazza', 'lavender', 'lavish', 'law', 'lawrence', 'lawry', 'laws', 'laxative', 'laxseed', 'lay', 'layer', 'layered', 'layers', 'layfayette', 'laying', 'lazy', 'lazzaroni', 'lb', 'lbp', 'lbs', 'lcts', 'ldl', 'ldquo', 'le', 'lea', 'leached', 'lead', 'leader', 'leaders', 'leadership', 'leading', 'leads', 'leaf', 'leafed', 'leafy', 'lean', 'leandro', 'leap', 'learn', 'learned', 'learning', 'leased', 'least', 'leather', 'leathers', 'leatherwood', 'leave', 'leaven', 'leavened', 'leavener', 'leavening', 'leaves', 'leaving', 'lebanon', 'leche', 'lechera', 'lecithin', 'lecker', 'lectins', 'lectithin', 'lecturer', 'led', 'lee', 'leek', 'leeks', 'leeper', 'left', 'leftover', 'leftovers', 'legacy', 'legal', 'legend', 'legendary', 'legends', 'legitimate', 'legs', 'legume', 'legumes', 'leisure', 'leite', 'leith', 'lekker', 'lemon', 'lemonade', 'lemonade6', 'lemongrass', 'lemonhead', 'lemonmint', 'lemons', 'lemony', 'lend', 'lending', 'lends', 'length', 'lengthen', 'lengths', 'lengthy', 'lent', 'lenticchie', 'lentil', 'lentils', 'leo', 'leonidas', 'leonor', 'leroy', 'les', 'lesaffre', 'leslie', 'less', 'lessen', 'lessens', 'lesser', 'lesserevil', 'lessons', 'let', 'lethargic', 'lets', 'letters', 'letting', 'lettuce', 'leucine', 'level', 'leveling', 'levels', 'lever', 'levine', 'levis', 'levy', 'lewis', 'lexicon', 'lf', 'lggenfamil', 'liaison', 'libby', 'liberally', 'liberated', 'liberty', 'libido', 'library', 'libre', 'license', 'licensed', 'licious', 'liciouslow', 'lick', 'licorette', 'licorice', 'licorices', 'lid', 'lids', 'lie', 'lies', 'life', 'lifeand', 'lifeless', 'lifelong', 'lifesavers', 'lifespan', 'lifestream', 'lifestyle', 'lifestyles', 'lifetime', 'lift', 'lifting', 'lifts', 'lig', 'ligaments', 'light', 'lighten', 'lighter', 'lightest', 'lightfull', 'lighting', 'lightly', 'lightner', 'lightning', 'lights', 'lightweight', 'lignan', 'lignans', 'liguria', 'liitle', 'like', 'liked', 'likely', 'likened', 'likeness', 'likes', 'liking', 'lil', 'liliaceae', 'lilliputian', 'lily', 'lima', 'lime', 'limed', 'limes', 'limesave', 'limewater', 'limit', 'limitations', 'limited', 'limonata', 'limone', 'linden', 'lindor', 'lindsay', 'lindsey', 'lindt', 'line', 'lined', 'lines', 'lineup', 'linger', 'lingered', 'lingering', 'lingers', 'linguine', 'lining', 'link', 'linked', 'linking', 'links', 'linoleic', 'linolenic', 'lint', 'linwoods', 'lion', 'lip', 'lipolysis', 'lipton', 'liquefied', 'liquefies', 'liquefy', 'liquer', 'liquers', 'liqueur', 'liqueurs', 'liquid', 'liquids', 'liquified', 'liquor', 'liquorice', 'liquors', 'list', 'listed', 'listened', 'listing', 'listings', 'lists', 'lite', 'liter', 'literally', 'literature', 'liters', 'little', 'livanto', 'live', 'lived', 'livelihood', 'livelihoods', 'lively', 'liven', 'liver', 'liverpool', 'lives', 'living', 'liz', 'lizano', 'll', 'llc', 'lo', 'loa', 'loacker', 'load', 'loaded', 'loads', 'loaf', 'loafs', 'loan', 'loans', 'loaves', 'lobster', 'local', 'localize', 'locally', 'locals', 'locate', 'located', 'location', 'locations', 'lock', 'locked', 'locking', 'locks', 'lockup', 'loco', 'locust', 'lodge', 'log', 'logistics', 'logo', 'logs', 'loins', 'loire', 'lokum', 'lollies', 'lollipop', 'lollipops', 'lollypops', 'london', 'long', 'longa', 'longed', 'longer', 'longest', 'longevity', 'longing', 'longtime', 'look', 'looked', 'looking', 'looks', 'loops', 'loose', 'lorann', 'lord', 'lorenzo', 'lorna', 'los', 'lose', 'losing', 'loss', 'losses', 'lost', 'lot', 'lotion', 'lotions', 'lots', 'lotus', 'lou', 'loud', 'louisiana', 'lounging', 'loureirii', 'lousiana', 'lovable', 'lovage', 'love', 'loved', 'lovely', 'lover', 'lovers', 'loversessential', 'loves', 'loving', 'lovingly', 'low', 'lower', 'lowered', 'lowering', 'lowers', 'lowest', 'lowfat', 'lowly', 'lowrey', 'lows', 'lox', 'loyal', 'loyalty', 'lozenges', 'ls', 'lsquo', 'lt', 'ltd', 'lu', 'lubricant', 'lubricate', 'lucca', 'lucidum', 'lucini', 'lucious', 'luck', 'lucky', 'lucullus', 'lucuma', 'lucy', 'luggage', 'lukewarm', 'lull', 'lullaby', 'lump', 'lumpfish', 'lumpier', 'lumping', 'lumps', 'luna', 'lunch', 'lunchbox', 'lunchboxes', 'luncheonette', 'lunches', 'lunchtime', 'lundberg', 'lung', 'lungs', 'luo', 'luscious', 'lusciously', 'lush', 'lushus', 'luwak', 'lux', 'luxardo', 'luxe', 'luxurious', 'luxuriously', 'luxury', 'luzianne', 'luzon', 'lychee', 'lycium', 'lycopene', 'lying', 'lyle', 'lynn', 'lysine', 'ma', 'mac', 'maca', 'macadamia', 'macadamias', 'macaina', 'macaroni', 'macaroon', 'macaroons', 'maccha', 'macchiato', 'macdonald', 'maceration', 'machinability', 'machine', 'machined', 'machinery', 'machines', 'macht', 'macrobars', 'macrobiotic', 'macrobiotics', 'macy', 'madagascan', 'madagascar', 'madagasgar', 'maddies', 'maddy', 'made', 'mader', 'madhava', 'madhouse', 'madi', 'madison', 'madras', 'mae', 'maesri', 'magazine', 'magenta', 'magic', 'magical', 'magically', 'magicdiedrich', 'magician', 'magicthe', 'magnatum', 'magnesium', 'magnet', 'magnificent', 'magnolia', 'magnum', 'mahalo', 'mahogany', 'mahon', 'mai', 'maid', 'mail', 'main', 'maine', 'mainland', 'mainly', 'mainstay', 'mainstays', 'mainstream', 'maintain', 'maintained', 'maintaining', 'maintains', 'maisie', 'maison', 'maize', 'majestic', 'majesty', 'major', 'majority', 'mak', 'makara', 'make', 'maker', 'makers', 'makes', 'makeshift', 'makhani', 'maki', 'making', 'malabar', 'maladies', 'malagasy', 'malawi', 'malay', 'malaysia', 'malaysian', 'maldon', 'mali', 'malic', 'malik', 'mall', 'mallomars', 'malt', 'malted', 'maltesers', 'maltitol', 'maltodextrin', 'maltodextrine', 'maltodextrins', 'malts', 'malty', 'mam', 'mama', 'maman', 'mamba', 'mambo', 'mamma', 'man', 'manage', 'manageability', 'managed', 'management', 'manager', 'managing', 'mancaffe', 'mancha', 'manchego', 'mandarin', 'mandate', 'mandheling', 'mandioca', 'mandm', 'manganese', 'mangia', 'mango', 'mangoes', 'mangos', 'mangosteen', 'manhattan', 'manioc', 'manitoba', 'manna', 'manner', 'manodori', 'manot', 'mantova', 'mantra', 'manufacture', 'manufactured', 'manufacturer', 'manufacturered', 'manufacturers', 'manufactures', 'manufacturing', 'manuka', 'many', 'manzanilla', 'maori', 'map', 'maple', 'maplegrove', 'mapuche', 'maqui', 'mar', 'mar13', 'maraming', 'maranatha', 'marasca', 'maraschino', 'marathon', 'marble', 'marbled', 'march', 'marcona', 'mareblu', 'margaret', 'margarine', 'margarita', 'margaritas', 'margin', 'margins', 'maria', 'mariani', 'marie', 'marigold', 'marimbas', 'marin', 'marinade', 'marinades', 'marinara', 'marinate', 'marinated', 'marinating', 'marine', 'mario', 'marjoram', 'marjorie', 'mark', 'marked', 'marker', 'market', 'marketed', 'marketer', 'marketing', 'marketology', 'marketplace', 'markets', 'markings', 'markoff', 'marks', 'marley', 'marlyn', 'marmalade', 'marmite', 'marnier', 'maromakotro', 'marquis', 'marriage', 'married', 'marries', 'marry', 'marrying', 'mars', 'marsala', 'marshalls', 'marshes', 'marshmallow', 'marshmallows', 'martin', 'martinis', 'martino', 'martinson', 'martinsons', 'marty', 'maruchan', 'marukan', 'marukawa', 'marvel', 'marvellous', 'marvelous', 'mary', 'maryland', 'marys', 'marzano', 'marzipan', 'masa', 'masala', 'masasca', 'mascobado', 'mascot', 'mash', 'mashed', 'mashup', 'mashups', 'mask', 'masks', 'mason', 'mass', 'massa', 'massachusetts', 'massage', 'masses', 'massey', 'massimo', 'massive', 'master', 'mastered', 'masterful', 'masterfully', 'mastering', 'masterly', 'masterpiece', 'masterpieces', 'masters', 'mastitis', 'mastro', 'matar', 'match', 'matcha', 'matchaccino', 'matchadna', 'matched', 'matches', 'matching', 'mate', 'matedelicious', 'material', 'materialize', 'materials', 'materne', 'maternity', 'mates', 'mathematical', 'mathieu', 'matiz', 'matricaria', 'matrix', 'mats', 'matsaman', 'matsuda', 'matsumoto', 'matter', 'matters', 'matthew', 'maturation', 'mature', 'matured', 'maturity', 'matzo', 'matzos', 'maui', 'mauna', 'mauresque', 'mauritius', 'maxim', 'maximally', 'maximize', 'maximized', 'maximizes', 'maximizing', 'maximum', 'maximun', 'maxwell', 'may', 'maya', 'mayan', 'mayans', 'maybe', 'mayer', 'mayhem', 'mayo', 'mayonaise', 'mayonnaise', 'mazin', 'mba', 'mberry', 'mc', 'mcalister', 'mccann', 'mccanns', 'mccord', 'mccormick', 'mcdougall', 'mcfas', 'mcfss', 'mcgrath', 'mcgurk', 'mcilhenny', 'mckay', 'mckays', 'mclib', 'mcneil', 'mct', 'mcts', 'mcvitie', 'mcvities', 'mdash', 'me', 'mead', 'meadmaking', 'meager', 'meal', 'meals', 'mealtime', 'mealtimes', 'mean', 'meaning', 'meaningful', 'meanings', 'means', 'meant', 'meanwhile', 'measure', 'measured', 'measures', 'measuring', 'meat', 'meatball', 'meatballs', 'meatier', 'meatless', 'meatloaf', 'meatpacking', 'meats', 'meaty', 'meaux', 'mechanical', 'mechanically', 'mechanisms', 'mechanization', 'medaglia', 'medal', 'medallions', 'medals', 'media', 'median', 'medical', 'medication', 'medications', 'medicinal', 'medicinals', 'medicine', 'medicines', 'medieval', 'meditation', 'meditative', 'mediterranean', 'medium', 'medjool', 'medley', 'medleys', 'mee', 'meet', 'meeting', 'meetings', 'meets', 'mega', 'meiji', 'mein', 'mel', 'melatonin', 'melba', 'melbourne', 'melina', 'melissa', 'melitta', 'melk', 'mellow', 'mellowed', 'mellows', 'melon', 'melons', 'melt', 'meltable', 'melted', 'melting', 'melts', 'member', 'members', 'memento', 'memorable', 'memorial', 'memories', 'memory', 'men', 'mena', 'mendous', 'menopause', 'menraka', 'mental', 'mentally', 'mentha', 'menthe', 'menthol', 'mention', 'mentioned', 'menu', 'menus', 'merced', 'merchandisers', 'merchandising', 'merchandizing', 'merchant', 'merchants', 'merci', 'mercury', 'mercy', 'mere', 'merely', 'merged', 'merges', 'merging', 'meringue', 'meringues', 'merita', 'meritorious', 'merrill', 'merry', 'mes', 'mesh', 'mesmerizing', 'mesoamerica', 'mesoamerican', 'mesolithic', 'mesquite', 'mess', 'message', 'messages', 'messy', 'mestemacher', 'met', 'metabolic', 'metabolically', 'metabolism', 'metabolismwhen', 'metabolize', 'metabolized', 'metabolizes', 'metal', 'metallic', 'metals', 'metamucil', 'metaphorically', 'metaphysics', 'meteor', 'meter', 'meters', 'methionine', 'method', 'methods', 'methylene', 'meticulous', 'meticulously', 'metromint', 'metropolitan', 'mex', 'mexia', 'mexica', 'mexican', 'mexico', 'meyenberg', 'meyer', 'mez', 'mg', 'mg0', 'mgbisdementhoxycurcumin', 'mgcarbohydrates', 'mgo', 'mgother', 'mgstandardized', 'mi', 'miami', 'michael', 'michaels', 'michelada', 'michigan', 'micro', 'microbes', 'microbial', 'microbiological', 'microbiologically', 'microground', 'micronutrients', 'microorganism', 'microorganisms', 'micropore', 'microwablbe', 'microwavable', 'microwave', 'microwaveable', 'microwaved', 'mid', 'midday', 'middle', 'middlemen', 'middlesex', 'midnight', 'midterms', 'midwest', 'midwestern', 'might', 'mighty', 'mightymunch', 'migrating', 'migration', 'migratory', 'miguel', 'mike', 'mikespopcorn', 'mil', 'milano', 'milch', 'mild', 'mild2', 'milder', 'mildest', 'mildly', 'mildred', 'mile', 'miles', 'milestone', 'military', 'milk', 'milka', 'milkfat', 'milkfor', 'milkhelps', 'milkmaid', 'milkonly', 'milks', 'milkshakes', 'milky', 'mill', 'milled', 'millefeuille', 'millennia', 'millennium', 'miller', 'millers', 'millet', 'milligram', 'milligrams', 'milling', 'million', 'millions', 'mills', 'millstone', 'millstones', 'millwright', 'milton', 'mimi', 'mimic', 'mimiccreme', 'mimicking', 'mimics', 'min', 'minced', 'mind', 'mindanao', 'minded', 'mindful', 'mindo', 'minds', 'mine', 'mined', 'mineral', 'mineralized', 'minerals', 'mineralsbob', 'mineralsgood', 'minestrone', 'mingle', 'mingled', 'mingles', 'mingling', 'mini', 'miniature', 'miniatures', 'minimal', 'minimally', 'minimize', 'minimizes', 'minimum', 'mining', 'minis', 'minister', 'ministry', 'minneapolis', 'minneola', 'minnesota', 'minnies', 'minong', 'minor', 'minorities', 'minority', 'mint', 'mints', 'mintsave', 'minty', 'minus', 'minute', 'minutes', 'minutesbrewing', 'minutesserving', 'minuteszero', 'mio', 'miracle', 'miraculin', 'miraculous', 'mirin', 'mirra', 'mirror', 'mirrors', 'misconstrued', 'misfits', 'mish', 'mismanaged', 'miso', 'miss', 'missed', 'missing', 'mission', 'missionaries', 'missionat', 'missions', 'missionto', 'missouri', 'mist', 'mistake', 'mistaken', 'mistaking', 'misted', 'mists', 'mistura', 'misty', 'mit', 'mites', 'mitigating', 'mix', 'mixed', 'mixer', 'mixes', 'mixing', 'mixologist', 'mixology', 'mixsafe', 'mixserve', 'mixture', 'mixtures', 'miyazaki', 'mjffoundation', 'ml', 'mlange', 'mlo', 'mm', 'mmmm', 'mo', 'mobile', 'mobility', 'mocha', 'mochas', 'mochi', 'mock', 'mocktail', 'mocktails', 'mod', 'model', 'modeled', 'modena', 'moderate', 'moderately', 'moderation', 'modern', 'modernity', 'modest', 'modification', 'modified', 'modifier', 'modifies', 'modulating', 'moist', 'moistened', 'moistens', 'moistness', 'moisture', 'moisturize', 'moisturized', 'moisturizer', 'moisturizing', 'mojito', 'mojo', 'molasses', 'mold', 'molding', 'molds', 'mole', 'molecular', 'molecule', 'molecules', 'molten', 'molucas', 'mom', 'mombacked', 'moment', 'momentary', 'moments', 'momesite', 'momofuku', 'moms', 'mon', 'monaco', 'monastery', 'monday', 'mondays', 'monde', 'mondiale', 'money', 'moneys', 'monica', 'monin', 'monitor', 'monitored', 'monitoring', 'monitors', 'monk', 'monkey', 'monks', 'mono', 'monocalcium', 'monocle', 'monocropping', 'mononitrate', 'monosaturated', 'monosodium', 'monotony', 'monounsaturated', 'monoxide', 'monsieur', 'monster', 'mont', 'montana', 'monte', 'montebaldo', 'montebello', 'montessori', 'month', 'months', 'montmorency', 'moo', 'mood', 'moon', 'mooney', 'moore', 'more', 'moreables', 'moreaccording', 'morello', 'mores', 'mori', 'morinaga', 'morinu', 'morning', 'mornings', 'morningstar', 'moroccan', 'morocco', 'morphine', 'morrill', 'morris', 'morsel', 'morsels', 'mortar', 'mortgaged', 'morton', 'moruga', 'moscow', 'moses', 'moshe', 'moss', 'most', 'mostly', 'mot', 'mother', 'mothers', 'motion', 'motivated', 'mott', 'motto', 'mounds', 'mount', 'mountain', 'mountainous', 'mountains', 'mousse', 'mousses', 'mouth', 'mouthfeel', 'mouthful', 'mouths', 'mouthwash', 'mouthwatering', 'move', 'moved', 'movement', 'movements', 'movie', 'movies', 'moving', 'mozzarella', 'mr', 'mrs', 'msc', 'msg', 'msgno', 'mt', 'mu', 'much', 'muchies', 'mucilage', 'mudslide', 'mueller', 'muesli', 'muffin', 'muffins', 'mug', 'mughal', 'mugicha', 'muir', 'muito', 'muitofcil', 'mulberries', 'mulled', 'mulling', 'multi', 'multifloral', 'multigrain', 'multilayer', 'multimillion', 'multinational', 'multipack', 'multiple', 'multiplied', 'multiplying', 'multitude', 'multivitamin', 'multivitamins', 'mum', 'mummy', 'munch', 'munchie', 'munchies', 'munchin', 'munching', 'munchy', 'mung', 'muscat', 'muscle', 'muscles', 'muscovado', 'muscular', 'musesli', 'museums', 'mush', 'mushroom', 'mushrooming', 'mushrooms', 'mushroomsgiorgio', 'mushy', 'music', 'musicians', 'musketeers', 'muslin', 'must', 'mustache', 'mustard', 'mustards', 'musty', 'musubi', 'mutagenic', 'mutans', 'muted', 'mutti', 'mutual', 'mutually', 'muzyka', 'my', 'mycelium', 'myojo', 'mypyramid', 'myriad', 'myricetin', 'myristic', 'myrtle', 'myself', 'mysore', 'mysterious', 'mystery', 'mystic', 'mystical', 'mystically', 'mythically', 'mythology', 'mywater', 'na', 'naan', 'nabisco', 'nacho', 'nachos', 'nacional', 'nada', 'nagai', 'nagata', 'nagging', 'nail', 'nails', 'nairn', 'naked', 'nama', 'namak', 'namaste', 'name', 'named', 'namely', 'names', 'namesake', 'nan', 'nana', 'nanak', 'nantucket', 'naples', 'napoletana', 'napoli', 'narrow', 'narrowing', 'nasa', 'nasal', 'nasft', 'nashville', 'nasty', 'nation', 'national', 'nationally', 'nations', 'nationwide', 'native', 'natives', 'natrually', 'natto', 'natur', 'natural', 'naturalcan', 'naturales', 'naturalized', 'naturalkosher', 'naturall', 'naturally', 'naturals', 'nature', 'naturemade', 'natures', 'naturopathic', 'naughty', 'nausea', 'navigate', 'navigating', 'navitas', 'navy', 'nawgan', 'nbc', 'nbsp', 'nd', 'ndash', 'ne', 'neapolitan', 'near', 'nearby', 'nearest', 'nearly', 'neat', 'neatly', 'nebel', 'nebraska', 'necco', 'necessarily', 'necessary', 'necessity', 'nectar', 'nectars', 'nectarwhen', 'nectresse', 'need', 'needed', 'needing', 'needle', 'needlethe', 'needs', 'needy', 'negative', 'negligible', 'neighbor', 'neighborhood', 'neighborhoods', 'neighbors', 'neighbouri8ng', 'neilsen', 'neither', 'nekot', 'nell', 'nellie', 'nelson', 'neoguri', 'nephew', 'nerds', 'nerve', 'nerves', 'nervous', 'nescaf', 'nescafe', 'nesco', 'nespresso', 'nesquik', 'ness', 'nestea', 'nestl', 'nestle', 'nestled', 'nestlein', 'nestling', 'net', 'netherlands', 'neti', 'nets', 'network', 'neue', 'neural', 'neuro', 'neurobliss', 'neurological', 'neurotransmitter', 'neurotransmitters', 'neutral', 'neutralize', 'neutralized', 'neutralizes', 'neutralizing', 'nevada', 'nevadillo', 'never', 'neville', 'new', 'newborn', 'newbornenfamil', 'newbornsfor', 'newcomer', 'newer', 'newest', 'newfound', 'newitem', 'newly', 'newman', 'newmans', 'news', 'newspapers', 'newton', 'newtons', 'next', 'nfl', 'nguyen', 'niacin', 'nibble', 'nibbles', 'nibblets', 'nibs', 'nicaragua', 'nice', 'nicer', 'niche', 'niches', 'nick', 'nickel', 'nickname', 'nido', 'niederegger', 'nielsen', 'nifty', 'nigella', 'nigerian', 'nigh', 'night', 'nightly', 'nights', 'nigrum', 'nil', 'nile', 'nilla', 'nine', 'ninety', 'nip', 'nips', 'nirvana', 'nishiki', 'nishio', 'nissenbaum', 'nissin', 'nitrate', 'nitrates', 'nitrite', 'nitrites', 'nitrogen', 'nj', 'nndirections', 'no', 'noah', 'nob', 'nobel', 'nobilis', 'noble', 'nobody', 'nocciolata', 'nocellara', 'nodosum', 'nog', 'noise', 'non', 'nondairy', 'none', 'nonfat', 'nong', 'nongmoproject', 'nongshim', 'nonni', 'nonnutritive', 'nonpareil', 'nonpareille', 'nonprofit', 'nonprofits', 'nonsense', 'nonsuch', 'noodes', 'noodle', 'noodles', 'nookie', 'nooldes', 'noon', 'noor', 'nop', 'nor', 'noradrenaline', 'nordic', 'nore', 'nori', 'norm', 'normal', 'normalization', 'normally', 'norman', 'normandy', 'norris', 'norte', 'north', 'northeast', 'northern', 'northfield', 'northwest', 'northwestern', 'northwoods', 'norway', 'norwegian', 'nosalt', 'nose', 'nosh', 'noslivros', 'nostalgic', 'nostra', 'not', 'notable', 'notably', 'notch', 'note', 'noted', 'notes', 'nothing', 'notice', 'noticeable', 'noticed', 'notification', 'noting', 'notion', 'notoids', 'notorious', 'notta', 'nougat', 'nougats', 'nourish', 'nourished', 'nourishes', 'nourishing', 'nourishment', 'novamex', 'november', 'novice', 'now', 'now100', 'npa', 'nu', 'nuanced', 'nuances', 'nucifera', 'nucleotides', 'nudge', 'nugget', 'nuggets', 'numbed', 'number', 'numbered', 'numbers', 'numbing', 'numerous', 'numi', 'nunaturals', 'nung', 'nuoc', 'nursing', 'nurture', 'nurtured', 'nurturing', 'nurturme', 'nustevia', 'nut', 'nutcracker', 'nutella', 'nutiva', 'nutmeats', 'nutmeg', 'nutra', 'nutracane', 'nutraceutical', 'nutralizing', 'nutrasweet', 'nutri', 'nutrient', 'nutrients', 'nutrition', 'nutritional', 'nutritionally', 'nutritionals', 'nutritionas', 'nutritioncontains', 'nutritionist', 'nutritionists', 'nutritionmade', 'nutritionoffers', 'nutritionthe', 'nutritionvanilla', 'nutritious', 'nutritive', 'nutrtition', 'nuts', 'nutter', 'nuttiness', 'nutty', 'nuttzo', 'nuttzoorganic', 'nutural', 'ny', 'nylon', 'nym', 'oak', 'oakland', 'oaks', 'oat', 'oatbran', 'oatcakes', 'oatmeal', 'oatmeals', 'oats', 'oaty', 'oaxaca', 'obama', 'oberto', 'obesity', 'obici', 'objective', 'objectives', 'obscure', 'obscured', 'observant', 'observe', 'obsessed', 'obsession', 'obsessive', 'obstacles', 'obtain', 'obtained', 'obtaining', 'obtains', 'occasion', 'occasional', 'occasionally', 'occasions', 'occasionsgreat', 'occupy', 'occur', 'occuring', 'occurred', 'occurrences', 'occurring', 'occurs', 'ocean', 'oceans', 'ocha', 'ochais', 'ocia', 'octaflo', 'october', 'octopus', 'ode', 'odell', 'odense', 'odor', 'odorless', 'odors', 'odwalla', 'oelek', 'oeuvres', 'of', 'of4', 'ofchocolatebiscuitmade', 'ofdiedrich', 'off', 'offer', 'offered', 'offering', 'offerings', 'offers', 'office', 'officer', 'offices', 'official', 'officially', 'officinalis', 'offinale', 'offset', 'offsets', 'offspring', 'often', 'og', 'oginally', 'ogm', 'oh', 'ohio', 'ohs', 'oi', 'oids', 'oil', 'oilgrapes', 'oils', 'oilthis', 'oily', 'ointment', 'oishi', 'ojai', 'ok', 'okay', 'okemos', 'okonomiyaki', 'okra', 'ol', 'olay', 'old', 'olde', 'older', 'oldest', 'ole', 'oleic', 'oligosaccharides', 'olio', 'oliva', 'olive', 'olivenation', 'olivepatricia', 'olives', 'olivia', 'olo', 'olsun', 'olympics', 'olympos', 'om', 'oma', 'omaha', 'omega', 'omegas', 'omelet', 'omelets', 'omelettes', 'ommm', 'on', 'once', 'one', 'onecup', 'ones', 'onevoice', 'ongoing', 'onion', 'oniondouble', 'onionfrontier', 'onions', 'onionten', 'oniony', 'online', 'only', 'onlyhalfthe', 'onset', 'onside', 'ontario', 'onto', 'onwards', 'ooey', 'oolong', 'oolongs', 'oomph', 'oozing', 'op', 'open', 'opened', 'openers', 'opening', 'opens', 'operate', 'operated', 'operates', 'operating', 'operation', 'operational', 'operations', 'operative', 'operator', 'operators', 'opinion', 'opium', 'oppenheimer', 'opportunities', 'opportunity', 'opposed', 'opposing', 'opposition', 'oprah', 'ops', 'optically', 'optima', 'optimal', 'optimize', 'optimizes', 'optimum', 'option', 'optional', 'options', 'opulent', 'or', 'orac', 'oral', 'orange', 'orangemint', 'oranges', 'orator', 'orbit', 'orchard', 'orchards', 'orchestrated', 'orchid', 'orchids', 'ordentlichen', 'order', 'ordered', 'ordering', 'orders', 'ordinary', 'ore', 'oregano', 'oregon', 'oregonian', 'oreo', 'oreos', 'org', 'orgain', 'organic', 'organic100', 'organic18', 'organically', 'organickosher', 'organickoshernot', 'organics', 'organicsafe', 'organism', 'organisms', 'organismsno', 'organization', 'organizationmaximize', 'organizations', 'organize', 'organo', 'organs', 'organza', 'orgeat', 'orginal', 'orginial', 'orgran', 'orient', 'oriental', 'oriented', 'origin', 'original', 'originally', 'originals', 'originalten', 'originate', 'originated', 'originates', 'originating', 'originator', 'origins', 'oris', 'orleans', 'ornamental', 'orng', 'oro', 'orthodox', 'ortiz', 'orville', 'oryza', 'oryzanol', 'orzo', 'os', 'oscar', 'osem', 'oskri', 'osteoarthritis', 'osteoporosis', 'osthsmum', 'ostrich', 'ostrim', 'ot', 'other', 'others', 'otherwise', 'otis', 'otter', 'ou', 'ouick', 'ounce', 'ounceall', 'ounces', 'oup', 'our', 'ours', 'ourselves', 'oustau', 'out', 'outback', 'outbreak', 'outdated', 'outdoor', 'outdoors', 'outer', 'outgrow', 'outgrown', 'outlaws', 'outlets', 'outlook', 'outperform', 'outreach', 'outs', 'outside', 'outsourced', 'outstanding', 'outstandingly', 'ouvres', 'oval', 'ovaltine', 'oven', 'ovens', 'over', 'overabundance', 'overall', 'overarching', 'overboard', 'overcoo', 'overcook', 'overdrive', 'overexcited', 'overflowing', 'overloaded', 'overly', 'overnight', 'overpower', 'overpowered', 'overpowering', 'overs', 'overseas', 'oversee', 'oversees', 'overstock', 'overtaken', 'overtones', 'overuse', 'overview', 'overviewdark', 'overviewfounded', 'overviewit', 'overvieworiginal', 'overviewramen', 'overviewthis', 'overweight', 'overwhelming', 'overwhelmingly', 'overwrapped', 'ovose', 'owe', 'own', 'owned', 'owner', 'owners', 'ownership', 'owns', 'ox', 'oxapampa', 'oxidant', 'oxidants', 'oxidation', 'oxide', 'oxidization', 'oxidize', 'oxidized', 'oxygen', 'oy', 'oyster', 'oysters', 'oz', 'ozimported', 'ozno', 'ozs', 'pa', 'pac', 'pacari', 'pace', 'paced', 'pachira', 'pacific', 'pack', 'packable', 'package', 'packaged', 'packageideal', 'packages', 'packagesoy', 'packaging', 'packagingorville', 'packagingreduced', 'packe', 'packed', 'packer', 'packers', 'packet', 'packets', 'packing', 'packs', 'packzero', 'paco', 'pad', 'padano', 'paddies', 'padding', 'paddy', 'pads', 'paducah', 'paesano', 'page', 'paid', 'pail', 'pain', 'pains', 'painstaking', 'painstakingly', 'paintbrush', 'painted', 'paintings', 'pair', 'paired', 'pairing', 'pairs', 'pak', 'pakistan', 'pakistani', 'paks', 'palace', 'palatable', 'palate', 'palates', 'pale', 'paleo', 'paleolithic', 'palestinians', 'palette', 'palettes', 'pallet', 'palliative', 'palm', 'palmetto', 'palmitate', 'palmitic', 'palmitoleic', 'palms', 'palo', 'palouse', 'paludiers', 'pam', 'pamela', 'pampering', 'pampers', 'pamphlet', 'pan', 'panang', 'panax', 'pancake', 'pancakes', 'pancreas', 'panda', 'pandas', 'paneer', 'panel', 'panels', 'panettone', 'pangea', 'pangs', 'panko', 'panned', 'pans', 'pantene', 'pantheistic', 'panther', 'pantothenic', 'pantries', 'pantry', 'pants', 'panut', 'pao', 'papaver', 'papaya', 'papayas', 'papayiannis', 'paper', 'paperboard', 'papers', 'papper', 'pappy', 'paprika', 'papua', 'papyrus', 'par', 'para', 'parade', 'paraded', 'paradise', 'paragon', 'paraguay', 'parakeet', 'parallel', 'parallels', 'paralysis', 'parameters', 'paramount', 'paramus', 'parasites', 'parbaked', 'parboiled', 'parchment', 'pare', 'pareil', 'parent', 'parents', 'pareve', 'parfait', 'parfaits', 'paris', 'parisian', 'park', 'parks', 'parlor', 'parm', 'parma', 'parmesan', 'parmesanno', 'parmigiano', 'parrot', 'parsley', 'parsnips', 'part', 'partake', 'partanna', 'partial', 'partially', 'participate', 'participated', 'participation', 'particle', 'particles', 'particular', 'particularly', 'parties', 'partner', 'partners', 'partnership', 'partnerships', 'parts', 'party', 'partying', 'parve', 'pasadena', 'pasankalla', 'pasion', 'paso', 'pass', 'passed', 'passing', 'passion', 'passionate', 'passionately', 'passionfruit', 'passions', 'passover', 'passport', 'past', 'pasta', 'pastariso', 'pastas', 'paste', 'pasted', 'pastel', 'pastes', 'pasteurised', 'pasteurization', 'pasteurized', 'pastilles', 'pastime', 'pastis', 'pastorelli', 'pastrami', 'pastries', 'pastry', 'pasture', 'pastured', 'pastures', 'pasturized', 'patagonia', 'patagonian', 'patch', 'patches', 'patchtm', 'patent', 'patented', 'path', 'pathways', 'patience', 'patiently', 'patients', 'patio', 'patricia', 'patrons', 'patsy', 'pattern', 'patties', 'paul', 'pauls', 'pause', 'pave', 'pavilion', 'paving', 'pawn', 'pay', 'paying', 'payoff', 'pb', 'pb2', 'pb2superior', 'pcb', 'pckts', 'pcs', 'pdt', 'pea', 'peace', 'peaceful', 'peacemaker', 'peaceworks', 'peaceworkspeaceworks', 'peach', 'peaches', 'peacock', 'peak', 'peaks', 'peanut', 'peanuts', 'peanutty', 'pear', 'pearl', 'pearle', 'pearled', 'pearls', 'pearly', 'pears', 'peas', 'peasant', 'peasants', 'pebbles', 'pecan', 'pecanettes', 'pecans', 'pecansprepare', 'peck', 'pecorino', 'pectin', 'pectins', 'peculiar', 'pedal', 'pediatric', 'pediatricians', 'pediatrics', 'pedigreed', 'pedro', 'peel', 'peelable', 'peeled', 'peeler', 'peeling', 'peels', 'peers', 'peet', 'peking', 'pekoe', 'pellegrino', 'pellet', 'peloponnese', 'pemmican', 'pemmicana', 'pen', 'pending', 'penetrates', 'peninsula', 'penn', 'penne', 'pennsylvania', 'penny', 'pennywise', 'pens', 'penta', 'penthouse', 'peony', 'people', 'peopled', 'peoples', 'peoplework', 'pep', 'pepitas', 'pepper', 'peppercorn', 'peppercorns', 'peppered', 'pepperidge', 'peppermill', 'peppermint', 'pepperoni', 'peppers', 'peppery', 'per', 'perceive', 'perceived', 'percent', 'percentage', 'percentagesprouts', 'perception', 'perched', 'percolation', 'percolator', 'percolators', 'perennial', 'perennially', 'perfect', 'perfected', 'perfecter', 'perfecting', 'perfection', 'perfectly', 'perfecture', 'perforated', 'perforations', 'perform', 'performance', 'performances', 'performed', 'performs', 'perfrect', 'perfume', 'perfumes', 'perhaps', 'perilous', 'period', 'periodic', 'periodicals', 'periods', 'perishable', 'perk', 'perking', 'perks', 'perky', 'permanent', 'permeated', 'permission', 'permits', 'permium', 'pernigotti', 'pero', 'peroxide', 'perpetuate', 'perrier', 'perrins', 'perruche', 'perry', 'perservatives', 'perseverance', 'persian', 'persisted', 'persistent', 'person', 'personal', 'personalities', 'personality', 'personalized', 'personally', 'personnel', 'persons', 'perspective', 'perspectives', 'persuade', 'pertaining', 'peru', 'peruvian', 'peruzzi', 'pest', 'pesticide', 'pesticides', 'pestle', 'pesto', 'pestos', 'pests', 'pet', 'petals', 'pete', 'peter', 'peterborough', 'petit', 'petroleum', 'petroselinum', 'pets', 'pfannenschwarz', 'pg', 'ph', 'pharaoh', 'pharaohs', 'pharmaceutical', 'pharmacist', 'phases', 'phenolic', 'phenomenal', 'phenomenally', 'phenomenon', 'phenonmenon', 'phenylalanine', 'phenylethylamine', 'philadelphia', 'philanthropic', 'philip', 'philippine', 'philippines', 'philips', 'phillip', 'philosophy', 'pho', 'phosphate', 'phosphoric', 'phosphorous', 'phosphorus', 'photo', 'photographer', 'photography', 'photos', 'php', 'phrase', 'phtyo', 'phu', 'physical', 'physically', 'physician', 'physicians', 'physico', 'physics', 'physiological', 'physiology', 'phytochemical', 'phytochemicals', 'phytonutrients', 'phytosterol', 'phytosterols', 'picante', 'pick', 'picked', 'picking', 'pickle', 'pickled', 'pickles', 'pickling', 'picks', 'picky', 'picnic', 'picnics', 'pico', 'picture', 'pictures', 'picturesque', 'pie', 'piece', 'pieces', 'piecesmade', 'piecrusts', 'pierogies', 'pies', 'pig', 'piggy', 'pigment', 'pike', 'pilaf', 'pilafs', 'pilchard', 'pile', 'piled', 'pillar', 'pillars', 'pillowcases', 'pillows', 'pillsbury', 'pils', 'pim', 'pimenton', 'pimiento', 'pin', 'pina', 'pinatas', 'pinch', 'pine', 'pineapple', 'pineapples', 'pineda', 'pinenuts', 'piney', 'pinhead', 'pinicola', 'pink', 'pinnacle', 'pinpoint', 'pint', 'pinto', 'pints', 'pioneer', 'pioneered', 'pioneering', 'pioneers', 'piper', 'piperita', 'piping', 'piquant', 'piquin', 'pirate', 'pirouline', 'piselli', 'pistachio', 'pistachios', 'pit', 'pita', 'pitaya', 'pitcher', 'pitchers', 'pitlochry', 'pits', 'pitted', 'pitting', 'pittsburgh', 'pizza', 'pizzas', 'pizzeria', 'pizzerias', 'pizzicante', 'pk', 'pkg', 'pkgs', 'pkrecommended', 'pkts', 'place', 'placed', 'placement', 'places', 'placing', 'plain', 'plainly', 'plains', 'plan', 'plane', 'planet', 'planetary', 'planetthe', 'planifolia', 'planning', 'plans', 'plant', 'plant2', 'plantain', 'plantains', 'plantation', 'plantations', 'planted', 'planter', 'planters', 'planting', 'plantlets', 'plants', 'plaque', 'plasic', 'plastic', 'platancious', 'plate', 'plateau', 'platers', 'plates', 'platinum', 'platte', 'platter', 'platters', 'play', 'played', 'player', 'playing', 'playmate', 'plays', 'plaza', 'pleasant', 'pleasantly', 'please', 'pleased', 'pleaser', 'pleases', 'pleasing', 'pleasurable', 'pleasure', 'pleasures', 'pledge', 'pledges', 'pledging', 'plentiful', 'plenty', 'pliable', 'plocky', 'plop', 'plots', 'ploy', 'ployol', 'plucked', 'plucking', 'plum', 'plumed', 'plump', 'plumpest', 'plums', 'plunge', 'plus', 'ply', 'pm', 'pneumatic', 'png', 'po', 'poas', 'poatoes', 'poblano', 'pocket', 'pockets', 'pocky', 'pod', 'pods', 'poem', 'poht', 'point', 'pointed', 'points', 'pointsplus', 'poison', 'poisoning', 'poke', 'poland', 'polar', 'pole', 'polenta', 'poles', 'policies', 'policy', 'pollen', 'pollenless', 'pollens', 'pollinate', 'pollinated', 'pollination', 'pollo', 'pollutant', 'pollutants', 'pollute', 'polluted', 'pollution', 'polybag', 'polydextrose', 'polyfoil', 'polymerized', 'polymers', 'polynesia', 'polynesians', 'polyol', 'polyols', 'polyphenol', 'polyphenols', 'polysaccharide', 'polysaccharides', 'polyunsaturated', 'polyunsaturates', 'pomegranate', 'pomegranates', 'pommery', 'pomodoro', 'pomonas', 'pompoms', 'pond', 'ponds', 'pony', 'pool', 'pools', 'poolside', 'pooper', 'poor', 'pop', 'popchips', 'popcorn', 'popcorners', 'popcornopolis', 'popcornparagon', 'popcorns', 'popcornstore', 'popeye', 'popin', 'popped', 'popper', 'poppers', 'popping', 'poppy', 'poppyseed', 'pops', 'popular', 'popularity', 'popularize', 'popularly', 'population', 'populations', 'por', 'porcelain', 'porch', 'porcine', 'porcini', 'pores', 'pork', 'porous', 'porridge', 'port', 'portability', 'portable', 'portafilters', 'portal', 'porterhouse', 'portfolio', 'portfolios', 'portion', 'portioned', 'portions', 'portland', 'portobello', 'portobellos', 'portray', 'portuguese', 'poses', 'position', 'positioned', 'positioning', 'positions', 'positive', 'positively', 'possesing', 'possess', 'possessed', 'possesses', 'possessing', 'possession', 'possibilities', 'possibility', 'possible', 'possibly', 'post', 'postassium', 'posted', 'posting', 'pot', 'potassium', 'potato', 'potatoes', 'potency', 'potent', 'potential', 'potful', 'potoato', 'pototoes', 'potpourris', 'pots', 'potstickers', 'potted', 'potter', 'pouch', 'pouched', 'pouches', 'pouchno', 'poulet', 'poultices', 'poultry', 'pound', 'pounded', 'pounding', 'pounds', 'pour', 'pourable', 'poured', 'pourers', 'pouring', 'pours', 'poverty', 'pow', 'powder', 'powdercinnamon', 'powdered', 'powderfiber', 'powdergarlic', 'powdering', 'powders', 'powdertruffettes', 'powdery', 'power', 'powerbar', 'powerbrokers', 'powered', 'powerful', 'powerfully', 'powerhouse', 'powerhousehempseed', 'powerif', 'powering', 'powers', 'powerscoop', 'ppm', 'practically', 'practice', 'practiced', 'practices', 'practicing', 'practitioner', 'practitioners', 'prague', 'prairie', 'praise', 'praline', 'pralines', 'pranabars', 'pranzo', 'pratobrasileiro', 'pratt', 'prayed', 'prduce', 'pre', 'prebiotic', 'prebiotics', 'prebrowned', 'precious', 'preciousness', 'precise', 'precisely', 'precision', 'precursors', 'predecessors', 'predictable', 'predisposes', 'predominantly', 'predominately', 'prefecture', 'prefer', 'preferably', 'preference', 'preferenceenfagrow', 'preferencenutramigen', 'preferences', 'preferred', 'preggie', 'preggiepop', 'pregnancy', 'pregnant', 'prehistoric', 'premature', 'premeasured', 'premenstrual', 'premier', 'premiere', 'premimim', 'premimum', 'premise', 'premises', 'premium', 'premiums', 'premix', 'premuium', 'preotecting', 'prep', 'prepackaged', 'preparable', 'preparar', 'preparation', 'preparations', 'preparatory', 'prepare', 'prepared', 'preparedness', 'prepares', 'preparing', 'preperation', 'prescription', 'preselected', 'presence', 'present', 'presentation', 'presented', 'presenting', 'presently', 'presents', 'preservation', 'preservative', 'preservatives', 'preservativesprovides', 'preserve', 'preserved', 'preserves', 'preserving', 'presidency', 'president', 'presides', 'presoaking', 'press', 'pressed', 'presservative', 'presses', 'pressing', 'pressley', 'pressure', 'pressures', 'pressurized', 'prestigious', 'preston', 'pretty', 'pretzel', 'pretzels', 'prevalent', 'prevent', 'preventative', 'preventing', 'prevention', 'preventive', 'prevents', 'preview', 'previously', 'prey', 'pria', 'price', 'priced', 'prices', 'pricing', 'prickly', 'pride', 'prides', 'prima', 'primal', 'primarily', 'primary', 'prime', 'primitive', 'primo', 'primula', 'prince', 'princess', 'principal', 'principals', 'principle', 'principled', 'principles', 'principlestasting', 'pringles', 'print', 'printed', 'prior', 'priorities', 'priority', 'pristine', 'privacy', 'private', 'privately', 'privilege', 'privileged', 'prize', 'prized', 'prizes', 'pro', 'probably', 'probat', 'probiotic', 'probiotics', 'problem', 'problems', 'procedure', 'procedures', 'proceed', 'proceeds', 'process', 'processed', 'processedchemical', 'processes', 'processing', 'processingtheir', 'processor', 'processors', 'proclaimed', 'procter', 'proctor', 'procure', 'procured', 'procuring', 'prodotti', 'produce', 'produced', 'producer', 'producers', 'produces', 'producing', 'product', 'productchewable', 'production', 'productive', 'productproudly', 'products', 'profession', 'professional', 'professionalism', 'professionally', 'professionals', 'professor', 'profile', 'profiles', 'profit', 'profitable', 'profited', 'profits', 'profood', 'profound', 'profoundly', 'profusion', 'progr', 'program', 'programmable', 'programs', 'progres', 'progress', 'progressed', 'progression', 'progressive', 'progresso', 'prohibited', 'prohibition', 'proiducts', 'project', 'projects', 'proline', 'prolong', 'prolonged', 'prolongs', 'promax', 'prominent', 'promise', 'promises', 'promising', 'promote', 'promoted', 'promotes', 'promoting', 'promotion', 'prompting', 'promptly', 'prone', 'pronounce', 'pronounced', 'pronunciation', 'proof', 'proofing', 'propel', 'propellant', 'propelyne', 'proper', 'properly', 'properties', 'property', 'propionate', 'propolis', 'proportion', 'proportioned', 'proportions', 'proposed', 'proprietary', 'proprietor', 'propylene', 'prorganics', 'pros', 'prosciutto', 'prosobeefor', 'prospect', 'prospects', 'prosper', 'prospered', 'prosperity', 'prost', 'prostate', 'prostrate', 'protect', 'protected', 'protecting', 'protection', 'protective', 'protectors', 'protects', 'protein', 'protein23', 'proteinbob', 'proteingreat', 'proteinplus', 'proteins', 'proteinsenfagrow', 'proteinshelps', 'proteinthe', 'proten', 'protien', 'protocol', 'proud', 'proudly', 'prove', 'proved', 'proven', 'provence', 'proves', 'provide', 'provided', 'provider', 'providers', 'provides', 'providing', 'province', 'provisions', 'provocative', 'prowess', 'prudhomme', 'prudhommes', 'prune', 'pruned', 'prunes', 'prunus', 'pst', 'psychological', 'psychologist', 'psyllium', 'pta', 'ptt', 'pu', 'pub', 'public', 'publication', 'publics', 'published', 'puck', 'pucker', 'puckfor', 'pud', 'pudding', 'puddings', 'pudge', 'puerh', 'puerto', 'puff', 'puffed', 'puffins', 'puffs', 'puffy', 'pulav', 'pull', 'pulla', 'pulled', 'pullman', 'pulls', 'pulmonary', 'pulp', 'pulping', 'pulpy', 'pulse', 'pulses', 'pultry', 'pulverized', 'pulverizers', 'pump', 'pumped', 'pumpernickel', 'pumping', 'pumpkin', 'pumpkins', 'pumps', 'punch', 'punches', 'pungency', 'pungent', 'pungently', 'punjabi', 'punk', 'punpkin', 'pur', 'puratos', 'purau', 'purchase', 'purchased', 'purchases', 'purchasing', 'pure', 'puree', 'pureed', 'purees', 'purely', 'pureness', 'purer', 'purest', 'purevia', 'purification', 'purified', 'purify', 'purifying', 'purists', 'purity', 'purityevery', 'puroast', 'purple', 'purported', 'purpose', 'purposeful', 'purposely', 'purposes', 'purrr', 'purse', 'purses', 'pursue', 'pursuit', 'purveyor', 'purveyors', 'pus', 'push', 'pushes', 'pushing', 'put', 'puts', 'putting', 'puur', 'pylori', 'pyramid', 'pyridoxine', 'pyrophosphate', 'q10', 'qa', 'qai', 'qcs', 'qmi', 'qr', 'qts', 'qty', 'quadratini', 'quaker', 'qualified', 'qualifies', 'qualify', 'qualifying', 'qualita', 'qualitative', 'qualities', 'quality', 'qualitybecause', 'qualitybuild', 'qualitydr', 'qualityfenugreek', 'qualityof', 'quantities', 'quantity', 'quantum', 'quarantined', 'quarried', 'quarry', 'quart', 'quarter', 'quartered', 'quarters', 'quartet', 'quarts', 'quartz', 'que', 'queasy', 'quebec', 'quechua', 'queen', 'queijo', 'queijocaseiro', 'queijoyoki', 'quench', 'quencher', 'quenchers', 'quenches', 'quenching', 'querceti', 'quercetin', 'quesadillas', 'queso', 'quest', 'question', 'questionable', 'questioning', 'questions', 'questionsq', 'questionswhat', 'quezon', 'quiche', 'quick', 'quickbread', 'quicker', 'quickest', 'quickly', 'quiet', 'quieter', 'quill', 'quilon', 'quinine', 'quinoa', 'quintessential', 'quirky', 'quit', 'quite', 'quoc', 'quot', 'quota', 'quotations', 'r5', 'rabar', 'rabbi', 'rabbinate', 'rabbinic', 'rabbit', 'rabbits', 'racconto', 'race', 'races', 'rack', 'racks', 'radiates', 'radiation', 'radical', 'radicals', 'radio', 'radioactive', 'radish', 'raft', 'rage', 'raging', 'ragu', 'rah', 'railroad', 'rain', 'rainbow', 'rainforest', 'rainforests', 'rainier', 'rainy', 'raise', 'raised', 'raises', 'raisin', 'raisinets', 'raising', 'raisinis', 'raisins', 'raisns', 'raitas', 'rajah', 'rallies', 'ram', 'rama', 'ramen', 'ramens', 'ramon', 'ramos', 'ramyun', 'ran', 'ranch', 'rancher', 'ranches', 'rancid', 'rancidity', 'random', 'randomly', 'randy', 'range', 'ranged', 'ranges', 'ranging', 'rani', 'ranked', 'ranks', 'raosted', 'rapadura', 'rapid', 'rapidly', 'rapnunzel', 'rappel', 'rappelle', 'rapture', 'rapunzel', 'rare', 'rarely', 'rarest', 'ras', 'rasam', 'rasgullas', 'raspberries', 'raspberry', 'ratana', 'ratatouille', 'rate', 'rated', 'rates', 'rather', 'rating', 'ratings', 'ratio', 'ration', 'rational', 'ratios', 'rave', 'raved', 'ravioli', 'raw', 'ray', 'raya', 'raymond', 'raz', 'razz', 'razzle', 'razzmatazz', 'rbgh', 'rbst', 'rda', 'rdi', 'rdna', 'rdquo', 're', 'reach', 'reached', 'reaches', 'reaching', 'react', 'reaction', 'reactions', 'reactivated', 'reactivation', 'read', 'reader', 'readers', 'readily', 'readiness', 'reading', 'reads', 'ready', 'real', 'realemon', 'realfruit', 'realistic', 'reality', 'realization', 'realize', 'realized', 'realizing', 'really', 'realm', 'realsalt', 'reap', 'reaps', 'reason', 'reasonable', 'reasonably', 'reasons', 'reassurance', 'reat', 'reb', 'rebaggers', 'rebaudiana', 'rebaudioside', 'rebaudiosides', 'rebel', 'rebiana', 'rebornturmeric', 'rebuild', 'rebuilding', 'recaito', 'recaldent', 'recalibration', 'recall', 'recaptures', 'receitaem', 'receive', 'received', 'receives', 'receiving', 'recent', 'recently', 'reception', 'receptors', 'recharge', 'recharged', 'recharging', 'recieves', 'recipe', 'recipeingredients', 'recipes', 'recipessay', 'recipesstart', 'recipesstop', 'recipient', 'recline', 'reclosable', 'recloseable', 'recognise', 'recognition', 'recognizable', 'recognize', 'recognized', 'recognizes', 'recommend', 'recommendation', 'recommendations', 'recommended', 'recommends', 'reconstituted', 'reconstitutes', 'reconstituting', 'record', 'recorded', 'records', 'recover', 'recovered', 'recovery', 'recreate', 'recreated', 'recreation', 'recruit', 'rectangular', 'recutita', 'recycable', 'recyclable', 'recycle', 'recycled', 'recycling', 'red', 'redbush', 'reddest', 'reddish', 'redefine', 'redenbacher', 'redfish', 'redhot', 'redirect', 'rediscovering', 'rediscovery', 'redmond', 'redolent', 'redquinoa', 'redriv', 'reds', 'reduce', 'reduced', 'reducer', 'reduces', 'reducing', 'reduction', 'reed', 'reem', 'reese', 'reeses', 'refer', 'reference', 'references', 'referred', 'referring', 'refers', 'refill', 'refillable', 'refilling', 'refills', 'refined', 'refinedno', 'refinement', 'refining', 'reflect', 'reflected', 'reflection', 'reflects', 'reforestation', 'refresh', 'refreshed', 'refresher', 'refreshers', 'refreshes', 'refreshing', 'refreshingly', 'refreshment', 'refreshments', 'refried', 'refries', 'refrigerate', 'refrigerated', 'refrigeration', 'refrigerator', 'refuel', 'refund', 'refuse', 'reg', 'regain', 'regal', 'regard', 'regarded', 'regardless', 'regards', 'reggiano', 'reggie', 'reggio', 'regiesdo', 'regime', 'regimens', 'regimento', 'region', 'regional', 'regionally', 'regions', 'registered', 'regret', 'regrets', 'regulach', 'regular', 'regularity', 'regularly', 'regulars', 'regulate', 'regulates', 'regulating', 'regulation', 'regulations', 'regulator', 'regulators', 'regulatory', 'reguline', 'rehydrate', 'rehydrated', 'rehydration', 'reign', 'reigning', 'reigns', 'reinforced', 'reintroduce', 'reinvent', 'reinvented', 'reinvigorate', 'rejected', 'rejoice', 'rejuve', 'rejuvenate', 'rejuvenated', 'rejuvenating', 'rekoutis', 'related', 'relationship', 'relationshipever', 'relationships', 'relative', 'relatively', 'relaunched', 'relax', 'relaxation', 'relaxed', 'relaxes', 'relaxing', 'releaf', 'release', 'released', 'releases', 'releasing', 'relentless', 'relentlessly', 'relevant', 'reliability', 'reliable', 'reliably', 'reliance', 'relied', 'relief', 'relieve', 'relievercaffeine', 'relieves', 'relieving', 'religions', 'religious', 'relish', 'relishes', 'relishing', 'relive', 'relocated', 'reluctantly', 'rely', 'remain', 'remained', 'remaining', 'remains', 'remarkable', 'remarkably', 'remedies', 'remedy', 'remember', 'remembered', 'remind', 'reminded', 'reminder', 'reminds', 'reminisce', 'reminiscent', 'remnants', 'remodeling', 'remote', 'remoteness', 'removable', 'removal', 'remove', 'removed', 'removes', 'removing', 'renaissance', 'renal', 'renaming', 'rendand', 'rendang', 'rendered', 'renders', 'rendition', 'renew', 'renewable', 'renewing', 'renown', 'renowned', 'rent', 'rented', 'repackaged', 'repair', 'repeat', 'repeatedly', 'repercussions', 'repertoire', 'replace', 'replaced', 'replacement', 'replacers', 'replaces', 'replacing', 'replenish', 'replenishing', 'replicate', 'reply', 'report', 'reported', 'reportedly', 'reports', 'repose', 'represent', 'representative', 'representatives', 'represented', 'representing', 'represents', 'reprioritize', 'republic', 'reputable', 'reputation', 'reputed', 'req', 'request', 'requested', 'requesting', 'requests', 'require', 'required', 'requiredcomes', 'requirement', 'requirements', 'requires', 'requisite', 'resalable', 'resale', 'rescue', 'rescued', 'reseal', 'resealabe', 'resealable', 'resealed', 'reseals', 'research', 'researched', 'researcher', 'researchers', 'researching', 'resemble', 'resembles', 'resembling', 'reserve', 'reserved', 'reservoir', 'reservoirs', 'reside', 'residency', 'residue', 'residues', 'resiliently', 'resin', 'resist', 'resistance', 'resistant', 'resists', 'resonate', 'resonates', 'resorts', 'resource', 'resourcefulness', 'resources', 'respect', 'respectable', 'respected', 'respectembrace', 'respectively', 'respiratory', 'respite', 'respond', 'responding', 'response', 'responses', 'responsibilities', 'responsibility', 'responsibilitythe', 'responsibilitywholesome', 'responsible', 'responsibly', 'rest', 'restaurant', 'restaurantes', 'restaurants', 'restful', 'restoration', 'restorationwhen', 'restorative', 'restore', 'restored', 'restoring', 'restricted', 'restricting', 'restriction', 'restrictions', 'rests', 'result', 'resulted', 'resulting', 'results', 'resveratrol', 'retail', 'retailer', 'retailers', 'retailing', 'retain', 'retained', 'retaining', 'retains', 'retard', 'retention', 'retentive', 'rethink', 'retired', 'retort', 'retro', 'return', 'returned', 'returning', 'returns', 'reunion', 'reusable', 'reuse', 'rev', 'reveal', 'revealed', 'revealing', 'reveals', 'revel', 'revenue', 'revered', 'reverence', 'reverie', 'reverse', 'reversed', 'review', 'reviewed', 'reviews', 'revitalize', 'revitalizing', 'revive', 'revived', 'revolution', 'revolutionary', 'revolutionize', 'revolutionized', 'revolutionizing', 'revolving', 'revv', 'reward', 'rewarded', 'rewardedlive', 'rewarding', 'rexona', 'rheumatism', 'rheumatoid', 'rhizome', 'rhubarb', 'rhymes', 'rhythm', 'rib', 'riba', 'ribbon', 'riboflavin', 'ribs', 'rica', 'rican', 'rice', 'ricemilk', 'rices', 'riceselect', 'ricetec', 'ricewhat', 'rich', 'riche', 'richer', 'richest', 'richly', 'richmond', 'richness', 'richter', 'richvale', 'ricky', 'rico', 'ricochet', 'ricotta', 'rid', 'ride', 'riders', 'ridged', 'ridges', 'ridiculously', 'riegel', 'riesen', 'rifleman', 'right', 'rightful', 'rights', 'rigoni', 'rigorous', 'rigorously', 'rigors', 'rim', 'rina', 'rinaldo', 'rind', 'rinds', 'ring', 'rings', 'rinse', 'rinsed', 'rinses', 'rinsing', 'rio', 'rip', 'ripe', 'ripen', 'ripened', 'ripeness', 'ripest', 'rippened', 'rippin', 'ripple', 'rise', 'risen', 'riserva', 'rises', 'rishi', 'rising', 'risk', 'risks', 'risotto', 'risottos', 'ristretto', 'ritter', 'ritual', 'rituals', 'ritz', 'rival', 'rivalry', 'river', 'riveted', 'riviera', 'rjs', 'rke', 'ro', 'roa', 'road', 'roads', 'roadside', 'roam', 'roar', 'roaring', 'roast', 'roastaroma', 'roasted', 'roaster', 'roasteries', 'roasters', 'roastery', 'roasting', 'roastmaster', 'roasts', 'roasty', 'rob', 'robert', 'robes', 'robin', 'robust', 'robusta', 'robustas', 'roca', 'rocco', 'rocher', 'rochester', 'rock', 'rocket', 'rocketed', 'rockies', 'rockstar', 'rocky', 'rod', 'rodelle', 'rodeo', 'rodney', 'rodolphe', 'rods', 'roe', 'roettele', 'roger', 'roj2vyn_oy8', 'roland', 'role', 'roles', 'roll', 'rolled', 'roller', 'rollers', 'rolling', 'rolls', 'roma', 'roman', 'romance', 'romano', 'romans', 'romantic', 'rome', 'roni', 'roo', 'roof', 'roofs', 'rooibos', 'rook', 'room', 'rooms', 'root', 'rootbeer', 'rooted', 'roots', 'rope', 'ropes', 'rosa', 'rosaria', 'rosarita', 'rose', 'rosebuds', 'rosehips', 'rosemallow', 'rosemary', 'rosen', 'rosenberg', 'rosens', 'roses', 'ross', 'rossa', 'rosy', 'rot', 'rotary', 'rotates', 'rotation', 'rote', 'rotel', 'rotili', 'rotini', 'rotten', 'rough', 'rougher', 'roughly', 'roulac', 'round', 'rounded', 'rounding', 'rounds', 'roused', 'route', 'routes', 'routine', 'routinely', 'row', 'roy', 'royal', 'royalty', 'royce', 'rsquo', 'rtd', 'rub', 'rubbed', 'rubber', 'rubbery', 'rubbing', 'rubble', 'rubin', 'rubs', 'ruby', 'rugged', 'ruijter', 'ruitjer', 'ruled', 'ruler', 'rules', 'rum', 'run', 'runa', 'running', 'runs', 'rural', 'rush', 'rushing', 'rusks', 'russell', 'russet', 'russets', 'russia', 'russian', 'rust', 'rustic', 'ruth', 'rutin', 'rye', 'ryvita', 's1', 's2', 'sa', 'saag', 'saaqinr', 'sabdariffa', 'sabor', 'sabroso', 'saccharin', 'saccharomyces', 'sachet', 'sachets', 'sack', 'sacks', 'saco', 'sacramento', 'sacred', 'sacrifice', 'sacrificed', 'sacrificing', 'saddle', 'saddlebag', 'saf', 'safcol', 'safe', 'safeguarding', 'safely', 'safer', 'safest', 'safety', 'safflower', 'saffron', 'sage', 'sahale', 'said', 'saifun', 'saigon', 'sailed', 'sailor', 'sailors', 'saint', 'saints', 'sake', 'sal', 'salad', 'salads', 'salamat', 'salami', 'salary', 'salba', 'sale', 'sales', 'salesman', 'salesmen', 'salf', 'salinity', 'salisbury', 'saliva', 'salivating', 'salmiak', 'salmiaksalz', 'salmon', 'salmonella', 'salon', 'salons', 'salsa', 'salsas', 'salsitas', 'salt', 'saltaholic', 'saltba', 'saltby', 'salted', 'saltier', 'saltine', 'saltines', 'saltiness', 'salting', 'salts', 'saltspicy', 'saltused', 'salty', 'salute', 'salutes', 'salva', 'salvador', 'salzigen', 'sam', 'sambal', 'sambar', 'sambazon', 'sambhar', 'same', 'sammy', 'sample', 'sampled', 'sampler', 'samples', 'sampling', 'samuel', 'san', 'sanatorium', 'sanctis', 'sand', 'sanded', 'sanders', 'sandies', 'sandwich', 'sandwiched', 'sandwiches', 'sandy', 'sangrita', 'sanitary', 'sanitized', 'sanka', 'sans', 'sanscrit', 'sanskriti', 'santa', 'santo', 'santos', 'sap', 'saplings', 'saponin', 'saponized', 'sapporo', 'sara', 'sardine', 'sardines', 'sardinia', 'saromatic', 'sarsaparilla', 'sashimi', 'saskatchewan', 'sassafras', 'sassy', 'sat', 'satan', 'satays', 'satiate', 'satiating', 'satiation', 'satiety', 'satin', 'satisfaction', 'satisfactory', 'satisfied', 'satisfies', 'satisfy', 'satisfying', 'satisfyingly', 'sativa', 'sativum', 'sativus', 'sato', 'saturated', 'saturates', 'saturday', 'sauce', 'saucepan', 'saucer', 'sauces', 'saucy', 'sauer', 'sausage', 'sausages', 'saut', 'saute', 'sauted', 'sauteed', 'sautees', 'sauteing', 'sautes', 'sauting', 'sauts', 'save', 'save330', 'saved', 'saver', 'saves', 'saveurs', 'savina', 'saving', 'savings', 'savini', 'savor', 'savored', 'savoring', 'savory', 'savour', 'savoured', 'savoury', 'savvy', 'saw', 'sawdust', 'say', 'saybrook', 'saying', 'says', 'sbquo', 'scale', 'scaled', 'scalloped', 'scampi', 'scandinavia', 'scandinavian', 'scant', 'scarborough', 'scarce', 'scarcely', 'scarpetta', 'scary', 'scene', 'scent', 'scented', 'scenting', 'scents', 'scepter', 'sch', 'schar', 'schedule', 'scheduled', 'schmear', 'scho', 'scholar', 'scholarships', 'school', 'schoolboy', 'schools', 'schroeter', 'schwarz', 'science', 'sciences', 'scientific', 'scientifically', 'scientist', 'scientists', 'scissors', 'scone', 'scones', 'scoop', 'scooped', 'scoops', 'scorch', 'score', 'scorecard', 'scores', 'scorpion', 'scorpions', 'scot', 'scotch', 'scotchmallow', 'scotland', 'scots', 'scott', 'scottie', 'scottish', 'scoured', 'scouring', 'scours', 'scovie', 'scoville', 'scrambled', 'scrambles', 'scraped', 'scratch', 'screen', 'screened', 'screening', 'screens', 'scribner', 'scriptures', 'scrumptious', 'scrupulous', 'scrutinized', 'scrutiny', 'scudder', 'sd', 'se', 'sea', 'seacoast', 'seafood', 'seagrass', 'seal', 'sealable', 'sealed', 'sealing', 'seals', 'seamlessly', 'seams', 'seapoint', 'search', 'searched', 'searches', 'searching', 'searing', 'sears', 'seas', 'seasalt', 'seaside', 'seasnax', 'season', 'seasonal', 'seasoned', 'seasoner', 'seasoning', 'seasonings', 'seasons', 'seat', 'seated', 'seattle', 'seaweed', 'secluded', 'second', 'secondly', 'seconds', 'secret', 'secreted', 'secrets', 'section', 'sector', 'secure', 'secured', 'sedative', 'sedatives', 'sediment', 'sediments', 'seduced', 'seductive', 'seductively', 'see', 'seed', 'seedchia', 'seeded', 'seedfragrant', 'seeding', 'seedlander', 'seedless', 'seedlings', 'seedone', 'seeds', 'seeds1', 'seedschia', 'seedsessential', 'seedsomega', 'seeing', 'seek', 'seekers', 'seeking', 'seeks', 'seem', 'seems', 'seen', 'seeps', 'seggiano', 'segment', 'segmented', 'segments', 'segregated', 'seine', 'seitan', 'seitenbacher', 'seize', 'sel', 'sele', 'select', 'selected', 'selecting', 'selection', 'selections', 'selective', 'selectively', 'selects', 'selenium', 'self', 'selfishly', 'sell', 'seller', 'sellers', 'sellign', 'selling', 'sells', 'seltzer', 'semblent', 'semi', 'semisweet', 'semolina', 'senate', 'sencha', 'send', 'sending', 'seneca', 'senensis', 'senior', 'seniors', 'senna', 'sennosides', 'sensation', 'sensational', 'sensations', 'sense', 'senseo', 'senses', 'sensibilities', 'sensibility', 'sensible', 'sensibly', 'sensitive', 'sensitiveessential', 'sensitivities', 'sensitivitiesessential', 'sensitivity', 'sensory', 'sensual', 'sensuality', 'sent', 'seoul', 'separate', 'separated', 'separately', 'separates', 'separating', 'separation', 'september', 'serbian', 'serendipity', 'serene', 'serenity', 'series', 'serif', 'serine', 'serious', 'seriously', 'serotonin', 'serpent', 'serrano', 'sert', 'serv', 'serve', 'served', 'serves', 'service', 'servicegreat', 'serviceingredients', 'services', 'servicing', 'serving', 'servingmakes', 'servings', 'sesakiss', 'sesame', 'sesmark', 'session', 'sessions', 'set', 'seth', 'sets', 'setting', 'settings', 'settle', 'settled', 'settler', 'settlers', 'settles', 'settling', 'seus', 'seven', 'seventh', 'seventy', 'several', 'severe', 'severity', 'sewn', 'sexual', 'sexy', 'sezme', 'sf', 'sfacts', 'sforza', 'shack', 'shade', 'shaded', 'shades', 'shadow', 'shadows', 'shady', 'shake', 'shaker', 'shakers', 'shakes', 'shaking', 'shallot', 'shallots', 'shampoos', 'shan', 'shanghai', 'shanter', 'shape', 'shaped', 'shapes', 'shapetm', 'share', 'shared', 'shares', 'sharing', 'shark', 'sharkies', 'sharp', 'sharpened', 'sharpness', 'shatavari', 'shatter', 'shatterproof', 'shaved', 'shavings', 'she', 'sheaf', 'shean', 'shed', 'shedding', 'sheep', 'sheer', 'sheet', 'sheeting', 'sheets', 'shef', 'sheffa', 'shelburne', 'shelby', 'shelf', 'shell', 'shelled', 'shellfish', 'shelling', 'shells', 'shelton', 'sheltons', 'shelves', 'sheng', 'sherbet', 'shg', 'shibamoto', 'shichimi', 'shield', 'shielded', 'shields', 'shift', 'shifting', 'shiga', 'shiitake', 'shiitakes', 'shim', 'shimmering', 'shine', 'shines', 'shingle', 'ship', 'shipment', 'shipments', 'shipped', 'shipping', 'shippingyour', 'ships', 'shirakiku', 'shirataki', 'shirley', 'shiro', 'shirt', 'shirts', 'shiso', 'shlef', 'shoe', 'shoes', 'shook', 'shoots', 'shop', 'shoppe', 'shopper', 'shopping', 'shops', 'shopzeus', 'shore', 'shores', 'short', 'shortage', 'shortbrad', 'shortbread', 'shortbreads', 'shortcake', 'shortcut', 'shortcuts', 'shortening', 'shortenings', 'shorter', 'shortest', 'shortly', 'shot', 'shots', 'should', 'shoved', 'show', 'showcase', 'showcases', 'showed', 'showers', 'showing', 'shown', 'shows', 'shoyu', 'shred', 'shredde', 'shredded', 'shredding', 'shredz', 'shrimp', 'shrimps', 'shrink', 'shriveled', 'shrouded', 'shrub', 'shrubby', 'shrubs', 'shu', 'shui', 'shunning', 'shuttle', 'shy', 'si', 'sibillini', 'sibling', 'siblings', 'sichuan', 'sicilian', 'sicily', 'sick', 'sickness', 'sico', 'side', 'sided', 'sidedish', 'sidekick', 'sides', 'sidewalk', 'siding', 'siegel', 'sienna', 'sift', 'sifted', 'sifter', 'sigh', 'sighs', 'sight', 'sights', 'sign', 'signal', 'signals', 'signatory', 'signature', 'signatures', 'signed', 'significance', 'significant', 'significantly', 'signifies', 'silently', 'silico', 'silicon', 'silicone', 'siljans', 'silk', 'silken', 'silky', 'silvain', 'silver', 'silvery', 'simered', 'similac', 'similar', 'simmer', 'simmered', 'simmering', 'simple', 'simplebites', 'simpler', 'simplest', 'simplicity', 'simplifies', 'simply', 'simplystevia', 'simulate', 'sin', 'since', 'sincerely', 'sinensis', 'sinful', 'sinfully', 'singapore', 'singer', 'singing', 'single', 'singles', 'singolo', 'singular', 'sink', 'sinkler', 'sinuses', 'sip', 'sipped', 'sipping', 'sips', 'sir', 'sirloin', 'sister', 'sisters', 'sit', 'site', 'sites', 'sits', 'sitting', 'situated', 'situation', 'six', 'sixteen', 'sixteenth', 'sixth', 'sixty', 'size', 'sized', 'sizes', 'sizing', 'sizzle', 'sizzling', 'skal', 'skeptics', 'sketch', 'ski', 'skiers', 'skies', 'skill', 'skilled', 'skillet', 'skillets', 'skillful', 'skillfully', 'skills', 'skim', 'skimmed', 'skin', 'skincare', 'skinless', 'skinny', 'skins', 'skip', 'skippy', 'skirts', 'skittles', 'skoville', 'sku', 'sky', 'skylarhaley', 'skyline', 'slabs', 'slake', 'slam', 'slap', 'slather', 'sleep', 'sleepless', 'sleepytime', 'sleeve', 'sleeveas', 'sleeves10', 'sleigh', 'slender', 'slept', 'slibby', 'slice', 'sliced', 'slices', 'slicing', 'slight', 'slightest', 'slightly', 'slim', 'slimmer', 'slimming', 'slip', 'slippery', 'slips', 'sliver', 'slivered', 'slivery', 'slope', 'slopes', 'slow', 'slowed', 'slower', 'slowing', 'slowly', 'slows', 'slurp', 'slurping', 'slush', 'slushes', 'slushy', 'sly', 'smaak', 'smack', 'smacking', 'small', 'smallanthus', 'smaller', 'smallest', 'smallholder', 'smalls', 'smart', 'smartbran', 'smarter', 'smartest', 'smartfood', 'smarties', 'smash', 'smell', 'smelling', 'smells', 'smile', 'smiles', 'smiling', 'smith', 'smithsonian', 'smoke', 'smoked', 'smokehouse', 'smokeless', 'smoker', 'smokey', 'smokeys', 'smokies', 'smokin', 'smokiness', 'smoking', 'smoky', 'smooth', 'smoothed', 'smoother', 'smoothest', 'smoothie', 'smoothies', 'smoothly', 'smoothness', 'smores', 'smoth', 'smothered', 'smucker', 'smudges', 'smythe', 'snac', 'snack', 'snackability', 'snackable', 'snackcident', 'snackcidents', 'snackers', 'snacking', 'snackingyour', 'snackmasters', 'snacks', 'snackstotally', 'snacktime', 'snackwell', 'snadwich', 'snails', 'snak', 'snakcing', 'snake', 'snaks', 'snap', 'snapple', 'snappy', 'snaps', 'snax', 'sneak', 'snickerdoodle', 'snickers', 'snip', 'snooze', 'snow', 'snowflake', 'snowflakes', 'snowman', 'snowy', 'snuggle', 'snyder', 'snyders', 'snynonymous', 'so', 'soak', 'soaked', 'soaking', 'soap', 'soapmakers', 'soaring', 'soba', 'soccer', 'social', 'socialites', 'socially', 'societies', 'society', 'sockeye', 'socks', 'soda', 'sodas', 'sodastream', 'sodium', 'sodium0', 'sodiumphosphate', 'sofcula', 'sofi', 'sofrie', 'soft', 'soften', 'softened', 'softening', 'softens', 'softer', 'softest', 'softly', 'softness', 'soggy', 'soho', 'soil', 'soils', 'soja', 'sojourn', 'solar', 'sold', 'sole', 'solely', 'solid', 'solidified', 'solidifies', 'solids', 'solo', 'solofill', 'solt', 'soluble', 'solution', 'solutions', 'solutionstm', 'solvent', 'solvents', 'somatrotropin', 'some', 'somehow', 'someone', 'something', 'sometime', 'sometimes', 'somewhat', 'somewhere', 'sommeliers', 'somniferum', 'son', 'sonchifolius', 'sondra', 'song', 'sonic', 'sono', 'sonoma', 'sons', 'sonsit', 'soon', 'soonboost', 'sooth', 'soothe', 'soothed', 'soothes', 'soothing', 'soothingly', 'sophisticated', 'sophistication', 'sorbate', 'sorbee', 'sorbets', 'sorbic', 'sorbitol', 'sore', 'soreness', 'sores', 'sorghum', 'sorrel', 'sorrells', 'sorrento', 'sorry', 'sort', 'sorta', 'sorted', 'sorting', 'sorts', 'souchong', 'souffle', 'souffls', 'sought', 'soul', 'soulfood', 'souls', 'sound', 'sounds', 'soup', 'soups', 'soupsas', 'sour', 'source', 'sourced', 'sourcehemp', 'sources', 'sourcing', 'sourdough', 'souring', 'sours', 'sourwood', 'sousa', 'south', 'southampton', 'southeast', 'southeastern', 'southern', 'southwest', 'southwesterly', 'southwestern', 'sovereign', 'sow', 'sows', 'soy', 'soya', 'soyat', 'soybean', 'soybeans', 'soyfor', 'soyjoy', 'soymilk', 'soynuts', 'soys', 'spa', 'spaccare', 'spaccarelli', 'space', 'spaces', 'spacing', 'spade', 'spaghetti', 'spago', 'spain', 'spam', 'span', 'spangle', 'spaniards', 'spanish', 'spanning', 'spans', 'spare', 'spared', 'sparing', 'sparingly', 'spark', 'sparkle', 'sparkles', 'sparkling', 'sparkly', 'sparse', 'sparsely', 'sparx', 'spas', 'spasms', 'spatula', 'spead', 'speak', 'speaking', 'speaks', 'spear', 'spearmint', 'spears', 'spec', 'special', 'specialised', 'specialises', 'specialist', 'specialities', 'speciality', 'specialize', 'specialized', 'specializes', 'specializing', 'specially', 'specialte', 'specialties', 'specialty', 'species', 'specific', 'specifically', 'specification', 'specifications', 'specifications1', 'specificationscooks', 'specificationsgreat', 'speckled', 'specks', 'specs', 'spectacle', 'spectacular', 'spectacularly', 'spectrum', 'speed', 'spell', 'spellbinding', 'spelled', 'spelt', 'spend', 'spending', 'spends', 'spent', 'sper', 'speyside', 'sphaerococcus', 'spherical', 'spice', 'spiced', 'spices', 'spicesincluding', 'spicey', 'spicier', 'spiciness', 'spicing', 'spicy', 'spider', 'spigot', 'spiicy', 'spike', 'spiking', 'spills', 'spin', 'spinach', 'spinning', 'spinoff', 'spiral', 'spirals', 'spirit', 'spirited', 'spirits', 'spiritual', 'spirulina', 'spit', 'spite', 'splash', 'splashed', 'splashes', 'splashing', 'splashpops', 'splattering', 'splenda', 'splendain', 'splendor', 'split', 'splitting', 'spoil', 'spoilage', 'spokane', 'sponge', 'sponsor', 'spontaneous', 'spooky', 'spoon', 'spoonable', 'spooned', 'spoonful', 'spoons', 'spoonstraws', 'spore', 'sport', 'sportea', 'sports', 'spot', 'spotless', 'spotlight', 'spots', 'spout', 'spouts', 'spray', 'sprayed', 'spraying', 'spraymechanically', 'sprays', 'spread', 'spreadable', 'spreading', 'spreads', 'spreadsheets', 'spree', 'sprin', 'spring', 'springs', 'springtime', 'sprinkelz', 'sprinkle', 'sprinkled', 'sprinkler', 'sprinkles', 'sprinkling', 'spritzers', 'sprklng', 'sprout', 'sproutease', 'sprouted', 'sprouter', 'sprouters', 'sprouting', 'sprouts', 'sprucing', 'sprue', 'spry', 'spud', 'spuds', 'spudsy', 'spumante', 'spuren', 'spurring', 'spurtle', 'sqf', 'square', 'squares', 'squaretm', 'squash', 'squeez', 'squeezable', 'squeeze', 'squeezed', 'squeezes', 'squeezing', 'squeezy', 'squifer', 'squishy', 'squrare', 'sr', 'sri', 'sriracha', 'srl', 'ss', 'st', 'stability', 'stabilize', 'stabilized', 'stabilizer', 'stabilizers', 'stabilizing', 'stable', 'stache', 'stack', 'stackable', 'stacked', 'stacks', 'stacy', 'stadium', 'stadiums', 'staff', 'stage', 'staged', 'stages', 'stagnant', 'stain', 'staining', 'stainless', 'stains', 'stake', 'stakeholders', 'stakich', 'stale', 'staling', 'stalk', 'stalks', 'stallone', 'stamina', 'stamp', 'stamper', 'stand', 'standard', 'standardized', 'standards', 'standardsin', 'standardsthe', 'standing', 'stands', 'staphylococcus', 'staple', 'staples', 'star', 'staranisefoods', 'starbucks', 'starburst', 'starch', 'starches', 'starchy', 'staring', 'starlight', 'starring', 'stars', 'start', 'started', 'starter', 'starters', 'starting', 'starts', 'starve', 'starves', 'starwest', 'stash', 'stashing', 'state', 'stated', 'statement', 'statements', 'states', 'stations', 'status', 'stauffer', 'stave', 'staving', 'stay', 'stayed', 'staying', 'stays', 'ste', 'stead', 'steadfast', 'steadfastly', 'steadily', 'steady', 'steak', 'steakhouse', 'steakhouses', 'steaks', 'steam', 'steamed', 'steaming', 'steamy', 'stearic', 'steaz', 'stee', 'steel', 'steep', 'steeped', 'steeping', 'steepings', 'steeps', 'stellar', 'stem', 'stemless', 'stemmed', 'stemming', 'stems', 'step', 'stephanie', 'stephen', 'stephens', 'stepped', 'steps', 'sterility', 'sterilized', 'sterol', 'sterols', 'steve', 'steven', 'stevia', 'steviaclear', 'steviafarma', 'steviaplus', 'steviatab', 'steviatabs', 'steviavegan', 'steviol', 'steviosides', 'stevita', 'stew', 'steward', 'stewards', 'stewardship', 'stewed', 'stews', 'sthash', 'sthe', 'sthis', 'stick', 'sticker', 'sticking', 'sticks', 'sticky', 'stiff', 'stigma', 'still', 'stilla', 'stimulant', 'stimulants', 'stimulate', 'stimulates', 'stimulating', 'stimulation', 'sting', 'stings', 'stipulating', 'stipulation', 'stir', 'stirred', 'stirring', 'stix', 'stober', 'stobers', 'stock', 'stocked', 'stockholm', 'stocking', 'stocks', 'stockton', 'stok', 'stoked', 'stollen', 'stomach', 'stomachaches', 'stomachs', 'stone', 'stoneground', 'stoneridge', 'stones', 'stonewall', 'stood', 'stools', 'stop', 'stopped', 'stopper', 'stopping', 'stops', 'storage', 'store', 'stored', 'storefront', 'stores', 'storesthe', 'stories', 'storing', 'story', 'storybeginning', 'storythe', 'stott', 'stouffer', 'stove', 'stover', 'stovetop', 'stowed', 'stragglers', 'straight', 'straightforward', 'strain', 'strained', 'strainer', 'strainers', 'strains', 'strands', 'strange', 'strategic', 'strategically', 'strategy', 'straw', 'strawberries', 'strawberry', 'strawberrymish', 'straws', 'stray', 'streak', 'stream', 'streaming', 'streamline', 'streams', 'street', 'streets', 'strength', 'strengthen', 'strengthened', 'strengthening', 'strengthens', 'strenuous', 'streptococcus', 'stress', 'stressful', 'stressors', 'stretch', 'stretched', 'stretches', 'stretchy', 'streusel', 'strict', 'strictest', 'strictly', 'strides', 'strike', 'strikes', 'striking', 'strikingly', 'string', 'stringent', 'stringless', 'strip', 'stripes', 'stripped', 'strips', 'strive', 'strived', 'striven', 'strives', 'striving', 'strogan', 'stroganoff', 'stroke', 'stroll', 'strong', 'stronger', 'strongest', 'strongly', 'stroopwafel', 'struck', 'structure', 'struggle', 'struggled', 'strwbry', 'stuart', 'stubborn', 'stuck', 'stud', 'studded', 'student', 'students', 'studied', 'studies', 'studios', 'study', 'studying', 'stuf', 'stuff', 'stuffed', 'stuffer', 'stuffers', 'stuffing', 'stuffings', 'stuffs', 'stuffy', 'stung', 'stunning', 'stur', 'sturdy', 'style', 'styles', 'stylish', 'stylized', 'suavidadeda', 'sub', 'subak', 'subcritical', 'subject', 'subjected', 'subjects', 'sublime', 'submerge', 'submitted', 'subpar', 'subsidiary', 'substance', 'substances', 'substantial', 'substantially', 'substantiate', 'substitute', 'substituted', 'substitutedon', 'substitutes', 'substituting', 'substitution', 'substitutions', 'substrate', 'subtle', 'subtler', 'subtleties', 'subtly', 'subtracted', 'subtropical', 'suburb', 'subway', 'sucanat', 'sucanattm', 'succeed', 'succeeded', 'success', 'successes', 'successful', 'successfully', 'succession', 'succinate', 'succulent', 'such', 'suchard', 'suck', 'sucker', 'suckers', 'sucralose', 'sucrose', 'sudden', 'suddenly', 'sueur', 'suffer', 'suffered', 'sufferer', 'sufferers', 'suffering', 'suffers', 'sufficient', 'suffix', 'suffocation', 'suffolk', 'sugar', 'sugarcane', 'sugared', 'sugarfree', 'sugaring', 'sugarleaf', 'sugarless', 'sugars', 'sugars0', 'sugarworks', 'sugary', 'suggest', 'suggested', 'suggestion', 'suggestions', 'suggests', 'suit', 'suitable', 'suited', 'sukiyaki', 'sulfate', 'sulfates', 'sulfite', 'sulfited', 'sulfites', 'sulforaphane', 'sulfur', 'sulfurous', 'sulphite', 'sulphites', 'sulphorophane', 'sultry', 'sum', 'sumac', 'sumatra', 'sumatran', 'summarized', 'summed', 'summer', 'summers', 'summertime', 'summit', 'summiting', 'sumptious', 'sumptuous', 'sun', 'sunbutter', 'sundae', 'sundaes', 'sunday', 'sundried', 'sunflower', 'sunflowers', 'sunfood', 'sunglasses', 'sungold', 'sunland', 'sunlight', 'sunlit', 'sunny', 'sunnyside', 'sunrise', 'sunrype', 'sunset', 'sunshine', 'sunsilk', 'sunsweet', 'suntropics', 'suolo', 'super', 'superb', 'supercharge', 'supercritical', 'superfine', 'superfood', 'superfoodlive', 'superfoods', 'superfruit', 'superfruits', 'supergrain', 'superior', 'superlative', 'supermarket', 'supermarkets', 'supermoist', 'supernutrition', 'superoxide', 'superpacked', 'supersnack', 'superstars', 'supervised', 'supervision', 'supper', 'supperfood', 'supplement', 'supplementation', 'supplementcollagen', 'supplemented', 'supplementing', 'supplements', 'supplied', 'supplier', 'suppliers', 'supplies', 'supply', 'supplying', 'support', 'supported', 'supporter', 'supporting', 'supportive', 'supports', 'supposed', 'suppressant', 'supreme', 'supremely', 'supremo', 'sure', 'surely', 'surf', 'surface', 'surfaces', 'surfing', 'surfrider', 'surge', 'surgeons', 'surgeries', 'surgery', 'surpass', 'surpasses', 'surpassing', 'surprise', 'surprised', 'surprises', 'surprising', 'surprisingly', 'surrounded', 'surrounding', 'surrounds', 'survival', 'survive', 'survived', 'surviving', 'susan', 'sushi', 'suspect', 'suspected', 'suspending', 'suspension', 'sustain', 'sustainability', 'sustainabily', 'sustainable', 'sustainably', 'sustained', 'sustaining', 'sustains', 'sustenance', 'sut', 'suzie', 'suzies', 'svelte', 'sveltetm', 'svetol', 'svg', 'swallow', 'swallowed', 'swamps', 'swanson', 'swaying', 'swear', 'sweat', 'sweden', 'swedes', 'swedish', 'sweedish', 'sweeney', 'sweep', 'sweeping', 'sweet', 'sweetarts', 'sweetcorn', 'sweeten', 'sweetened', 'sweetener', 'sweeteneramerica', 'sweeteners', 'sweeteness', 'sweetening', 'sweetens', 'sweeter', 'sweetest', 'sweeth', 'sweetheart', 'sweetish', 'sweetleaf', 'sweetly', 'sweetmeat', 'sweetner', 'sweetness', 'sweets', 'sweettree', 'sweetz', 'swell', 'swells', 'swept', 'swerve', 'swim', 'swimming', 'swings', 'swirl', 'swirled', 'swirling', 'swirls', 'swirly', 'swiss', 'switch', 'switzerland', 'swoon', 'sworn', 'syllable', 'sylvia', 'symbiotic', 'symbol', 'symbols', 'symmetrical', 'symptoms', 'syndrome', 'synergistic', 'synergistically', 'synergy', 'synnott', 'synonymous', 'synonyms', 'synonymus', 'synovial', 'synsepalum', 'synthesis', 'synthesisit', 'synthesize', 'synthesized', 'synthetic', 'synthetically', 'syriacus', 'syrup', 'syrupis', 'syrups', 'syrupy', 'system', 'system3', 'systemdeveloped', 'systems', 'szechuan', 'szeged', 'tab', 'tabanero', 'tabasco', 'table', 'tables', 'tablespoon', 'tablespoons', 'tablet', 'tabletop', 'tablets', 'tabouli', 'tabs', 'tac', 'tackling', 'taco', 'tacos', 'tacs', 'tact', 'tad', 'taffy', 'taffytree', 'tag', 'tagged', 'tagine', 'tagines', 'tagless', 'tahini', 'tahiti', 'tahitian', 'tai', 'tail', 'tailgating', 'tailored', 'taint', 'taiwain', 'taiwan', 'tajin', 'takashi', 'take', 'taken', 'takers', 'takes', 'taking', 'takoyaki', 'talent', 'talented', 'talents', 'talk', 'talked', 'talking', 'talkingrain', 'tall', 'tam', 'tamaki', 'tamale', 'tamales', 'tamanishiki', 'tamari', 'tamarind', 'tamed', 'tamer', 'tamicon', 'taming', 'tamis', 'tamper', 'tan', 'tandoor', 'tang', 'tangerine', 'tangier', 'tango', 'tangy', 'tank', 'tanka', 'tanks', 'tanned', 'tannins', 'tantalising', 'tantalization', 'tantalize', 'tantalized', 'tantalizing', 'tanzania', 'tap', 'tapachula', 'tapatio', 'tapenade', 'tapered', 'tapers', 'tapioca', 'tapped', 'tapping', 'tara', 'target', 'taro', 'tarragon', 'tarraz', 'tarrazzu', 'tart', 'tartan', 'tartar', 'tartaric', 'tartness', 'tarts', 'task', 'taskers', 'tasking', 'tasmania', 'tassimo', 'taste', 'taste3', 'tastebuds', 'tasted', 'tasteful', 'tastefully', 'tasteless', 'tastemethod', 'taster', 'tasters', 'tastes', 'tastewe', 'tastier', 'tastiest', 'tastiness', 'tasting', 'tasty', 'tastybrand', 'tastykake', 'tastylow', 'tastymake', 'tasy', 'tata', 'tataki', 'tattoo', 'tauber', 'taught', 'taurine', 'tavern', 'tawny', 'taxes', 'taxi', 'taylor', 'taylors', 'taza', 'tazo', 'tazza', 'tbsp', 'tchaikovsky', 'tchibo', 'td', 'tda', 'te', 'tea', 'teaahmed', 'teabag', 'teabags', 'teabesides', 'teablend', 'teacan', 'teacelestial', 'teach', 'teacher', 'teaching', 'teachings', 'teaenjoy', 'teagreen', 'teahouses', 'teal', 'tealeaves', 'team', 'teamed', 'teaming', 'teams', 'teamy', 'teapot', 'tear', 'teas', 'teasan', 'teasans', 'tease', 'teasponn', 'teaspoon', 'teaspoons', 'teawith', 'teaz', 'technical', 'technically', 'technique', 'techniques', 'technological', 'technologically', 'technologies', 'technology', 'technoroasting', 'teddie', 'teddy', 'tee', 'teeccino', 'teeming', 'teen', 'teens', 'teensy', 'teeth', 'teethers', 'teething', 'teff', 'teffrich', 'teflon', 'tega', 'teir', 'teisseire', 'tel', 'tell', 'tellicherry', 'telling', 'tells', 'telltale', 'tem', 'temp', 'tempeh', 'temperate', 'temperature', 'temperatures', 'tempered', 'temple', 'temporarily', 'temporary', 'temps', 'tempt', 'temptation', 'temptations', 'tempted', 'tempting', 'tempts', 'tempura', 'temum', 'ten', 'tenacious', 'tend', 'tended', 'tender', 'tender16', 'tenderization', 'tenderized', 'tenderizes', 'tenderlicious', 'tenderloin', 'tendermake', 'tenderness', 'tendernesswild', 'tendons', 'tends', 'tenessee', 'tennessee', 'tennis', 'tension', 'tent', 'tequila', 'teriyaki', 'term', 'terms', 'terra', 'terraces', 'terramazon', 'terramycin', 'terrasoul', 'terrazu', 'terrific', 'territories', 'territory', 'terry', 'tersloh', 'test', 'testament', 'tested', 'testers', 'testing', 'tests', 'tetley', 'tetra', 'tex', 'texan', 'texas', 'texmati', 'text', 'textiles', 'texts', 'texture', 'textured', 'textures', 'tfas', 'th', 'thai', 'thailand', 'than', 'thank', 'thankful', 'thankfully', 'thanking', 'thanks', 'thanksgiving', 'thao', 'that', 'thats', 'thatwater6', 'thaw', 'thawing', 'the', 'the1600', 'theanine', 'theater', 'theaters', 'theatre', 'theatres', 'thebeancoffeecompany', 'thecravingsplace', 'thee', 'their', 'theirs', 'them', 'theme', 'themes', 'themselves', 'then', 'theobroma', 'theobromine', 'theodore', 'theophylline', 'thepremium', 'ther', 'therapeutic', 'therapies', 'there', 'thereafter', 'thereby', 'therefore', 'thermal', 'thermogenesis', 'thermometer', 'these', 'theses', 'they', 'thia', 'thiamin', 'thiamine', 'thick', 'thicken', 'thickened', 'thickener', 'thickenerbob', 'thickeners', 'thickening', 'thickens', 'thicker', 'thickness', 'thighs', 'thin', 'thing', 'things', 'think', 'thinkers', 'thinking', 'thinks', 'thinly', 'thinned', 'thinner', 'thinning', 'thins', 'third', 'thirds', 'thirst', 'thirsts', 'thirsty', 'thirty', 'this', 'thistle', 'thm', 'thomas', 'thompson', 'thorough', 'thoroughly', 'those', 'though', 'thought', 'thoughtful', 'thoughtfully', 'thoughts', 'thousand', 'thousands', 'thread', 'threads', 'threat', 'three', 'threesome', 'threonine', 'threshed', 'threw', 'thriftimart', 'thrill', 'thrilled', 'thrilling', 'thrivability', 'thrive', 'thriving', 'throat', 'throats', 'through', 'throughout', 'throught', 'throw', 'throwback', 'throwing', 'thrown', 'thru', 'tht', 'thumb', 'thunb', 'thunder', 'thus', 'thy', 'thyme', 'thyroid', 'ti', 'tias', 'tibi', 'tibicos', 'tic', 'ticket', 'tickled', 'tictac', 'tictacproditem', 'tidbits', 'tide', 'tidy', 'tie', 'tied', 'tiekuanyin', 'tier', 'ties', 'tifton', 'tigard', 'tiger', 'tighly', 'tight', 'tightly', 'tightrope', 'tijuana', 'til', 'tilda', 'tilia', 'till', 'tillamook', 'tilled', 'tillen', 'tilth', 'tim', 'time', 'timeimportantcaffe', 'timeless', 'times', 'timesaver', 'timor', 'timothy', 'timothys', 'tin', 'ting', 'tingling', 'tinkered', 'tinkering', 'tinkyada', 'tins', 'tint', 'tinted', 'tiny', 'tip', 'tiparos', 'tipo', 'tipped', 'tippy', 'tips', 'tipssoy', 'tipsthe', 'tiramisu', 'tire', 'tired', 'tirelessly', 'tiring', 'tisane', 'tisanes', 'tissue', 'titan', 'title', 'tjo', 'tlc', 'tm', 'tmll', 'tms', 'to', 'toast', 'toasted', 'toaster', 'toasters', 'toasting', 'toasts', 'toasty', 'toatoes', 'tobacco', 'tocopherols', 'todas', 'today', 'todayps', 'todays', 'todd', 'toddler', 'toddlerat', 'toddlerfor', 'toddlerhood', 'toddlers', 'toddlersenfagrow', 'toddlersfor', 'toddling', 'toes', 'toffee', 'toffees', 'tofu', 'togarashi', 'together', 'togethers', 'toilet', 'token', 'tokushima', 'tokyo', 'told', 'tolerance', 'tolerant', 'tolerate', 'tolerated', 'tolerates', 'toll', 'tom', 'tomaotes', 'tomate', 'tomatillo', 'tomatillos', 'tomato', 'tomatoes', 'ton', 'tone', 'toned', 'toner', 'tones', 'tongue', 'tonic', 'tonight', 'tons', 'tony', 'too', 'tooberry', 'took', 'tool', 'tools', 'toor', 'tooth', 'toothache', 'toothaches', 'toothpaste', 'toothpick', 'toothpicks', 'tooths', 'tootsie', 'top', 'toph', 'topical', 'topped', 'topper', 'topping', 'toppings', 'tops', 'topsoil', 'torani', 'torinesi', 'torn', 'torqued', 'torre', 'torrione', 'torrone', 'tortellini', 'tortilla', 'tortillas', 'tortuga', 'toscana', 'toss', 'tossed', 'tossing', 'tostada', 'tostadas', 'tot', 'total', 'totally', 'tote', 'totonac', 'totonaca', 'tots', 'touch', 'touched', 'touches', 'touching', 'tough', 'toughest', 'tour', 'tourangelle', 'tours', 'tous', 'tout', 'touted', 'touting', 'toward', 'towards', 'towelette', 'tower', 'town', 'tox', 'toxic', 'toxin', 'toxins', 'toy', 'toyed', 'toys', 'tpico', 'trace', 'traceability', 'traceable', 'traced', 'traces', 'tracing', 'track', 'tracking', 'tracks', 'tract', 'trade', 'tradechar', 'traded', 'trademark', 'trademarks', 'trader', 'traders', 'trading', 'tradition', 'traditional', 'traditionally', 'traditions', 'traffic', 'trail', 'train', 'trained', 'training', 'trainingpowerbar', 'tran', 'tranquil', 'trans', 'transaction', 'transcendental', 'transcontinental', 'transfair', 'transfats', 'transferred', 'transform', 'transformative', 'transformed', 'transforming', 'transforms', 'transit', 'transition', 'transitions', 'translated', 'translates', 'translation', 'translucent', 'transmit', 'transpires', 'transport', 'transportable', 'transportation', 'transportationwhat', 'transported', 'transporting', 'transports', 'trapeze', 'trapping', 'trappist', 'traps', 'traumas', 'travel', 'traveled', 'travelers', 'traveling', 'travelled', 'traveller', 'travelling', 'travels', 'traverse', 'tray', 'trays', 'treacherous', 'treacle', 'tread', 'treasure', 'treasured', 'treasures', 'treat', 'treated', 'treaters', 'treatfeaturing', 'treating', 'treatment', 'treatments', 'treats', 'treatwise', 'trebbiano', 'tree', 'trees', 'tremendous', 'trend', 'trends', 'trendy', 'tri', 'trial', 'trials', 'triathlon', 'tribute', 'tributes', 'trick', 'tricks', 'tricky', 'trident', 'tried', 'trieste', 'trifecta', 'trigger', 'triggers', 'triglyceride', 'triglycerides', 'trigylcerides', 'trim', 'trimmed', 'trimmings', 'trinidad', 'trinitario', 'trio', 'trip', 'triple', 'tripping', 'trips', 'triscuit', 'trisource', 'triticale', 'triton', 'troll', 'trop', 'trophies', 'trophy', 'tropi', 'tropic', 'tropical', 'tropicana', 'tropics', 'tropifrutti', 'trouble', 'troubles', 'tru', 'trubinado', 'truck', 'trucks', 'true', 'truffettes', 'truffle', 'trufflehunter', 'truffles', 'truly', 'trunk', 'trunks', 'truroots', 'trust', 'trusted', 'truth', 'truvia', 'truviatm', 'try', 'trying', 'tsp', 'tspns', 'tsps', 'tsukuba', 'tthe', 'tub', 'tub620', 'tube', 'tuber', 'tuberculosis', 'tuberous', 'tubers', 'tubes', 'tubs', 'tubular', 'tuck', 'tucked', 'tuesday', 'tuesdays', 'tufu', 'tully', 'tullys', 'tulsa', 'tulsi', 'tum', 'tumbled', 'tumbleweeds', 'tumeric', 'tummy', 'tumors', 'tuna', 'tune', 'tung', 'tunisian', 'tupelo', 'turbana', 'turbinado', 'turin', 'turkey', 'turkeyhormel', 'turkish', 'turkiye', 'turks', 'turmeric', 'turn', 'turned', 'turner', 'turning', 'turnips', 'turnovers', 'turnpike', 'turns', 'turtle', 'turtles', 'tuscan', 'tuscany', 'tutorial', 'tutti', 'tuxedoed', 'tv', 'tvp', 'twa', 'tweaking', 'twelve', 'twenty', 'twice', 'twig', 'twigs', 'twilight', 'twin', 'twining', 'twinings', 'twinkies', 'twinkling', 'twist', 'twisted', 'twists', 'twitter', 'twix', 'twizzler', 'two', 'ty', 'tyler', 'tyme', 'type', 'types', 'typescondition', 'typhoo', 'typhoon', 'typica', 'typical', 'typically', 'tyrosine', 'tyson', 'tzatziki', 'uber', 'ubiquitously', 'uchi', 'ucirc', 'udder', 'udi', 'udon', 'ugly', 'uht', 'uji', 'uk', 'ukiah', 'ukon', 'ukraine', 'ukrainian', 'ul', 'ulcers', 'ulitmate', 'ultimate', 'ultimately', 'ultra', 'ulysses', 'um', 'umami', 'umbelliferae', 'umbrella', 'umf', 'umm', 'umpo', 'un', 'unable', 'unadorned', 'unadulterated', 'unaltered', 'unannounced', 'unassuming', 'unavailable', 'unaware', 'unbeatable', 'unbelievable', 'unbelievably', 'unblanched', 'unbleached', 'unbranched', 'unbreakable', 'unbroken', 'unbromated', 'unchanged', 'unchecked', 'uncle', 'unclear', 'uncles', 'uncommon', 'uncommonly', 'uncomplicated', 'uncompromised', 'uncompromising', 'uncompromisingly', 'uncontaminated', 'uncooked', 'uncover', 'uncrystallized', 'uncured', 'und', 'undecanted', 'undeniable', 'undeniably', 'undeodorized', 'under', 'undercooked', 'underestimate', 'undergo', 'undergoes', 'underground', 'underlying', 'understand', 'understanding', 'understated', 'understood', 'undertone', 'undertones', 'underwood', 'undesirable', 'undetected', 'undigested', 'undiluted', 'undisputed', 'undistributed', 'undoubtedly', 'une', 'unearth', 'unearthing', 'unemployed', 'unenriched', 'unequaled', 'uneven', 'unexpected', 'unfermented', 'unfiltered', 'unflavored', 'unfold', 'unfolds', 'unforgettable', 'unfortunately', 'unfurl', 'unfurled', 'unheated', 'unhulled', 'unhybridized', 'unhydrogenated', 'unibody', 'uniform', 'uniformisraeli', 'uniformity', 'uniformly', 'unilever', 'uninspired', 'uninterrupted', 'uninvited', 'union', 'unique', 'uniquely', 'uniqueness', 'unit', 'unite', 'united', 'unites', 'uniting', 'units', 'universal', 'universally', 'universe', 'university', 'unjunked', 'unknowingly', 'unleash', 'unless', 'unlike', 'unlock', 'unlocks', 'unmatched', 'unmistakable', 'unmistakably', 'unmistakeable', 'unnatural', 'unnecessary', 'unon', 'unopened', 'unorthodox', 'unparallel', 'unparalleled', 'unpasteurized', 'unpeeled', 'unpleasant', 'unpopped', 'unprecedented', 'unprepared', 'unprocessed', 'unpronounceable', 'unproven', 'unquestionably', 'unreal', 'unrecognizable', 'unrefined', 'unrefinedpure', 'unrepentant', 'unripe', 'unrivaled', 'unroasted', 'unsalted', 'unsatisfied', 'unsatisfying', 'unsaturated', 'unsavory', 'unseasoned', 'unseen', 'unselfishly', 'unsound', 'unspoilt', 'unsprayed', 'unstable', 'unsuccessful', 'unsulfured', 'unsulphured', 'unsure', 'unsurpassed', 'unsurprising', 'unsweetened', 'untamed', 'until', 'unto', 'untoasted', 'untouched', 'untreated', 'unusual', 'unusually', 'unveiled', 'unwanted', 'unwavering', 'unwelcome', 'unwind', 'unwrap', 'unwrapped', 'up', 'upc', 'update', 'updated', 'upfeatures', 'upfor', 'upgrade', 'uphappytot', 'upheld', 'uphelps', 'uphold', 'upholding', 'uplands', 'uplift', 'uplifting', 'uploaded', 'upon', 'upour', 'ups', 'upscale', 'upset', 'upsetting', 'upside', 'uptake', 'urban', 'urge', 'urging', 'uric', 'url', 'us', 'usa', 'usable', 'usage', 'usda', 'usdaand', 'usds', 'use', 'used', 'useful', 'user', 'users', 'uses', 'usesbaking', 'usezero', 'usfda', 'using', 'usp', 'usps', 'usual', 'usually', 'usuyaki', 'utah', 'utensils', 'utilization', 'utilize', 'utilized', 'utilizes', 'utilizing', 'utmost', 'utterly', 'utz', 'uv', 'uyuni', 'v8', 'vaad', 'vacation', 'vacaville', 'vaccuum', 'vacuum', 'vadas', 'vaino', 'val', 'valdez', 'valdosta', 'valencia', 'valentine', 'valeric', 'validated', 'valine', 'valley', 'valleys', 'valrhona', 'valuable', 'value', 'valuebeautifully', 'valuecalories', 'valued', 'values', 'valve', 'van', 'vana', 'vanilla', 'vanillas', 'vanillin', 'vans', 'var', 'variability', 'variable', 'variances', 'variant', 'variation', 'variations', 'varied', 'varieites', 'varies', 'varietal', 'varietals', 'varieties', 'variety', 'various', 'varities', 'varity', 'vary', 'varying', 'vasa', 'vase', 'vast', 'vastly', 'vat', 'vats', 'vault', 'vco', 've', 'veal', 'vee', 'veg', 'vegan', 'vegans', 'vegas', 'vegatables', 'vegebase', 'vegemite', 'vegeta', 'vegetable', 'vegetables', 'vegetales', 'vegetarian', 'vegetarians', 'vegetariansabout', 'vegeterian', 'vegg', 'veggie', 'veggies', 'vegi', 'vehicle', 'veins', 'velveeta', 'velvet', 'velvety', 'vend', 'vending', 'vending30', 'vendor', 'vendors', 'venerable', 'venerated', 'venetian', 'venezuelan', 'venison', 'venom', 'vent', 'vented', 'ventilation', 'venture', 'vera', 'veranda', 'verburg', 'verdana', 'verde', 'verified', 'veritas', 'vermicelli', 'vermont', 'verona', 'veronica', 'verroa', 'versa', 'versatile', 'versatility', 'versieren', 'version', 'versions', 'versitile', 'versitle', 'versus', 'vert', 'vertebr', 'vertebrate', 'verum', 'verve', 'very', 'vessel', 'vessels', 'vest', 'veteran', 'vevey', 'vhc', 'via', 'viability', 'viable', 'vial', 'vibrancy', 'vibrant', 'vibrantly', 'vice', 'vicinity', 'vicious', 'victor', 'victorian', 'vidalia', 'video', 'videogames', 'videos', 'vieja', 'vienna', 'viennas', 'vietnam', 'vietnamese', 'view', 'viewed', 'vigo', 'vigor', 'vigorous', 'villa', 'village', 'villagers', 'villages', 'ville', 'vin', 'vinaigrette', 'vinaigrettes', 'vincent', 'vine', 'vinegar', 'vinegarette', 'vinegars', 'vines', 'vineyard', 'vineyards', 'vintage', 'vintages', 'violet', 'viral', 'virgil', 'virgin', 'virginia', 'virtually', 'virtue', 'virtues', 'visco', 'visconti', 'viscosity', 'viscous', 'visible', 'vision', 'visionary', 'visit', 'visited', 'visiting', 'visitors', 'visits', 'visual', 'vita', 'vitabrownie', 'vitabrownies', 'vitacost', 'vitacostvitacost', 'vital', 'vitality', 'vitalizes', 'vitally', 'vitamin', 'vitamine', 'vitamins', 'vitaminseat', 'vitamuffin', 'vitamuffins', 'vitatops', 'viva', 'vivacious', 'vivani', 'vivid', 'vle', 'vodka', 'vogel', 'vogue', 'voice', 'void', 'voila', 'vol', 'volatile', 'volcanic', 'volcano', 'volume', 'voluntarily', 'volunteer', 'vomit', 'von', 'voodoo', 'vosges', 'vote', 'voted', 'votes', 'voyage', 'vread', 'vrolijk', 'vs', 'vsf', 'vue', 'vulnerable', 'wa', 'wabash', 'wabc', 'wackadoo', 'wadi', 'wafer', 'wafers', 'waffle', 'waffles', 'wage', 'wages', 'wagon', 'waht', 'wai', 'waist', 'waistline', 'wait', 'waiting', 'waitress', 'waitsfield', 'wakame', 'wake', 'wakeful', 'wakes', 'wakeup', 'wakin', 'waking', 'walden', 'wales', 'walk', 'walked', 'walker', 'walkers', 'walks', 'wall', 'wallace', 'wallahs', 'wallenford', 'wallet', 'wallop', 'walls', 'wally', 'walnut', 'walnutjuicy', 'walnuts', 'walter', 'want', 'wanted', 'wanting', 'wants', 'wanut', 'war', 'ward', 'warehime', 'warehouse', 'warehousing', 'wares', 'warm', 'warmed', 'warmer', 'warming', 'warms', 'warmth', 'warning', 'warnings', 'warranties', 'warranty', 'warren', 'warrior', 'warriors', 'was', 'wasa', 'wasabi', 'wasabia', 'wash', 'washable', 'washed', 'washing', 'washington', 'washinton', 'wasn', 'wasna', 'wastage', 'waste', 'waste4', 'wasteful', 'wasting', 'watch', 'watchers', 'watches', 'watchful', 'watching', 'watchwords', 'water', 'water1', 'water2', 'watera', 'watercress', 'watered', 'waterfowl', 'waterfront', 'waterglaceau', 'watering', 'wateringly', 'watermelon', 'watermelons', 'waterproof', 'waters', 'watersafe', 'waterways', 'watkins', 'wau', 'wave', 'waved', 'wavered', 'waves', 'wax', 'waxed', 'waxes', 'way', 'ways', 'waywhen', 'we', 'weak', 'weakened', 'weakness', 'wealth', 'wealthy', 'wean', 'weaning', 'wear', 'wearer', 'weather', 'weaved', 'weaver', 'web', 'weber', 'website', 'websites', 'wedderspoon', 'wedding', 'weddings', 'wedge', 'wedges', 'wednesday', 'weed', 'weeds', 'week', 'weekend', 'weekly', 'weeknight', 'weeks', 'weeping', 'weetabix', 'wehani', 'weighed', 'weighing', 'weighs', 'weight', 'weightlifting', 'weird', 'weizen', 'wel', 'welch', 'welchs', 'welcome', 'welcomed', 'welds', 'welfare', 'well', 'wellaby', 'wellbee', 'wellbeing', 'wellgood', 'wellington', 'wellness', 'went', 'were', 'weren', 'werther', 'wessanen', 'wesson', 'west', 'westbrae', 'western', 'wet', 'wether', 'weve', 'whack', 'what', 'whatever', 'whats', 'whatsoever', 'wheat', 'wheatgrass', 'wheatmeal', 'wheats', 'wheel', 'wheeled', 'wheels', 'when', 'whenever', 'where', 'whereas', 'whereby', 'wherever', 'wheter', 'whether', 'whey', 'which', 'whick', 'whidbey', 'while', 'whilst', 'whimsical', 'whip', 'whipped', 'whips', 'whirl', 'whirley', 'whisk', 'whisked', 'whiskey', 'whisky', 'whisper', 'whistles', 'white', 'whiten', 'whitening', 'whitens', 'whiter', 'whites', 'whitewave', 'whitish', 'whitman', 'whiz', 'who', 'whoa', 'whoever', 'whole', 'wholegrain', 'wholegrainscouncil', 'wholemeal', 'wholeone', 'wholes', 'wholesale', 'wholesimilar', 'wholesome', 'wholesomeness', 'wholesomesweeteners', 'whom', 'whooping', 'whoppers', 'whopping', 'whose', 'why', 'whythe', 'whythese', 'wic', 'wich', 'wick', 'wicked', 'wicker', 'wide', 'widely', 'widening', 'widest', 'widow', 'width', 'wiener', 'wiesen', 'wieser', 'wife', 'wigs', 'wikipedia', 'wild', 'wildberry', 'wilderness', 'wildflower', 'wildflowers', 'wildlife', 'wildly', 'wilkes', 'will', 'willamette', 'willi', 'william', 'williams', 'williamsburg', 'willing', 'willpowder', 'willpower', 'wilson', 'wilton', 'win', 'wind', 'windex', 'window', 'winds', 'wine', 'winemaking', 'wines', 'winey', 'wing', 'winged', 'wingers', 'wings', 'wink', 'winner', 'winning', 'winter', 'wintergreen', 'wipes', 'wired', 'wisconsin', 'wisdom', 'wise', 'wisely', 'wish', 'wishes', 'wishing', 'wisk', 'wisp', 'wispy', 'wit', 'with', 'withcoffee', 'withdrawal', 'withering', 'withey', 'withgloria', 'within', 'without', 'withstand', 'withstood', 'wives', 'wm', 'wok', 'wolf', 'wolfe', 'wolfgang', 'woman', 'women', 'womrm', 'won', 'wonder', 'wondered', 'wonderful', 'wonderfully', 'wondering', 'wonders', 'wondrous', 'wondrously', 'wonka', 'wont', 'woo', 'wood', 'woodchips', 'wooden', 'woods', 'woodstock', 'woodstockraw', 'woodsy', 'woodward', 'woody', 'worcestershire', 'worchester', 'word', 'words', 'work', 'worked', 'worker', 'workers', 'workforce', 'workhorse', 'working', 'workout', 'workouts', 'workplace', 'works', 'worksathletes', 'world', 'worldliness', 'worldly', 'worlds', 'worldwide', 'worldwideon', 'worms', 'worn', 'worried', 'worry', 'worrying', 'worship', 'worst', 'worth', 'worthy', 'would', 'wouldn', 'wound', 'wounds', 'woven', 'wow', 'wowbutter', 'wrap', 'wraping', 'wrapped', 'wrapper', 'wrappers', 'wrapping', 'wraps', 'wreak', 'wreaths', 'wrestling', 'wright', 'wrigley', 'wrinkle', 'wrinkled', 'wrinkles', 'write', 'writer', 'writing', 'writings', 'written', 'wrong', 'wrongfully', 'wrote', 'wt', 'wulong', 'wurden', 'wurly', 'wuyi', 'www', 'wyck', 'wylde', 'wyler', 'wyoming', 'x100', 'x14d', 'x192', 'x2013', 'x2014', 'x2018', 'x2019', 'x201a', 'x201c', 'x201d', 'x2020', 'x2022', 'x2026', 'x20ac', 'x2122', 'x2510', 'x398', 'x3a3', 'x85', 'x91', 'x92', 'x96', 'x97', 'xa0', 'xa3', 'xa9', 'xab', 'xae', 'xantham', 'xanthan', 'xanthomonas', 'xathan', 'xb0', 'xba', 'xbc', 'xbd', 'xc1', 'xc4', 'xc9', 'xcarade', 'xd6', 'xe2', 'xe4', 'xe6', 'xe7', 'xe8', 'xe9', 'xed', 'xerographica', 'xf1', 'xf3', 'xfa', 'xfc', 'xfeff', 'xfffd', 'xi', 'xl', 'xlear', 'xmucane', 'xoxox', 'xtra', 'xu', 'xx', 'xxl', 'xyla', 'xylan', 'xyli', 'xylichew', 'xylitol', 'xyliyol', 'xyloburst', 'xylosweet', 'ya', 'yaakov', 'yacon', 'yakami', 'yakisoba', 'yale', 'yam', 'yamamotoyama', 'yang', 'yankee', 'yeah', 'year', 'yearned', 'yearning', 'years', 'yearsdesigned', 'yearsformulated', 'yearsover', 'yearsscientifically', 'yeast', 'yeasts', 'yehuda', 'yell', 'yellow', 'yellowed', 'yellower', 'yellowfin', 'yellowish', 'yep', 'yerba', 'yes', 'yester', 'yesteryear', 'yet', 'yield', 'yielded', 'yielding', 'yields', 'yin', 'yirgacheffe', 'yoel', 'yoga', 'yogi', 'yogis', 'yogourmet', 'yogurt', 'yogurts', 'yoki', 'yokogiri', 'yokurt', 'yolks', 'yore', 'york', 'yorkers', 'yorkshire', 'yorktm', 'yoshida', 'you', 'youl', 'youll', 'young', 'younger', 'youngest', 'your', 'youre', 'yours', 'yourself', 'yourselves', 'yous', 'youth', 'youthberry', 'youtu', 'youtube', 'ys', 'yuan', 'yuban', 'yuca', 'yucateco', 'yucky', 'yugoslavia', 'yum', 'yumearth', 'yumegokochi', 'yummi', 'yummie', 'yummiest', 'yummy', 'yummyearth', 'yums', 'yunnan', 'yuzu', 'yyyy', 'zafrani', 'zagarese', 'zalben', 'zam', 'zamour', 'zamouri', 'zante', 'zany', 'zat', 'zatarain', 'zealand', 'zen', 'zenoids', 'zeppelin', 'zero', 'zest', 'zestiest', 'zestiness', 'zesty', 'zeus', 'zevia', 'zeylanicum', 'zhejiang', 'zhena', 'zhong', 'zico', 'zim', 'zimbabwe', 'zinc', 'zing', 'zingber', 'zinger', 'zingiber', 'zingiberacea', 'zingy', 'zinke', 'zip', 'zipfizz', 'zipper', 'zippy', 'zisha', 'ziti', 'zoe', 'zola', 'zombie', 'zone', 'zones', 'zotz', 'zsweet', 'zucchini', 'zucker', 'zuckersirup', 'zuppa', 'zutaten', 'zveet', 'zylitol']\n"
     ]
    }
   ],
   "source": [
    "from sklearn.feature_extraction.text import TfidfVectorizer\n",
    "\n",
    "tfidf = TfidfVectorizer()\n",
    "\n",
    "csr_mat = tfidf.fit_transform(text)\n",
    "\n",
    "print(csr_mat.toarray())\n",
    "\n",
    "words = tfidf.get_feature_names()\n",
    "\n",
    "print(words)\n"
   ]
  },
  {
   "cell_type": "code",
   "execution_count": 228,
   "metadata": {},
   "outputs": [],
   "source": [
    "from sklearn.decomposition import TruncatedSVD\n",
    "from sklearn.cluster import KMeans\n",
    "from sklearn.pipeline import make_pipeline"
   ]
  },
  {
   "cell_type": "code",
   "execution_count": 252,
   "metadata": {},
   "outputs": [],
   "source": [
    "#from sklearn.cluster import KMeans\n",
    "#wcss = []\n",
    "\n",
    "#for i in range(1, 11):\n",
    " #   kmeans = KMeans(n_clusters = i, init = 'k-means++',\n",
    "                #    max_iter = 400, n_init = 10, random_state = 0)\n",
    "  #  kmeans.fit(csr_mat)\n",
    "   # wcss.append(kmeans.inertia_)\n",
    "    \n",
    "#Plotting the results onto a line graph to observe 'The elbow'\n",
    "#plt.plot(range(1, 11), wcss)\n",
    "#plt.title('Elbow Method')\n",
    "#plt.xlabel('Association')\n",
    "#plt.ylabel('WCSS') #within cluster sum of squares\n",
    "#plt.show()"
   ]
  },
  {
   "cell_type": "code",
   "execution_count": 229,
   "metadata": {},
   "outputs": [],
   "source": [
    "svd = TruncatedSVD(n_components = 50)\n",
    "\n",
    "kmeans = KMeans(n_clusters = 15)\n",
    "\n",
    "pipeline = make_pipeline(svd, kmeans)"
   ]
  },
  {
   "cell_type": "code",
   "execution_count": 230,
   "metadata": {},
   "outputs": [
    {
     "data": {
      "text/plain": [
       "Pipeline(memory=None,\n",
       "         steps=[('truncatedsvd',\n",
       "                 TruncatedSVD(algorithm='randomized', n_components=50, n_iter=5,\n",
       "                              random_state=None, tol=0.0)),\n",
       "                ('kmeans',\n",
       "                 KMeans(algorithm='auto', copy_x=True, init='k-means++',\n",
       "                        max_iter=300, n_clusters=15, n_init=10, n_jobs=None,\n",
       "                        precompute_distances='auto', random_state=None,\n",
       "                        tol=0.0001, verbose=0))],\n",
       "         verbose=False)"
      ]
     },
     "execution_count": 230,
     "metadata": {},
     "output_type": "execute_result"
    }
   ],
   "source": [
    "pipeline.fit(csr_mat)"
   ]
  },
  {
   "cell_type": "code",
   "execution_count": 185,
   "metadata": {},
   "outputs": [],
   "source": [
    "labels = pipeline.predict(csr_mat)"
   ]
  },
  {
   "cell_type": "code",
   "execution_count": 186,
   "metadata": {},
   "outputs": [
    {
     "data": {
      "text/plain": [
       "array([9, 2, 2, ..., 2, 2, 8], dtype=int32)"
      ]
     },
     "execution_count": 186,
     "metadata": {},
     "output_type": "execute_result"
    }
   ],
   "source": [
    "labels "
   ]
  },
  {
   "cell_type": "code",
   "execution_count": null,
   "metadata": {},
   "outputs": [],
   "source": []
  },
  {
   "cell_type": "code",
   "execution_count": null,
   "metadata": {},
   "outputs": [],
   "source": []
  },
  {
   "cell_type": "code",
   "execution_count": 212,
   "metadata": {},
   "outputs": [],
   "source": [
    "df = pd.DataFrame({'label': labels, 'item': titles})"
   ]
  },
  {
   "cell_type": "code",
   "execution_count": 213,
   "metadata": {},
   "outputs": [
    {
     "data": {
      "text/html": [
       "<div>\n",
       "<style scoped>\n",
       "    .dataframe tbody tr th:only-of-type {\n",
       "        vertical-align: middle;\n",
       "    }\n",
       "\n",
       "    .dataframe tbody tr th {\n",
       "        vertical-align: top;\n",
       "    }\n",
       "\n",
       "    .dataframe thead th {\n",
       "        text-align: right;\n",
       "    }\n",
       "</style>\n",
       "<table border=\"1\" class=\"dataframe\">\n",
       "  <thead>\n",
       "    <tr style=\"text-align: right;\">\n",
       "      <th></th>\n",
       "      <th>label</th>\n",
       "      <th>item</th>\n",
       "    </tr>\n",
       "  </thead>\n",
       "  <tbody>\n",
       "    <tr>\n",
       "      <th>5328</th>\n",
       "      <td>0</td>\n",
       "      <td>Ghirardelli Peppermint Bark Squares with Dark ...</td>\n",
       "    </tr>\n",
       "    <tr>\n",
       "      <th>6871</th>\n",
       "      <td>0</td>\n",
       "      <td>Sanders Dark Chocolate Sea Salt Caramels 36 Ou...</td>\n",
       "    </tr>\n",
       "    <tr>\n",
       "      <th>4754</th>\n",
       "      <td>0</td>\n",
       "      <td>Monin Flavored Sauce, Dark Chocolate, 12-Ounce...</td>\n",
       "    </tr>\n",
       "    <tr>\n",
       "      <th>6765</th>\n",
       "      <td>0</td>\n",
       "      <td>Ghirardelli Milk Chocolate Easter Eggs, 3.5-Ou...</td>\n",
       "    </tr>\n",
       "    <tr>\n",
       "      <th>4753</th>\n",
       "      <td>0</td>\n",
       "      <td>Nestle Ovaltine Rich Chocolate, 12-Ounce Tubs ...</td>\n",
       "    </tr>\n",
       "    <tr>\n",
       "      <th>4401</th>\n",
       "      <td>0</td>\n",
       "      <td>Cafe Escapes Dark Chocolate Hot Cocoa K-Cups, ...</td>\n",
       "    </tr>\n",
       "    <tr>\n",
       "      <th>5269</th>\n",
       "      <td>0</td>\n",
       "      <td>Green &amp;amp; Black Organic Hot Chocolate Mix, 5...</td>\n",
       "    </tr>\n",
       "    <tr>\n",
       "      <th>5268</th>\n",
       "      <td>0</td>\n",
       "      <td>Cadbury Easter Royal Dark Chocolate Candy Coat...</td>\n",
       "    </tr>\n",
       "    <tr>\n",
       "      <th>4191</th>\n",
       "      <td>0</td>\n",
       "      <td>Arnott's Tim Tam Original</td>\n",
       "    </tr>\n",
       "    <tr>\n",
       "      <th>3606</th>\n",
       "      <td>0</td>\n",
       "      <td>Ghirardelli Triple Chocolate Brownie Mix, Semi...</td>\n",
       "    </tr>\n",
       "    <tr>\n",
       "      <th>246</th>\n",
       "      <td>0</td>\n",
       "      <td>Ghirardelli Hot Chocolate Mix , Chocolate Moch...</td>\n",
       "    </tr>\n",
       "    <tr>\n",
       "      <th>3678</th>\n",
       "      <td>0</td>\n",
       "      <td>Land O Lakes, Cocoa Mix Classic Mint, 1.25-Oun...</td>\n",
       "    </tr>\n",
       "    <tr>\n",
       "      <th>6603</th>\n",
       "      <td>0</td>\n",
       "      <td>Donut Shop COCONUT MOCHA - 12 k-cups</td>\n",
       "    </tr>\n",
       "    <tr>\n",
       "      <th>5266</th>\n",
       "      <td>0</td>\n",
       "      <td>Cadbury Easter Candy Coated Mini Eggs, 10-Ounc...</td>\n",
       "    </tr>\n",
       "    <tr>\n",
       "      <th>242</th>\n",
       "      <td>0</td>\n",
       "      <td>Hostess Cup Cakes, 12.6 oz</td>\n",
       "    </tr>\n",
       "    <tr>\n",
       "      <th>3397</th>\n",
       "      <td>0</td>\n",
       "      <td>M&amp;amp;M's Milk Chocolate Candy, 1.69-Ounce Pac...</td>\n",
       "    </tr>\n",
       "    <tr>\n",
       "      <th>7182</th>\n",
       "      <td>0</td>\n",
       "      <td>KIND Nuts &amp;amp; Spices, Variety Pack, 12-Count...</td>\n",
       "    </tr>\n",
       "    <tr>\n",
       "      <th>5265</th>\n",
       "      <td>0</td>\n",
       "      <td>Cadbury Easter Caramel Eggs, 4-Count, 4.8oz Bo...</td>\n",
       "    </tr>\n",
       "    <tr>\n",
       "      <th>237</th>\n",
       "      <td>0</td>\n",
       "      <td>Ghiradelli Hot Chocolate, Double Chocolate, 16oz</td>\n",
       "    </tr>\n",
       "    <tr>\n",
       "      <th>5735</th>\n",
       "      <td>0</td>\n",
       "      <td>Mars Maltesers - 120g Box</td>\n",
       "    </tr>\n",
       "    <tr>\n",
       "      <th>4969</th>\n",
       "      <td>0</td>\n",
       "      <td>Tim Hortons Hot Chocolate</td>\n",
       "    </tr>\n",
       "    <tr>\n",
       "      <th>5263</th>\n",
       "      <td>0</td>\n",
       "      <td>Hershey's Easter Kisses, Milk Chocolate Filled...</td>\n",
       "    </tr>\n",
       "    <tr>\n",
       "      <th>4196</th>\n",
       "      <td>0</td>\n",
       "      <td>Stone Ground Organic Chocolate 80% Dark</td>\n",
       "    </tr>\n",
       "    <tr>\n",
       "      <th>4029</th>\n",
       "      <td>0</td>\n",
       "      <td>Pacific Natural Foods Hazelnut Non-Dairy Bever...</td>\n",
       "    </tr>\n",
       "    <tr>\n",
       "      <th>4340</th>\n",
       "      <td>0</td>\n",
       "      <td>Suchard Hot Chocolate Syrup, 8-Count T-Discs f...</td>\n",
       "    </tr>\n",
       "    <tr>\n",
       "      <th>6934</th>\n",
       "      <td>0</td>\n",
       "      <td>Brookside Chocolates, Dark Chocolate Acai Blue...</td>\n",
       "    </tr>\n",
       "    <tr>\n",
       "      <th>4343</th>\n",
       "      <td>0</td>\n",
       "      <td>Dilettante Chocolate Covered Espresso Bean Ble...</td>\n",
       "    </tr>\n",
       "    <tr>\n",
       "      <th>5603</th>\n",
       "      <td>0</td>\n",
       "      <td>Hershey's Holiday Kisses, Special Dark Chocola...</td>\n",
       "    </tr>\n",
       "    <tr>\n",
       "      <th>7197</th>\n",
       "      <td>0</td>\n",
       "      <td>Philadelphia Candies Solid White Confection Bu...</td>\n",
       "    </tr>\n",
       "    <tr>\n",
       "      <th>5604</th>\n",
       "      <td>0</td>\n",
       "      <td>Hershey's Pot of Gold Assorted Chocolate Nuts ...</td>\n",
       "    </tr>\n",
       "    <tr>\n",
       "      <th>...</th>\n",
       "      <td>...</td>\n",
       "      <td>...</td>\n",
       "    </tr>\n",
       "    <tr>\n",
       "      <th>4382</th>\n",
       "      <td>14</td>\n",
       "      <td>Amy &amp;amp; Brian Natural Coconut Juice Unsweete...</td>\n",
       "    </tr>\n",
       "    <tr>\n",
       "      <th>4383</th>\n",
       "      <td>14</td>\n",
       "      <td>Amy &amp;amp; Brian Natural Coconut Juice with Pul...</td>\n",
       "    </tr>\n",
       "    <tr>\n",
       "      <th>6436</th>\n",
       "      <td>14</td>\n",
       "      <td>LorAnn Hard Candy Flavoring Oils 10 Pack YOU P...</td>\n",
       "    </tr>\n",
       "    <tr>\n",
       "      <th>6435</th>\n",
       "      <td>14</td>\n",
       "      <td>La Tourangelle Avocado Oil, 16.9 Ounce Tin</td>\n",
       "    </tr>\n",
       "    <tr>\n",
       "      <th>4462</th>\n",
       "      <td>14</td>\n",
       "      <td>Heartland Malted Vanilla Belgian Waffle - All ...</td>\n",
       "    </tr>\n",
       "    <tr>\n",
       "      <th>4481</th>\n",
       "      <td>14</td>\n",
       "      <td>Spectrum Essentials Organic Ground Flaxseed, 1...</td>\n",
       "    </tr>\n",
       "    <tr>\n",
       "      <th>4372</th>\n",
       "      <td>14</td>\n",
       "      <td>Bob's Red Mill Flaked Coconut Unsweetened,  4 ...</td>\n",
       "    </tr>\n",
       "    <tr>\n",
       "      <th>3557</th>\n",
       "      <td>14</td>\n",
       "      <td>La Tourangelle Infused White Truffle Oil, 8.45...</td>\n",
       "    </tr>\n",
       "    <tr>\n",
       "      <th>4161</th>\n",
       "      <td>14</td>\n",
       "      <td>Nature Factor Organic Young Coconut Water, 10-...</td>\n",
       "    </tr>\n",
       "    <tr>\n",
       "      <th>7333</th>\n",
       "      <td>14</td>\n",
       "      <td>Keebler El Duende Cookies, Coconut, 11 Ounce (...</td>\n",
       "    </tr>\n",
       "    <tr>\n",
       "      <th>2185</th>\n",
       "      <td>14</td>\n",
       "      <td>Artisana - 100% Organic Raw Coconut Butter - 1...</td>\n",
       "    </tr>\n",
       "    <tr>\n",
       "      <th>6950</th>\n",
       "      <td>14</td>\n",
       "      <td>Navitas Naturals Organic Coconut Water Powder,...</td>\n",
       "    </tr>\n",
       "    <tr>\n",
       "      <th>6956</th>\n",
       "      <td>14</td>\n",
       "      <td>Trader Joe's Roasted Coconut Chips - 2 Pack</td>\n",
       "    </tr>\n",
       "    <tr>\n",
       "      <th>3624</th>\n",
       "      <td>14</td>\n",
       "      <td>La Tourangelle Avocado Oil, 16.9-Ounce Tins (P...</td>\n",
       "    </tr>\n",
       "    <tr>\n",
       "      <th>3658</th>\n",
       "      <td>14</td>\n",
       "      <td>Emerald Harmony Deluxe Fruit N Nut Trail Mix, ...</td>\n",
       "    </tr>\n",
       "    <tr>\n",
       "      <th>3673</th>\n",
       "      <td>14</td>\n",
       "      <td>Grace Cocconut Milk Powder Envelope, 1.76-Ounc...</td>\n",
       "    </tr>\n",
       "    <tr>\n",
       "      <th>6599</th>\n",
       "      <td>14</td>\n",
       "      <td>Zola 100% Pure Coconut Water, 17.5-Ounce (Pack...</td>\n",
       "    </tr>\n",
       "    <tr>\n",
       "      <th>6595</th>\n",
       "      <td>14</td>\n",
       "      <td>SunTropics Coconut Juice with Pulp, 17.5-Ounce...</td>\n",
       "    </tr>\n",
       "    <tr>\n",
       "      <th>4101</th>\n",
       "      <td>14</td>\n",
       "      <td>Let's Do...Organic Shredded Coconut, Food Serv...</td>\n",
       "    </tr>\n",
       "    <tr>\n",
       "      <th>6594</th>\n",
       "      <td>14</td>\n",
       "      <td>SunTropics Coconut Juice, 17.5-Ounce (Pack of 12)</td>\n",
       "    </tr>\n",
       "    <tr>\n",
       "      <th>6588</th>\n",
       "      <td>14</td>\n",
       "      <td>Kirkland Organic Extra Virgin Olive Oil 3.6 fl...</td>\n",
       "    </tr>\n",
       "    <tr>\n",
       "      <th>2141</th>\n",
       "      <td>14</td>\n",
       "      <td>Tropical Traditions 1 Organic Coconut Flour - ...</td>\n",
       "    </tr>\n",
       "    <tr>\n",
       "      <th>3887</th>\n",
       "      <td>14</td>\n",
       "      <td>Kirkland Signature Extra Virgin Olive Oil, 2 L...</td>\n",
       "    </tr>\n",
       "    <tr>\n",
       "      <th>3888</th>\n",
       "      <td>14</td>\n",
       "      <td>Olio Santo California Extra Virgin Olive Oil -...</td>\n",
       "    </tr>\n",
       "    <tr>\n",
       "      <th>6559</th>\n",
       "      <td>14</td>\n",
       "      <td>BetterBody Foods Organic Cold Pressed Canola O...</td>\n",
       "    </tr>\n",
       "    <tr>\n",
       "      <th>2139</th>\n",
       "      <td>14</td>\n",
       "      <td>16-oz glass - Gold Label Organic Virgin Coconu...</td>\n",
       "    </tr>\n",
       "    <tr>\n",
       "      <th>6964</th>\n",
       "      <td>14</td>\n",
       "      <td>Nutiva - Organic Coconut Sugar - 1 lb.</td>\n",
       "    </tr>\n",
       "    <tr>\n",
       "      <th>2113</th>\n",
       "      <td>14</td>\n",
       "      <td>Columela  Extra Virgin Olive Oil From Spain , ...</td>\n",
       "    </tr>\n",
       "    <tr>\n",
       "      <th>2152</th>\n",
       "      <td>14</td>\n",
       "      <td>Bertolli Extra Virgin Olive Oil, 51-Ounce Bottle</td>\n",
       "    </tr>\n",
       "    <tr>\n",
       "      <th>2784</th>\n",
       "      <td>14</td>\n",
       "      <td>Urbani White Truffle Infused Oil, 1.8-Ounces B...</td>\n",
       "    </tr>\n",
       "  </tbody>\n",
       "</table>\n",
       "<p>7509 rows × 2 columns</p>\n",
       "</div>"
      ],
      "text/plain": [
       "      label                                               item\n",
       "5328      0  Ghirardelli Peppermint Bark Squares with Dark ...\n",
       "6871      0  Sanders Dark Chocolate Sea Salt Caramels 36 Ou...\n",
       "4754      0  Monin Flavored Sauce, Dark Chocolate, 12-Ounce...\n",
       "6765      0  Ghirardelli Milk Chocolate Easter Eggs, 3.5-Ou...\n",
       "4753      0  Nestle Ovaltine Rich Chocolate, 12-Ounce Tubs ...\n",
       "...     ...                                                ...\n",
       "2139     14  16-oz glass - Gold Label Organic Virgin Coconu...\n",
       "6964     14             Nutiva - Organic Coconut Sugar - 1 lb.\n",
       "2113     14  Columela  Extra Virgin Olive Oil From Spain , ...\n",
       "2152     14   Bertolli Extra Virgin Olive Oil, 51-Ounce Bottle\n",
       "2784     14  Urbani White Truffle Infused Oil, 1.8-Ounces B...\n",
       "\n",
       "[7509 rows x 2 columns]"
      ]
     },
     "execution_count": 213,
     "metadata": {},
     "output_type": "execute_result"
    }
   ],
   "source": [
    "df.sort_values('label')"
   ]
  },
  {
   "cell_type": "code",
   "execution_count": 232,
   "metadata": {},
   "outputs": [
    {
     "data": {
      "text/html": [
       "<div>\n",
       "<style scoped>\n",
       "    .dataframe tbody tr th:only-of-type {\n",
       "        vertical-align: middle;\n",
       "    }\n",
       "\n",
       "    .dataframe tbody tr th {\n",
       "        vertical-align: top;\n",
       "    }\n",
       "\n",
       "    .dataframe thead th {\n",
       "        text-align: right;\n",
       "    }\n",
       "</style>\n",
       "<table border=\"1\" class=\"dataframe\">\n",
       "  <thead>\n",
       "    <tr style=\"text-align: right;\">\n",
       "      <th></th>\n",
       "      <th>label</th>\n",
       "      <th>item</th>\n",
       "    </tr>\n",
       "  </thead>\n",
       "  <tbody>\n",
       "    <tr>\n",
       "      <th>0</th>\n",
       "      <td>9</td>\n",
       "      <td>Japanese Kit Kat Maccha Green Tea Flavor (5 Ba...</td>\n",
       "    </tr>\n",
       "    <tr>\n",
       "      <th>1</th>\n",
       "      <td>2</td>\n",
       "      <td>Mae Ploy Thai Green Curry Paste - 14 oz jar</td>\n",
       "    </tr>\n",
       "    <tr>\n",
       "      <th>2</th>\n",
       "      <td>2</td>\n",
       "      <td>Ateco Food Coloring Kit, 6 colors</td>\n",
       "    </tr>\n",
       "    <tr>\n",
       "      <th>3</th>\n",
       "      <td>1</td>\n",
       "      <td>Traditional Medicinals Breathe Easy, 16-Count ...</td>\n",
       "    </tr>\n",
       "    <tr>\n",
       "      <th>4</th>\n",
       "      <td>2</td>\n",
       "      <td>PowerBar ProteinPlus High Protein Bar, Vanilla...</td>\n",
       "    </tr>\n",
       "  </tbody>\n",
       "</table>\n",
       "</div>"
      ],
      "text/plain": [
       "   label                                               item\n",
       "0      9  Japanese Kit Kat Maccha Green Tea Flavor (5 Ba...\n",
       "1      2        Mae Ploy Thai Green Curry Paste - 14 oz jar\n",
       "2      2                  Ateco Food Coloring Kit, 6 colors\n",
       "3      1  Traditional Medicinals Breathe Easy, 16-Count ...\n",
       "4      2  PowerBar ProteinPlus High Protein Bar, Vanilla..."
      ]
     },
     "execution_count": 232,
     "metadata": {},
     "output_type": "execute_result"
    }
   ],
   "source": [
    "df.head()"
   ]
  },
  {
   "cell_type": "code",
   "execution_count": 233,
   "metadata": {},
   "outputs": [
    {
     "data": {
      "text/html": [
       "<div>\n",
       "<style scoped>\n",
       "    .dataframe tbody tr th:only-of-type {\n",
       "        vertical-align: middle;\n",
       "    }\n",
       "\n",
       "    .dataframe tbody tr th {\n",
       "        vertical-align: top;\n",
       "    }\n",
       "\n",
       "    .dataframe thead th {\n",
       "        text-align: right;\n",
       "    }\n",
       "</style>\n",
       "<table border=\"1\" class=\"dataframe\">\n",
       "  <thead>\n",
       "    <tr style=\"text-align: right;\">\n",
       "      <th></th>\n",
       "      <th>asin</th>\n",
       "      <th>salesRank</th>\n",
       "      <th>imUrl</th>\n",
       "      <th>categories</th>\n",
       "      <th>title</th>\n",
       "      <th>description</th>\n",
       "      <th>price</th>\n",
       "      <th>related</th>\n",
       "      <th>brand</th>\n",
       "      <th>Key_words</th>\n",
       "      <th>key_words2</th>\n",
       "      <th>key_words</th>\n",
       "    </tr>\n",
       "  </thead>\n",
       "  <tbody>\n",
       "    <tr>\n",
       "      <th>0</th>\n",
       "      <td>616719923X</td>\n",
       "      <td>{'Grocery &amp; Gourmet Food': 37305}</td>\n",
       "      <td>http://ecx.images-amazon.com/images/I/51LdEao6...</td>\n",
       "      <td>[[['grocery ,  gourmet food']]]</td>\n",
       "      <td>Japanese Kit Kat Maccha Green Tea Flavor (5 Ba...</td>\n",
       "      <td>Green Tea Flavor Kit Kat have quickly become t...</td>\n",
       "      <td>NaN</td>\n",
       "      <td>{'also_bought': ['B00FD63L5W', 'B0047YG5UY', '...</td>\n",
       "      <td>NaN</td>\n",
       "      <td></td>\n",
       "      <td></td>\n",
       "      <td></td>\n",
       "    </tr>\n",
       "    <tr>\n",
       "      <th>1</th>\n",
       "      <td>9742356831</td>\n",
       "      <td>{'Grocery &amp; Gourmet Food': 3434}</td>\n",
       "      <td>http://ecx.images-amazon.com/images/I/41pQp67A...</td>\n",
       "      <td>[[['grocery ,  gourmet food']]]</td>\n",
       "      <td>Mae Ploy Thai Green Curry Paste - 14 oz jar</td>\n",
       "      <td>Used to make various curry soups and stir fry ...</td>\n",
       "      <td>7.23</td>\n",
       "      <td>{'also_bought': ['B000EI2LLO', 'B000EICISA', '...</td>\n",
       "      <td>Mae Ploy</td>\n",
       "      <td></td>\n",
       "      <td></td>\n",
       "      <td></td>\n",
       "    </tr>\n",
       "    <tr>\n",
       "      <th>2</th>\n",
       "      <td>B00004S1C5</td>\n",
       "      <td>{'Kitchen &amp; Dining': 4494}</td>\n",
       "      <td>http://ecx.images-amazon.com/images/I/41F75K9F...</td>\n",
       "      <td>[[['grocery ,  gourmet food', 'cooking ,  baki...</td>\n",
       "      <td>Ateco Food Coloring Kit, 6 colors</td>\n",
       "      <td>From Easter eggs to colorful cookies, Spectrum...</td>\n",
       "      <td>9.76</td>\n",
       "      <td>{'also_bought': ['B0000CFMLT', 'B002PO3KBK', '...</td>\n",
       "      <td>HIC Harold Import Co.</td>\n",
       "      <td></td>\n",
       "      <td></td>\n",
       "      <td></td>\n",
       "    </tr>\n",
       "    <tr>\n",
       "      <th>4</th>\n",
       "      <td>B00005344V</td>\n",
       "      <td>{'Grocery &amp; Gourmet Food': 5034}</td>\n",
       "      <td>http://ecx.images-amazon.com/images/I/51H54cd-...</td>\n",
       "      <td>[[['grocery ,  gourmet food']]]</td>\n",
       "      <td>Traditional Medicinals Breathe Easy, 16-Count ...</td>\n",
       "      <td>For nearly forty years, we&amp;#x2019;ve been pass...</td>\n",
       "      <td>21.74</td>\n",
       "      <td>{'also_bought': ['B0009F3POE', 'B0009F3POO', '...</td>\n",
       "      <td>Traditional Medicinals</td>\n",
       "      <td></td>\n",
       "      <td></td>\n",
       "      <td></td>\n",
       "    </tr>\n",
       "    <tr>\n",
       "      <th>5</th>\n",
       "      <td>B0000537AF</td>\n",
       "      <td>{'Health &amp; Personal Care': 132146}</td>\n",
       "      <td>http://ecx.images-amazon.com/images/I/41pmuVri...</td>\n",
       "      <td>[[['grocery ,  gourmet food']]]</td>\n",
       "      <td>PowerBar ProteinPlus High Protein Bar, Vanilla...</td>\n",
       "      <td>The PowerBar ProteinPlus Protein Bar is a grea...</td>\n",
       "      <td>NaN</td>\n",
       "      <td>{'also_bought': ['B001U89ITK', 'B009VV7G60', '...</td>\n",
       "      <td>NaN</td>\n",
       "      <td></td>\n",
       "      <td></td>\n",
       "      <td></td>\n",
       "    </tr>\n",
       "  </tbody>\n",
       "</table>\n",
       "</div>"
      ],
      "text/plain": [
       "         asin                           salesRank  \\\n",
       "0  616719923X   {'Grocery & Gourmet Food': 37305}   \n",
       "1  9742356831    {'Grocery & Gourmet Food': 3434}   \n",
       "2  B00004S1C5          {'Kitchen & Dining': 4494}   \n",
       "4  B00005344V    {'Grocery & Gourmet Food': 5034}   \n",
       "5  B0000537AF  {'Health & Personal Care': 132146}   \n",
       "\n",
       "                                               imUrl  \\\n",
       "0  http://ecx.images-amazon.com/images/I/51LdEao6...   \n",
       "1  http://ecx.images-amazon.com/images/I/41pQp67A...   \n",
       "2  http://ecx.images-amazon.com/images/I/41F75K9F...   \n",
       "4  http://ecx.images-amazon.com/images/I/51H54cd-...   \n",
       "5  http://ecx.images-amazon.com/images/I/41pmuVri...   \n",
       "\n",
       "                                          categories  \\\n",
       "0                    [[['grocery ,  gourmet food']]]   \n",
       "1                    [[['grocery ,  gourmet food']]]   \n",
       "2  [[['grocery ,  gourmet food', 'cooking ,  baki...   \n",
       "4                    [[['grocery ,  gourmet food']]]   \n",
       "5                    [[['grocery ,  gourmet food']]]   \n",
       "\n",
       "                                               title  \\\n",
       "0  Japanese Kit Kat Maccha Green Tea Flavor (5 Ba...   \n",
       "1        Mae Ploy Thai Green Curry Paste - 14 oz jar   \n",
       "2                  Ateco Food Coloring Kit, 6 colors   \n",
       "4  Traditional Medicinals Breathe Easy, 16-Count ...   \n",
       "5  PowerBar ProteinPlus High Protein Bar, Vanilla...   \n",
       "\n",
       "                                         description  price  \\\n",
       "0  Green Tea Flavor Kit Kat have quickly become t...    NaN   \n",
       "1  Used to make various curry soups and stir fry ...   7.23   \n",
       "2  From Easter eggs to colorful cookies, Spectrum...   9.76   \n",
       "4  For nearly forty years, we&#x2019;ve been pass...  21.74   \n",
       "5  The PowerBar ProteinPlus Protein Bar is a grea...    NaN   \n",
       "\n",
       "                                             related                   brand  \\\n",
       "0  {'also_bought': ['B00FD63L5W', 'B0047YG5UY', '...                     NaN   \n",
       "1  {'also_bought': ['B000EI2LLO', 'B000EICISA', '...                Mae Ploy   \n",
       "2  {'also_bought': ['B0000CFMLT', 'B002PO3KBK', '...   HIC Harold Import Co.   \n",
       "4  {'also_bought': ['B0009F3POE', 'B0009F3POO', '...  Traditional Medicinals   \n",
       "5  {'also_bought': ['B001U89ITK', 'B009VV7G60', '...                     NaN   \n",
       "\n",
       "  Key_words key_words2 key_words  \n",
       "0                                 \n",
       "1                                 \n",
       "2                                 \n",
       "4                                 \n",
       "5                                 "
      ]
     },
     "execution_count": 233,
     "metadata": {},
     "output_type": "execute_result"
    }
   ],
   "source": [
    "meta.head()"
   ]
  },
  {
   "cell_type": "code",
   "execution_count": 240,
   "metadata": {},
   "outputs": [
    {
     "data": {
      "text/plain": [
       "'Mae Ploy Thai Green Curry Paste - 14 oz jar'"
      ]
     },
     "execution_count": 240,
     "metadata": {},
     "output_type": "execute_result"
    }
   ],
   "source": []
  },
  {
   "cell_type": "markdown",
   "metadata": {},
   "source": [
    "# CountVectorizer with Description"
   ]
  },
  {
   "cell_type": "code",
   "execution_count": 234,
   "metadata": {},
   "outputs": [],
   "source": [
    "#using a count matrix with item description\n",
    "\n",
    "count = CountVectorizer()\n",
    "count_matrix = count.fit_transform(meta['description'])"
   ]
  },
  {
   "cell_type": "code",
   "execution_count": 235,
   "metadata": {},
   "outputs": [
    {
     "data": {
      "text/plain": [
       "(7509, 17251)"
      ]
     },
     "execution_count": 235,
     "metadata": {},
     "output_type": "execute_result"
    }
   ],
   "source": [
    "count_matrix.shape"
   ]
  },
  {
   "cell_type": "code",
   "execution_count": 236,
   "metadata": {},
   "outputs": [
    {
     "data": {
      "text/plain": [
       "array([[1.        , 0.08084521, 0.17393131, ..., 0.11012975, 0.1713649 ,\n",
       "        0.10102241],\n",
       "       [0.08084521, 1.        , 0.21248509, ..., 0.28758185, 0.25831064,\n",
       "        0.13884203],\n",
       "       [0.17393131, 0.21248509, 1.        , ..., 0.33468064, 0.29057907,\n",
       "        0.23509295],\n",
       "       ...,\n",
       "       [0.11012975, 0.28758185, 0.33468064, ..., 1.        , 0.41397466,\n",
       "        0.29158274],\n",
       "       [0.1713649 , 0.25831064, 0.29057907, ..., 0.41397466, 1.        ,\n",
       "        0.32831724],\n",
       "       [0.10102241, 0.13884203, 0.23509295, ..., 0.29158274, 0.32831724,\n",
       "        1.        ]])"
      ]
     },
     "execution_count": 236,
     "metadata": {},
     "output_type": "execute_result"
    }
   ],
   "source": [
    "from sklearn.metrics.pairwise import cosine_similarity\n",
    "cosine_sim = cosine_similarity(count_matrix, count_matrix)\n",
    "cosine_sim"
   ]
  },
  {
   "cell_type": "code",
   "execution_count": 237,
   "metadata": {},
   "outputs": [],
   "source": [
    "indices = pd.Series(meta['title'])"
   ]
  },
  {
   "cell_type": "code",
   "execution_count": 238,
   "metadata": {},
   "outputs": [],
   "source": [
    "def recommendations(title, cosine_sim = cosine_sim):\n",
    "    recommended_product = []\n",
    "    \n",
    "    idx = indices[indices == title].index[0]\n",
    "    \n",
    "    score_series = pd.Series(cosine_sim[idx]).sort_values(ascending = False)\n",
    "    \n",
    "    top_10_indexes = list(score_series.iloc[1:11].index)\n",
    "    \n",
    "    for i in top_10_indexes:\n",
    "        recommended_product.append(list(df.index)[i])\n",
    "        \n",
    "    return recommended_product"
   ]
  },
  {
   "cell_type": "code",
   "execution_count": 242,
   "metadata": {},
   "outputs": [
    {
     "data": {
      "text/plain": [
       "'Mae Ploy Thai Green Curry Paste - 14 oz jar'"
      ]
     },
     "execution_count": 242,
     "metadata": {},
     "output_type": "execute_result"
    }
   ],
   "source": [
    "meta.title[1]"
   ]
  },
  {
   "cell_type": "code",
   "execution_count": 241,
   "metadata": {},
   "outputs": [
    {
     "data": {
      "text/plain": [
       "[723, 722, 724, 725, 3314, 2307, 1676, 5031, 4850, 6368]"
      ]
     },
     "execution_count": 241,
     "metadata": {},
     "output_type": "execute_result"
    }
   ],
   "source": [
    "recommendations('Mae Ploy Thai Green Curry Paste - 14 oz jar')"
   ]
  },
  {
   "cell_type": "code",
   "execution_count": 247,
   "metadata": {},
   "outputs": [
    {
     "data": {
      "text/plain": [
       "'Mae Ploy Thai Red Curry Paste - 14 ounce per jar'"
      ]
     },
     "execution_count": 247,
     "metadata": {},
     "output_type": "execute_result"
    }
   ],
   "source": [
    "meta.iloc[722].title"
   ]
  },
  {
   "cell_type": "code",
   "execution_count": 248,
   "metadata": {},
   "outputs": [
    {
     "data": {
      "text/plain": [
       "'Mae Ploy Thai Panang Curry Paste - 14 oz jar'"
      ]
     },
     "execution_count": 248,
     "metadata": {},
     "output_type": "execute_result"
    }
   ],
   "source": [
    "meta.iloc[723].title"
   ]
  },
  {
   "cell_type": "code",
   "execution_count": 249,
   "metadata": {},
   "outputs": [
    {
     "data": {
      "text/plain": [
       "'Mae Ploy Thai Yellow Curry Paste - 14 oz jar'"
      ]
     },
     "execution_count": 249,
     "metadata": {},
     "output_type": "execute_result"
    }
   ],
   "source": [
    "meta.iloc[725].title"
   ]
  },
  {
   "cell_type": "code",
   "execution_count": 250,
   "metadata": {},
   "outputs": [
    {
     "data": {
      "text/plain": [
       "\"Libby's Lima Beans, 15-Ounce Cans (Pack of 12)\""
      ]
     },
     "execution_count": 250,
     "metadata": {},
     "output_type": "execute_result"
    }
   ],
   "source": [
    "meta.iloc[5031].title"
   ]
  },
  {
   "cell_type": "markdown",
   "metadata": {},
   "source": [
    "# Rake"
   ]
  },
  {
   "cell_type": "code",
   "execution_count": 314,
   "metadata": {},
   "outputs": [
    {
     "data": {
      "text/html": [
       "<div>\n",
       "<style scoped>\n",
       "    .dataframe tbody tr th:only-of-type {\n",
       "        vertical-align: middle;\n",
       "    }\n",
       "\n",
       "    .dataframe tbody tr th {\n",
       "        vertical-align: top;\n",
       "    }\n",
       "\n",
       "    .dataframe thead th {\n",
       "        text-align: right;\n",
       "    }\n",
       "</style>\n",
       "<table border=\"1\" class=\"dataframe\">\n",
       "  <thead>\n",
       "    <tr style=\"text-align: right;\">\n",
       "      <th></th>\n",
       "      <th>asin</th>\n",
       "      <th>salesRank</th>\n",
       "      <th>imUrl</th>\n",
       "      <th>categories</th>\n",
       "      <th>title</th>\n",
       "      <th>description</th>\n",
       "      <th>price</th>\n",
       "      <th>related</th>\n",
       "      <th>brand</th>\n",
       "      <th>Key_words</th>\n",
       "      <th>key_words2</th>\n",
       "      <th>key_words</th>\n",
       "    </tr>\n",
       "  </thead>\n",
       "  <tbody>\n",
       "    <tr>\n",
       "      <th>0</th>\n",
       "      <td>616719923X</td>\n",
       "      <td>{'Grocery &amp; Gourmet Food': 37305}</td>\n",
       "      <td>http://ecx.images-amazon.com/images/I/51LdEao6...</td>\n",
       "      <td>[[['grocery ,  gourmet food']]]</td>\n",
       "      <td>Japanese Kit Kat Maccha Green Tea Flavor (5 Ba...</td>\n",
       "      <td>Green Tea Flavor Kit Kat have quickly become t...</td>\n",
       "      <td>NaN</td>\n",
       "      <td>{'also_bought': ['B00FD63L5W', 'B0047YG5UY', '...</td>\n",
       "      <td>NaN</td>\n",
       "      <td></td>\n",
       "      <td></td>\n",
       "      <td></td>\n",
       "    </tr>\n",
       "    <tr>\n",
       "      <th>1</th>\n",
       "      <td>9742356831</td>\n",
       "      <td>{'Grocery &amp; Gourmet Food': 3434}</td>\n",
       "      <td>http://ecx.images-amazon.com/images/I/41pQp67A...</td>\n",
       "      <td>[[['grocery ,  gourmet food']]]</td>\n",
       "      <td>Mae Ploy Thai Green Curry Paste - 14 oz jar</td>\n",
       "      <td>Used to make various curry soups and stir fry ...</td>\n",
       "      <td>7.23</td>\n",
       "      <td>{'also_bought': ['B000EI2LLO', 'B000EICISA', '...</td>\n",
       "      <td>Mae Ploy</td>\n",
       "      <td></td>\n",
       "      <td></td>\n",
       "      <td></td>\n",
       "    </tr>\n",
       "    <tr>\n",
       "      <th>2</th>\n",
       "      <td>B00004S1C5</td>\n",
       "      <td>{'Kitchen &amp; Dining': 4494}</td>\n",
       "      <td>http://ecx.images-amazon.com/images/I/41F75K9F...</td>\n",
       "      <td>[[['grocery ,  gourmet food', 'cooking ,  baki...</td>\n",
       "      <td>Ateco Food Coloring Kit, 6 colors</td>\n",
       "      <td>From Easter eggs to colorful cookies, Spectrum...</td>\n",
       "      <td>9.76</td>\n",
       "      <td>{'also_bought': ['B0000CFMLT', 'B002PO3KBK', '...</td>\n",
       "      <td>HIC Harold Import Co.</td>\n",
       "      <td></td>\n",
       "      <td></td>\n",
       "      <td></td>\n",
       "    </tr>\n",
       "    <tr>\n",
       "      <th>4</th>\n",
       "      <td>B00005344V</td>\n",
       "      <td>{'Grocery &amp; Gourmet Food': 5034}</td>\n",
       "      <td>http://ecx.images-amazon.com/images/I/51H54cd-...</td>\n",
       "      <td>[[['grocery ,  gourmet food']]]</td>\n",
       "      <td>Traditional Medicinals Breathe Easy, 16-Count ...</td>\n",
       "      <td>For nearly forty years, we&amp;#x2019;ve been pass...</td>\n",
       "      <td>21.74</td>\n",
       "      <td>{'also_bought': ['B0009F3POE', 'B0009F3POO', '...</td>\n",
       "      <td>Traditional Medicinals</td>\n",
       "      <td></td>\n",
       "      <td></td>\n",
       "      <td></td>\n",
       "    </tr>\n",
       "    <tr>\n",
       "      <th>5</th>\n",
       "      <td>B0000537AF</td>\n",
       "      <td>{'Health &amp; Personal Care': 132146}</td>\n",
       "      <td>http://ecx.images-amazon.com/images/I/41pmuVri...</td>\n",
       "      <td>[[['grocery ,  gourmet food']]]</td>\n",
       "      <td>PowerBar ProteinPlus High Protein Bar, Vanilla...</td>\n",
       "      <td>The PowerBar ProteinPlus Protein Bar is a grea...</td>\n",
       "      <td>NaN</td>\n",
       "      <td>{'also_bought': ['B001U89ITK', 'B009VV7G60', '...</td>\n",
       "      <td>NaN</td>\n",
       "      <td></td>\n",
       "      <td></td>\n",
       "      <td></td>\n",
       "    </tr>\n",
       "  </tbody>\n",
       "</table>\n",
       "</div>"
      ],
      "text/plain": [
       "         asin                           salesRank  \\\n",
       "0  616719923X   {'Grocery & Gourmet Food': 37305}   \n",
       "1  9742356831    {'Grocery & Gourmet Food': 3434}   \n",
       "2  B00004S1C5          {'Kitchen & Dining': 4494}   \n",
       "4  B00005344V    {'Grocery & Gourmet Food': 5034}   \n",
       "5  B0000537AF  {'Health & Personal Care': 132146}   \n",
       "\n",
       "                                               imUrl  \\\n",
       "0  http://ecx.images-amazon.com/images/I/51LdEao6...   \n",
       "1  http://ecx.images-amazon.com/images/I/41pQp67A...   \n",
       "2  http://ecx.images-amazon.com/images/I/41F75K9F...   \n",
       "4  http://ecx.images-amazon.com/images/I/51H54cd-...   \n",
       "5  http://ecx.images-amazon.com/images/I/41pmuVri...   \n",
       "\n",
       "                                          categories  \\\n",
       "0                    [[['grocery ,  gourmet food']]]   \n",
       "1                    [[['grocery ,  gourmet food']]]   \n",
       "2  [[['grocery ,  gourmet food', 'cooking ,  baki...   \n",
       "4                    [[['grocery ,  gourmet food']]]   \n",
       "5                    [[['grocery ,  gourmet food']]]   \n",
       "\n",
       "                                               title  \\\n",
       "0  Japanese Kit Kat Maccha Green Tea Flavor (5 Ba...   \n",
       "1        Mae Ploy Thai Green Curry Paste - 14 oz jar   \n",
       "2                  Ateco Food Coloring Kit, 6 colors   \n",
       "4  Traditional Medicinals Breathe Easy, 16-Count ...   \n",
       "5  PowerBar ProteinPlus High Protein Bar, Vanilla...   \n",
       "\n",
       "                                         description  price  \\\n",
       "0  Green Tea Flavor Kit Kat have quickly become t...    NaN   \n",
       "1  Used to make various curry soups and stir fry ...   7.23   \n",
       "2  From Easter eggs to colorful cookies, Spectrum...   9.76   \n",
       "4  For nearly forty years, we&#x2019;ve been pass...  21.74   \n",
       "5  The PowerBar ProteinPlus Protein Bar is a grea...    NaN   \n",
       "\n",
       "                                             related                   brand  \\\n",
       "0  {'also_bought': ['B00FD63L5W', 'B0047YG5UY', '...                     NaN   \n",
       "1  {'also_bought': ['B000EI2LLO', 'B000EICISA', '...                Mae Ploy   \n",
       "2  {'also_bought': ['B0000CFMLT', 'B002PO3KBK', '...   HIC Harold Import Co.   \n",
       "4  {'also_bought': ['B0009F3POE', 'B0009F3POO', '...  Traditional Medicinals   \n",
       "5  {'also_bought': ['B001U89ITK', 'B009VV7G60', '...                     NaN   \n",
       "\n",
       "  Key_words key_words2 key_words  \n",
       "0                                 \n",
       "1                                 \n",
       "2                                 \n",
       "4                                 \n",
       "5                                 "
      ]
     },
     "execution_count": 314,
     "metadata": {},
     "output_type": "execute_result"
    }
   ],
   "source": [
    "meta.head()"
   ]
  },
  {
   "cell_type": "code",
   "execution_count": 315,
   "metadata": {},
   "outputs": [],
   "source": [
    "meta['key_words'] = \"\"\n",
    "\n",
    "for index, row in meta.iterrows():\n",
    "    description = row['description']\n",
    "    \n",
    "    r = Rake()\n",
    "    \n",
    "    r.extract_keywords_from_text(description)\n",
    "    \n",
    "    key_words_dict_scores = r.get_word_degrees()\n",
    " \n",
    "    row['key_words2'] = list(key_words_dict_scores.keys())"
   ]
  },
  {
   "cell_type": "code",
   "execution_count": 316,
   "metadata": {},
   "outputs": [
    {
     "data": {
      "text/html": [
       "<div>\n",
       "<style scoped>\n",
       "    .dataframe tbody tr th:only-of-type {\n",
       "        vertical-align: middle;\n",
       "    }\n",
       "\n",
       "    .dataframe tbody tr th {\n",
       "        vertical-align: top;\n",
       "    }\n",
       "\n",
       "    .dataframe thead th {\n",
       "        text-align: right;\n",
       "    }\n",
       "</style>\n",
       "<table border=\"1\" class=\"dataframe\">\n",
       "  <thead>\n",
       "    <tr style=\"text-align: right;\">\n",
       "      <th></th>\n",
       "      <th>asin</th>\n",
       "      <th>salesRank</th>\n",
       "      <th>imUrl</th>\n",
       "      <th>categories</th>\n",
       "      <th>title</th>\n",
       "      <th>description</th>\n",
       "      <th>price</th>\n",
       "      <th>related</th>\n",
       "      <th>brand</th>\n",
       "      <th>Key_words</th>\n",
       "      <th>key_words2</th>\n",
       "      <th>key_words</th>\n",
       "    </tr>\n",
       "  </thead>\n",
       "  <tbody>\n",
       "    <tr>\n",
       "      <th>0</th>\n",
       "      <td>616719923X</td>\n",
       "      <td>{'Grocery &amp; Gourmet Food': 37305}</td>\n",
       "      <td>http://ecx.images-amazon.com/images/I/51LdEao6...</td>\n",
       "      <td>[[['grocery ,  gourmet food']]]</td>\n",
       "      <td>Japanese Kit Kat Maccha Green Tea Flavor (5 Ba...</td>\n",
       "      <td>Green Tea Flavor Kit Kat have quickly become t...</td>\n",
       "      <td>NaN</td>\n",
       "      <td>{'also_bought': ['B00FD63L5W', 'B0047YG5UY', '...</td>\n",
       "      <td>NaN</td>\n",
       "      <td></td>\n",
       "      <td></td>\n",
       "      <td></td>\n",
       "    </tr>\n",
       "    <tr>\n",
       "      <th>1</th>\n",
       "      <td>9742356831</td>\n",
       "      <td>{'Grocery &amp; Gourmet Food': 3434}</td>\n",
       "      <td>http://ecx.images-amazon.com/images/I/41pQp67A...</td>\n",
       "      <td>[[['grocery ,  gourmet food']]]</td>\n",
       "      <td>Mae Ploy Thai Green Curry Paste - 14 oz jar</td>\n",
       "      <td>Used to make various curry soups and stir fry ...</td>\n",
       "      <td>7.23</td>\n",
       "      <td>{'also_bought': ['B000EI2LLO', 'B000EICISA', '...</td>\n",
       "      <td>Mae Ploy</td>\n",
       "      <td></td>\n",
       "      <td></td>\n",
       "      <td></td>\n",
       "    </tr>\n",
       "    <tr>\n",
       "      <th>2</th>\n",
       "      <td>B00004S1C5</td>\n",
       "      <td>{'Kitchen &amp; Dining': 4494}</td>\n",
       "      <td>http://ecx.images-amazon.com/images/I/41F75K9F...</td>\n",
       "      <td>[[['grocery ,  gourmet food', 'cooking ,  baki...</td>\n",
       "      <td>Ateco Food Coloring Kit, 6 colors</td>\n",
       "      <td>From Easter eggs to colorful cookies, Spectrum...</td>\n",
       "      <td>9.76</td>\n",
       "      <td>{'also_bought': ['B0000CFMLT', 'B002PO3KBK', '...</td>\n",
       "      <td>HIC Harold Import Co.</td>\n",
       "      <td></td>\n",
       "      <td></td>\n",
       "      <td></td>\n",
       "    </tr>\n",
       "    <tr>\n",
       "      <th>4</th>\n",
       "      <td>B00005344V</td>\n",
       "      <td>{'Grocery &amp; Gourmet Food': 5034}</td>\n",
       "      <td>http://ecx.images-amazon.com/images/I/51H54cd-...</td>\n",
       "      <td>[[['grocery ,  gourmet food']]]</td>\n",
       "      <td>Traditional Medicinals Breathe Easy, 16-Count ...</td>\n",
       "      <td>For nearly forty years, we&amp;#x2019;ve been pass...</td>\n",
       "      <td>21.74</td>\n",
       "      <td>{'also_bought': ['B0009F3POE', 'B0009F3POO', '...</td>\n",
       "      <td>Traditional Medicinals</td>\n",
       "      <td></td>\n",
       "      <td></td>\n",
       "      <td></td>\n",
       "    </tr>\n",
       "    <tr>\n",
       "      <th>5</th>\n",
       "      <td>B0000537AF</td>\n",
       "      <td>{'Health &amp; Personal Care': 132146}</td>\n",
       "      <td>http://ecx.images-amazon.com/images/I/41pmuVri...</td>\n",
       "      <td>[[['grocery ,  gourmet food']]]</td>\n",
       "      <td>PowerBar ProteinPlus High Protein Bar, Vanilla...</td>\n",
       "      <td>The PowerBar ProteinPlus Protein Bar is a grea...</td>\n",
       "      <td>NaN</td>\n",
       "      <td>{'also_bought': ['B001U89ITK', 'B009VV7G60', '...</td>\n",
       "      <td>NaN</td>\n",
       "      <td></td>\n",
       "      <td></td>\n",
       "      <td></td>\n",
       "    </tr>\n",
       "  </tbody>\n",
       "</table>\n",
       "</div>"
      ],
      "text/plain": [
       "         asin                           salesRank  \\\n",
       "0  616719923X   {'Grocery & Gourmet Food': 37305}   \n",
       "1  9742356831    {'Grocery & Gourmet Food': 3434}   \n",
       "2  B00004S1C5          {'Kitchen & Dining': 4494}   \n",
       "4  B00005344V    {'Grocery & Gourmet Food': 5034}   \n",
       "5  B0000537AF  {'Health & Personal Care': 132146}   \n",
       "\n",
       "                                               imUrl  \\\n",
       "0  http://ecx.images-amazon.com/images/I/51LdEao6...   \n",
       "1  http://ecx.images-amazon.com/images/I/41pQp67A...   \n",
       "2  http://ecx.images-amazon.com/images/I/41F75K9F...   \n",
       "4  http://ecx.images-amazon.com/images/I/51H54cd-...   \n",
       "5  http://ecx.images-amazon.com/images/I/41pmuVri...   \n",
       "\n",
       "                                          categories  \\\n",
       "0                    [[['grocery ,  gourmet food']]]   \n",
       "1                    [[['grocery ,  gourmet food']]]   \n",
       "2  [[['grocery ,  gourmet food', 'cooking ,  baki...   \n",
       "4                    [[['grocery ,  gourmet food']]]   \n",
       "5                    [[['grocery ,  gourmet food']]]   \n",
       "\n",
       "                                               title  \\\n",
       "0  Japanese Kit Kat Maccha Green Tea Flavor (5 Ba...   \n",
       "1        Mae Ploy Thai Green Curry Paste - 14 oz jar   \n",
       "2                  Ateco Food Coloring Kit, 6 colors   \n",
       "4  Traditional Medicinals Breathe Easy, 16-Count ...   \n",
       "5  PowerBar ProteinPlus High Protein Bar, Vanilla...   \n",
       "\n",
       "                                         description  price  \\\n",
       "0  Green Tea Flavor Kit Kat have quickly become t...    NaN   \n",
       "1  Used to make various curry soups and stir fry ...   7.23   \n",
       "2  From Easter eggs to colorful cookies, Spectrum...   9.76   \n",
       "4  For nearly forty years, we&#x2019;ve been pass...  21.74   \n",
       "5  The PowerBar ProteinPlus Protein Bar is a grea...    NaN   \n",
       "\n",
       "                                             related                   brand  \\\n",
       "0  {'also_bought': ['B00FD63L5W', 'B0047YG5UY', '...                     NaN   \n",
       "1  {'also_bought': ['B000EI2LLO', 'B000EICISA', '...                Mae Ploy   \n",
       "2  {'also_bought': ['B0000CFMLT', 'B002PO3KBK', '...   HIC Harold Import Co.   \n",
       "4  {'also_bought': ['B0009F3POE', 'B0009F3POO', '...  Traditional Medicinals   \n",
       "5  {'also_bought': ['B001U89ITK', 'B009VV7G60', '...                     NaN   \n",
       "\n",
       "  Key_words key_words2 key_words  \n",
       "0                                 \n",
       "1                                 \n",
       "2                                 \n",
       "4                                 \n",
       "5                                 "
      ]
     },
     "execution_count": 316,
     "metadata": {},
     "output_type": "execute_result"
    }
   ],
   "source": [
    "meta.head()"
   ]
  },
  {
   "cell_type": "code",
   "execution_count": 256,
   "metadata": {},
   "outputs": [
    {
     "data": {
      "text/plain": [
       "defaultdict(<function rake_nltk.rake.Rake._build_word_co_occurance_graph.<locals>.<lambda>()>,\n",
       "            {'value': 1,\n",
       "             'artificial': 2,\n",
       "             'flavors': 2,\n",
       "             'love': 1,\n",
       "             'maple': 3,\n",
       "             'brown': 3,\n",
       "             'sugar': 3,\n",
       "             'chex': 15,\n",
       "             'wholesome': 1,\n",
       "             'gluten': 14,\n",
       "             'variety': 1,\n",
       "             'recipes': 1,\n",
       "             'well': 6,\n",
       "             'free': 13,\n",
       "             'oatmeal': 14,\n",
       "             'mixes': 6,\n",
       "             'com': 1,\n",
       "             'ways': 1,\n",
       "             'gives': 5,\n",
       "             'em': 1,\n",
       "             'great': 2,\n",
       "             'taste': 2,\n",
       "             'goes': 3,\n",
       "             'beyond': 3,\n",
       "             'breakfast': 6,\n",
       "             'check': 1,\n",
       "             'freedom': 2,\n",
       "             'like': 4,\n",
       "             'simplicity': 1,\n",
       "             'preservatives': 1,\n",
       "             'warm': 1,\n",
       "             'enjoy': 1,\n",
       "             'colors': 1,\n",
       "             'cereal': 3,\n",
       "             'nutritious': 2,\n",
       "             'ingredients': 3,\n",
       "             'apple': 2,\n",
       "             'cinnamon': 2,\n",
       "             'original': 3,\n",
       "             'flavored': 3,\n",
       "             'made': 1})"
      ]
     },
     "execution_count": 256,
     "metadata": {},
     "output_type": "execute_result"
    }
   ],
   "source": [
    "key_words_dict_scores"
   ]
  },
  {
   "cell_type": "code",
   "execution_count": null,
   "metadata": {},
   "outputs": [],
   "source": []
  },
  {
   "cell_type": "code",
   "execution_count": null,
   "metadata": {},
   "outputs": [],
   "source": [
    "r.extract_keywords_from_text(text[0])"
   ]
  },
  {
   "cell_type": "code",
   "execution_count": null,
   "metadata": {},
   "outputs": [],
   "source": [
    "r.get_word_degrees()"
   ]
  },
  {
   "cell_type": "code",
   "execution_count": null,
   "metadata": {},
   "outputs": [],
   "source": []
  },
  {
   "cell_type": "code",
   "execution_count": null,
   "metadata": {},
   "outputs": [],
   "source": []
  },
  {
   "cell_type": "code",
   "execution_count": null,
   "metadata": {},
   "outputs": [],
   "source": []
  },
  {
   "cell_type": "code",
   "execution_count": null,
   "metadata": {},
   "outputs": [],
   "source": []
  },
  {
   "cell_type": "code",
   "execution_count": null,
   "metadata": {},
   "outputs": [],
   "source": []
  }
 ],
 "metadata": {
  "kernelspec": {
   "display_name": "Python 3",
   "language": "python",
   "name": "python3"
  },
  "language_info": {
   "codemirror_mode": {
    "name": "ipython",
    "version": 3
   },
   "file_extension": ".py",
   "mimetype": "text/x-python",
   "name": "python",
   "nbconvert_exporter": "python",
   "pygments_lexer": "ipython3",
   "version": "3.7.1"
  }
 },
 "nbformat": 4,
 "nbformat_minor": 2
}
